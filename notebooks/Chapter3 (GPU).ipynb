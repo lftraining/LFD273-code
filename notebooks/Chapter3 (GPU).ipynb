{
 "cells": [
  {
   "cell_type": "markdown",
   "id": "6b12049d",
   "metadata": {
    "id": "dbf7e139"
   },
   "source": [
    "# Chapter 3: Building Your First Dataset"
   ]
  },
  {
   "cell_type": "markdown",
   "id": "65f7707c",
   "metadata": {
    "id": "658c4fa7"
   },
   "source": [
    "## 3.3 Tensors, Devices, and CUDA"
   ]
  },
  {
   "cell_type": "markdown",
   "id": "89640446",
   "metadata": {
    "id": "c71ff3f3"
   },
   "source": [
    "### 3.3.1 Scalars\n",
    "\n",
    "![](https://raw.githubusercontent.com/dvgodoy/assets/main/PyTorchInPractice/images/ch1/spreadsheet_cell.png)"
   ]
  },
  {
   "cell_type": "code",
   "execution_count": 65,
   "id": "66a99684",
   "metadata": {
    "colab": {
     "base_uri": "https://localhost:8080/"
    },
    "id": "aded2e5b",
    "outputId": "b4891cad-6713-45ad-cd49-aebbb6bb0a1a"
   },
   "outputs": [
    {
     "data": {
      "text/plain": [
       "tensor(18)"
      ]
     },
     "execution_count": 65,
     "metadata": {},
     "output_type": "execute_result"
    }
   ],
   "source": [
    "import torch\n",
    "scalar = torch.tensor(18)\n",
    "scalar"
   ]
  },
  {
   "cell_type": "markdown",
   "id": "3ffd2b3d",
   "metadata": {
    "id": "f5938561"
   },
   "source": [
    "### 3.3.2 Vectors\n",
    "\n",
    "![](https://raw.githubusercontent.com/dvgodoy/assets/main/PyTorchInPractice/images/ch1/spreadsheet_column.png)"
   ]
  },
  {
   "cell_type": "code",
   "execution_count": 66,
   "id": "b4921205",
   "metadata": {
    "colab": {
     "base_uri": "https://localhost:8080/"
    },
    "id": "f20f3a00",
    "outputId": "9cc38d97-c9d0-4f12-9a56-10458712f006"
   },
   "outputs": [
    {
     "data": {
      "text/plain": [
       "tensor([18, 15, 18, 16, 17, 15, 14, 14, 14, 15, 15, 14, 15, 14])"
      ]
     },
     "execution_count": 66,
     "metadata": {},
     "output_type": "execute_result"
    }
   ],
   "source": [
    "vector = torch.tensor([18, 15, 18, 16, 17, 15, 14, 14, 14, 15, 15, 14, 15, 14])\n",
    "vector"
   ]
  },
  {
   "cell_type": "markdown",
   "id": "b3c5c3b9",
   "metadata": {
    "id": "9fae4074"
   },
   "source": [
    "### 3.3.3 Matrices\n",
    "\n",
    "![](https://raw.githubusercontent.com/dvgodoy/assets/main/PyTorchInPractice/images/ch1/spreadsheet_table.png)"
   ]
  },
  {
   "cell_type": "code",
   "execution_count": 67,
   "id": "bd976e98",
   "metadata": {
    "colab": {
     "base_uri": "https://localhost:8080/"
    },
    "id": "28fe15f7",
    "outputId": "f33dd74a-57af-4377-8a4b-38aef8faf3e8"
   },
   "outputs": [
    {
     "data": {
      "text/plain": [
       "tensor([[ 18,  15,  18,  16,  17,  15,  14,  14,  14,  15,  15,  14,  15,  14],\n",
       "        [130, 165, 150, 150, 140, 198, 220, 215, 225, 190, 170, 160, 150, 225]])"
      ]
     },
     "execution_count": 67,
     "metadata": {},
     "output_type": "execute_result"
    }
   ],
   "source": [
    "matrix = torch.tensor([[ 18,  15,  18,  16,  17,  15,  14,  14,  14,  15,  15,  14,  15,  14],\n",
    "                       [130, 165, 150, 150, 140, 198, 220, 215, 225, 190, 170, 160, 150, 225]])\n",
    "matrix"
   ]
  },
  {
   "cell_type": "markdown",
   "id": "ffb41647",
   "metadata": {
    "id": "400f9251"
   },
   "source": [
    "### 3.3.4 Tensors\n",
    "\n",
    "![](https://raw.githubusercontent.com/dvgodoy/assets/main/PyTorchInPractice/images/ch1/stack_tensor.png)"
   ]
  },
  {
   "cell_type": "code",
   "execution_count": 68,
   "id": "554411c8",
   "metadata": {
    "id": "15015549"
   },
   "outputs": [],
   "source": [
    "matrix_of_ones = torch.ones((2, 3), dtype=torch.float)\n",
    "random_tensor = torch.randn((2, 3, 4), dtype=torch.float)"
   ]
  },
  {
   "cell_type": "code",
   "execution_count": 69,
   "id": "80fbc4de",
   "metadata": {
    "colab": {
     "base_uri": "https://localhost:8080/"
    },
    "id": "d46aca11",
    "outputId": "48c64034-e7a7-44a1-c75d-45c85c324a03"
   },
   "outputs": [
    {
     "data": {
      "text/plain": [
       "(torch.Size([14]), torch.Size([14]))"
      ]
     },
     "execution_count": 69,
     "metadata": {},
     "output_type": "execute_result"
    }
   ],
   "source": [
    "vector.shape, vector.size()"
   ]
  },
  {
   "cell_type": "code",
   "execution_count": 70,
   "id": "3456f316",
   "metadata": {
    "colab": {
     "base_uri": "https://localhost:8080/"
    },
    "id": "dfb73f09",
    "outputId": "728510cd-0718-4afe-d469-54581fc92eed"
   },
   "outputs": [
    {
     "data": {
      "text/plain": [
       "torch.Size([])"
      ]
     },
     "execution_count": 70,
     "metadata": {},
     "output_type": "execute_result"
    }
   ],
   "source": [
    "scalar.size()"
   ]
  },
  {
   "cell_type": "markdown",
   "id": "fe12ad32",
   "metadata": {
    "id": "b29d3637"
   },
   "source": [
    "![](https://raw.githubusercontent.com/dvgodoy/assets/main/PyTorchInPractice/images/ch1/tensors.png)"
   ]
  },
  {
   "cell_type": "markdown",
   "id": "de9bd82d",
   "metadata": {
    "id": "5d938bf1"
   },
   "source": [
    "### 3.3.5 Numpy"
   ]
  },
  {
   "cell_type": "code",
   "execution_count": 71,
   "id": "d329433c",
   "metadata": {
    "colab": {
     "base_uri": "https://localhost:8080/"
    },
    "id": "e642c1e4",
    "outputId": "fb3de2f6-011b-4c20-e7d0-be60ab6bfa2b"
   },
   "outputs": [
    {
     "data": {
      "text/plain": [
       "array([18, 15, 18, 16, 17, 15, 14, 14, 14, 15, 15, 14, 15, 14])"
      ]
     },
     "execution_count": 71,
     "metadata": {},
     "output_type": "execute_result"
    }
   ],
   "source": [
    "import numpy as np\n",
    "numpy_array = vector.numpy()\n",
    "numpy_array"
   ]
  },
  {
   "cell_type": "code",
   "execution_count": 9,
   "id": "7be10f70",
   "metadata": {
    "colab": {
     "base_uri": "https://localhost:8080/"
    },
    "id": "045f20b5",
    "outputId": "e264601d-c7d6-48a9-fbe3-a95c185ce6e6"
   },
   "outputs": [
    {
     "data": {
      "text/plain": [
       "tensor([18, 15, 18, 16, 17, 15, 14, 14, 14, 15, 15, 14, 15, 14])"
      ]
     },
     "execution_count": 9,
     "metadata": {},
     "output_type": "execute_result"
    }
   ],
   "source": [
    "back_to_tensor = torch.as_tensor(numpy_array)\n",
    "back_to_tensor"
   ]
  },
  {
   "cell_type": "markdown",
   "id": "4573b8bd",
   "metadata": {
    "id": "7b3c0b17"
   },
   "source": [
    "### 3.3.6 Reshaping Tensors"
   ]
  },
  {
   "cell_type": "markdown",
   "id": "8af99f66",
   "metadata": {
    "id": "a455b06b"
   },
   "source": [
    "![](https://raw.githubusercontent.com/dvgodoy/assets/main/PyTorchInPractice/images/ch1/flatten.png)\n",
    "   "
   ]
  },
  {
   "cell_type": "markdown",
   "id": "c18410af",
   "metadata": {
    "id": "03c8828c"
   },
   "source": [
    "#### 3.3.6.1 Avoiding copies"
   ]
  },
  {
   "cell_type": "code",
   "execution_count": 10,
   "id": "5aeb07f9",
   "metadata": {
    "id": "e4d59fc9"
   },
   "outputs": [],
   "source": [
    "original_tensor = torch.ones((2, 3), dtype=torch.float)\n",
    "reshaped_tensor = original_tensor.view(1, 6)"
   ]
  },
  {
   "cell_type": "code",
   "execution_count": 11,
   "id": "d41b19f3",
   "metadata": {
    "colab": {
     "base_uri": "https://localhost:8080/"
    },
    "id": "32288a13",
    "outputId": "2d6ddbd7-7a21-4fcb-fea0-d408b307f9f4"
   },
   "outputs": [
    {
     "data": {
      "text/plain": [
       "(tensor([[1., 1., 1.],\n",
       "         [1., 1., 1.]]),\n",
       " tensor([[1., 1., 1., 1., 1., 1.]]))"
      ]
     },
     "execution_count": 11,
     "metadata": {},
     "output_type": "execute_result"
    }
   ],
   "source": [
    "original_tensor, reshaped_tensor"
   ]
  },
  {
   "cell_type": "markdown",
   "id": "10d671d2",
   "metadata": {
    "id": "8a13e278"
   },
   "source": [
    "#### 3.3.6.2 Sharing Underlying Data"
   ]
  },
  {
   "cell_type": "markdown",
   "id": "9d5a4795",
   "metadata": {
    "id": "c91735bd"
   },
   "source": [
    "![](https://raw.githubusercontent.com/dvgodoy/assets/main/PyTorchInPractice/images/ch1/memory.png)"
   ]
  },
  {
   "cell_type": "code",
   "execution_count": 12,
   "id": "8239a69e",
   "metadata": {
    "id": "6c860a04"
   },
   "outputs": [],
   "source": [
    "original_tensor[0, 1] = 2"
   ]
  },
  {
   "cell_type": "code",
   "execution_count": 13,
   "id": "5526377d",
   "metadata": {
    "colab": {
     "base_uri": "https://localhost:8080/"
    },
    "id": "56c8478f",
    "outputId": "5b0631e2-5a70-4084-8779-a8cbd54c3614"
   },
   "outputs": [
    {
     "data": {
      "text/plain": [
       "(tensor([[1., 2., 1.],\n",
       "         [1., 1., 1.]]),\n",
       " tensor([[1., 2., 1., 1., 1., 1.]]))"
      ]
     },
     "execution_count": 13,
     "metadata": {},
     "output_type": "execute_result"
    }
   ],
   "source": [
    "original_tensor, reshaped_tensor"
   ]
  },
  {
   "cell_type": "code",
   "execution_count": 14,
   "id": "d5a84bf5",
   "metadata": {
    "id": "5a494152"
   },
   "outputs": [],
   "source": [
    "numpy_array[-1] = 1000"
   ]
  },
  {
   "cell_type": "code",
   "execution_count": 15,
   "id": "6fe87d17",
   "metadata": {
    "colab": {
     "base_uri": "https://localhost:8080/"
    },
    "id": "54dfed6c",
    "outputId": "cbbe3d80-ff1e-4f05-9b3c-63ec737b9d31"
   },
   "outputs": [
    {
     "data": {
      "text/plain": [
       "(array([  18,   15,   18,   16,   17,   15,   14,   14,   14,   15,   15,\n",
       "          14,   15, 1000]),\n",
       " tensor([  18,   15,   18,   16,   17,   15,   14,   14,   14,   15,   15,   14,\n",
       "           15, 1000]))"
      ]
     },
     "execution_count": 15,
     "metadata": {},
     "output_type": "execute_result"
    }
   ],
   "source": [
    "numpy_array, vector"
   ]
  },
  {
   "cell_type": "code",
   "execution_count": 16,
   "id": "e7c033fb",
   "metadata": {
    "id": "16b84f89"
   },
   "outputs": [],
   "source": [
    "cloned_tensor = original_tensor.clone()"
   ]
  },
  {
   "cell_type": "code",
   "execution_count": 17,
   "id": "0f966972",
   "metadata": {
    "colab": {
     "base_uri": "https://localhost:8080/"
    },
    "id": "766c5b77",
    "outputId": "476b4e50-cc42-471a-d48a-8212c66d73df"
   },
   "outputs": [
    {
     "data": {
      "text/plain": [
       "tensor([[1., 2., 1.],\n",
       "        [1., 1., 1.]])"
      ]
     },
     "execution_count": 17,
     "metadata": {},
     "output_type": "execute_result"
    }
   ],
   "source": [
    "cloned_tensor"
   ]
  },
  {
   "cell_type": "code",
   "execution_count": 18,
   "id": "82cf70d9",
   "metadata": {
    "id": "5a1b8b77"
   },
   "outputs": [],
   "source": [
    "original_tensor[0, 1] = 3"
   ]
  },
  {
   "cell_type": "code",
   "execution_count": 19,
   "id": "91b36729",
   "metadata": {
    "colab": {
     "base_uri": "https://localhost:8080/"
    },
    "id": "a42a82ce",
    "outputId": "560c8c7e-6961-4cf8-f192-e3dbe2813813"
   },
   "outputs": [
    {
     "data": {
      "text/plain": [
       "(tensor([[1., 3., 1.],\n",
       "         [1., 1., 1.]]),\n",
       " tensor([[1., 2., 1.],\n",
       "         [1., 1., 1.]]))"
      ]
     },
     "execution_count": 19,
     "metadata": {},
     "output_type": "execute_result"
    }
   ],
   "source": [
    "original_tensor, cloned_tensor"
   ]
  },
  {
   "cell_type": "markdown",
   "id": "012afbc5",
   "metadata": {
    "id": "8c10ee67"
   },
   "source": [
    "#### 3.3.6.3 Contiguous Tensors"
   ]
  },
  {
   "cell_type": "code",
   "execution_count": 20,
   "id": "ea9855ac",
   "metadata": {
    "colab": {
     "base_uri": "https://localhost:8080/",
     "height": 193
    },
    "id": "7a4c77ad",
    "outputId": "a4a04f08-77b3-4256-d343-84cb0adc5476"
   },
   "outputs": [
    {
     "ename": "RuntimeError",
     "evalue": "ignored",
     "output_type": "error",
     "traceback": [
      "\u001b[0;31m---------------------------------------------------------------------------\u001b[0m",
      "\u001b[0;31mRuntimeError\u001b[0m                              Traceback (most recent call last)",
      "\u001b[0;32m<ipython-input-20-13ca45c67fa7>\u001b[0m in \u001b[0;36m<cell line: 2>\u001b[0;34m()\u001b[0m\n\u001b[1;32m      1\u001b[0m \u001b[0mtransposed_tensor\u001b[0m \u001b[0;34m=\u001b[0m \u001b[0moriginal_tensor\u001b[0m\u001b[0;34m.\u001b[0m\u001b[0mt\u001b[0m\u001b[0;34m(\u001b[0m\u001b[0;34m)\u001b[0m\u001b[0;34m\u001b[0m\u001b[0;34m\u001b[0m\u001b[0m\n\u001b[0;32m----> 2\u001b[0;31m \u001b[0mtransposed_tensor\u001b[0m\u001b[0;34m.\u001b[0m\u001b[0mview\u001b[0m\u001b[0;34m(\u001b[0m\u001b[0;36m1\u001b[0m\u001b[0;34m,\u001b[0m \u001b[0;36m6\u001b[0m\u001b[0;34m)\u001b[0m\u001b[0;34m\u001b[0m\u001b[0;34m\u001b[0m\u001b[0m\n\u001b[0m",
      "\u001b[0;31mRuntimeError\u001b[0m: view size is not compatible with input tensor's size and stride (at least one dimension spans across two contiguous subspaces). Use .reshape(...) instead."
     ]
    }
   ],
   "source": [
    "transposed_tensor = original_tensor.t()\n",
    "transposed_tensor.view(1, 6)"
   ]
  },
  {
   "cell_type": "markdown",
   "id": "8c9649a4",
   "metadata": {
    "id": "07c9578f"
   },
   "source": [
    "![](https://raw.githubusercontent.com/dvgodoy/assets/main/PyTorchInPractice/images/ch1/contiguous.png)"
   ]
  },
  {
   "cell_type": "code",
   "execution_count": 23,
   "id": "f7e40b2c",
   "metadata": {
    "colab": {
     "base_uri": "https://localhost:8080/"
    },
    "id": "e56c9619",
    "outputId": "af56dbe6-b6cf-4766-dccd-79dce2825487"
   },
   "outputs": [
    {
     "data": {
      "text/plain": [
       "((3, 1), (1, 3))"
      ]
     },
     "execution_count": 23,
     "metadata": {},
     "output_type": "execute_result"
    }
   ],
   "source": [
    "original_tensor.stride(), transposed_tensor.stride()"
   ]
  },
  {
   "cell_type": "code",
   "execution_count": 24,
   "id": "d6b4e7f3",
   "metadata": {
    "colab": {
     "base_uri": "https://localhost:8080/"
    },
    "id": "495c0799",
    "outputId": "8821aa11-1b22-41c2-f299-73b142973122"
   },
   "outputs": [
    {
     "data": {
      "text/plain": [
       "(False, True)"
      ]
     },
     "execution_count": 24,
     "metadata": {},
     "output_type": "execute_result"
    }
   ],
   "source": [
    "transposed_tensor.is_contiguous(), original_tensor.is_contiguous()"
   ]
  },
  {
   "cell_type": "code",
   "execution_count": 25,
   "id": "c4fdc3df",
   "metadata": {
    "colab": {
     "base_uri": "https://localhost:8080/"
    },
    "id": "28802554",
    "outputId": "edd0f728-9b2c-4d6e-c4f7-192f5d0fda85"
   },
   "outputs": [
    {
     "data": {
      "text/plain": [
       "tensor([[1., 1.],\n",
       "        [3., 1.],\n",
       "        [1., 1.]])"
      ]
     },
     "execution_count": 25,
     "metadata": {},
     "output_type": "execute_result"
    }
   ],
   "source": [
    "transposed_tensor"
   ]
  },
  {
   "cell_type": "code",
   "execution_count": 26,
   "id": "2c86e451",
   "metadata": {
    "colab": {
     "base_uri": "https://localhost:8080/"
    },
    "id": "7cf6146b",
    "outputId": "4c6a50c1-39ab-4dd9-9353-9d365b8bc0df"
   },
   "outputs": [
    {
     "data": {
      "text/plain": [
       "tensor([[1., 1., 3., 1., 1., 1.]])"
      ]
     },
     "execution_count": 26,
     "metadata": {},
     "output_type": "execute_result"
    }
   ],
   "source": [
    "transposed_tensor.contiguous().view(1, 6)"
   ]
  },
  {
   "cell_type": "markdown",
   "id": "1b5eb47f",
   "metadata": {},
   "source": [
    "![](https://raw.githubusercontent.com/dvgodoy/assets/main/PyTorchInPractice/images/ch1/contiguous2.png)"
   ]
  },
  {
   "cell_type": "code",
   "execution_count": 27,
   "id": "0f47d4ce",
   "metadata": {
    "colab": {
     "base_uri": "https://localhost:8080/"
    },
    "id": "c4052db9",
    "outputId": "cb836538-98e0-42a9-afe2-81c054c19cd4"
   },
   "outputs": [
    {
     "data": {
      "text/plain": [
       "tensor([1., 1., 3., 1., 1., 1.])"
      ]
     },
     "execution_count": 27,
     "metadata": {},
     "output_type": "execute_result"
    }
   ],
   "source": [
    "transposed_tensor.flatten()"
   ]
  },
  {
   "cell_type": "markdown",
   "id": "f03b20fb",
   "metadata": {
    "id": "ea2da423"
   },
   "source": [
    "### 3.3.7 Named Tensors"
   ]
  },
  {
   "cell_type": "markdown",
   "id": "6bdc8137",
   "metadata": {
    "id": "f71a756c"
   },
   "source": [
    "#### 3.3.7.1 Broadcasting\n",
    "\n",
    "![](https://raw.githubusercontent.com/dvgodoy/assets/main/PyTorchInPractice/images/ch1/broadcasting_1.png)\n",
    "*Source: https://numpy.org/doc/stable/user/basics.broadcasting.html*"
   ]
  },
  {
   "cell_type": "code",
   "execution_count": 28,
   "id": "a3f286c7",
   "metadata": {
    "colab": {
     "base_uri": "https://localhost:8080/"
    },
    "id": "bec3a476",
    "outputId": "6567e61e-13de-43a1-fa40-eb673e96c777"
   },
   "outputs": [
    {
     "data": {
      "text/plain": [
       "(tensor([[1., 1., 1.],\n",
       "         [1., 1., 1.],\n",
       "         [1., 1., 1.]]),\n",
       " tensor([[1, 2, 3]]))"
      ]
     },
     "execution_count": 28,
     "metadata": {},
     "output_type": "execute_result"
    }
   ],
   "source": [
    "mat1 = torch.ones((3, 3))\n",
    "mat2 = torch.tensor([[1, 2, 3]])\n",
    "mat1, mat2"
   ]
  },
  {
   "cell_type": "code",
   "execution_count": 29,
   "id": "75cfa68f",
   "metadata": {
    "colab": {
     "base_uri": "https://localhost:8080/"
    },
    "id": "bff6e227",
    "outputId": "4a6f2b2e-cabf-45c1-c778-edeea56de578"
   },
   "outputs": [
    {
     "data": {
      "text/plain": [
       "tensor([[1., 2., 3.],\n",
       "        [1., 2., 3.],\n",
       "        [1., 2., 3.]])"
      ]
     },
     "execution_count": 29,
     "metadata": {},
     "output_type": "execute_result"
    }
   ],
   "source": [
    "mat1 * mat2"
   ]
  },
  {
   "cell_type": "code",
   "execution_count": 30,
   "id": "d27f66a9",
   "metadata": {
    "colab": {
     "base_uri": "https://localhost:8080/"
    },
    "id": "59cbc314",
    "outputId": "0f288c33-51fa-405c-bd19-b010ca714341"
   },
   "outputs": [
    {
     "data": {
      "text/plain": [
       "(torch.Size([3, 3]), torch.Size([1, 3]))"
      ]
     },
     "execution_count": 30,
     "metadata": {},
     "output_type": "execute_result"
    }
   ],
   "source": [
    "mat1.size(), mat2.size()"
   ]
  },
  {
   "cell_type": "code",
   "execution_count": 31,
   "id": "b2923e89",
   "metadata": {
    "colab": {
     "base_uri": "https://localhost:8080/"
    },
    "id": "f6bb37e6",
    "outputId": "dd0e96b3-b0ad-402c-b10b-b8db22dde7c5"
   },
   "outputs": [
    {
     "data": {
      "text/plain": [
       "tensor([[1., 1., 1.],\n",
       "        [2., 2., 2.],\n",
       "        [3., 3., 3.]])"
      ]
     },
     "execution_count": 31,
     "metadata": {},
     "output_type": "execute_result"
    }
   ],
   "source": [
    "mat2_wrong_shape = mat2.t()\n",
    "mat1 * mat2_wrong_shape"
   ]
  },
  {
   "cell_type": "code",
   "execution_count": 32,
   "id": "884e76a7",
   "metadata": {
    "colab": {
     "base_uri": "https://localhost:8080/"
    },
    "id": "bd3847df",
    "outputId": "6910b839-d21d-4fa6-f43c-b523b113aaeb"
   },
   "outputs": [
    {
     "name": "stderr",
     "output_type": "stream",
     "text": [
      "<ipython-input-32-607113069adf>:1: UserWarning: Named tensors and all their associated APIs are an experimental feature and subject to change. Please do not use them for anything important until they are released as stable. (Triggered internally at ../c10/core/TensorImpl.h:1788.)\n",
      "  named_mat1 = torch.ones((3, 3), names=['R', 'C'])\n"
     ]
    }
   ],
   "source": [
    "named_mat1 = torch.ones((3, 3), names=['R', 'C'])\n",
    "named_mat2 = torch.tensor([[1, 2, 3]], names=['R', 'C'])"
   ]
  },
  {
   "cell_type": "code",
   "execution_count": 33,
   "id": "a30c57d1",
   "metadata": {
    "colab": {
     "base_uri": "https://localhost:8080/"
    },
    "id": "910bf606",
    "outputId": "52a01a1e-3fdf-4fe7-fe3e-8a78d7e4a790"
   },
   "outputs": [
    {
     "data": {
      "text/plain": [
       "tensor([[1., 2., 3.],\n",
       "        [1., 2., 3.],\n",
       "        [1., 2., 3.]], names=('R', 'C'))"
      ]
     },
     "execution_count": 33,
     "metadata": {},
     "output_type": "execute_result"
    }
   ],
   "source": [
    "named_mat1 * named_mat2"
   ]
  },
  {
   "cell_type": "code",
   "execution_count": 34,
   "id": "13eb1274",
   "metadata": {
    "colab": {
     "base_uri": "https://localhost:8080/",
     "height": 174
    },
    "id": "1ffb5bdc",
    "outputId": "8a571c6b-8d18-4174-e0e3-07a2c77f1ca9"
   },
   "outputs": [
    {
     "ename": "RuntimeError",
     "evalue": "ignored",
     "output_type": "error",
     "traceback": [
      "\u001b[0;31m---------------------------------------------------------------------------\u001b[0m",
      "\u001b[0;31mRuntimeError\u001b[0m                              Traceback (most recent call last)",
      "\u001b[0;32m<ipython-input-34-7deb473f8df5>\u001b[0m in \u001b[0;36m<cell line: 1>\u001b[0;34m()\u001b[0m\n\u001b[0;32m----> 1\u001b[0;31m \u001b[0mnamed_mat1\u001b[0m \u001b[0;34m*\u001b[0m \u001b[0mnamed_mat2\u001b[0m\u001b[0;34m.\u001b[0m\u001b[0mt\u001b[0m\u001b[0;34m(\u001b[0m\u001b[0;34m)\u001b[0m\u001b[0;34m\u001b[0m\u001b[0;34m\u001b[0m\u001b[0m\n\u001b[0m",
      "\u001b[0;31mRuntimeError\u001b[0m: Error when attempting to broadcast dims ['R', 'C'] and dims ['C', 'R']: dim 'C' and dim 'R' are at the same position from the right but do not match."
     ]
    }
   ],
   "source": [
    "named_mat1 * named_mat2.t()"
   ]
  },
  {
   "cell_type": "code",
   "execution_count": 35,
   "id": "5633fdc6",
   "metadata": {
    "colab": {
     "base_uri": "https://localhost:8080/"
    },
    "id": "8d73f2a2",
    "outputId": "0b785923-3286-47f4-f2db-5741a0444f21"
   },
   "outputs": [
    {
     "data": {
      "text/plain": [
       "tensor([[1., 1., 1.],\n",
       "        [2., 2., 2.],\n",
       "        [3., 3., 3.]], names=('R', 'C'))"
      ]
     },
     "execution_count": 35,
     "metadata": {},
     "output_type": "execute_result"
    }
   ],
   "source": [
    "named_mat1 * mat2.t()"
   ]
  },
  {
   "cell_type": "markdown",
   "id": "c53e381e",
   "metadata": {
    "id": "fd480e18"
   },
   "source": [
    "### 3.3.8 Devices"
   ]
  },
  {
   "cell_type": "code",
   "execution_count": 36,
   "id": "6e6c5866",
   "metadata": {
    "colab": {
     "base_uri": "https://localhost:8080/"
    },
    "id": "35e87a49",
    "outputId": "17c9f306-dae3-4f30-96fa-7dfb010f3ccf"
   },
   "outputs": [
    {
     "data": {
      "text/plain": [
       "device(type='cpu')"
      ]
     },
     "execution_count": 36,
     "metadata": {},
     "output_type": "execute_result"
    }
   ],
   "source": [
    "device = original_tensor.device\n",
    "device"
   ]
  },
  {
   "cell_type": "markdown",
   "id": "7c9ebf47",
   "metadata": {
    "id": "036b1f8a"
   },
   "source": [
    "#### 3.3.8.1 GPU"
   ]
  },
  {
   "cell_type": "code",
   "execution_count": 37,
   "id": "3bd9152d",
   "metadata": {
    "id": "c570ac79"
   },
   "outputs": [],
   "source": [
    "device = 'cuda' if torch.cuda.is_available() else 'cpu'"
   ]
  },
  {
   "cell_type": "code",
   "execution_count": 38,
   "id": "dadd72b4",
   "metadata": {
    "colab": {
     "base_uri": "https://localhost:8080/"
    },
    "id": "56bf5bab",
    "outputId": "a2dc3354-286f-4644-c593-5e5f7e1be731"
   },
   "outputs": [
    {
     "data": {
      "text/plain": [
       "device(type='cuda', index=0)"
      ]
     },
     "execution_count": 38,
     "metadata": {},
     "output_type": "execute_result"
    }
   ],
   "source": [
    "sent_tensor = original_tensor.to(device)\n",
    "sent_tensor.device"
   ]
  },
  {
   "cell_type": "code",
   "execution_count": 39,
   "id": "c4328d29",
   "metadata": {
    "colab": {
     "base_uri": "https://localhost:8080/",
     "height": 35
    },
    "id": "93b5d29d",
    "outputId": "6c3013b8-eb98-446c-d1c4-a3cc2ccbcbf2"
   },
   "outputs": [
    {
     "data": {
      "application/vnd.google.colaboratory.intrinsic+json": {
       "type": "string"
      },
      "text/plain": [
       "'torch.cuda.FloatTensor'"
      ]
     },
     "execution_count": 39,
     "metadata": {},
     "output_type": "execute_result"
    }
   ],
   "source": [
    "sent_tensor.type()"
   ]
  },
  {
   "cell_type": "code",
   "execution_count": 40,
   "id": "2364e003",
   "metadata": {
    "colab": {
     "base_uri": "https://localhost:8080/"
    },
    "id": "f3d922fe",
    "outputId": "92db1247-de9a-4a4b-e338-132f21086310"
   },
   "outputs": [
    {
     "name": "stdout",
     "output_type": "stream",
     "text": [
      "Tesla T4\n"
     ]
    }
   ],
   "source": [
    "n_cudas = torch.cuda.device_count()\n",
    "for i in range(n_cudas):\n",
    "    print(torch.cuda.get_device_name(i))"
   ]
  },
  {
   "cell_type": "code",
   "execution_count": 41,
   "id": "c602ee9f",
   "metadata": {
    "colab": {
     "base_uri": "https://localhost:8080/",
     "height": 174
    },
    "id": "588fad3c",
    "outputId": "22d4cc35-b322-46b8-8402-63e404726fd5"
   },
   "outputs": [
    {
     "ename": "TypeError",
     "evalue": "ignored",
     "output_type": "error",
     "traceback": [
      "\u001b[0;31m---------------------------------------------------------------------------\u001b[0m",
      "\u001b[0;31mTypeError\u001b[0m                                 Traceback (most recent call last)",
      "\u001b[0;32m<ipython-input-41-90d0099a6824>\u001b[0m in \u001b[0;36m<cell line: 1>\u001b[0;34m()\u001b[0m\n\u001b[0;32m----> 1\u001b[0;31m \u001b[0msent_tensor\u001b[0m\u001b[0;34m.\u001b[0m\u001b[0mnumpy\u001b[0m\u001b[0;34m(\u001b[0m\u001b[0;34m)\u001b[0m\u001b[0;34m\u001b[0m\u001b[0;34m\u001b[0m\u001b[0m\n\u001b[0m",
      "\u001b[0;31mTypeError\u001b[0m: can't convert cuda:0 device type tensor to numpy. Use Tensor.cpu() to copy the tensor to host memory first."
     ]
    }
   ],
   "source": [
    "sent_tensor.numpy()"
   ]
  },
  {
   "cell_type": "code",
   "execution_count": 42,
   "id": "6b7fc7d8",
   "metadata": {
    "colab": {
     "base_uri": "https://localhost:8080/"
    },
    "id": "266e3844",
    "outputId": "b7a9ece7-d5a1-4fb9-fcd3-dd8d3c31cb0c"
   },
   "outputs": [
    {
     "data": {
      "text/plain": [
       "array([[1., 3., 1.],\n",
       "       [1., 1., 1.]], dtype=float32)"
      ]
     },
     "execution_count": 42,
     "metadata": {},
     "output_type": "execute_result"
    }
   ],
   "source": [
    "sent_tensor.cpu().numpy()"
   ]
  },
  {
   "cell_type": "markdown",
   "id": "4a578abb",
   "metadata": {
    "id": "f6879c28"
   },
   "source": [
    "#### 3.3.8.2 TPU"
   ]
  },
  {
   "cell_type": "code",
   "execution_count": 44,
   "id": "de135803",
   "metadata": {
    "id": "1ad8b572"
   },
   "outputs": [],
   "source": [
    "# import torch_xla.core.xla_model as xm"
   ]
  },
  {
   "cell_type": "code",
   "execution_count": 45,
   "id": "3de05976",
   "metadata": {
    "id": "a5001783"
   },
   "outputs": [],
   "source": [
    "# device = xm.xla_device()"
   ]
  },
  {
   "cell_type": "code",
   "execution_count": 46,
   "id": "46c6d983",
   "metadata": {
    "id": "76fdd5ef"
   },
   "outputs": [],
   "source": [
    "# tpu_tensor1 = torch.ones(2, 3, device=dev)\n",
    "# tpu_tensor1"
   ]
  },
  {
   "cell_type": "markdown",
   "id": "ea3443b0",
   "metadata": {},
   "source": [
    "```\n",
    "tensor([[1., 1., 1.],\n",
    "        [1., 1., 1.]], device='xla:1')\n",
    "```"
   ]
  },
  {
   "cell_type": "code",
   "execution_count": 47,
   "id": "e2981c45",
   "metadata": {
    "id": "1c180e86"
   },
   "outputs": [],
   "source": [
    "# device2 = xm.xla_device(n=2, devkind='TPU')\n",
    "# tpu_tensor2 = torch.zeros(2, 3, device=device2)\n",
    "# tpu_tensor2"
   ]
  },
  {
   "cell_type": "markdown",
   "id": "886ff7b1",
   "metadata": {},
   "source": [
    "```\n",
    "tensor([[1., 1., 1.],\n",
    "        [1., 1., 1.]], device='xla:2')\n",
    "```"
   ]
  },
  {
   "cell_type": "markdown",
   "id": "c9ea8fac",
   "metadata": {
    "id": "891062c5"
   },
   "source": [
    "TPUs can be used to speed up training even more by using all its cores at once through multiprocessing."
   ]
  },
  {
   "cell_type": "markdown",
   "id": "dd8a2958",
   "metadata": {
    "id": "8dc73e70"
   },
   "source": [
    "#### 3.3.8.3 \"Meta\" (Fake)"
   ]
  },
  {
   "cell_type": "code",
   "execution_count": 48,
   "id": "a260d9fe",
   "metadata": {
    "colab": {
     "base_uri": "https://localhost:8080/"
    },
    "id": "6f632d38",
    "outputId": "39468884-e224-4423-9ca1-d3dd01dedb6c"
   },
   "outputs": [
    {
     "data": {
      "text/plain": [
       "tensor(..., device='meta', size=(2, 3))"
      ]
     },
     "execution_count": 48,
     "metadata": {},
     "output_type": "execute_result"
    }
   ],
   "source": [
    "meta_tensor = torch.zeros(2, 3, device='meta')\n",
    "meta_tensor"
   ]
  },
  {
   "cell_type": "code",
   "execution_count": 49,
   "id": "7ba0507c",
   "metadata": {
    "colab": {
     "base_uri": "https://localhost:8080/"
    },
    "id": "701c25b4",
    "outputId": "3e62c433-fa17-46f2-edcf-d569f47c4d31"
   },
   "outputs": [
    {
     "data": {
      "text/plain": [
       "tensor(..., device='meta', size=(100000, 100000))"
      ]
     },
     "execution_count": 49,
     "metadata": {},
     "output_type": "execute_result"
    }
   ],
   "source": [
    "huge_tensor = torch.zeros(100000, 100000, device='meta')\n",
    "huge_tensor"
   ]
  },
  {
   "cell_type": "code",
   "execution_count": 50,
   "id": "33db2823",
   "metadata": {
    "id": "ca3d63cf"
   },
   "outputs": [],
   "source": [
    "# huge_tensor = torch.zeros(100000, 100000)"
   ]
  },
  {
   "cell_type": "markdown",
   "id": "0b885db4",
   "metadata": {},
   "source": [
    "```\n",
    "---------------------------------------------------------------------------\n",
    "RuntimeError                              Traceback (most recent call last)\n",
    "Cell In[2], line 2\n",
    "      1 import torch\n",
    "----> 2 huge_tensor = torch.zeros(100000, 100000)\n",
    "\n",
    "RuntimeError: [enforce fail at alloc_cpu.cpp:75] err == 0. DefaultCPUAllocator: can't allocate memory: you tried to allocate 40000000000 bytes. Error code 12 (Cannot allocate memory)\n",
    "```"
   ]
  },
  {
   "cell_type": "markdown",
   "id": "eee3915a",
   "metadata": {
    "id": "6ababe58"
   },
   "source": [
    "## 3.4 Datasets\n",
    "\n",
    "![](https://raw.githubusercontent.com/dvgodoy/assets/main/PyTorchInPractice/images/ch0/data_step1.png)"
   ]
  },
  {
   "cell_type": "code",
   "execution_count": 2,
   "id": "cf483e17",
   "metadata": {
    "colab": {
     "base_uri": "https://localhost:8080/",
     "height": 424
    },
    "id": "19806f07",
    "outputId": "fde4c269-0342-416f-9b6b-b067e8428958"
   },
   "outputs": [
    {
     "data": {
      "text/html": [
       "<div>\n",
       "<style scoped>\n",
       "    .dataframe tbody tr th:only-of-type {\n",
       "        vertical-align: middle;\n",
       "    }\n",
       "\n",
       "    .dataframe tbody tr th {\n",
       "        vertical-align: top;\n",
       "    }\n",
       "\n",
       "    .dataframe thead th {\n",
       "        text-align: right;\n",
       "    }\n",
       "</style>\n",
       "<table border=\"1\" class=\"dataframe\">\n",
       "  <thead>\n",
       "    <tr style=\"text-align: right;\">\n",
       "      <th></th>\n",
       "      <th>mpg</th>\n",
       "      <th>cyl</th>\n",
       "      <th>disp</th>\n",
       "      <th>hp</th>\n",
       "      <th>weight</th>\n",
       "      <th>acc</th>\n",
       "      <th>year</th>\n",
       "      <th>origin</th>\n",
       "    </tr>\n",
       "  </thead>\n",
       "  <tbody>\n",
       "    <tr>\n",
       "      <th>0</th>\n",
       "      <td>18.0</td>\n",
       "      <td>8</td>\n",
       "      <td>307.0</td>\n",
       "      <td>130.0</td>\n",
       "      <td>3504.0</td>\n",
       "      <td>12.0</td>\n",
       "      <td>70</td>\n",
       "      <td>1</td>\n",
       "    </tr>\n",
       "    <tr>\n",
       "      <th>1</th>\n",
       "      <td>15.0</td>\n",
       "      <td>8</td>\n",
       "      <td>350.0</td>\n",
       "      <td>165.0</td>\n",
       "      <td>3693.0</td>\n",
       "      <td>11.5</td>\n",
       "      <td>70</td>\n",
       "      <td>1</td>\n",
       "    </tr>\n",
       "    <tr>\n",
       "      <th>2</th>\n",
       "      <td>18.0</td>\n",
       "      <td>8</td>\n",
       "      <td>318.0</td>\n",
       "      <td>150.0</td>\n",
       "      <td>3436.0</td>\n",
       "      <td>11.0</td>\n",
       "      <td>70</td>\n",
       "      <td>1</td>\n",
       "    </tr>\n",
       "    <tr>\n",
       "      <th>3</th>\n",
       "      <td>16.0</td>\n",
       "      <td>8</td>\n",
       "      <td>304.0</td>\n",
       "      <td>150.0</td>\n",
       "      <td>3433.0</td>\n",
       "      <td>12.0</td>\n",
       "      <td>70</td>\n",
       "      <td>1</td>\n",
       "    </tr>\n",
       "    <tr>\n",
       "      <th>4</th>\n",
       "      <td>17.0</td>\n",
       "      <td>8</td>\n",
       "      <td>302.0</td>\n",
       "      <td>140.0</td>\n",
       "      <td>3449.0</td>\n",
       "      <td>10.5</td>\n",
       "      <td>70</td>\n",
       "      <td>1</td>\n",
       "    </tr>\n",
       "    <tr>\n",
       "      <th>...</th>\n",
       "      <td>...</td>\n",
       "      <td>...</td>\n",
       "      <td>...</td>\n",
       "      <td>...</td>\n",
       "      <td>...</td>\n",
       "      <td>...</td>\n",
       "      <td>...</td>\n",
       "      <td>...</td>\n",
       "    </tr>\n",
       "    <tr>\n",
       "      <th>393</th>\n",
       "      <td>27.0</td>\n",
       "      <td>4</td>\n",
       "      <td>140.0</td>\n",
       "      <td>86.0</td>\n",
       "      <td>2790.0</td>\n",
       "      <td>15.6</td>\n",
       "      <td>82</td>\n",
       "      <td>1</td>\n",
       "    </tr>\n",
       "    <tr>\n",
       "      <th>394</th>\n",
       "      <td>44.0</td>\n",
       "      <td>4</td>\n",
       "      <td>97.0</td>\n",
       "      <td>52.0</td>\n",
       "      <td>2130.0</td>\n",
       "      <td>24.6</td>\n",
       "      <td>82</td>\n",
       "      <td>2</td>\n",
       "    </tr>\n",
       "    <tr>\n",
       "      <th>395</th>\n",
       "      <td>32.0</td>\n",
       "      <td>4</td>\n",
       "      <td>135.0</td>\n",
       "      <td>84.0</td>\n",
       "      <td>2295.0</td>\n",
       "      <td>11.6</td>\n",
       "      <td>82</td>\n",
       "      <td>1</td>\n",
       "    </tr>\n",
       "    <tr>\n",
       "      <th>396</th>\n",
       "      <td>28.0</td>\n",
       "      <td>4</td>\n",
       "      <td>120.0</td>\n",
       "      <td>79.0</td>\n",
       "      <td>2625.0</td>\n",
       "      <td>18.6</td>\n",
       "      <td>82</td>\n",
       "      <td>1</td>\n",
       "    </tr>\n",
       "    <tr>\n",
       "      <th>397</th>\n",
       "      <td>31.0</td>\n",
       "      <td>4</td>\n",
       "      <td>119.0</td>\n",
       "      <td>82.0</td>\n",
       "      <td>2720.0</td>\n",
       "      <td>19.4</td>\n",
       "      <td>82</td>\n",
       "      <td>1</td>\n",
       "    </tr>\n",
       "  </tbody>\n",
       "</table>\n",
       "<p>398 rows × 8 columns</p>\n",
       "</div>"
      ],
      "text/plain": [
       "      mpg  cyl   disp     hp  weight   acc  year  origin\n",
       "0    18.0    8  307.0  130.0  3504.0  12.0    70       1\n",
       "1    15.0    8  350.0  165.0  3693.0  11.5    70       1\n",
       "2    18.0    8  318.0  150.0  3436.0  11.0    70       1\n",
       "3    16.0    8  304.0  150.0  3433.0  12.0    70       1\n",
       "4    17.0    8  302.0  140.0  3449.0  10.5    70       1\n",
       "..    ...  ...    ...    ...     ...   ...   ...     ...\n",
       "393  27.0    4  140.0   86.0  2790.0  15.6    82       1\n",
       "394  44.0    4   97.0   52.0  2130.0  24.6    82       2\n",
       "395  32.0    4  135.0   84.0  2295.0  11.6    82       1\n",
       "396  28.0    4  120.0   79.0  2625.0  18.6    82       1\n",
       "397  31.0    4  119.0   82.0  2720.0  19.4    82       1\n",
       "\n",
       "[398 rows x 8 columns]"
      ]
     },
     "execution_count": 2,
     "metadata": {},
     "output_type": "execute_result"
    }
   ],
   "source": [
    "import pandas as pd\n",
    "url = 'http://archive.ics.uci.edu/ml/machine-learning-databases/auto-mpg/auto-mpg.data'\n",
    "column_names = ['mpg', 'cyl', 'disp', 'hp', 'weight', 'acc', 'year', 'origin']\n",
    "\n",
    "df = pd.read_csv(url, names=column_names, na_values='?', comment='\\t', sep=' ', skipinitialspace=True)\n",
    "df"
   ]
  },
  {
   "cell_type": "code",
   "execution_count": 3,
   "id": "8b6a136f",
   "metadata": {},
   "outputs": [
    {
     "data": {
      "text/plain": [
       "0      18.0\n",
       "1      15.0\n",
       "2      18.0\n",
       "3      16.0\n",
       "4      17.0\n",
       "       ... \n",
       "393    27.0\n",
       "394    44.0\n",
       "395    32.0\n",
       "396    28.0\n",
       "397    31.0\n",
       "Name: mpg, Length: 398, dtype: float64"
      ]
     },
     "execution_count": 3,
     "metadata": {},
     "output_type": "execute_result"
    }
   ],
   "source": [
    "df['mpg']"
   ]
  },
  {
   "cell_type": "code",
   "execution_count": 5,
   "id": "caa5864f",
   "metadata": {},
   "outputs": [
    {
     "data": {
      "text/plain": [
       "array([18., 15., 18., 16., 17.])"
      ]
     },
     "execution_count": 5,
     "metadata": {},
     "output_type": "execute_result"
    }
   ],
   "source": [
    "df['mpg'].values[:5]"
   ]
  },
  {
   "cell_type": "code",
   "execution_count": 6,
   "id": "b82fc962",
   "metadata": {},
   "outputs": [
    {
     "data": {
      "text/html": [
       "<div>\n",
       "<style scoped>\n",
       "    .dataframe tbody tr th:only-of-type {\n",
       "        vertical-align: middle;\n",
       "    }\n",
       "\n",
       "    .dataframe tbody tr th {\n",
       "        vertical-align: top;\n",
       "    }\n",
       "\n",
       "    .dataframe thead th {\n",
       "        text-align: right;\n",
       "    }\n",
       "</style>\n",
       "<table border=\"1\" class=\"dataframe\">\n",
       "  <thead>\n",
       "    <tr style=\"text-align: right;\">\n",
       "      <th></th>\n",
       "      <th>mpg</th>\n",
       "      <th>hp</th>\n",
       "    </tr>\n",
       "  </thead>\n",
       "  <tbody>\n",
       "    <tr>\n",
       "      <th>0</th>\n",
       "      <td>18.0</td>\n",
       "      <td>130.0</td>\n",
       "    </tr>\n",
       "    <tr>\n",
       "      <th>1</th>\n",
       "      <td>15.0</td>\n",
       "      <td>165.0</td>\n",
       "    </tr>\n",
       "    <tr>\n",
       "      <th>2</th>\n",
       "      <td>18.0</td>\n",
       "      <td>150.0</td>\n",
       "    </tr>\n",
       "    <tr>\n",
       "      <th>3</th>\n",
       "      <td>16.0</td>\n",
       "      <td>150.0</td>\n",
       "    </tr>\n",
       "    <tr>\n",
       "      <th>4</th>\n",
       "      <td>17.0</td>\n",
       "      <td>140.0</td>\n",
       "    </tr>\n",
       "    <tr>\n",
       "      <th>...</th>\n",
       "      <td>...</td>\n",
       "      <td>...</td>\n",
       "    </tr>\n",
       "    <tr>\n",
       "      <th>393</th>\n",
       "      <td>27.0</td>\n",
       "      <td>86.0</td>\n",
       "    </tr>\n",
       "    <tr>\n",
       "      <th>394</th>\n",
       "      <td>44.0</td>\n",
       "      <td>52.0</td>\n",
       "    </tr>\n",
       "    <tr>\n",
       "      <th>395</th>\n",
       "      <td>32.0</td>\n",
       "      <td>84.0</td>\n",
       "    </tr>\n",
       "    <tr>\n",
       "      <th>396</th>\n",
       "      <td>28.0</td>\n",
       "      <td>79.0</td>\n",
       "    </tr>\n",
       "    <tr>\n",
       "      <th>397</th>\n",
       "      <td>31.0</td>\n",
       "      <td>82.0</td>\n",
       "    </tr>\n",
       "  </tbody>\n",
       "</table>\n",
       "<p>398 rows × 2 columns</p>\n",
       "</div>"
      ],
      "text/plain": [
       "      mpg     hp\n",
       "0    18.0  130.0\n",
       "1    15.0  165.0\n",
       "2    18.0  150.0\n",
       "3    16.0  150.0\n",
       "4    17.0  140.0\n",
       "..    ...    ...\n",
       "393  27.0   86.0\n",
       "394  44.0   52.0\n",
       "395  32.0   84.0\n",
       "396  28.0   79.0\n",
       "397  31.0   82.0\n",
       "\n",
       "[398 rows x 2 columns]"
      ]
     },
     "execution_count": 6,
     "metadata": {},
     "output_type": "execute_result"
    }
   ],
   "source": [
    "df[['mpg', 'hp']]"
   ]
  },
  {
   "cell_type": "code",
   "execution_count": 9,
   "id": "0ffbe531",
   "metadata": {},
   "outputs": [
    {
     "data": {
      "text/plain": [
       "array([[ 18., 130.],\n",
       "       [ 15., 165.],\n",
       "       [ 18., 150.],\n",
       "       [ 16., 150.],\n",
       "       [ 17., 140.]])"
      ]
     },
     "execution_count": 9,
     "metadata": {},
     "output_type": "execute_result"
    }
   ],
   "source": [
    "df[['mpg', 'hp']].values[:5]"
   ]
  },
  {
   "cell_type": "code",
   "execution_count": 11,
   "id": "853eb4dc",
   "metadata": {},
   "outputs": [
    {
     "data": {
      "text/html": [
       "<div>\n",
       "<style scoped>\n",
       "    .dataframe tbody tr th:only-of-type {\n",
       "        vertical-align: middle;\n",
       "    }\n",
       "\n",
       "    .dataframe tbody tr th {\n",
       "        vertical-align: top;\n",
       "    }\n",
       "\n",
       "    .dataframe thead th {\n",
       "        text-align: right;\n",
       "    }\n",
       "</style>\n",
       "<table border=\"1\" class=\"dataframe\">\n",
       "  <thead>\n",
       "    <tr style=\"text-align: right;\">\n",
       "      <th></th>\n",
       "      <th>mpg</th>\n",
       "      <th>cyl</th>\n",
       "      <th>disp</th>\n",
       "      <th>hp</th>\n",
       "      <th>weight</th>\n",
       "      <th>acc</th>\n",
       "      <th>year</th>\n",
       "      <th>origin</th>\n",
       "    </tr>\n",
       "  </thead>\n",
       "  <tbody>\n",
       "    <tr>\n",
       "      <th>0</th>\n",
       "      <td>18.0</td>\n",
       "      <td>8</td>\n",
       "      <td>307.0</td>\n",
       "      <td>130.0</td>\n",
       "      <td>3504.0</td>\n",
       "      <td>12.0</td>\n",
       "      <td>70</td>\n",
       "      <td>1</td>\n",
       "    </tr>\n",
       "    <tr>\n",
       "      <th>1</th>\n",
       "      <td>15.0</td>\n",
       "      <td>8</td>\n",
       "      <td>350.0</td>\n",
       "      <td>165.0</td>\n",
       "      <td>3693.0</td>\n",
       "      <td>11.5</td>\n",
       "      <td>70</td>\n",
       "      <td>1</td>\n",
       "    </tr>\n",
       "    <tr>\n",
       "      <th>2</th>\n",
       "      <td>18.0</td>\n",
       "      <td>8</td>\n",
       "      <td>318.0</td>\n",
       "      <td>150.0</td>\n",
       "      <td>3436.0</td>\n",
       "      <td>11.0</td>\n",
       "      <td>70</td>\n",
       "      <td>1</td>\n",
       "    </tr>\n",
       "    <tr>\n",
       "      <th>3</th>\n",
       "      <td>16.0</td>\n",
       "      <td>8</td>\n",
       "      <td>304.0</td>\n",
       "      <td>150.0</td>\n",
       "      <td>3433.0</td>\n",
       "      <td>12.0</td>\n",
       "      <td>70</td>\n",
       "      <td>1</td>\n",
       "    </tr>\n",
       "    <tr>\n",
       "      <th>4</th>\n",
       "      <td>17.0</td>\n",
       "      <td>8</td>\n",
       "      <td>302.0</td>\n",
       "      <td>140.0</td>\n",
       "      <td>3449.0</td>\n",
       "      <td>10.5</td>\n",
       "      <td>70</td>\n",
       "      <td>1</td>\n",
       "    </tr>\n",
       "  </tbody>\n",
       "</table>\n",
       "</div>"
      ],
      "text/plain": [
       "    mpg  cyl   disp     hp  weight   acc  year  origin\n",
       "0  18.0    8  307.0  130.0  3504.0  12.0    70       1\n",
       "1  15.0    8  350.0  165.0  3693.0  11.5    70       1\n",
       "2  18.0    8  318.0  150.0  3436.0  11.0    70       1\n",
       "3  16.0    8  304.0  150.0  3433.0  12.0    70       1\n",
       "4  17.0    8  302.0  140.0  3449.0  10.5    70       1"
      ]
     },
     "execution_count": 11,
     "metadata": {},
     "output_type": "execute_result"
    }
   ],
   "source": [
    "df.iloc[:5]"
   ]
  },
  {
   "cell_type": "code",
   "execution_count": 17,
   "id": "cbb2214a",
   "metadata": {},
   "outputs": [
    {
     "data": {
      "text/html": [
       "<div>\n",
       "<style scoped>\n",
       "    .dataframe tbody tr th:only-of-type {\n",
       "        vertical-align: middle;\n",
       "    }\n",
       "\n",
       "    .dataframe tbody tr th {\n",
       "        vertical-align: top;\n",
       "    }\n",
       "\n",
       "    .dataframe thead th {\n",
       "        text-align: right;\n",
       "    }\n",
       "</style>\n",
       "<table border=\"1\" class=\"dataframe\">\n",
       "  <thead>\n",
       "    <tr style=\"text-align: right;\">\n",
       "      <th></th>\n",
       "      <th>mpg</th>\n",
       "      <th>cyl</th>\n",
       "      <th>disp</th>\n",
       "      <th>hp</th>\n",
       "      <th>weight</th>\n",
       "      <th>acc</th>\n",
       "      <th>year</th>\n",
       "      <th>origin</th>\n",
       "    </tr>\n",
       "  </thead>\n",
       "  <tbody>\n",
       "    <tr>\n",
       "      <th>0</th>\n",
       "      <td>18.0</td>\n",
       "      <td>8</td>\n",
       "      <td>307.0</td>\n",
       "      <td>130.0</td>\n",
       "      <td>3504.0</td>\n",
       "      <td>12.0</td>\n",
       "      <td>70</td>\n",
       "      <td>1</td>\n",
       "    </tr>\n",
       "    <tr>\n",
       "      <th>1</th>\n",
       "      <td>15.0</td>\n",
       "      <td>8</td>\n",
       "      <td>350.0</td>\n",
       "      <td>165.0</td>\n",
       "      <td>3693.0</td>\n",
       "      <td>11.5</td>\n",
       "      <td>70</td>\n",
       "      <td>1</td>\n",
       "    </tr>\n",
       "    <tr>\n",
       "      <th>2</th>\n",
       "      <td>18.0</td>\n",
       "      <td>8</td>\n",
       "      <td>318.0</td>\n",
       "      <td>150.0</td>\n",
       "      <td>3436.0</td>\n",
       "      <td>11.0</td>\n",
       "      <td>70</td>\n",
       "      <td>1</td>\n",
       "    </tr>\n",
       "    <tr>\n",
       "      <th>3</th>\n",
       "      <td>16.0</td>\n",
       "      <td>8</td>\n",
       "      <td>304.0</td>\n",
       "      <td>150.0</td>\n",
       "      <td>3433.0</td>\n",
       "      <td>12.0</td>\n",
       "      <td>70</td>\n",
       "      <td>1</td>\n",
       "    </tr>\n",
       "    <tr>\n",
       "      <th>4</th>\n",
       "      <td>17.0</td>\n",
       "      <td>8</td>\n",
       "      <td>302.0</td>\n",
       "      <td>140.0</td>\n",
       "      <td>3449.0</td>\n",
       "      <td>10.5</td>\n",
       "      <td>70</td>\n",
       "      <td>1</td>\n",
       "    </tr>\n",
       "    <tr>\n",
       "      <th>5</th>\n",
       "      <td>15.0</td>\n",
       "      <td>8</td>\n",
       "      <td>429.0</td>\n",
       "      <td>198.0</td>\n",
       "      <td>4341.0</td>\n",
       "      <td>10.0</td>\n",
       "      <td>70</td>\n",
       "      <td>1</td>\n",
       "    </tr>\n",
       "    <tr>\n",
       "      <th>6</th>\n",
       "      <td>14.0</td>\n",
       "      <td>8</td>\n",
       "      <td>454.0</td>\n",
       "      <td>220.0</td>\n",
       "      <td>4354.0</td>\n",
       "      <td>9.0</td>\n",
       "      <td>70</td>\n",
       "      <td>1</td>\n",
       "    </tr>\n",
       "    <tr>\n",
       "      <th>7</th>\n",
       "      <td>14.0</td>\n",
       "      <td>8</td>\n",
       "      <td>440.0</td>\n",
       "      <td>215.0</td>\n",
       "      <td>4312.0</td>\n",
       "      <td>8.5</td>\n",
       "      <td>70</td>\n",
       "      <td>1</td>\n",
       "    </tr>\n",
       "    <tr>\n",
       "      <th>8</th>\n",
       "      <td>14.0</td>\n",
       "      <td>8</td>\n",
       "      <td>455.0</td>\n",
       "      <td>225.0</td>\n",
       "      <td>4425.0</td>\n",
       "      <td>10.0</td>\n",
       "      <td>70</td>\n",
       "      <td>1</td>\n",
       "    </tr>\n",
       "    <tr>\n",
       "      <th>9</th>\n",
       "      <td>15.0</td>\n",
       "      <td>8</td>\n",
       "      <td>390.0</td>\n",
       "      <td>190.0</td>\n",
       "      <td>3850.0</td>\n",
       "      <td>8.5</td>\n",
       "      <td>70</td>\n",
       "      <td>1</td>\n",
       "    </tr>\n",
       "    <tr>\n",
       "      <th>10</th>\n",
       "      <td>15.0</td>\n",
       "      <td>8</td>\n",
       "      <td>383.0</td>\n",
       "      <td>170.0</td>\n",
       "      <td>3563.0</td>\n",
       "      <td>10.0</td>\n",
       "      <td>70</td>\n",
       "      <td>1</td>\n",
       "    </tr>\n",
       "    <tr>\n",
       "      <th>11</th>\n",
       "      <td>14.0</td>\n",
       "      <td>8</td>\n",
       "      <td>340.0</td>\n",
       "      <td>160.0</td>\n",
       "      <td>3609.0</td>\n",
       "      <td>8.0</td>\n",
       "      <td>70</td>\n",
       "      <td>1</td>\n",
       "    </tr>\n",
       "    <tr>\n",
       "      <th>12</th>\n",
       "      <td>15.0</td>\n",
       "      <td>8</td>\n",
       "      <td>400.0</td>\n",
       "      <td>150.0</td>\n",
       "      <td>3761.0</td>\n",
       "      <td>9.5</td>\n",
       "      <td>70</td>\n",
       "      <td>1</td>\n",
       "    </tr>\n",
       "    <tr>\n",
       "      <th>13</th>\n",
       "      <td>14.0</td>\n",
       "      <td>8</td>\n",
       "      <td>455.0</td>\n",
       "      <td>225.0</td>\n",
       "      <td>3086.0</td>\n",
       "      <td>10.0</td>\n",
       "      <td>70</td>\n",
       "      <td>1</td>\n",
       "    </tr>\n",
       "    <tr>\n",
       "      <th>14</th>\n",
       "      <td>24.0</td>\n",
       "      <td>4</td>\n",
       "      <td>113.0</td>\n",
       "      <td>95.0</td>\n",
       "      <td>2372.0</td>\n",
       "      <td>15.0</td>\n",
       "      <td>70</td>\n",
       "      <td>3</td>\n",
       "    </tr>\n",
       "    <tr>\n",
       "      <th>15</th>\n",
       "      <td>22.0</td>\n",
       "      <td>6</td>\n",
       "      <td>198.0</td>\n",
       "      <td>95.0</td>\n",
       "      <td>2833.0</td>\n",
       "      <td>15.5</td>\n",
       "      <td>70</td>\n",
       "      <td>1</td>\n",
       "    </tr>\n",
       "    <tr>\n",
       "      <th>16</th>\n",
       "      <td>18.0</td>\n",
       "      <td>6</td>\n",
       "      <td>199.0</td>\n",
       "      <td>97.0</td>\n",
       "      <td>2774.0</td>\n",
       "      <td>15.5</td>\n",
       "      <td>70</td>\n",
       "      <td>1</td>\n",
       "    </tr>\n",
       "    <tr>\n",
       "      <th>17</th>\n",
       "      <td>21.0</td>\n",
       "      <td>6</td>\n",
       "      <td>200.0</td>\n",
       "      <td>85.0</td>\n",
       "      <td>2587.0</td>\n",
       "      <td>16.0</td>\n",
       "      <td>70</td>\n",
       "      <td>1</td>\n",
       "    </tr>\n",
       "    <tr>\n",
       "      <th>18</th>\n",
       "      <td>27.0</td>\n",
       "      <td>4</td>\n",
       "      <td>97.0</td>\n",
       "      <td>88.0</td>\n",
       "      <td>2130.0</td>\n",
       "      <td>14.5</td>\n",
       "      <td>70</td>\n",
       "      <td>3</td>\n",
       "    </tr>\n",
       "    <tr>\n",
       "      <th>19</th>\n",
       "      <td>26.0</td>\n",
       "      <td>4</td>\n",
       "      <td>97.0</td>\n",
       "      <td>46.0</td>\n",
       "      <td>1835.0</td>\n",
       "      <td>20.5</td>\n",
       "      <td>70</td>\n",
       "      <td>2</td>\n",
       "    </tr>\n",
       "    <tr>\n",
       "      <th>20</th>\n",
       "      <td>25.0</td>\n",
       "      <td>4</td>\n",
       "      <td>110.0</td>\n",
       "      <td>87.0</td>\n",
       "      <td>2672.0</td>\n",
       "      <td>17.5</td>\n",
       "      <td>70</td>\n",
       "      <td>2</td>\n",
       "    </tr>\n",
       "    <tr>\n",
       "      <th>21</th>\n",
       "      <td>24.0</td>\n",
       "      <td>4</td>\n",
       "      <td>107.0</td>\n",
       "      <td>90.0</td>\n",
       "      <td>2430.0</td>\n",
       "      <td>14.5</td>\n",
       "      <td>70</td>\n",
       "      <td>2</td>\n",
       "    </tr>\n",
       "    <tr>\n",
       "      <th>22</th>\n",
       "      <td>25.0</td>\n",
       "      <td>4</td>\n",
       "      <td>104.0</td>\n",
       "      <td>95.0</td>\n",
       "      <td>2375.0</td>\n",
       "      <td>17.5</td>\n",
       "      <td>70</td>\n",
       "      <td>2</td>\n",
       "    </tr>\n",
       "    <tr>\n",
       "      <th>23</th>\n",
       "      <td>26.0</td>\n",
       "      <td>4</td>\n",
       "      <td>121.0</td>\n",
       "      <td>113.0</td>\n",
       "      <td>2234.0</td>\n",
       "      <td>12.5</td>\n",
       "      <td>70</td>\n",
       "      <td>2</td>\n",
       "    </tr>\n",
       "    <tr>\n",
       "      <th>24</th>\n",
       "      <td>21.0</td>\n",
       "      <td>6</td>\n",
       "      <td>199.0</td>\n",
       "      <td>90.0</td>\n",
       "      <td>2648.0</td>\n",
       "      <td>15.0</td>\n",
       "      <td>70</td>\n",
       "      <td>1</td>\n",
       "    </tr>\n",
       "    <tr>\n",
       "      <th>25</th>\n",
       "      <td>10.0</td>\n",
       "      <td>8</td>\n",
       "      <td>360.0</td>\n",
       "      <td>215.0</td>\n",
       "      <td>4615.0</td>\n",
       "      <td>14.0</td>\n",
       "      <td>70</td>\n",
       "      <td>1</td>\n",
       "    </tr>\n",
       "    <tr>\n",
       "      <th>26</th>\n",
       "      <td>10.0</td>\n",
       "      <td>8</td>\n",
       "      <td>307.0</td>\n",
       "      <td>200.0</td>\n",
       "      <td>4376.0</td>\n",
       "      <td>15.0</td>\n",
       "      <td>70</td>\n",
       "      <td>1</td>\n",
       "    </tr>\n",
       "    <tr>\n",
       "      <th>27</th>\n",
       "      <td>11.0</td>\n",
       "      <td>8</td>\n",
       "      <td>318.0</td>\n",
       "      <td>210.0</td>\n",
       "      <td>4382.0</td>\n",
       "      <td>13.5</td>\n",
       "      <td>70</td>\n",
       "      <td>1</td>\n",
       "    </tr>\n",
       "    <tr>\n",
       "      <th>28</th>\n",
       "      <td>9.0</td>\n",
       "      <td>8</td>\n",
       "      <td>304.0</td>\n",
       "      <td>193.0</td>\n",
       "      <td>4732.0</td>\n",
       "      <td>18.5</td>\n",
       "      <td>70</td>\n",
       "      <td>1</td>\n",
       "    </tr>\n",
       "  </tbody>\n",
       "</table>\n",
       "</div>"
      ],
      "text/plain": [
       "     mpg  cyl   disp     hp  weight   acc  year  origin\n",
       "0   18.0    8  307.0  130.0  3504.0  12.0    70       1\n",
       "1   15.0    8  350.0  165.0  3693.0  11.5    70       1\n",
       "2   18.0    8  318.0  150.0  3436.0  11.0    70       1\n",
       "3   16.0    8  304.0  150.0  3433.0  12.0    70       1\n",
       "4   17.0    8  302.0  140.0  3449.0  10.5    70       1\n",
       "5   15.0    8  429.0  198.0  4341.0  10.0    70       1\n",
       "6   14.0    8  454.0  220.0  4354.0   9.0    70       1\n",
       "7   14.0    8  440.0  215.0  4312.0   8.5    70       1\n",
       "8   14.0    8  455.0  225.0  4425.0  10.0    70       1\n",
       "9   15.0    8  390.0  190.0  3850.0   8.5    70       1\n",
       "10  15.0    8  383.0  170.0  3563.0  10.0    70       1\n",
       "11  14.0    8  340.0  160.0  3609.0   8.0    70       1\n",
       "12  15.0    8  400.0  150.0  3761.0   9.5    70       1\n",
       "13  14.0    8  455.0  225.0  3086.0  10.0    70       1\n",
       "14  24.0    4  113.0   95.0  2372.0  15.0    70       3\n",
       "15  22.0    6  198.0   95.0  2833.0  15.5    70       1\n",
       "16  18.0    6  199.0   97.0  2774.0  15.5    70       1\n",
       "17  21.0    6  200.0   85.0  2587.0  16.0    70       1\n",
       "18  27.0    4   97.0   88.0  2130.0  14.5    70       3\n",
       "19  26.0    4   97.0   46.0  1835.0  20.5    70       2\n",
       "20  25.0    4  110.0   87.0  2672.0  17.5    70       2\n",
       "21  24.0    4  107.0   90.0  2430.0  14.5    70       2\n",
       "22  25.0    4  104.0   95.0  2375.0  17.5    70       2\n",
       "23  26.0    4  121.0  113.0  2234.0  12.5    70       2\n",
       "24  21.0    6  199.0   90.0  2648.0  15.0    70       1\n",
       "25  10.0    8  360.0  215.0  4615.0  14.0    70       1\n",
       "26  10.0    8  307.0  200.0  4376.0  15.0    70       1\n",
       "27  11.0    8  318.0  210.0  4382.0  13.5    70       1\n",
       "28   9.0    8  304.0  193.0  4732.0  18.5    70       1"
      ]
     },
     "execution_count": 17,
     "metadata": {},
     "output_type": "execute_result"
    }
   ],
   "source": [
    "cond = (df['year'] == 70)\n",
    "df[cond]"
   ]
  },
  {
   "cell_type": "markdown",
   "id": "94167479",
   "metadata": {
    "id": "070dbdc8"
   },
   "source": [
    "### 3.4.1 Train-Validation-Test Split\n",
    "\n",
    "![](https://raw.githubusercontent.com/dvgodoy/assets/main/PyTorchInPractice/images/ch0/data_step1.png)\n",
    "    \n",
    "![](https://raw.githubusercontent.com/dvgodoy/assets/main/PyTorchInPractice/images/ch1/train_test_split.png)\n",
    "\n",
    "#### 3.4.1.1 Shuffling"
   ]
  },
  {
   "cell_type": "code",
   "execution_count": 42,
   "id": "47a2d27f",
   "metadata": {},
   "outputs": [
    {
     "data": {
      "text/plain": [
       "array([70, 70, 70, 70, 70, 70, 70, 70, 70, 70, 70, 70, 70, 70, 70, 70, 70,\n",
       "       70, 70, 70, 70, 70, 70, 70, 70, 70, 70, 70, 70, 71, 71, 71, 71, 71,\n",
       "       71, 71, 71, 71, 71, 71, 71, 71, 71, 71, 71, 71, 71, 71, 71, 71])"
      ]
     },
     "execution_count": 42,
     "metadata": {},
     "output_type": "execute_result"
    }
   ],
   "source": [
    "df['year'].values[:50]"
   ]
  },
  {
   "cell_type": "code",
   "execution_count": 48,
   "id": "2f3157bb",
   "metadata": {},
   "outputs": [],
   "source": [
    "shuffled = df.sample(frac=1, random_state=1).reset_index(drop=True)"
   ]
  },
  {
   "cell_type": "code",
   "execution_count": 49,
   "id": "1a4f13eb",
   "metadata": {
    "id": "86c8d64d"
   },
   "outputs": [],
   "source": [
    "from sklearn.model_selection import train_test_split\n",
    "\n",
    "trainval, test = train_test_split(shuffled, test_size=0.16, shuffle=False)\n",
    "train, val = train_test_split(trainval, test_size=0.2, shuffle=False)"
   ]
  },
  {
   "cell_type": "markdown",
   "id": "6ca7939e",
   "metadata": {
    "id": "27871463"
   },
   "source": [
    "### 3.4.2 Cleaning Data\n",
    "\n",
    "![](https://raw.githubusercontent.com/dvgodoy/assets/main/PyTorchInPractice/images/ch0/data_step2.png)"
   ]
  },
  {
   "cell_type": "code",
   "execution_count": 50,
   "id": "4bae737f",
   "metadata": {
    "colab": {
     "base_uri": "https://localhost:8080/",
     "height": 143
    },
    "id": "696e6d91",
    "outputId": "1a28a9c7-bcb3-47e5-bd3a-1d1527686933"
   },
   "outputs": [
    {
     "data": {
      "text/html": [
       "<div>\n",
       "<style scoped>\n",
       "    .dataframe tbody tr th:only-of-type {\n",
       "        vertical-align: middle;\n",
       "    }\n",
       "\n",
       "    .dataframe tbody tr th {\n",
       "        vertical-align: top;\n",
       "    }\n",
       "\n",
       "    .dataframe thead th {\n",
       "        text-align: right;\n",
       "    }\n",
       "</style>\n",
       "<table border=\"1\" class=\"dataframe\">\n",
       "  <thead>\n",
       "    <tr style=\"text-align: right;\">\n",
       "      <th></th>\n",
       "      <th>mpg</th>\n",
       "      <th>cyl</th>\n",
       "      <th>disp</th>\n",
       "      <th>hp</th>\n",
       "      <th>weight</th>\n",
       "      <th>acc</th>\n",
       "      <th>year</th>\n",
       "      <th>origin</th>\n",
       "    </tr>\n",
       "  </thead>\n",
       "  <tbody>\n",
       "    <tr>\n",
       "      <th>89</th>\n",
       "      <td>34.5</td>\n",
       "      <td>4</td>\n",
       "      <td>100.0</td>\n",
       "      <td>NaN</td>\n",
       "      <td>2320.0</td>\n",
       "      <td>15.8</td>\n",
       "      <td>81</td>\n",
       "      <td>2</td>\n",
       "    </tr>\n",
       "    <tr>\n",
       "      <th>208</th>\n",
       "      <td>25.0</td>\n",
       "      <td>4</td>\n",
       "      <td>98.0</td>\n",
       "      <td>NaN</td>\n",
       "      <td>2046.0</td>\n",
       "      <td>19.0</td>\n",
       "      <td>71</td>\n",
       "      <td>1</td>\n",
       "    </tr>\n",
       "    <tr>\n",
       "      <th>211</th>\n",
       "      <td>40.9</td>\n",
       "      <td>4</td>\n",
       "      <td>85.0</td>\n",
       "      <td>NaN</td>\n",
       "      <td>1835.0</td>\n",
       "      <td>17.3</td>\n",
       "      <td>80</td>\n",
       "      <td>2</td>\n",
       "    </tr>\n",
       "  </tbody>\n",
       "</table>\n",
       "</div>"
      ],
      "text/plain": [
       "      mpg  cyl   disp  hp  weight   acc  year  origin\n",
       "89   34.5    4  100.0 NaN  2320.0  15.8    81       2\n",
       "208  25.0    4   98.0 NaN  2046.0  19.0    71       1\n",
       "211  40.9    4   85.0 NaN  1835.0  17.3    80       2"
      ]
     },
     "execution_count": 50,
     "metadata": {},
     "output_type": "execute_result"
    }
   ],
   "source": [
    "is_missing_attr = train.isna()\n",
    "n_missing_attr = is_missing_attr.sum(axis=1)\n",
    "train[n_missing_attr > 0]"
   ]
  },
  {
   "cell_type": "code",
   "execution_count": 51,
   "id": "c2fa9019",
   "metadata": {
    "colab": {
     "base_uri": "https://localhost:8080/",
     "height": 424
    },
    "id": "4108b0d8",
    "outputId": "c1600eaa-e80b-4ca0-bcf0-78b4a38803af"
   },
   "outputs": [
    {
     "data": {
      "text/html": [
       "<div>\n",
       "<style scoped>\n",
       "    .dataframe tbody tr th:only-of-type {\n",
       "        vertical-align: middle;\n",
       "    }\n",
       "\n",
       "    .dataframe tbody tr th {\n",
       "        vertical-align: top;\n",
       "    }\n",
       "\n",
       "    .dataframe thead th {\n",
       "        text-align: right;\n",
       "    }\n",
       "</style>\n",
       "<table border=\"1\" class=\"dataframe\">\n",
       "  <thead>\n",
       "    <tr style=\"text-align: right;\">\n",
       "      <th></th>\n",
       "      <th>mpg</th>\n",
       "      <th>cyl</th>\n",
       "      <th>disp</th>\n",
       "      <th>hp</th>\n",
       "      <th>weight</th>\n",
       "      <th>acc</th>\n",
       "      <th>year</th>\n",
       "      <th>origin</th>\n",
       "    </tr>\n",
       "  </thead>\n",
       "  <tbody>\n",
       "    <tr>\n",
       "      <th>0</th>\n",
       "      <td>18.0</td>\n",
       "      <td>6</td>\n",
       "      <td>171.0</td>\n",
       "      <td>97.0</td>\n",
       "      <td>2984.0</td>\n",
       "      <td>14.5</td>\n",
       "      <td>75</td>\n",
       "      <td>1</td>\n",
       "    </tr>\n",
       "    <tr>\n",
       "      <th>1</th>\n",
       "      <td>28.1</td>\n",
       "      <td>4</td>\n",
       "      <td>141.0</td>\n",
       "      <td>80.0</td>\n",
       "      <td>3230.0</td>\n",
       "      <td>20.4</td>\n",
       "      <td>81</td>\n",
       "      <td>2</td>\n",
       "    </tr>\n",
       "    <tr>\n",
       "      <th>2</th>\n",
       "      <td>19.4</td>\n",
       "      <td>8</td>\n",
       "      <td>318.0</td>\n",
       "      <td>140.0</td>\n",
       "      <td>3735.0</td>\n",
       "      <td>13.2</td>\n",
       "      <td>78</td>\n",
       "      <td>1</td>\n",
       "    </tr>\n",
       "    <tr>\n",
       "      <th>3</th>\n",
       "      <td>20.3</td>\n",
       "      <td>5</td>\n",
       "      <td>131.0</td>\n",
       "      <td>103.0</td>\n",
       "      <td>2830.0</td>\n",
       "      <td>15.9</td>\n",
       "      <td>78</td>\n",
       "      <td>2</td>\n",
       "    </tr>\n",
       "    <tr>\n",
       "      <th>4</th>\n",
       "      <td>20.2</td>\n",
       "      <td>6</td>\n",
       "      <td>232.0</td>\n",
       "      <td>90.0</td>\n",
       "      <td>3265.0</td>\n",
       "      <td>18.2</td>\n",
       "      <td>79</td>\n",
       "      <td>1</td>\n",
       "    </tr>\n",
       "    <tr>\n",
       "      <th>...</th>\n",
       "      <td>...</td>\n",
       "      <td>...</td>\n",
       "      <td>...</td>\n",
       "      <td>...</td>\n",
       "      <td>...</td>\n",
       "      <td>...</td>\n",
       "      <td>...</td>\n",
       "      <td>...</td>\n",
       "    </tr>\n",
       "    <tr>\n",
       "      <th>262</th>\n",
       "      <td>26.0</td>\n",
       "      <td>4</td>\n",
       "      <td>91.0</td>\n",
       "      <td>70.0</td>\n",
       "      <td>1955.0</td>\n",
       "      <td>20.5</td>\n",
       "      <td>71</td>\n",
       "      <td>1</td>\n",
       "    </tr>\n",
       "    <tr>\n",
       "      <th>263</th>\n",
       "      <td>26.4</td>\n",
       "      <td>4</td>\n",
       "      <td>140.0</td>\n",
       "      <td>88.0</td>\n",
       "      <td>2870.0</td>\n",
       "      <td>18.1</td>\n",
       "      <td>80</td>\n",
       "      <td>1</td>\n",
       "    </tr>\n",
       "    <tr>\n",
       "      <th>264</th>\n",
       "      <td>31.9</td>\n",
       "      <td>4</td>\n",
       "      <td>89.0</td>\n",
       "      <td>71.0</td>\n",
       "      <td>1925.0</td>\n",
       "      <td>14.0</td>\n",
       "      <td>79</td>\n",
       "      <td>2</td>\n",
       "    </tr>\n",
       "    <tr>\n",
       "      <th>265</th>\n",
       "      <td>19.2</td>\n",
       "      <td>8</td>\n",
       "      <td>267.0</td>\n",
       "      <td>125.0</td>\n",
       "      <td>3605.0</td>\n",
       "      <td>15.0</td>\n",
       "      <td>79</td>\n",
       "      <td>1</td>\n",
       "    </tr>\n",
       "    <tr>\n",
       "      <th>266</th>\n",
       "      <td>33.0</td>\n",
       "      <td>4</td>\n",
       "      <td>91.0</td>\n",
       "      <td>53.0</td>\n",
       "      <td>1795.0</td>\n",
       "      <td>17.5</td>\n",
       "      <td>75</td>\n",
       "      <td>3</td>\n",
       "    </tr>\n",
       "  </tbody>\n",
       "</table>\n",
       "<p>264 rows × 8 columns</p>\n",
       "</div>"
      ],
      "text/plain": [
       "      mpg  cyl   disp     hp  weight   acc  year  origin\n",
       "0    18.0    6  171.0   97.0  2984.0  14.5    75       1\n",
       "1    28.1    4  141.0   80.0  3230.0  20.4    81       2\n",
       "2    19.4    8  318.0  140.0  3735.0  13.2    78       1\n",
       "3    20.3    5  131.0  103.0  2830.0  15.9    78       2\n",
       "4    20.2    6  232.0   90.0  3265.0  18.2    79       1\n",
       "..    ...  ...    ...    ...     ...   ...   ...     ...\n",
       "262  26.0    4   91.0   70.0  1955.0  20.5    71       1\n",
       "263  26.4    4  140.0   88.0  2870.0  18.1    80       1\n",
       "264  31.9    4   89.0   71.0  1925.0  14.0    79       2\n",
       "265  19.2    8  267.0  125.0  3605.0  15.0    79       1\n",
       "266  33.0    4   91.0   53.0  1795.0  17.5    75       3\n",
       "\n",
       "[264 rows x 8 columns]"
      ]
     },
     "execution_count": 51,
     "metadata": {},
     "output_type": "execute_result"
    }
   ],
   "source": [
    "train.dropna(inplace=True)\n",
    "train"
   ]
  },
  {
   "cell_type": "code",
   "execution_count": 52,
   "id": "1646a5ae",
   "metadata": {
    "id": "aefdd12b"
   },
   "outputs": [],
   "source": [
    "val.dropna(inplace=True)\n",
    "test.dropna(inplace=True)"
   ]
  },
  {
   "cell_type": "markdown",
   "id": "f30169ce",
   "metadata": {
    "id": "b5678b51"
   },
   "source": [
    "### 3.4.3 Continuous Attributes\n",
    "\n",
    "![](https://raw.githubusercontent.com/dvgodoy/assets/main/PyTorchInPractice/images/ch0/data_step3.png)"
   ]
  },
  {
   "cell_type": "code",
   "execution_count": 53,
   "id": "a46aa497",
   "metadata": {
    "id": "3570ef1b"
   },
   "outputs": [],
   "source": [
    "cont_attr = ['mpg', 'disp', 'hp', 'weight', 'acc']"
   ]
  },
  {
   "cell_type": "code",
   "execution_count": 54,
   "id": "ec4b294a",
   "metadata": {
    "colab": {
     "base_uri": "https://localhost:8080/",
     "height": 507
    },
    "id": "6a3a8b25",
    "outputId": "2cc70054-3125-4ccc-d792-d2921976348d"
   },
   "outputs": [
    {
     "data": {
      "text/plain": [
       "array([[<AxesSubplot:title={'center':'disp'}>,\n",
       "        <AxesSubplot:title={'center':'hp'}>],\n",
       "       [<AxesSubplot:title={'center':'weight'}>,\n",
       "        <AxesSubplot:title={'center':'acc'}>]], dtype=object)"
      ]
     },
     "execution_count": 54,
     "metadata": {},
     "output_type": "execute_result"
    },
    {
     "data": {
      "image/png": "[encoded data removed]",
      "text/plain": [
       "<Figure size 640x480 with 4 Axes>"
      ]
     },
     "metadata": {},
     "output_type": "display_data"
    }
   ],
   "source": [
    "train_features = train[cont_attr[1:]]\n",
    "train_features.hist()"
   ]
  },
  {
   "cell_type": "code",
   "execution_count": 137,
   "id": "768cb351",
   "metadata": {
    "colab": {
     "base_uri": "https://localhost:8080/"
    },
    "id": "38e29db8",
    "outputId": "36878ad7-4bca-44e4-8ee0-554e744103b5"
   },
   "outputs": [
    {
     "data": {
      "text/plain": [
       "(disp       195.456439\n",
       " hp         105.087121\n",
       " weight    2984.075758\n",
       " acc         15.432955\n",
       " dtype: float64,\n",
       " disp      106.255830\n",
       " hp         39.017837\n",
       " weight    869.802063\n",
       " acc         2.743941\n",
       " dtype: float64)"
      ]
     },
     "execution_count": 137,
     "metadata": {},
     "output_type": "execute_result"
    }
   ],
   "source": [
    "train_means = train_features.mean()\n",
    "train_standard_deviations = train_features.std()\n",
    "train_means, train_standard_deviations"
   ]
  },
  {
   "cell_type": "code",
   "execution_count": 138,
   "id": "fb3af837",
   "metadata": {
    "colab": {
     "base_uri": "https://localhost:8080/"
    },
    "id": "56f780b4",
    "outputId": "4fa21d5c-6e68-4104-cf78-cb224bacc93e"
   },
   "outputs": [
    {
     "data": {
      "text/plain": [
       "(disp     -7.906134e-17\n",
       " hp       -2.010177e-16\n",
       " weight    6.308085e-17\n",
       " acc      -2.228857e-16\n",
       " dtype: float64,\n",
       " disp      1.0\n",
       " hp        1.0\n",
       " weight    1.0\n",
       " acc       1.0\n",
       " dtype: float64)"
      ]
     },
     "execution_count": 138,
     "metadata": {},
     "output_type": "execute_result"
    }
   ],
   "source": [
    "train_standardized_features = (train_features - train_means)/train_standard_deviations\n",
    "train_standardized_features.mean(), train_standardized_features.std()"
   ]
  },
  {
   "cell_type": "code",
   "execution_count": 129,
   "id": "c89c6e38",
   "metadata": {
    "colab": {
     "base_uri": "https://localhost:8080/",
     "height": 507
    },
    "id": "77b970f2",
    "outputId": "b6304871-3f6f-4c9c-a5c5-cc4691628be9"
   },
   "outputs": [
    {
     "data": {
      "text/plain": [
       "array([[<AxesSubplot:title={'center':'disp'}>,\n",
       "        <AxesSubplot:title={'center':'hp'}>],\n",
       "       [<AxesSubplot:title={'center':'weight'}>,\n",
       "        <AxesSubplot:title={'center':'acc'}>]], dtype=object)"
      ]
     },
     "execution_count": 129,
     "metadata": {},
     "output_type": "execute_result"
    },
    {
     "data": {
      "image/png": "[encoded data removed]",
      "text/plain": [
       "<Figure size 640x480 with 4 Axes>"
      ]
     },
     "metadata": {},
     "output_type": "display_data"
    }
   ],
   "source": [
    "train_standardized_features.hist()"
   ]
  },
  {
   "cell_type": "code",
   "execution_count": 130,
   "id": "5de76ce8",
   "metadata": {
    "colab": {
     "base_uri": "https://localhost:8080/"
    },
    "id": "24329539",
    "outputId": "86b43b15-c76f-4f7a-c368-951731263f23"
   },
   "outputs": [
    {
     "data": {
      "text/plain": [
       "(disp     -0.089282\n",
       " hp       -0.151349\n",
       " weight   -0.121501\n",
       " acc       0.139288\n",
       " dtype: float64,\n",
       " disp      0.946465\n",
       " hp        0.917051\n",
       " weight    0.918898\n",
       " acc       0.958077\n",
       " dtype: float64)"
      ]
     },
     "execution_count": 130,
     "metadata": {},
     "output_type": "execute_result"
    }
   ],
   "source": [
    "val_features = val[cont_attr[1:]]\n",
    "val_standardized_features = (val_features - train_means)/train_standard_deviations\n",
    "val_standardized_features.mean(), val_standardized_features.std()"
   ]
  },
  {
   "cell_type": "code",
   "execution_count": 131,
   "id": "1cebdc74",
   "metadata": {
    "id": "b78ada06"
   },
   "outputs": [],
   "source": [
    "test_features = test[cont_attr[1:]]\n",
    "test_standardized_features = (test_features - train_means)/train_standard_deviations"
   ]
  },
  {
   "cell_type": "code",
   "execution_count": 133,
   "id": "91b08922",
   "metadata": {},
   "outputs": [
    {
     "data": {
      "text/html": [
       "<style>#sk-container-id-4 {color: black;background-color: white;}#sk-container-id-4 pre{padding: 0;}#sk-container-id-4 div.sk-toggleable {background-color: white;}#sk-container-id-4 label.sk-toggleable__label {cursor: pointer;display: block;width: 100%;margin-bottom: 0;padding: 0.3em;box-sizing: border-box;text-align: center;}#sk-container-id-4 label.sk-toggleable__label-arrow:before {content: \"▸\";float: left;margin-right: 0.25em;color: #696969;}#sk-container-id-4 label.sk-toggleable__label-arrow:hover:before {color: black;}#sk-container-id-4 div.sk-estimator:hover label.sk-toggleable__label-arrow:before {color: black;}#sk-container-id-4 div.sk-toggleable__content {max-height: 0;max-width: 0;overflow: hidden;text-align: left;background-color: #f0f8ff;}#sk-container-id-4 div.sk-toggleable__content pre {margin: 0.2em;color: black;border-radius: 0.25em;background-color: #f0f8ff;}#sk-container-id-4 input.sk-toggleable__control:checked~div.sk-toggleable__content {max-height: 200px;max-width: 100%;overflow: auto;}#sk-container-id-4 input.sk-toggleable__control:checked~label.sk-toggleable__label-arrow:before {content: \"▾\";}#sk-container-id-4 div.sk-estimator input.sk-toggleable__control:checked~label.sk-toggleable__label {background-color: #d4ebff;}#sk-container-id-4 div.sk-label input.sk-toggleable__control:checked~label.sk-toggleable__label {background-color: #d4ebff;}#sk-container-id-4 input.sk-hidden--visually {border: 0;clip: rect(1px 1px 1px 1px);clip: rect(1px, 1px, 1px, 1px);height: 1px;margin: -1px;overflow: hidden;padding: 0;position: absolute;width: 1px;}#sk-container-id-4 div.sk-estimator {font-family: monospace;background-color: #f0f8ff;border: 1px dotted black;border-radius: 0.25em;box-sizing: border-box;margin-bottom: 0.5em;}#sk-container-id-4 div.sk-estimator:hover {background-color: #d4ebff;}#sk-container-id-4 div.sk-parallel-item::after {content: \"\";width: 100%;border-bottom: 1px solid gray;flex-grow: 1;}#sk-container-id-4 div.sk-label:hover label.sk-toggleable__label {background-color: #d4ebff;}#sk-container-id-4 div.sk-serial::before {content: \"\";position: absolute;border-left: 1px solid gray;box-sizing: border-box;top: 0;bottom: 0;left: 50%;z-index: 0;}#sk-container-id-4 div.sk-serial {display: flex;flex-direction: column;align-items: center;background-color: white;padding-right: 0.2em;padding-left: 0.2em;position: relative;}#sk-container-id-4 div.sk-item {position: relative;z-index: 1;}#sk-container-id-4 div.sk-parallel {display: flex;align-items: stretch;justify-content: center;background-color: white;position: relative;}#sk-container-id-4 div.sk-item::before, #sk-container-id-4 div.sk-parallel-item::before {content: \"\";position: absolute;border-left: 1px solid gray;box-sizing: border-box;top: 0;bottom: 0;left: 50%;z-index: -1;}#sk-container-id-4 div.sk-parallel-item {display: flex;flex-direction: column;z-index: 1;position: relative;background-color: white;}#sk-container-id-4 div.sk-parallel-item:first-child::after {align-self: flex-end;width: 50%;}#sk-container-id-4 div.sk-parallel-item:last-child::after {align-self: flex-start;width: 50%;}#sk-container-id-4 div.sk-parallel-item:only-child::after {width: 0;}#sk-container-id-4 div.sk-dashed-wrapped {border: 1px dashed gray;margin: 0 0.4em 0.5em 0.4em;box-sizing: border-box;padding-bottom: 0.4em;background-color: white;}#sk-container-id-4 div.sk-label label {font-family: monospace;font-weight: bold;display: inline-block;line-height: 1.2em;}#sk-container-id-4 div.sk-label-container {text-align: center;}#sk-container-id-4 div.sk-container {/* jupyter's `normalize.less` sets `[hidden] { display: none; }` but bootstrap.min.css set `[hidden] { display: none !important; }` so we also need the `!important` here to be able to override the default hidden behavior on the sphinx rendered scikit-learn.org. See: https://github.com/scikit-learn/scikit-learn/issues/21755 */display: inline-block !important;position: relative;}#sk-container-id-4 div.sk-text-repr-fallback {display: none;}</style><div id=\"sk-container-id-4\" class=\"sk-top-container\"><div class=\"sk-text-repr-fallback\"><pre>StandardScaler()</pre><b>In a Jupyter environment, please rerun this cell to show the HTML representation or trust the notebook. <br />On GitHub, the HTML representation is unable to render, please try loading this page with nbviewer.org.</b></div><div class=\"sk-container\" hidden><div class=\"sk-item\"><div class=\"sk-estimator sk-toggleable\"><input class=\"sk-toggleable__control sk-hidden--visually\" id=\"sk-estimator-id-4\" type=\"checkbox\" checked><label for=\"sk-estimator-id-4\" class=\"sk-toggleable__label sk-toggleable__label-arrow\">StandardScaler</label><div class=\"sk-toggleable__content\"><pre>StandardScaler()</pre></div></div></div></div></div>"
      ],
      "text/plain": [
       "StandardScaler()"
      ]
     },
     "execution_count": 133,
     "metadata": {},
     "output_type": "execute_result"
    }
   ],
   "source": [
    "from sklearn.preprocessing import StandardScaler\n",
    "\n",
    "scaler = StandardScaler()\n",
    "scaler.fit(train_features.values)"
   ]
  },
  {
   "cell_type": "code",
   "execution_count": 134,
   "id": "b5331a07",
   "metadata": {},
   "outputs": [
    {
     "data": {
      "text/plain": [
       "(array([ 195.45643939,  105.08712121, 2984.07575758,   15.43295455]),\n",
       " array([1.12475350e+04, 1.51662499e+03, 7.53689888e+05, 7.50069430e+00]))"
      ]
     },
     "execution_count": 134,
     "metadata": {},
     "output_type": "execute_result"
    }
   ],
   "source": [
    "scaler.mean_, scaler.var_"
   ]
  },
  {
   "cell_type": "code",
   "execution_count": null,
   "id": "f9563a66",
   "metadata": {},
   "outputs": [],
   "source": [
    "standardized_data = {}\n",
    "standardized_data['train'] = scaler.transform(train_features)\n",
    "standardized_data['val'] = scaler.transform(val_features)\n",
    "standardized_data['test'] = scaler.transform(test_features)"
   ]
  },
  {
   "cell_type": "code",
   "execution_count": 92,
   "id": "c84f95d4",
   "metadata": {
    "id": "49139e2b"
   },
   "outputs": [],
   "source": [
    "from sklearn.preprocessing import StandardScaler\n",
    "\n",
    "def standardize(df, cont_attr, scaler=None):\n",
    "    cont_X = df[cont_attr].values\n",
    "    if scaler is None:\n",
    "        scaler = StandardScaler()\n",
    "        scaler.fit(cont_X)\n",
    "    cont_X = scaler.transform(cont_X)\n",
    "    cont_X = torch.as_tensor(cont_X, dtype=torch.float32)\n",
    "    return cont_X, scaler"
   ]
  },
  {
   "cell_type": "code",
   "execution_count": 147,
   "id": "e17a132d",
   "metadata": {},
   "outputs": [],
   "source": [
    "standardized_data = {}\n",
    "# The training set is used to fit a scaler\n",
    "standardized_data['train'], scaler = standardize(train_features, cont_attr[1:])\n",
    "# The scaler is used as argument to the other datasets\n",
    "standardized_data['val'], _ = standardize(val_features, cont_attr[1:], scaler)\n",
    "standardized_data['test'], _ = standardize(test_features, cont_attr[1:], scaler)"
   ]
  },
  {
   "cell_type": "markdown",
   "id": "0213dbd1",
   "metadata": {
    "id": "02f97138"
   },
   "source": [
    "### 3.4.4 Discrete and Categorical Attributes\n",
    "\n",
    "![](https://raw.githubusercontent.com/dvgodoy/assets/main/PyTorchInPractice/images/ch0/data_step3.png)"
   ]
  },
  {
   "cell_type": "code",
   "execution_count": 100,
   "id": "cda6d8d1",
   "metadata": {
    "colab": {
     "base_uri": "https://localhost:8080/"
    },
    "id": "6f306496",
    "outputId": "60aa7157-a70d-46f9-a14b-796548155fd8"
   },
   "outputs": [
    {
     "data": {
      "text/plain": [
       "[3, 4, 5, 6, 8]"
      ]
     },
     "execution_count": 100,
     "metadata": {},
     "output_type": "execute_result"
    }
   ],
   "source": [
    "cyls = sorted(train['cyl'].unique())\n",
    "cyls"
   ]
  },
  {
   "cell_type": "code",
   "execution_count": 101,
   "id": "c258c4d7",
   "metadata": {
    "colab": {
     "base_uri": "https://localhost:8080/"
    },
    "id": "WBykgnjl1X3H",
    "outputId": "370de6f2-2cf2-4778-dc98-2af7c89b9ed0"
   },
   "outputs": [
    {
     "data": {
      "text/plain": [
       "{3: 0, 4: 1, 5: 2, 6: 3, 8: 4}"
      ]
     },
     "execution_count": 101,
     "metadata": {},
     "output_type": "execute_result"
    }
   ],
   "source": [
    "cyls_map = dict((v, i) for i, v in enumerate(cyls))\n",
    "cyls_map"
   ]
  },
  {
   "cell_type": "code",
   "execution_count": 102,
   "id": "d53774a2",
   "metadata": {
    "colab": {
     "base_uri": "https://localhost:8080/"
    },
    "id": "760f488a",
    "outputId": "8c12848f-97e3-498a-99b1-fd7093bc5912"
   },
   "outputs": [
    {
     "data": {
      "text/plain": [
       "tensor([[-1.2618, -1.9077,  1.7610, -0.3911, -1.5965, -1.5291,  0.9502, -1.2053],\n",
       "        [ 0.1047, -0.9880,  1.3985, -0.6481, -0.4341,  1.1003,  0.1651, -0.1110],\n",
       "        [ 1.0780,  0.7824,  1.3031,  0.8663, -2.1158, -0.9377,  0.4476,  0.2316],\n",
       "        [ 0.4744,  0.0755,  0.0135, -0.2144,  0.5333,  0.3019, -1.2415, -0.2738],\n",
       "        [ 0.0871,  0.8316, -0.5236,  1.4037, -1.0974, -0.6505, -3.6005,  1.4221]])"
      ]
     },
     "execution_count": 102,
     "metadata": {},
     "output_type": "execute_result"
    }
   ],
   "source": [
    "n_dim = 8\n",
    "lookup_table = torch.randn((len(cyls), n_dim))\n",
    "lookup_table"
   ]
  },
  {
   "cell_type": "code",
   "execution_count": 103,
   "id": "ca8b054c",
   "metadata": {
    "colab": {
     "base_uri": "https://localhost:8080/"
    },
    "id": "0c4e398a",
    "outputId": "f511a608-669d-4873-f08f-2a70a39e8cb2"
   },
   "outputs": [
    {
     "data": {
      "text/plain": [
       "tensor([ 0.4744,  0.0755,  0.0135, -0.2144,  0.5333,  0.3019, -1.2415, -0.2738])"
      ]
     },
     "execution_count": 103,
     "metadata": {},
     "output_type": "execute_result"
    }
   ],
   "source": [
    "idx = cyls_map[6]\n",
    "lookup_table[idx]"
   ]
  },
  {
   "cell_type": "code",
   "execution_count": 104,
   "id": "acf2b5ca",
   "metadata": {
    "colab": {
     "base_uri": "https://localhost:8080/"
    },
    "id": "a4d2cbf0",
    "outputId": "fee90919-0652-4b94-ef24-09ee63c2e2c8"
   },
   "outputs": [],
   "source": [
    "import torch.nn as nn\n",
    "\n",
    "emb_table = nn.Embedding(len(cyls), n_dim)"
   ]
  },
  {
   "cell_type": "code",
   "execution_count": 105,
   "id": "c9fac5e5",
   "metadata": {
    "colab": {
     "base_uri": "https://localhost:8080/"
    },
    "id": "4c50252b",
    "outputId": "a6e26207-daa4-4151-a18a-54fff66db535"
   },
   "outputs": [
    {
     "data": {
      "text/plain": [
       "tensor([[-0.4769,  1.5646,  0.3504,  1.2778,  0.3515, -0.2102, -1.0479, -0.1086]],\n",
       "       grad_fn=<EmbeddingBackward0>)"
      ]
     },
     "execution_count": 105,
     "metadata": {},
     "output_type": "execute_result"
    }
   ],
   "source": [
    "idx = cyls_map[6]\n",
    "emb_table(torch.as_tensor([idx]))"
   ]
  },
  {
   "cell_type": "code",
   "execution_count": 18,
   "id": "214e3158",
   "metadata": {
    "colab": {
     "base_uri": "https://localhost:8080/"
    },
    "id": "04c6bb23",
    "outputId": "1ee883be-637b-4e7d-f0b5-d76510c9cdaf"
   },
   "outputs": [
    {
     "data": {
      "text/plain": [
       "tensor([[1., 0., 0., 0., 0.],\n",
       "        [0., 1., 0., 0., 0.],\n",
       "        [0., 0., 1., 0., 0.],\n",
       "        [0., 0., 0., 1., 0.],\n",
       "        [0., 0., 0., 0., 1.]])"
      ]
     },
     "execution_count": 18,
     "metadata": {},
     "output_type": "execute_result"
    }
   ],
   "source": [
    "ohe_table = torch.eye(len(cyls))\n",
    "ohe_table"
   ]
  },
  {
   "cell_type": "code",
   "execution_count": 19,
   "id": "a9b2a6bc",
   "metadata": {
    "colab": {
     "base_uri": "https://localhost:8080/"
    },
    "id": "96644b4c",
    "outputId": "04634eec-93a8-4d11-cd7f-fabad78f2f42"
   },
   "outputs": [
    {
     "data": {
      "text/plain": [
       "tensor([0., 0., 0., 1., 0.])"
      ]
     },
     "execution_count": 19,
     "metadata": {},
     "output_type": "execute_result"
    }
   ],
   "source": [
    "idx = cyls_map[6]\n",
    "ohe_table[idx]"
   ]
  },
  {
   "cell_type": "code",
   "execution_count": 107,
   "id": "4b3b0dee",
   "metadata": {},
   "outputs": [
    {
     "data": {
      "text/html": [
       "<style>#sk-container-id-2 {color: black;background-color: white;}#sk-container-id-2 pre{padding: 0;}#sk-container-id-2 div.sk-toggleable {background-color: white;}#sk-container-id-2 label.sk-toggleable__label {cursor: pointer;display: block;width: 100%;margin-bottom: 0;padding: 0.3em;box-sizing: border-box;text-align: center;}#sk-container-id-2 label.sk-toggleable__label-arrow:before {content: \"▸\";float: left;margin-right: 0.25em;color: #696969;}#sk-container-id-2 label.sk-toggleable__label-arrow:hover:before {color: black;}#sk-container-id-2 div.sk-estimator:hover label.sk-toggleable__label-arrow:before {color: black;}#sk-container-id-2 div.sk-toggleable__content {max-height: 0;max-width: 0;overflow: hidden;text-align: left;background-color: #f0f8ff;}#sk-container-id-2 div.sk-toggleable__content pre {margin: 0.2em;color: black;border-radius: 0.25em;background-color: #f0f8ff;}#sk-container-id-2 input.sk-toggleable__control:checked~div.sk-toggleable__content {max-height: 200px;max-width: 100%;overflow: auto;}#sk-container-id-2 input.sk-toggleable__control:checked~label.sk-toggleable__label-arrow:before {content: \"▾\";}#sk-container-id-2 div.sk-estimator input.sk-toggleable__control:checked~label.sk-toggleable__label {background-color: #d4ebff;}#sk-container-id-2 div.sk-label input.sk-toggleable__control:checked~label.sk-toggleable__label {background-color: #d4ebff;}#sk-container-id-2 input.sk-hidden--visually {border: 0;clip: rect(1px 1px 1px 1px);clip: rect(1px, 1px, 1px, 1px);height: 1px;margin: -1px;overflow: hidden;padding: 0;position: absolute;width: 1px;}#sk-container-id-2 div.sk-estimator {font-family: monospace;background-color: #f0f8ff;border: 1px dotted black;border-radius: 0.25em;box-sizing: border-box;margin-bottom: 0.5em;}#sk-container-id-2 div.sk-estimator:hover {background-color: #d4ebff;}#sk-container-id-2 div.sk-parallel-item::after {content: \"\";width: 100%;border-bottom: 1px solid gray;flex-grow: 1;}#sk-container-id-2 div.sk-label:hover label.sk-toggleable__label {background-color: #d4ebff;}#sk-container-id-2 div.sk-serial::before {content: \"\";position: absolute;border-left: 1px solid gray;box-sizing: border-box;top: 0;bottom: 0;left: 50%;z-index: 0;}#sk-container-id-2 div.sk-serial {display: flex;flex-direction: column;align-items: center;background-color: white;padding-right: 0.2em;padding-left: 0.2em;position: relative;}#sk-container-id-2 div.sk-item {position: relative;z-index: 1;}#sk-container-id-2 div.sk-parallel {display: flex;align-items: stretch;justify-content: center;background-color: white;position: relative;}#sk-container-id-2 div.sk-item::before, #sk-container-id-2 div.sk-parallel-item::before {content: \"\";position: absolute;border-left: 1px solid gray;box-sizing: border-box;top: 0;bottom: 0;left: 50%;z-index: -1;}#sk-container-id-2 div.sk-parallel-item {display: flex;flex-direction: column;z-index: 1;position: relative;background-color: white;}#sk-container-id-2 div.sk-parallel-item:first-child::after {align-self: flex-end;width: 50%;}#sk-container-id-2 div.sk-parallel-item:last-child::after {align-self: flex-start;width: 50%;}#sk-container-id-2 div.sk-parallel-item:only-child::after {width: 0;}#sk-container-id-2 div.sk-dashed-wrapped {border: 1px dashed gray;margin: 0 0.4em 0.5em 0.4em;box-sizing: border-box;padding-bottom: 0.4em;background-color: white;}#sk-container-id-2 div.sk-label label {font-family: monospace;font-weight: bold;display: inline-block;line-height: 1.2em;}#sk-container-id-2 div.sk-label-container {text-align: center;}#sk-container-id-2 div.sk-container {/* jupyter's `normalize.less` sets `[hidden] { display: none; }` but bootstrap.min.css set `[hidden] { display: none !important; }` so we also need the `!important` here to be able to override the default hidden behavior on the sphinx rendered scikit-learn.org. See: https://github.com/scikit-learn/scikit-learn/issues/21755 */display: inline-block !important;position: relative;}#sk-container-id-2 div.sk-text-repr-fallback {display: none;}</style><div id=\"sk-container-id-2\" class=\"sk-top-container\"><div class=\"sk-text-repr-fallback\"><pre>OrdinalEncoder()</pre><b>In a Jupyter environment, please rerun this cell to show the HTML representation or trust the notebook. <br />On GitHub, the HTML representation is unable to render, please try loading this page with nbviewer.org.</b></div><div class=\"sk-container\" hidden><div class=\"sk-item\"><div class=\"sk-estimator sk-toggleable\"><input class=\"sk-toggleable__control sk-hidden--visually\" id=\"sk-estimator-id-2\" type=\"checkbox\" checked><label for=\"sk-estimator-id-2\" class=\"sk-toggleable__label sk-toggleable__label-arrow\">OrdinalEncoder</label><div class=\"sk-toggleable__content\"><pre>OrdinalEncoder()</pre></div></div></div></div></div>"
      ],
      "text/plain": [
       "OrdinalEncoder()"
      ]
     },
     "execution_count": 107,
     "metadata": {},
     "output_type": "execute_result"
    }
   ],
   "source": [
    "from sklearn.preprocessing import OrdinalEncoder\n",
    "disc_attr = ['cyl', 'year', 'origin']\n",
    "\n",
    "encoder = OrdinalEncoder()\n",
    "encoder.fit(train[disc_attr])"
   ]
  },
  {
   "cell_type": "code",
   "execution_count": 115,
   "id": "6d988437",
   "metadata": {},
   "outputs": [
    {
     "data": {
      "text/plain": [
       "[array([3, 4, 5, 6, 8]),\n",
       " array([70, 71, 72, 73, 74, 75, 76, 77, 78, 79, 80, 81, 82]),\n",
       " array([1, 2, 3])]"
      ]
     },
     "execution_count": 115,
     "metadata": {},
     "output_type": "execute_result"
    }
   ],
   "source": [
    "encoder.categories_"
   ]
  },
  {
   "cell_type": "code",
   "execution_count": 116,
   "id": "8a54fd24",
   "metadata": {},
   "outputs": [
    {
     "data": {
      "text/plain": [
       "array([[ 3.,  5.,  0.],\n",
       "       [ 1., 11.,  1.],\n",
       "       [ 4.,  8.,  0.],\n",
       "       [ 2.,  8.,  1.],\n",
       "       [ 3.,  9.,  0.]])"
      ]
     },
     "execution_count": 116,
     "metadata": {},
     "output_type": "execute_result"
    }
   ],
   "source": [
    "train_cat_features = encoder.transform(train[disc_attr])\n",
    "train_cat_features[:5]"
   ]
  },
  {
   "cell_type": "code",
   "execution_count": 119,
   "id": "c94514f4",
   "metadata": {},
   "outputs": [
    {
     "data": {
      "text/plain": [
       "cyl        6\n",
       "year      75\n",
       "origin     1\n",
       "Name: 0, dtype: int64"
      ]
     },
     "execution_count": 119,
     "metadata": {},
     "output_type": "execute_result"
    }
   ],
   "source": [
    "train[disc_attr].iloc[0]"
   ]
  },
  {
   "cell_type": "code",
   "execution_count": 120,
   "id": "307784bf",
   "metadata": {},
   "outputs": [],
   "source": [
    "def encode(df, cat_attr, encoder=None):\n",
    "    cat_X = df[cat_attr].values\n",
    "    if encoder is None:\n",
    "        encoder = OrdinalEncoder()\n",
    "        encoder.fit(cat_X)\n",
    "    cat_X = encoder.transform(cat_X)\n",
    "    cat_X = torch.as_tensor(cat_X, dtype=torch.int)\n",
    "    return cat_X, encoder"
   ]
  },
  {
   "cell_type": "code",
   "execution_count": 139,
   "id": "3e5f61ec",
   "metadata": {},
   "outputs": [],
   "source": [
    "cat_data = {}\n",
    "cat_data['train'], encoder = encode(train, disc_attr)\n",
    "cat_data['val'], _ = encode(val, disc_attr, encoder)\n",
    "cat_data['test'], _ = encode(test, disc_attr, encoder)"
   ]
  },
  {
   "cell_type": "code",
   "execution_count": 140,
   "id": "73d1e6ee",
   "metadata": {},
   "outputs": [
    {
     "data": {
      "text/plain": [
       "tensor([[-0.4769,  1.5646,  0.3504,  ..., -0.2102, -1.0479, -0.1086],\n",
       "        [-0.9817,  0.6691, -1.2592,  ...,  0.7360, -0.6424, -0.2296],\n",
       "        [-0.2308, -0.3758, -1.1912,  ..., -0.7704,  0.2638, -1.4867],\n",
       "        ...,\n",
       "        [-0.9817,  0.6691, -1.2592,  ...,  0.7360, -0.6424, -0.2296],\n",
       "        [-0.2308, -0.3758, -1.1912,  ..., -0.7704,  0.2638, -1.4867],\n",
       "        [-0.9817,  0.6691, -1.2592,  ...,  0.7360, -0.6424, -0.2296]],\n",
       "       grad_fn=<EmbeddingBackward0>)"
      ]
     },
     "execution_count": 140,
     "metadata": {},
     "output_type": "execute_result"
    }
   ],
   "source": [
    "emb_table(cat_data['train'][:, 0]) # cylinders is the first (zero) column"
   ]
  },
  {
   "cell_type": "markdown",
   "id": "9178700f",
   "metadata": {
    "id": "c1bdcb41"
   },
   "source": [
    "### 3.4.5 Target and Task"
   ]
  },
  {
   "cell_type": "code",
   "execution_count": 164,
   "id": "8d005a11",
   "metadata": {
    "colab": {
     "base_uri": "https://localhost:8080/"
    },
    "id": "18e07528",
    "outputId": "1a6bf7c1-c591-4e29-c5c6-3b35d7ad3b2e"
   },
   "outputs": [
    {
     "data": {
      "text/plain": [
       "(tensor([[18.0000],\n",
       "         [28.1000],\n",
       "         [19.4000],\n",
       "         [20.3000],\n",
       "         [20.2000]]),\n",
       " tensor([[-8.7263e-05],\n",
       "         [ 2.8327e-01],\n",
       "         [ 8.6497e-01],\n",
       "         [-1.7748e-01],\n",
       "         [ 3.2359e-01]]))"
      ]
     },
     "execution_count": 164,
     "metadata": {},
     "output_type": "execute_result"
    }
   ],
   "source": [
    "# _pt stands for PyTorch, in case you're wondering :-)\n",
    "hp_idx = cont_attr.index('hp')\n",
    "\n",
    "train_target_pt = torch.as_tensor(train[['mpg']].values, dtype=torch.float32)\n",
    "train_single_feature_pt = standardized_data['train'][:, [hp_idx]]\n",
    "train_target_pt[:5], train_single_feature_pt[:5]"
   ]
  },
  {
   "cell_type": "code",
   "execution_count": 158,
   "id": "a04f6578",
   "metadata": {
    "colab": {
     "base_uri": "https://localhost:8080/",
     "height": 490
    },
    "id": "81395661",
    "outputId": "ff2b8856-b952-4b68-f399-16c6edb452ff"
   },
   "outputs": [
    {
     "data": {
      "text/plain": [
       "Text(0.5, 1.0, 'Training Set - HP x MPG')"
      ]
     },
     "execution_count": 158,
     "metadata": {},
     "output_type": "execute_result"
    },
    {
     "data": {
      "image/png": "[encoded data removed]",
      "text/plain": [
       "<Figure size 640x480 with 1 Axes>"
      ]
     },
     "metadata": {},
     "output_type": "display_data"
    }
   ],
   "source": [
    "import matplotlib.pyplot as plt\n",
    "plt.scatter(train_single_feature_pt, train_target_pt)\n",
    "plt.xlabel('Horsepower (standardized)')\n",
    "plt.ylabel('Fuel Consumption - miles per gallon')\n",
    "plt.title('Training Set - HP x MPG')"
   ]
  },
  {
   "cell_type": "markdown",
   "id": "51bdd756",
   "metadata": {
    "id": "7a1ff52b"
   },
   "source": [
    "### 3.4.6 TensorDataset\n",
    "\n",
    "![](https://raw.githubusercontent.com/dvgodoy/assets/main/PyTorchInPractice/images/ch0/data_step4.png)\n",
    "\n",
    "<span style=\"color:red\">"
   ]
  },
  {
   "cell_type": "code",
   "execution_count": 161,
   "id": "bbe21aa9",
   "metadata": {
    "id": "0fd05c07"
   },
   "outputs": [],
   "source": [
    "from torch.utils.data import TensorDataset\n",
    "\n",
    "train_ds = TensorDataset(train_single_feature_pt, train_target_pt)"
   ]
  },
  {
   "cell_type": "code",
   "execution_count": 162,
   "id": "b0dfc9a0",
   "metadata": {
    "colab": {
     "base_uri": "https://localhost:8080/"
    },
    "id": "4f356e74",
    "outputId": "bfab59e2-d4f8-441c-a2bc-57791426021a"
   },
   "outputs": [
    {
     "data": {
      "text/plain": [
       "(tensor([[-8.7263e-05],\n",
       "         [ 2.8327e-01],\n",
       "         [ 8.6497e-01],\n",
       "         [-1.7748e-01],\n",
       "         [ 3.2359e-01]]),\n",
       " tensor([[18.0000],\n",
       "         [28.1000],\n",
       "         [19.4000],\n",
       "         [20.3000],\n",
       "         [20.2000]]))"
      ]
     },
     "execution_count": 162,
     "metadata": {},
     "output_type": "execute_result"
    }
   ],
   "source": [
    "train_ds[:5]"
   ]
  },
  {
   "cell_type": "code",
   "execution_count": 165,
   "id": "3749fb26",
   "metadata": {
    "id": "c4336386"
   },
   "outputs": [],
   "source": [
    "val_ds = TensorDataset(standardized_data['val'][:, [hp_idx]], \n",
    "                       torch.as_tensor(val[['mpg']].values, dtype=torch.float32))\n",
    "\n",
    "test_ds = TensorDataset(standardized_data['test'][:, [hp_idx]], \n",
    "                        torch.as_tensor(test[['mpg']].values, dtype=torch.float32))"
   ]
  },
  {
   "cell_type": "markdown",
   "id": "38d48dbd",
   "metadata": {
    "id": "a8979e48"
   },
   "source": [
    "## 3.5 DataLoaders\n",
    "\n",
    "![](https://raw.githubusercontent.com/dvgodoy/assets/main/PyTorchInPractice/images/ch0/data_step5.png)"
   ]
  },
  {
   "cell_type": "code",
   "execution_count": 166,
   "id": "a7ad28a5",
   "metadata": {
    "colab": {
     "base_uri": "https://localhost:8080/"
    },
    "id": "3cd0889c",
    "outputId": "93cc8500-1cb1-405f-cc21-c4d35ec76eda"
   },
   "outputs": [
    {
     "data": {
      "text/plain": [
       "<torch._C.Generator at 0x7f7aca4e7730>"
      ]
     },
     "execution_count": 166,
     "metadata": {},
     "output_type": "execute_result"
    }
   ],
   "source": [
    "from torch.utils.data import DataLoader\n",
    "\n",
    "generator = torch.Generator()\n",
    "train_loader = DataLoader(dataset=train_ds, batch_size=32, drop_last=True, shuffle=True, generator=generator)\n",
    "\n",
    "# Sets the seed of the sampler's generator\n",
    "train_loader.sampler.generator.manual_seed(13)"
   ]
  },
  {
   "cell_type": "code",
   "execution_count": 167,
   "id": "d7bececd",
   "metadata": {
    "colab": {
     "base_uri": "https://localhost:8080/"
    },
    "id": "f6968285",
    "outputId": "2cda3060-781f-42fa-f1af-7941bc42da04"
   },
   "outputs": [
    {
     "data": {
      "text/plain": [
       "(tensor([[-1.1450],\n",
       "         [ 0.5136],\n",
       "         [-0.9550],\n",
       "         [-0.4631],\n",
       "         [-0.8410],\n",
       "         [ 1.4110],\n",
       "         [-1.1704],\n",
       "         [ 2.2702],\n",
       "         [-0.9838],\n",
       "         [ 0.7244],\n",
       "         [-0.4747],\n",
       "         [-0.6901],\n",
       "         [-1.2867],\n",
       "         [ 1.6563],\n",
       "         [-0.3733],\n",
       "         [-0.9895],\n",
       "         [ 1.7047],\n",
       "         [ 0.7924],\n",
       "         [-0.6785],\n",
       "         [ 2.2656],\n",
       "         [-1.1623],\n",
       "         [-1.2061],\n",
       "         [-0.0450],\n",
       "         [ 1.6966],\n",
       "         [-0.4597],\n",
       "         [-0.0393],\n",
       "         [-1.3697],\n",
       "         [-0.3042],\n",
       "         [-0.1337],\n",
       "         [-0.5403],\n",
       "         [-0.3871],\n",
       "         [ 1.1184]]),\n",
       " tensor([[32.0000],\n",
       "         [20.5000],\n",
       "         [30.0000],\n",
       "         [20.0000],\n",
       "         [23.0000],\n",
       "         [14.0000],\n",
       "         [38.1000],\n",
       "         [12.0000],\n",
       "         [37.3000],\n",
       "         [18.0000],\n",
       "         [25.0000],\n",
       "         [30.0000],\n",
       "         [29.0000],\n",
       "         [13.0000],\n",
       "         [24.0000],\n",
       "         [36.0000],\n",
       "         [13.0000],\n",
       "         [17.0000],\n",
       "         [22.0000],\n",
       "         [12.0000],\n",
       "         [34.1000],\n",
       "         [29.0000],\n",
       "         [22.0000],\n",
       "         [14.0000],\n",
       "         [26.0000],\n",
       "         [36.4000],\n",
       "         [33.0000],\n",
       "         [31.0000],\n",
       "         [19.0000],\n",
       "         [21.1000],\n",
       "         [21.0000],\n",
       "         [16.5000]]))"
      ]
     },
     "execution_count": 167,
     "metadata": {},
     "output_type": "execute_result"
    }
   ],
   "source": [
    "batch_features, batch_targets = next(iter(train_loader))\n",
    "batch_features, batch_targets"
   ]
  },
  {
   "cell_type": "code",
   "execution_count": 73,
   "id": "e3092a35",
   "metadata": {
    "id": "5f785c71"
   },
   "outputs": [],
   "source": [
    "val_loader = DataLoader(dataset=val_ds, batch_size=32, drop_last=True)\n",
    "test_loader = DataLoader(dataset=test_ds, batch_size=32, drop_last=True)"
   ]
  }
 ],
 "metadata": {
  "accelerator": "GPU",
  "colab": {
   "provenance": []
  },
  "gpuClass": "standard",
  "kernelspec": {
   "display_name": "Python 3 (ipykernel)",
   "language": "python",
   "name": "python3"
  },
  "language_info": {
   "codemirror_mode": {
    "name": "ipython",
    "version": 3
   },
   "file_extension": ".py",
   "mimetype": "text/x-python",
   "name": "python",
   "nbconvert_exporter": "python",
   "pygments_lexer": "ipython3",
   "version": "3.9.12"
  }
 },
 "nbformat": 4,
 "nbformat_minor": 5
}
