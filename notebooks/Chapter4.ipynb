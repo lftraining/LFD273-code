{
 "cells": [
  {
   "cell_type": "markdown",
   "id": "95a2de38",
   "metadata": {
    "id": "dbf7e139"
   },
   "source": [
    "# Chapter 4: Training Your First Model"
   ]
  },
  {
   "cell_type": "code",
   "execution_count": 1,
   "id": "3e72c076",
   "metadata": {
    "colab": {
     "base_uri": "https://localhost:8080/",
     "height": 424
    },
    "id": "19806f07",
    "outputId": "fde4c269-0342-416f-9b6b-b067e8428958"
   },
   "outputs": [],
   "source": [
    "import torch\n",
    "import pandas as pd\n",
    "import matplotlib.pyplot as plt\n",
    "from sklearn.model_selection import train_test_split\n",
    "\n",
    "url = 'http://archive.ics.uci.edu/ml/machine-learning-databases/auto-mpg/auto-mpg.data'\n",
    "column_names = ['mpg', 'cyl', 'disp', 'hp', 'weight', 'acc', 'year', 'origin']\n",
    "\n",
    "df = pd.read_csv(url, names=column_names, na_values='?', comment='\\t', sep=' ', skipinitialspace=True)\n",
    "\n",
    "shuffled = df.sample(frac=1, random_state=1).reset_index(drop=True)\n",
    "trainval, test = train_test_split(shuffled, test_size=0.16, shuffle=False)\n",
    "train, val = train_test_split(trainval, test_size=0.2, shuffle=False)"
   ]
  },
  {
   "cell_type": "markdown",
   "id": "bfd29a03",
   "metadata": {},
   "source": [
    "![](https://raw.githubusercontent.com/dvgodoy/assets/main/PyTorchInPractice/images/ch0/data_step2.png)"
   ]
  },
  {
   "cell_type": "code",
   "execution_count": 2,
   "id": "591accd4",
   "metadata": {
    "colab": {
     "base_uri": "https://localhost:8080/",
     "height": 424
    },
    "id": "4108b0d8",
    "outputId": "c1600eaa-e80b-4ca0-bcf0-78b4a38803af"
   },
   "outputs": [],
   "source": [
    "train.dropna(inplace=True)\n",
    "val.dropna(inplace=True)\n",
    "test.dropna(inplace=True)"
   ]
  },
  {
   "cell_type": "markdown",
   "id": "309809bb",
   "metadata": {},
   "source": [
    "![](https://raw.githubusercontent.com/dvgodoy/assets/main/PyTorchInPractice/images/ch0/data_step3.png)"
   ]
  },
  {
   "cell_type": "code",
   "execution_count": 3,
   "id": "1e0d4a56",
   "metadata": {
    "id": "3570ef1b"
   },
   "outputs": [],
   "source": [
    "cont_attr = ['mpg', 'disp', 'hp', 'weight', 'acc']\n",
    "disc_attr = ['cyl', 'year', 'origin']\n",
    "\n",
    "train_features = train[cont_attr[1:]]\n",
    "val_features = val[cont_attr[1:]]\n",
    "test_features = test[cont_attr[1:]]"
   ]
  },
  {
   "cell_type": "code",
   "execution_count": 4,
   "id": "f5885022",
   "metadata": {},
   "outputs": [],
   "source": [
    "from sklearn.preprocessing import StandardScaler\n",
    "\n",
    "def standardize(df, cont_attr, scaler=None):\n",
    "    cont_X = df[cont_attr].values\n",
    "    if scaler is None:\n",
    "        scaler = StandardScaler()\n",
    "        scaler.fit(cont_X)\n",
    "    cont_X = scaler.transform(cont_X)\n",
    "    cont_X = torch.as_tensor(cont_X, dtype=torch.float32)\n",
    "    return cont_X, scaler\n",
    "\n",
    "standardized_data = {}\n",
    "# The training set is used to fit a scaler\n",
    "standardized_data['train'], scaler = standardize(train_features, cont_attr[1:])\n",
    "# The scaler is used as argument to the other datasets\n",
    "standardized_data['val'], _ = standardize(val_features, cont_attr[1:], scaler)\n",
    "standardized_data['test'], _ = standardize(test_features, cont_attr[1:], scaler)"
   ]
  },
  {
   "cell_type": "markdown",
   "id": "451522ac",
   "metadata": {},
   "source": [
    "![](https://raw.githubusercontent.com/dvgodoy/assets/main/PyTorchInPractice/images/ch0/data_step4.png)"
   ]
  },
  {
   "cell_type": "code",
   "execution_count": 5,
   "id": "0787d24e",
   "metadata": {},
   "outputs": [],
   "source": [
    "from torch.utils.data import TensorDataset\n",
    "\n",
    "hp_idx = cont_attr.index('hp')\n",
    "\n",
    "train_ds = TensorDataset(standardized_data['train'][:, [hp_idx]], \n",
    "                       torch.as_tensor(train[['mpg']].values, dtype=torch.float32))\n",
    "\n",
    "val_ds = TensorDataset(standardized_data['val'][:, [hp_idx]], \n",
    "                       torch.as_tensor(val[['mpg']].values, dtype=torch.float32))\n",
    "\n",
    "test_ds = TensorDataset(standardized_data['test'][:, [hp_idx]], \n",
    "                        torch.as_tensor(test[['mpg']].values, dtype=torch.float32))"
   ]
  },
  {
   "cell_type": "markdown",
   "id": "d6c60c2d",
   "metadata": {},
   "source": [
    "![](https://raw.githubusercontent.com/dvgodoy/assets/main/PyTorchInPractice/images/ch0/data_step5.png)"
   ]
  },
  {
   "cell_type": "code",
   "execution_count": 6,
   "id": "87a56163",
   "metadata": {
    "colab": {
     "base_uri": "https://localhost:8080/"
    },
    "id": "3cd0889c",
    "outputId": "93cc8500-1cb1-405f-cc21-c4d35ec76eda"
   },
   "outputs": [
    {
     "data": {
      "text/plain": [
       "<torch._C.Generator at 0x7ff8eb54c170>"
      ]
     },
     "execution_count": 6,
     "metadata": {},
     "output_type": "execute_result"
    }
   ],
   "source": [
    "from torch.utils.data import DataLoader\n",
    "\n",
    "generator = torch.Generator()\n",
    "train_loader = DataLoader(dataset=train_ds, batch_size=32, drop_last=True, shuffle=True, generator=generator)\n",
    "val_loader = DataLoader(dataset=val_ds, batch_size=32, drop_last=True)\n",
    "test_loader = DataLoader(dataset=test_ds, batch_size=32, drop_last=True)\n",
    "\n",
    "# Sets the seed of the sampler's generator\n",
    "train_loader.sampler.generator.manual_seed(13)"
   ]
  },
  {
   "cell_type": "code",
   "execution_count": 7,
   "id": "60dc8b61",
   "metadata": {
    "colab": {
     "base_uri": "https://localhost:8080/"
    },
    "id": "f6968285",
    "outputId": "2cda3060-781f-42fa-f1af-7941bc42da04"
   },
   "outputs": [],
   "source": [
    "batch_features, batch_targets = next(iter(train_loader))"
   ]
  },
  {
   "cell_type": "markdown",
   "id": "ae59f992",
   "metadata": {
    "id": "58ac16b3"
   },
   "source": [
    "## 4.4 Models\n",
    "\n",
    "![](https://raw.githubusercontent.com/dvgodoy/assets/main/PyTorchInPractice/images/ch0/model_step1.png)"
   ]
  },
  {
   "cell_type": "code",
   "execution_count": 8,
   "id": "953a587a",
   "metadata": {
    "colab": {
     "base_uri": "https://localhost:8080/"
    },
    "id": "7d120dc4",
    "outputId": "5075a62f-6b69-4909-e015-073a42882528"
   },
   "outputs": [
    {
     "data": {
      "text/plain": [
       "Linear(in_features=1, out_features=1, bias=True)"
      ]
     },
     "execution_count": 8,
     "metadata": {},
     "output_type": "execute_result"
    }
   ],
   "source": [
    "import torch.nn as nn\n",
    "\n",
    "torch.manual_seed(13)\n",
    "linear = nn.Linear(in_features=1, out_features=1, bias=True)\n",
    "linear"
   ]
  },
  {
   "cell_type": "markdown",
   "id": "e542f58d",
   "metadata": {
    "id": "560957a0"
   },
   "source": [
    "![](https://raw.githubusercontent.com/dvgodoy/assets/main/PyTorchInPractice/images/ch2/linear.png)"
   ]
  },
  {
   "cell_type": "markdown",
   "id": "e570f829",
   "metadata": {
    "id": "4c99f8b6"
   },
   "source": [
    "### 4.4.1 `state_dict()`\n"
   ]
  },
  {
   "cell_type": "code",
   "execution_count": 9,
   "id": "6e4f1902",
   "metadata": {
    "colab": {
     "base_uri": "https://localhost:8080/"
    },
    "id": "487355ce",
    "outputId": "2cb7d246-cfb8-4850-c250-b7a31126ae40"
   },
   "outputs": [
    {
     "data": {
      "text/plain": [
       "OrderedDict([('weight', tensor([[-0.8164]])), ('bias', tensor([-0.0412]))])"
      ]
     },
     "execution_count": 9,
     "metadata": {},
     "output_type": "execute_result"
    }
   ],
   "source": [
    "linear.state_dict()"
   ]
  },
  {
   "cell_type": "code",
   "execution_count": 10,
   "id": "a351b936",
   "metadata": {
    "colab": {
     "base_uri": "https://localhost:8080/"
    },
    "id": "e99a5c7c",
    "outputId": "93ced0e6-cc31-48bc-b338-6482492e5f05"
   },
   "outputs": [
    {
     "data": {
      "text/plain": [
       "(Parameter containing:\n",
       " tensor([[-0.8164]], requires_grad=True),\n",
       " Parameter containing:\n",
       " tensor([-0.0412], requires_grad=True))"
      ]
     },
     "execution_count": 10,
     "metadata": {},
     "output_type": "execute_result"
    }
   ],
   "source": [
    "linear.weight, linear.bias"
   ]
  },
  {
   "cell_type": "code",
   "execution_count": 11,
   "id": "e864fbbb",
   "metadata": {
    "colab": {
     "base_uri": "https://localhost:8080/"
    },
    "id": "a299fcb9",
    "outputId": "ec718463-e704-418a-ee0e-84a7929eb699"
   },
   "outputs": [
    {
     "data": {
      "text/plain": [
       "[Parameter containing:\n",
       " tensor([[-0.8164]], requires_grad=True),\n",
       " Parameter containing:\n",
       " tensor([-0.0412], requires_grad=True)]"
      ]
     },
     "execution_count": 11,
     "metadata": {},
     "output_type": "execute_result"
    }
   ],
   "source": [
    "list(linear.parameters())"
   ]
  },
  {
   "cell_type": "markdown",
   "id": "dd1508bd",
   "metadata": {
    "id": "2ca8d8f9"
   },
   "source": [
    "### 4.4.3 Sequential Models"
   ]
  },
  {
   "cell_type": "code",
   "execution_count": 12,
   "id": "6d03c006",
   "metadata": {
    "colab": {
     "base_uri": "https://localhost:8080/"
    },
    "id": "e5dc7d4d",
    "outputId": "9891f191-0ce0-4805-92f9-922b839a5ab8"
   },
   "outputs": [
    {
     "data": {
      "text/plain": [
       "Sequential()"
      ]
     },
     "execution_count": 12,
     "metadata": {},
     "output_type": "execute_result"
    }
   ],
   "source": [
    "model = nn.Sequential()\n",
    "model"
   ]
  },
  {
   "cell_type": "code",
   "execution_count": 13,
   "id": "3f12877e",
   "metadata": {
    "id": "6b8ee634"
   },
   "outputs": [],
   "source": [
    "model.add_module('layer1', linear)"
   ]
  },
  {
   "cell_type": "code",
   "execution_count": 14,
   "id": "c1128023",
   "metadata": {
    "colab": {
     "base_uri": "https://localhost:8080/"
    },
    "id": "67cba183",
    "outputId": "a827fdf3-811f-4348-ff91-a5220e7173d8"
   },
   "outputs": [
    {
     "data": {
      "text/plain": [
       "OrderedDict([('layer1.weight', tensor([[-0.8164]])),\n",
       "             ('layer1.bias', tensor([-0.0412]))])"
      ]
     },
     "execution_count": 14,
     "metadata": {},
     "output_type": "execute_result"
    }
   ],
   "source": [
    "model.state_dict()"
   ]
  },
  {
   "cell_type": "code",
   "execution_count": 15,
   "id": "96c958e6",
   "metadata": {
    "colab": {
     "base_uri": "https://localhost:8080/"
    },
    "id": "aad3e2bb",
    "outputId": "55013921-f47b-44c6-c0a4-1802ac833775"
   },
   "outputs": [
    {
     "data": {
      "text/plain": [
       "[Parameter containing:\n",
       " tensor([[-0.8164]], requires_grad=True),\n",
       " Parameter containing:\n",
       " tensor([-0.0412], requires_grad=True)]"
      ]
     },
     "execution_count": 15,
     "metadata": {},
     "output_type": "execute_result"
    }
   ],
   "source": [
    "list(model.parameters())"
   ]
  },
  {
   "cell_type": "markdown",
   "id": "46ac6252",
   "metadata": {
    "id": "08131c3b"
   },
   "source": [
    "![](https://raw.githubusercontent.com/dvgodoy/assets/main/PyTorchInPractice/images/ch2/layers.png)"
   ]
  },
  {
   "cell_type": "markdown",
   "id": "be632797",
   "metadata": {
    "id": "de458565"
   },
   "source": [
    "### 4.4.4 Making Predictions - The Forward Pass"
   ]
  },
  {
   "cell_type": "code",
   "execution_count": 18,
   "id": "1638a550",
   "metadata": {
    "colab": {
     "base_uri": "https://localhost:8080/"
    },
    "id": "50740939",
    "outputId": "72f293bf-e25b-4e8b-8d73-1d1df9b821bf",
    "scrolled": false
   },
   "outputs": [
    {
     "data": {
      "text/plain": [
       "tensor([[ 0.8935],\n",
       "        [-0.4606],\n",
       "        [ 0.7384],\n",
       "        [ 0.3369],\n",
       "        [ 0.6453],\n",
       "        [-1.1931],\n",
       "        [ 0.9142],\n",
       "        [-1.8946],\n",
       "        [ 0.7619],\n",
       "        [-0.6326],\n",
       "        [ 0.3463],\n",
       "        [ 0.5221],\n",
       "        [ 1.0092],\n",
       "        [-1.3934],\n",
       "        [ 0.2635],\n",
       "        [ 0.7666],\n",
       "        [-1.4329],\n",
       "        [-0.6881],\n",
       "        [ 0.5127],\n",
       "        [-1.8908],\n",
       "        [ 0.9076],\n",
       "        [ 0.9434],\n",
       "        [-0.0045],\n",
       "        [-1.4263],\n",
       "        [ 0.3340],\n",
       "        [-0.0092],\n",
       "        [ 1.0769],\n",
       "        [ 0.2071],\n",
       "        [ 0.0679],\n",
       "        [ 0.3999],\n",
       "        [ 0.2748],\n",
       "        [-0.9542]], grad_fn=<AddmmBackward0>)"
      ]
     },
     "execution_count": 18,
     "metadata": {},
     "output_type": "execute_result"
    }
   ],
   "source": [
    "bad_predictions = model(batch_features)\n",
    "bad_predictions"
   ]
  },
  {
   "cell_type": "markdown",
   "id": "65bb5832",
   "metadata": {
    "id": "03aced3a"
   },
   "source": [
    "## 4.5 Loss Functions\n",
    "\n",
    "![](https://raw.githubusercontent.com/dvgodoy/assets/main/PyTorchInPractice/images/ch0/model_step2.png)"
   ]
  },
  {
   "cell_type": "code",
   "execution_count": 20,
   "id": "368f0b52",
   "metadata": {
    "colab": {
     "base_uri": "https://localhost:8080/"
    },
    "id": "d753a94f",
    "outputId": "b62036b7-3202-4134-d577-21d97fd02403"
   },
   "outputs": [
    {
     "data": {
      "text/plain": [
       "tensor([[-31.1065],\n",
       "        [-20.9606],\n",
       "        [-29.2616],\n",
       "        [-19.6631],\n",
       "        [-22.3547],\n",
       "        [-15.1931],\n",
       "        [-37.1858],\n",
       "        [-13.8946],\n",
       "        [-36.5381],\n",
       "        [-18.6326],\n",
       "        [-24.6537],\n",
       "        [-29.4779],\n",
       "        [-27.9908],\n",
       "        [-14.3934],\n",
       "        [-23.7365],\n",
       "        [-35.2334],\n",
       "        [-14.4329],\n",
       "        [-17.6881],\n",
       "        [-21.4873],\n",
       "        [-13.8908],\n",
       "        [-33.1924],\n",
       "        [-28.0566],\n",
       "        [-22.0045],\n",
       "        [-15.4263],\n",
       "        [-25.6660],\n",
       "        [-36.4092],\n",
       "        [-31.9231],\n",
       "        [-30.7929],\n",
       "        [-18.9321],\n",
       "        [-20.7001],\n",
       "        [-20.7252],\n",
       "        [-17.4542]], grad_fn=<SubBackward0>)"
      ]
     },
     "execution_count": 20,
     "metadata": {},
     "output_type": "execute_result"
    }
   ],
   "source": [
    "error = bad_predictions - batch_targets\n",
    "error"
   ]
  },
  {
   "cell_type": "code",
   "execution_count": 21,
   "id": "07afa915",
   "metadata": {
    "colab": {
     "base_uri": "https://localhost:8080/"
    },
    "id": "bfc25c1a",
    "outputId": "622e92a1-d43d-4058-92a7-ee481f0bf006"
   },
   "outputs": [
    {
     "data": {
      "text/plain": [
       "tensor(630.3235, grad_fn=<MeanBackward0>)"
      ]
     },
     "execution_count": 21,
     "metadata": {},
     "output_type": "execute_result"
    }
   ],
   "source": [
    "(error ** 2).mean()"
   ]
  },
  {
   "cell_type": "code",
   "execution_count": 24,
   "id": "38be5149",
   "metadata": {
    "colab": {
     "base_uri": "https://localhost:8080/"
    },
    "id": "7fbf0063",
    "outputId": "96da13a8-4e09-493e-ada7-941acd7026f9"
   },
   "outputs": [
    {
     "data": {
      "text/plain": [
       "MSELoss()"
      ]
     },
     "execution_count": 24,
     "metadata": {},
     "output_type": "execute_result"
    }
   ],
   "source": [
    "loss_fn = nn.MSELoss()\n",
    "loss_fn"
   ]
  },
  {
   "cell_type": "code",
   "execution_count": 25,
   "id": "85e16dc7",
   "metadata": {
    "colab": {
     "base_uri": "https://localhost:8080/"
    },
    "id": "fcfc7dd9",
    "outputId": "93855ea9-dac5-4aa1-8dec-3e9e88d6ae48"
   },
   "outputs": [
    {
     "data": {
      "text/plain": [
       "tensor(630.3235, grad_fn=<MseLossBackward0>)"
      ]
     },
     "execution_count": 25,
     "metadata": {},
     "output_type": "execute_result"
    }
   ],
   "source": [
    "loss = loss_fn(bad_predictions, batch_targets)\n",
    "loss"
   ]
  },
  {
   "cell_type": "markdown",
   "id": "f5d27bf6",
   "metadata": {
    "id": "3304a1f3"
   },
   "source": [
    "## 4.6 Gradients and Autograd"
   ]
  },
  {
   "cell_type": "code",
   "execution_count": 26,
   "id": "ecb1cb61",
   "metadata": {
    "colab": {
     "base_uri": "https://localhost:8080/"
    },
    "id": "24a7ea29",
    "outputId": "1b587b6f-886f-4c93-d000-9095e201a6f5"
   },
   "outputs": [
    {
     "data": {
      "text/plain": [
       "(Parameter containing:\n",
       " tensor([[-0.8164]], requires_grad=True),\n",
       " Parameter containing:\n",
       " tensor([-0.0412], requires_grad=True))"
      ]
     },
     "execution_count": 26,
     "metadata": {},
     "output_type": "execute_result"
    }
   ],
   "source": [
    "weight, bias = list(model.parameters())\n",
    "weight, bias"
   ]
  },
  {
   "cell_type": "code",
   "execution_count": 27,
   "id": "cba009c7",
   "metadata": {
    "colab": {
     "base_uri": "https://localhost:8080/"
    },
    "id": "c85a9fcd",
    "outputId": "73166139-6e57-45ef-dcf2-a00b9e2ad7e4"
   },
   "outputs": [
    {
     "data": {
      "text/plain": [
       "tensor([[ 0.8821],\n",
       "        [-0.4554],\n",
       "        [ 0.7288],\n",
       "        [ 0.3322],\n",
       "        [ 0.6369],\n",
       "        [-1.1790],\n",
       "        [ 0.9025],\n",
       "        [-1.8719],\n",
       "        [ 0.7521],\n",
       "        [-0.6254],\n",
       "        [ 0.3415],\n",
       "        [ 0.5152],\n",
       "        [ 0.9963],\n",
       "        [-1.3768],\n",
       "        [ 0.2598],\n",
       "        [ 0.7567],\n",
       "        [-1.4158],\n",
       "        [-0.6802],\n",
       "        [ 0.5059],\n",
       "        [-1.8682],\n",
       "        [ 0.8960],\n",
       "        [ 0.9313],\n",
       "        [-0.0049],\n",
       "        [-1.4093],\n",
       "        [ 0.3294],\n",
       "        [-0.0096],\n",
       "        [ 1.0632],\n",
       "        [ 0.2040],\n",
       "        [ 0.0666],\n",
       "        [ 0.3945],\n",
       "        [ 0.2709],\n",
       "        [-0.9431]], grad_fn=<AddBackward0>)"
      ]
     },
     "execution_count": 27,
     "metadata": {},
     "output_type": "execute_result"
    }
   ],
   "source": [
    "modified_predictions = (weight + 0.01) * batch_features + bias\n",
    "modified_predictions"
   ]
  },
  {
   "cell_type": "code",
   "execution_count": 28,
   "id": "0ad38e9c",
   "metadata": {
    "colab": {
     "base_uri": "https://localhost:8080/"
    },
    "id": "d7147213",
    "outputId": "5426ce65-b097-417f-9341-9ef0efae8bd9"
   },
   "outputs": [
    {
     "data": {
      "text/plain": [
       "tensor(630.4748, grad_fn=<MseLossBackward0>)"
      ]
     },
     "execution_count": 28,
     "metadata": {},
     "output_type": "execute_result"
    }
   ],
   "source": [
    "modified_loss = loss_fn(modified_predictions, batch_targets)\n",
    "modified_loss"
   ]
  },
  {
   "cell_type": "code",
   "execution_count": 29,
   "id": "1565aced",
   "metadata": {
    "colab": {
     "base_uri": "https://localhost:8080/"
    },
    "id": "419013d4",
    "outputId": "72975386-cad0-4638-a37a-976f228a674b"
   },
   "outputs": [
    {
     "data": {
      "text/plain": [
       "tensor(15.1245, grad_fn=<DivBackward0>)"
      ]
     },
     "execution_count": 29,
     "metadata": {},
     "output_type": "execute_result"
    }
   ],
   "source": [
    "ratio = (modified_loss - loss) / 0.01\n",
    "ratio"
   ]
  },
  {
   "cell_type": "markdown",
   "id": "605560b1",
   "metadata": {
    "id": "d97b4b8e"
   },
   "source": [
    "### 4.6.1 `backward()`"
   ]
  },
  {
   "cell_type": "code",
   "execution_count": 30,
   "id": "6b693f0f",
   "metadata": {
    "id": "c695e8ce"
   },
   "outputs": [],
   "source": [
    "loss.backward()"
   ]
  },
  {
   "cell_type": "code",
   "execution_count": 31,
   "id": "595c0b33",
   "metadata": {
    "colab": {
     "base_uri": "https://localhost:8080/"
    },
    "id": "5022fa27",
    "outputId": "5bd74628-da54-49c4-b7c1-559afdd1f767"
   },
   "outputs": [
    {
     "data": {
      "text/plain": [
       "(tensor([[15.1187]]), tensor([-48.0661]))"
      ]
     },
     "execution_count": 31,
     "metadata": {},
     "output_type": "execute_result"
    }
   ],
   "source": [
    "model.layer1.weight.grad, model.layer1.bias.grad"
   ]
  },
  {
   "cell_type": "code",
   "execution_count": 32,
   "id": "956f2028",
   "metadata": {
    "colab": {
     "base_uri": "https://localhost:8080/"
    },
    "id": "c387203b",
    "outputId": "cec44360-0b82-4445-b447-41804b46c7c3"
   },
   "outputs": [
    {
     "data": {
      "text/plain": [
       "(tensor([[-15.9350]], grad_fn=<SubBackward0>),\n",
       " tensor([48.0249], grad_fn=<SubBackward0>))"
      ]
     },
     "execution_count": 32,
     "metadata": {},
     "output_type": "execute_result"
    }
   ],
   "source": [
    "updated_weight = model.layer1.weight - 1.0 * model.layer1.weight.grad\n",
    "updated_bias = model.layer1.bias - 1.0 * model.layer1.bias.grad\n",
    "updated_weight, updated_bias"
   ]
  },
  {
   "cell_type": "code",
   "execution_count": 33,
   "id": "b8266249",
   "metadata": {
    "colab": {
     "base_uri": "https://localhost:8080/"
    },
    "id": "37c2ff12",
    "outputId": "32ce4ede-5a73-44a3-d63a-bf6429614fb2"
   },
   "outputs": [
    {
     "data": {
      "text/plain": [
       "(tensor([[-2.3282]], grad_fn=<SubBackward0>),\n",
       " tensor([4.7654], grad_fn=<SubBackward0>))"
      ]
     },
     "execution_count": 33,
     "metadata": {},
     "output_type": "execute_result"
    }
   ],
   "source": [
    "factor = 0.1\n",
    "updated_weight = model.layer1.weight - factor * model.layer1.weight.grad\n",
    "updated_bias = model.layer1.bias - factor * model.layer1.bias.grad\n",
    "updated_weight, updated_bias"
   ]
  },
  {
   "cell_type": "code",
   "execution_count": 40,
   "id": "e7b305e7",
   "metadata": {
    "colab": {
     "base_uri": "https://localhost:8080/"
    },
    "id": "e04cecbd",
    "outputId": "afde6428-f6e5-4993-83f7-ef3d8e8bc8c7"
   },
   "outputs": [
    {
     "data": {
      "text/plain": [
       "tensor(402.9746, grad_fn=<MseLossBackward0>)"
      ]
     },
     "execution_count": 40,
     "metadata": {},
     "output_type": "execute_result"
    }
   ],
   "source": [
    "updated_predictions = updated_weight * batch_features + updated_bias\n",
    "updated_loss = loss_fn(updated_predictions, batch_targets)\n",
    "updated_loss"
   ]
  },
  {
   "cell_type": "markdown",
   "id": "65823f2c",
   "metadata": {
    "id": "1b417c74"
   },
   "source": [
    "### 4.6.2 Learning Rate\n",
    "\n",
    "![](https://raw.githubusercontent.com/dvgodoy/assets/main/PyTorchInPractice/images/ch2/learning_rates.png)"
   ]
  },
  {
   "cell_type": "markdown",
   "id": "25005892",
   "metadata": {
    "id": "42736616"
   },
   "source": [
    "## 4.7 Optimizers\n",
    "\n",
    "![](https://raw.githubusercontent.com/dvgodoy/assets/main/PyTorchInPractice/images/ch0/model_step3.png)"
   ]
  },
  {
   "cell_type": "code",
   "execution_count": 34,
   "id": "9aac0022",
   "metadata": {
    "id": "c912bbf5"
   },
   "outputs": [],
   "source": [
    "import torch.optim as optim\n",
    "optimizer = optim.SGD(params=model.parameters(), lr=0.1)"
   ]
  },
  {
   "cell_type": "code",
   "execution_count": 35,
   "id": "9c809a7d",
   "metadata": {
    "id": "99b0748c"
   },
   "outputs": [],
   "source": [
    "optimizer.step()"
   ]
  },
  {
   "cell_type": "code",
   "execution_count": 36,
   "id": "1587f08c",
   "metadata": {
    "colab": {
     "base_uri": "https://localhost:8080/"
    },
    "id": "fc70a7c6",
    "outputId": "efc3a65b-2c3d-472a-9dc2-c4430d56d796"
   },
   "outputs": [
    {
     "data": {
      "text/plain": [
       "OrderedDict([('layer1.weight', tensor([[-2.3282]])),\n",
       "             ('layer1.bias', tensor([4.7654]))])"
      ]
     },
     "execution_count": 36,
     "metadata": {},
     "output_type": "execute_result"
    }
   ],
   "source": [
    "model.state_dict()"
   ]
  },
  {
   "cell_type": "code",
   "execution_count": 44,
   "id": "97ccea40",
   "metadata": {
    "id": "0a60438a"
   },
   "outputs": [],
   "source": [
    "optimizer.zero_grad()"
   ]
  },
  {
   "cell_type": "markdown",
   "id": "486873a9",
   "metadata": {
    "id": "38abe3cc"
   },
   "source": [
    "### 4.7.1 Adam"
   ]
  },
  {
   "cell_type": "code",
   "execution_count": 37,
   "id": "d6a6d4cf",
   "metadata": {
    "id": "8fb881a8"
   },
   "outputs": [],
   "source": [
    "optimizer = optim.Adam(params=model.parameters(), lr=0.1)"
   ]
  },
  {
   "cell_type": "markdown",
   "id": "35134984",
   "metadata": {
    "id": "6e88204f"
   },
   "source": [
    "### 4.7.2 `state_dict()`"
   ]
  },
  {
   "cell_type": "code",
   "execution_count": 38,
   "id": "cc04dd0a",
   "metadata": {
    "colab": {
     "base_uri": "https://localhost:8080/"
    },
    "id": "f66d4b11",
    "outputId": "3452202d-c1e8-4fe3-c86b-d0a331b1f7d9"
   },
   "outputs": [
    {
     "data": {
      "text/plain": [
       "{'state': {},\n",
       " 'param_groups': [{'lr': 0.1,\n",
       "   'betas': (0.9, 0.999),\n",
       "   'eps': 1e-08,\n",
       "   'weight_decay': 0,\n",
       "   'amsgrad': False,\n",
       "   'maximize': False,\n",
       "   'foreach': None,\n",
       "   'capturable': False,\n",
       "   'differentiable': False,\n",
       "   'fused': False,\n",
       "   'params': [0, 1]}]}"
      ]
     },
     "execution_count": 38,
     "metadata": {},
     "output_type": "execute_result"
    }
   ],
   "source": [
    "optimizer.state_dict()"
   ]
  },
  {
   "cell_type": "markdown",
   "id": "b1ab385f",
   "metadata": {
    "id": "549e00ee"
   },
   "source": [
    "## 4.8 The Raw Training Loop\n",
    "\n",
    "![](https://raw.githubusercontent.com/dvgodoy/assets/main/PyTorchInPractice/images/ch0/model_step4.png)"
   ]
  },
  {
   "cell_type": "code",
   "execution_count": 39,
   "id": "89a59771",
   "metadata": {
    "id": "03f32973"
   },
   "outputs": [],
   "source": [
    "torch.manual_seed(13)\n",
    "linear = nn.Linear(in_features=1, out_features=1, bias=True)\n",
    "\n",
    "model = nn.Sequential()\n",
    "model.add_module('layer1', linear)\n",
    "\n",
    "loss_fn = nn.MSELoss()\n",
    "\n",
    "optimizer = optim.Adam(params=model.parameters(), lr=0.1)"
   ]
  },
  {
   "cell_type": "code",
   "execution_count": 40,
   "id": "3e1dc10d",
   "metadata": {
    "id": "9b5f5868"
   },
   "outputs": [],
   "source": [
    "# Sprinkles\n",
    "device = 'cuda' if torch.cuda.is_available() else 'cpu'\n",
    "model.to(device)\n",
    "\n",
    "train_loader.sampler.generator.manual_seed(13)\n",
    "\n",
    "for batch_features, batch_targets in train_loader:\n",
    "    # Sprinkles\n",
    "    model.train()\n",
    "    batch_features = batch_features.to(device)\n",
    "    batch_targets = batch_targets.to(device)\n",
    "    \n",
    "    # Step 1 - forward pass\n",
    "    predictions = model(batch_features)\n",
    "    \n",
    "    # Step 2 - computing the loss\n",
    "    loss = loss_fn(predictions, batch_targets)\n",
    "    \n",
    "    # Step 3 - computing the gradients\n",
    "    loss.backward()\n",
    "    \n",
    "    # Step 4 - updating parameters and zeroing gradients\n",
    "    optimizer.step()\n",
    "    optimizer.zero_grad()"
   ]
  },
  {
   "cell_type": "markdown",
   "id": "282c40be",
   "metadata": {
    "id": "0e9cfdec"
   },
   "source": [
    "### 4.8.2 Training Mode"
   ]
  },
  {
   "cell_type": "code",
   "execution_count": 41,
   "id": "be120f78",
   "metadata": {
    "colab": {
     "base_uri": "https://localhost:8080/"
    },
    "id": "f56bb7ef",
    "outputId": "e9076c08-ae1f-4f07-b177-432719f6bc39"
   },
   "outputs": [
    {
     "data": {
      "text/plain": [
       "tensor(609.6074, grad_fn=<MseLossBackward0>)"
      ]
     },
     "execution_count": 41,
     "metadata": {},
     "output_type": "execute_result"
    }
   ],
   "source": [
    "loss"
   ]
  },
  {
   "cell_type": "code",
   "execution_count": 42,
   "id": "53e6e43e",
   "metadata": {
    "id": "21c27da4"
   },
   "outputs": [],
   "source": [
    "n_epochs = 100\n",
    "\n",
    "losses = torch.empty(n_epochs)\n",
    "\n",
    "model.to(device)\n",
    "\n",
    "for epoch in range(n_epochs):\n",
    "    batch_losses = torch.empty(len(train_loader))\n",
    "    \n",
    "    for i, (batch_features, batch_targets) in enumerate(train_loader):\n",
    "        model.train()        \n",
    "        batch_features = batch_features.to(device)\n",
    "        batch_targets = batch_targets.to(device)\n",
    "        \n",
    "        # Step 1 - forward pass\n",
    "        predictions = model(batch_features)\n",
    "\n",
    "        # Step 2 - computing the loss\n",
    "        loss = loss_fn(predictions, batch_targets)\n",
    "\n",
    "        # Step 3 - computing the gradients\n",
    "        loss.backward()\n",
    "        batch_losses[i] = loss.item()\n",
    "        \n",
    "        # Step 4 - updating parameters and zeroing gradients\n",
    "        optimizer.step()\n",
    "        optimizer.zero_grad()\n",
    "        \n",
    "    losses[epoch] = batch_losses.mean()"
   ]
  },
  {
   "cell_type": "code",
   "execution_count": 43,
   "id": "49050d43",
   "metadata": {
    "colab": {
     "base_uri": "https://localhost:8080/",
     "height": 490
    },
    "id": "759d7ea4",
    "outputId": "663fea5e-c320-4e07-d007-90f7b2a64184"
   },
   "outputs": [
    {
     "data": {
      "text/plain": [
       "Text(0.5, 1.0, 'Training Loss')"
      ]
     },
     "execution_count": 43,
     "metadata": {},
     "output_type": "execute_result"
    },
    {
     "data": {
      "image/png": "[encoded data removed]",
      "text/plain": [
       "<Figure size 640x480 with 1 Axes>"
      ]
     },
     "metadata": {},
     "output_type": "display_data"
    }
   ],
   "source": [
    "plt.plot(losses)\n",
    "plt.xlabel('Epoch')\n",
    "plt.ylabel('Loss')\n",
    "plt.title('Training Loss')"
   ]
  },
  {
   "cell_type": "code",
   "execution_count": 44,
   "id": "264be9d9",
   "metadata": {
    "colab": {
     "base_uri": "https://localhost:8080/",
     "height": 473
    },
    "id": "08df2fad",
    "outputId": "209b3741-976d-449e-a065-59fe7bd2903e"
   },
   "outputs": [
    {
     "data": {
      "text/plain": [
       "Text(0, 0.5, 'Predicted MPG')"
      ]
     },
     "execution_count": 44,
     "metadata": {},
     "output_type": "execute_result"
    },
    {
     "data": {
      "image/png": "[encoded data removed]",
      "text/plain": [
       "<Figure size 640x480 with 1 Axes>"
      ]
     },
     "metadata": {},
     "output_type": "display_data"
    }
   ],
   "source": [
    "plt.scatter(train_ds[:][1], model(train_ds[:][0].to(device)).tolist())\n",
    "plt.plot([0, 50], [0, 50], linestyle='--')\n",
    "plt.xlim([0, 50])\n",
    "plt.ylim([0, 50])\n",
    "plt.xlabel('Actual MPG')\n",
    "plt.ylabel('Predicted MPG')"
   ]
  },
  {
   "cell_type": "markdown",
   "id": "e79f8f33",
   "metadata": {
    "id": "a3a5f3ae"
   },
   "source": [
    "## 4.9 Evaluation\n",
    "\n",
    "![](https://raw.githubusercontent.com/dvgodoy/assets/main/PyTorchInPractice/images/ch0/model_step5.png)"
   ]
  },
  {
   "cell_type": "code",
   "execution_count": 45,
   "id": "97758ecf",
   "metadata": {
    "id": "891178d3"
   },
   "outputs": [],
   "source": [
    "torch.manual_seed(13)\n",
    "linear = nn.Linear(in_features=1, out_features=1, bias=True)\n",
    "\n",
    "model = nn.Sequential()\n",
    "model.add_module('layer1', linear)\n",
    "\n",
    "loss_fn = nn.MSELoss()\n",
    "\n",
    "optimizer = optim.Adam(params=model.parameters(), lr=0.1)"
   ]
  },
  {
   "cell_type": "markdown",
   "id": "0fcad4da",
   "metadata": {
    "id": "16daa906"
   },
   "source": [
    "### 4.9.2 Evaluation Mode"
   ]
  },
  {
   "cell_type": "code",
   "execution_count": 46,
   "id": "90859fdb",
   "metadata": {
    "id": "aa5ca58c"
   },
   "outputs": [],
   "source": [
    "n_epochs = 100\n",
    "\n",
    "losses = torch.empty(n_epochs)\n",
    "val_losses = torch.empty(n_epochs)\n",
    "\n",
    "device = 'cuda' if torch.cuda.is_available() else 'cpu'\n",
    "model.to(device)\n",
    "\n",
    "train_loader.sampler.generator.manual_seed(13)\n",
    "\n",
    "for epoch in range(n_epochs):\n",
    "    batch_losses = torch.empty(len(train_loader))\n",
    "    \n",
    "    ## Training\n",
    "    for i, (batch_features, batch_targets) in enumerate(train_loader):\n",
    "        model.train()\n",
    "        \n",
    "        batch_features= batch_features.to(device)\n",
    "        batch_targets = batch_targets.to(device)\n",
    "        \n",
    "        # Step 1 - forward pass\n",
    "        predictions = model(batch_features)\n",
    "\n",
    "        # Step 2 - computing the loss\n",
    "        loss = loss_fn(predictions, batch_targets)\n",
    "\n",
    "        # Step 3 - computing the gradients\n",
    "        loss.backward()\n",
    "        batch_losses[i] = loss.item()\n",
    "\n",
    "        # Step 4 - updating parameters and zeroing gradients\n",
    "        optimizer.step()\n",
    "        optimizer.zero_grad()\n",
    "        \n",
    "    losses[epoch] = batch_losses.mean()\n",
    "\n",
    "    ## Validation\n",
    "    batch_losses = torch.empty(len(val_loader))\n",
    "    \n",
    "    # Sprinkle\n",
    "    with torch.inference_mode():\n",
    "        for i, (val_features, val_targets) in enumerate(val_loader):\n",
    "            # Sprinkle\n",
    "            model.eval()\n",
    "            \n",
    "            val_features= val_features.to(device)\n",
    "            val_targets = val_targets.to(device)\n",
    "\n",
    "            # Step 1 - forward pass\n",
    "            predictions = model(val_features)\n",
    "\n",
    "            # Step 2 - computing the loss\n",
    "            loss = loss_fn(predictions, val_targets)\n",
    "            batch_losses[i] = loss.item()\n",
    "\n",
    "        val_losses[epoch] = batch_losses.mean()"
   ]
  },
  {
   "cell_type": "code",
   "execution_count": 49,
   "id": "e0b80c8d",
   "metadata": {
    "colab": {
     "base_uri": "https://localhost:8080/"
    },
    "id": "c097bd68",
    "outputId": "7669696b-5a39-4e54-855e-1ac8ef707bf6"
   },
   "outputs": [
    {
     "data": {
      "text/plain": [
       "OrderedDict([('layer1.weight', tensor([[-6.6773]])),\n",
       "             ('layer1.bias', tensor([23.5291]))])"
      ]
     },
     "execution_count": 49,
     "metadata": {},
     "output_type": "execute_result"
    }
   ],
   "source": [
    "model.state_dict()"
   ]
  },
  {
   "cell_type": "code",
   "execution_count": 50,
   "id": "4d15a4bf",
   "metadata": {
    "colab": {
     "base_uri": "https://localhost:8080/",
     "height": 467
    },
    "id": "aae4c48c",
    "outputId": "362f680d-d585-4147-d6ba-f65f36ddaff6"
   },
   "outputs": [
    {
     "data": {
      "text/plain": [
       "<matplotlib.legend.Legend at 0x7ff8eb529640>"
      ]
     },
     "execution_count": 50,
     "metadata": {},
     "output_type": "execute_result"
    },
    {
     "data": {
      "image/png": "[encoded data removed]",
      "text/plain": [
       "<Figure size 640x480 with 1 Axes>"
      ]
     },
     "metadata": {},
     "output_type": "display_data"
    }
   ],
   "source": [
    "plt.plot(losses, label='Training')\n",
    "plt.plot(val_losses, label='Validation')\n",
    "plt.xlabel('Epoch')\n",
    "plt.ylabel('Loss')\n",
    "plt.yscale('log')\n",
    "plt.legend()"
   ]
  },
  {
   "cell_type": "code",
   "execution_count": 51,
   "id": "078b410c",
   "metadata": {
    "colab": {
     "base_uri": "https://localhost:8080/",
     "height": 407
    },
    "id": "f64aea64",
    "outputId": "e62fe61c-23b1-48de-e5b8-2a54cd3de4e3",
    "scrolled": false
   },
   "outputs": [
    {
     "data": {
      "image/png": "[encoded data removed]",
      "text/plain": [
       "<Figure size 800x400 with 2 Axes>"
      ]
     },
     "metadata": {},
     "output_type": "display_data"
    }
   ],
   "source": [
    "import matplotlib.pyplot as plt\n",
    "fig, axs = plt.subplots(1, 2, figsize=(8, 4))\n",
    "axs[0].scatter(train_ds[:][0], train_ds[:][1], alpha=0.5)\n",
    "axs[0].set_xlabel('Horsepower (standardized)')\n",
    "axs[0].set_ylabel('Fuel Consumption - miles per gallon')\n",
    "axs[0].set_title('Training Set - HP x MPG')\n",
    "axs[1].scatter(val_ds[:][0], val_ds[:][1], alpha=0.5)\n",
    "axs[1].set_xlabel('Horsepower (standardized)')\n",
    "axs[1].set_ylabel('Fuel Consumption - miles per gallon')\n",
    "axs[1].set_title('Validation Set - HP x MPG')\n",
    "fig.tight_layout()"
   ]
  },
  {
   "cell_type": "markdown",
   "id": "d345fdf7",
   "metadata": {
    "id": "6bfd0968"
   },
   "source": [
    "## 4.10 Saving and Loading Models"
   ]
  },
  {
   "cell_type": "code",
   "execution_count": 52,
   "id": "b2e6910d",
   "metadata": {
    "id": "8c8f2c69"
   },
   "outputs": [],
   "source": [
    "def save_checkpoint(model, optimizer, filename):\n",
    "    checkpoint = {'model_state_dict': model.state_dict(),\n",
    "                  'optimizer_state_dict': optimizer.state_dict()}\n",
    "\n",
    "    torch.save(checkpoint, filename)"
   ]
  },
  {
   "cell_type": "code",
   "execution_count": 53,
   "id": "2fb489b1",
   "metadata": {
    "id": "d1eb41dd"
   },
   "outputs": [],
   "source": [
    "def load_checkpoint(model, optimizer, filename):\n",
    "    checkpoint = torch.load(filename)\n",
    "\n",
    "    model.load_state_dict(checkpoint['model_state_dict'])\n",
    "    if optimizer is not None:\n",
    "        optimizer.load_state_dict(checkpoint['optimizer_state_dict'])"
   ]
  },
  {
   "cell_type": "markdown",
   "id": "d19fc4d4",
   "metadata": {
    "id": "85e941dc"
   },
   "source": [
    "### 4.10.2 Early Stopping"
   ]
  },
  {
   "cell_type": "code",
   "execution_count": 54,
   "id": "d7a5c0b5",
   "metadata": {
    "id": "ea9bfd11"
   },
   "outputs": [],
   "source": [
    "torch.manual_seed(13)\n",
    "linear = nn.Linear(in_features=1, out_features=1, bias=True)\n",
    "\n",
    "model = nn.Sequential()\n",
    "model.add_module('layer1', linear)\n",
    "\n",
    "loss_fn = nn.MSELoss()\n",
    "\n",
    "optimizer = optim.Adam(params=model.parameters(), lr=0.1)"
   ]
  },
  {
   "cell_type": "code",
   "execution_count": 55,
   "id": "06dc28e5",
   "metadata": {
    "colab": {
     "base_uri": "https://localhost:8080/"
    },
    "id": "60053c94",
    "outputId": "a1e5876d-1381-439b-c29b-601ca884bab8"
   },
   "outputs": [
    {
     "name": "stdout",
     "output_type": "stream",
     "text": [
      "Early stopping at epoch #71\n"
     ]
    }
   ],
   "source": [
    "n_epochs = 100\n",
    "\n",
    "losses = torch.empty(n_epochs)\n",
    "val_losses = torch.empty(n_epochs)\n",
    "\n",
    "# Early stopping\n",
    "best_loss = torch.inf\n",
    "best_epoch = -1\n",
    "patience = 3\n",
    "\n",
    "device = 'cuda' if torch.cuda.is_available() else 'cpu'\n",
    "model.to(device)\n",
    "\n",
    "train_loader.sampler.generator.manual_seed(13)\n",
    "\n",
    "for epoch in range(n_epochs):\n",
    "    batch_losses = torch.empty(len(train_loader))\n",
    "    \n",
    "    ## Training\n",
    "    for i, (batch_features, batch_targets) in enumerate(train_loader):\n",
    "        model.train()\n",
    "        \n",
    "        batch_features = batch_features.to(device)\n",
    "        batch_targets = batch_targets.to(device)\n",
    "        \n",
    "        # Step 1 - forward pass\n",
    "        predictions = model(batch_features)\n",
    "\n",
    "        # Step 2 - computing the loss\n",
    "        loss = loss_fn(predictions, batch_targets)\n",
    "\n",
    "        # Step 3 - computing the gradients\n",
    "        loss.backward()\n",
    "        batch_losses[i] = loss.item()\n",
    "\n",
    "        # Step 4 - updating parameters and zeroing gradients\n",
    "        optimizer.step()\n",
    "        optimizer.zero_grad()\n",
    "        \n",
    "    losses[epoch] = batch_losses.mean()\n",
    "\n",
    "    ## Validation   \n",
    "    with torch.inference_mode():\n",
    "        batch_losses = torch.empty(len(val_loader))    \n",
    "\n",
    "        for i, (val_features, val_targets) in enumerate(val_loader):\n",
    "            model.eval()\n",
    "\n",
    "            val_features = val_features.to(device)\n",
    "            val_targets = val_targets.to(device)\n",
    "\n",
    "            # Step 1 - forward pass\n",
    "            predictions = model(val_features)\n",
    "\n",
    "            # Step 2 - computing the loss\n",
    "            loss = loss_fn(predictions, val_targets)\n",
    "            batch_losses[i] = loss.item()\n",
    "\n",
    "        val_losses[epoch] = batch_losses.mean()\n",
    "        \n",
    "        # Early stopping\n",
    "        if val_losses[epoch] < best_loss:\n",
    "            best_loss = val_losses[epoch]\n",
    "            best_epoch = epoch\n",
    "            save_checkpoint(model, optimizer, \"best_model.pth\")\n",
    "        elif (epoch - best_epoch) > patience:\n",
    "            print(f\"Early stopping at epoch #{epoch}\")\n",
    "            break"
   ]
  },
  {
   "cell_type": "code",
   "execution_count": 61,
   "id": "9aaf15ce",
   "metadata": {
    "colab": {
     "base_uri": "https://localhost:8080/",
     "height": 467
    },
    "id": "97f6fc09",
    "outputId": "36f20c0e-e219-439b-e492-2611ca8c5c95"
   },
   "outputs": [
    {
     "data": {
      "text/plain": [
       "<matplotlib.legend.Legend at 0x7ff8e4c03b20>"
      ]
     },
     "execution_count": 61,
     "metadata": {},
     "output_type": "execute_result"
    },
    {
     "data": {
      "image/png": "[encoded data removed]",
      "text/plain": [
       "<Figure size 640x480 with 1 Axes>"
      ]
     },
     "metadata": {},
     "output_type": "display_data"
    }
   ],
   "source": [
    "plt.plot(losses[:epoch], label='Training')\n",
    "plt.plot(val_losses[:epoch], label='Validation')\n",
    "plt.xlabel('Epoch')\n",
    "plt.ylabel('Loss')\n",
    "plt.yscale('log')\n",
    "plt.legend()"
   ]
  },
  {
   "cell_type": "code",
   "execution_count": 57,
   "id": "1171414b",
   "metadata": {
    "colab": {
     "base_uri": "https://localhost:8080/"
    },
    "id": "1fdb8be3",
    "outputId": "d1d1b9fe-76c2-47ba-e9fc-aeaddb82c20e"
   },
   "outputs": [
    {
     "data": {
      "text/plain": [
       "OrderedDict([('layer1.weight', tensor([[-0.1630]])),\n",
       "             ('layer1.bias', tensor([-0.2799]))])"
      ]
     },
     "execution_count": 57,
     "metadata": {},
     "output_type": "execute_result"
    }
   ],
   "source": [
    "# No need to set a seed, we'll be loading a trained model\n",
    "linear = nn.Linear(in_features=1, out_features=1, bias=True)\n",
    "model = nn.Sequential()\n",
    "model.add_module('layer1', linear)\n",
    "model.state_dict()"
   ]
  },
  {
   "cell_type": "code",
   "execution_count": 58,
   "id": "379fe749",
   "metadata": {
    "colab": {
     "base_uri": "https://localhost:8080/"
    },
    "id": "a99bc318",
    "outputId": "cdd0047f-d2aa-4349-cae0-cbd3097d9600"
   },
   "outputs": [
    {
     "data": {
      "text/plain": [
       "Sequential(\n",
       "  (layer1): Linear(in_features=1, out_features=1, bias=True)\n",
       ")"
      ]
     },
     "execution_count": 58,
     "metadata": {},
     "output_type": "execute_result"
    }
   ],
   "source": [
    "device = 'cuda' if torch.cuda.is_available() else 'cpu'\n",
    "\n",
    "load_checkpoint(model, None, 'best_model.pth')\n",
    "\n",
    "model.eval()\n",
    "model.to(device)"
   ]
  },
  {
   "cell_type": "code",
   "execution_count": 59,
   "id": "08e5c144",
   "metadata": {
    "colab": {
     "base_uri": "https://localhost:8080/"
    },
    "id": "82970f4d",
    "outputId": "466c3654-72c4-4e56-ee53-3c556eee925e"
   },
   "outputs": [
    {
     "data": {
      "text/plain": [
       "OrderedDict([('layer1.weight', tensor([[-6.6750]])),\n",
       "             ('layer1.bias', tensor([23.3032]))])"
      ]
     },
     "execution_count": 59,
     "metadata": {},
     "output_type": "execute_result"
    }
   ],
   "source": [
    "model.state_dict()"
   ]
  },
  {
   "cell_type": "code",
   "execution_count": 62,
   "id": "5eda1df8",
   "metadata": {
    "colab": {
     "base_uri": "https://localhost:8080/"
    },
    "id": "ada36184",
    "outputId": "247ab3cf-906b-4f1d-cabd-579435a68dda"
   },
   "outputs": [
    {
     "data": {
      "text/plain": [
       "tensor([[18.0000, 22.2504],\n",
       "        [26.0000, 28.8320],\n",
       "        [24.0000, 29.6547],\n",
       "        [23.9000, 19.9515],\n",
       "        [23.0000, 26.3178],\n",
       "        [35.1000, 32.7149],\n",
       "        [35.0000, 33.8451],\n",
       "        [19.0000, 21.5585],\n",
       "        [22.5000, 22.5272],\n",
       "        [33.0000, 32.4458],\n",
       "        [28.0000, 27.3020],\n",
       "        [43.4000, 28.2938],\n",
       "        [11.0000,  7.8263],\n",
       "        [33.5000, 31.2924],\n",
       "        [26.0000, 27.4019],\n",
       "        [16.9000, 12.7240],\n",
       "        [20.0000, 27.7325],\n",
       "        [13.0000,  9.8408],\n",
       "        [24.0000, 23.0885],\n",
       "        [14.0000, 13.5160],\n",
       "        [26.0000, 28.9781],\n",
       "        [17.5000, 21.6969],\n",
       "        [19.0000, 21.1509],\n",
       "        [44.3000, 30.2160],\n",
       "        [15.0000, 18.8520],\n",
       "        [30.9000, 29.1011],\n",
       "        [13.0000, 16.8683],\n",
       "        [19.0000, 23.7190],\n",
       "        [30.5000, 29.4087],\n",
       "        [24.0000, 28.7321],\n",
       "        [28.4000, 25.7181],\n",
       "        [19.0000, 20.8588]])"
      ]
     },
     "execution_count": 62,
     "metadata": {},
     "output_type": "execute_result"
    }
   ],
   "source": [
    "val_features, val_targets = next(iter(val_loader))\n",
    "val_features = val_features.to(device)\n",
    "with torch.inference_mode():\n",
    "    pred = model(val_features).cpu()\n",
    "    \n",
    "torch.cat([val_targets, pred], axis=1)"
   ]
  },
  {
   "cell_type": "markdown",
   "id": "9d172c03",
   "metadata": {},
   "source": [
    "## 4.11 Non-Linearities\n",
    "    \n",
    "![](https://raw.githubusercontent.com/dvgodoy/assets/main/PyTorchInPractice/images/ch0/model_step1.png)"
   ]
  },
  {
   "cell_type": "code",
   "execution_count": null,
   "id": "51a2c14c",
   "metadata": {},
   "outputs": [],
   "source": [
    "# Redundant\n",
    "model = nn.Sequential([nn.Linear(1, 10),\n",
    "                       nn.Linear(10, 1)])\n",
    "\n",
    "# Good!\n",
    "model = nn.Sequential([nn.Linear(1, 10),\n",
    "                       nn.ReLU(), # non-linearity FTW!\n",
    "                       nn.Linear(10, 1)])"
   ]
  },
  {
   "cell_type": "markdown",
   "id": "7533026d",
   "metadata": {},
   "source": [
    "|Linear  |Non-Linear  |\n",
    "|---|---|\n",
    "| ![](https://raw.githubusercontent.com/dvgodoy/assets/main/PyTorchInPractice/images/ch3/linear_boundary.png) | ![](https://raw.githubusercontent.com/dvgodoy/assets/main/PyTorchInPractice/images/ch3/non_linear_boundaries.png) |"
   ]
  }
 ],
 "metadata": {
  "accelerator": "GPU",
  "colab": {
   "provenance": []
  },
  "gpuClass": "standard",
  "kernelspec": {
   "display_name": "Python 3 (ipykernel)",
   "language": "python",
   "name": "python3"
  },
  "language_info": {
   "codemirror_mode": {
    "name": "ipython",
    "version": 3
   },
   "file_extension": ".py",
   "mimetype": "text/x-python",
   "name": "python",
   "nbconvert_exporter": "python",
   "pygments_lexer": "ipython3",
   "version": "3.9.0"
  }
 },
 "nbformat": 4,
 "nbformat_minor": 5
}
