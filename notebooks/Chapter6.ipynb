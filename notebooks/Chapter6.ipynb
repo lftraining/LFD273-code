{
 "cells": [
  {
   "cell_type": "markdown",
   "id": "7b8de4b9",
   "metadata": {
    "id": "7b8de4b9"
   },
   "source": [
    "# Chapter 6: Transfer Learning and Pretrained Models"
   ]
  },
  {
   "cell_type": "markdown",
   "id": "5c3efc05",
   "metadata": {
    "id": "5c3efc05"
   },
   "source": [
    "## 6.4 Torch Hub"
   ]
  },
  {
   "cell_type": "markdown",
   "id": "fd595d0c",
   "metadata": {
    "id": "fd595d0c"
   },
   "source": [
    "### 6.4.1 Listing Models"
   ]
  },
  {
   "cell_type": "code",
   "execution_count": 1,
   "id": "b939f30a",
   "metadata": {
    "colab": {
     "base_uri": "https://localhost:8080/"
    },
    "id": "b939f30a",
    "outputId": "dee05c63-eac9-4d01-840c-c7f9385b6623"
   },
   "outputs": [
    {
     "name": "stderr",
     "output_type": "stream",
     "text": [
      "Downloading: \"https://github.com/pytorch/vision/zipball/main\" to /root/.cache/torch/hub/main.zip\n",
      "/root/.cache/torch/hub/pytorch_vision_main/torchvision/io/image.py:13: UserWarning: Failed to load image Python extension: ''If you don't plan on using image functionality from `torchvision.io`, you can ignore this warning. Otherwise, there might be something wrong with your environment. Did you have `libjpeg` or `libpng` installed before building `torchvision` from source?\n",
      "  warn(\n"
     ]
    },
    {
     "data": {
      "text/plain": [
       "['alexnet',\n",
       " 'convnext_base',\n",
       " 'convnext_large',\n",
       " 'convnext_small',\n",
       " 'convnext_tiny',\n",
       " 'deeplabv3_mobilenet_v3_large',\n",
       " 'deeplabv3_resnet101',\n",
       " 'deeplabv3_resnet50',\n",
       " 'densenet121',\n",
       " 'densenet161',\n",
       " 'densenet169',\n",
       " 'densenet201',\n",
       " 'efficientnet_b0',\n",
       " 'efficientnet_b1',\n",
       " 'efficientnet_b2',\n",
       " 'efficientnet_b3',\n",
       " 'efficientnet_b4',\n",
       " 'efficientnet_b5',\n",
       " 'efficientnet_b6',\n",
       " 'efficientnet_b7',\n",
       " 'efficientnet_v2_l',\n",
       " 'efficientnet_v2_m',\n",
       " 'efficientnet_v2_s',\n",
       " 'fcn_resnet101',\n",
       " 'fcn_resnet50',\n",
       " 'get_model_weights',\n",
       " 'get_weight',\n",
       " 'googlenet',\n",
       " 'inception_v3',\n",
       " 'lraspp_mobilenet_v3_large',\n",
       " 'maxvit_t',\n",
       " 'mc3_18',\n",
       " 'mnasnet0_5',\n",
       " 'mnasnet0_75',\n",
       " 'mnasnet1_0',\n",
       " 'mnasnet1_3',\n",
       " 'mobilenet_v2',\n",
       " 'mobilenet_v3_large',\n",
       " 'mobilenet_v3_small',\n",
       " 'mvit_v1_b',\n",
       " 'mvit_v2_s',\n",
       " 'r2plus1d_18',\n",
       " 'r3d_18',\n",
       " 'raft_large',\n",
       " 'raft_small',\n",
       " 'regnet_x_16gf',\n",
       " 'regnet_x_1_6gf',\n",
       " 'regnet_x_32gf',\n",
       " 'regnet_x_3_2gf',\n",
       " 'regnet_x_400mf',\n",
       " 'regnet_x_800mf',\n",
       " 'regnet_x_8gf',\n",
       " 'regnet_y_128gf',\n",
       " 'regnet_y_16gf',\n",
       " 'regnet_y_1_6gf',\n",
       " 'regnet_y_32gf',\n",
       " 'regnet_y_3_2gf',\n",
       " 'regnet_y_400mf',\n",
       " 'regnet_y_800mf',\n",
       " 'regnet_y_8gf',\n",
       " 'resnet101',\n",
       " 'resnet152',\n",
       " 'resnet18',\n",
       " 'resnet34',\n",
       " 'resnet50',\n",
       " 'resnext101_32x8d',\n",
       " 'resnext101_64x4d',\n",
       " 'resnext50_32x4d',\n",
       " 's3d',\n",
       " 'shufflenet_v2_x0_5',\n",
       " 'shufflenet_v2_x1_0',\n",
       " 'shufflenet_v2_x1_5',\n",
       " 'shufflenet_v2_x2_0',\n",
       " 'squeezenet1_0',\n",
       " 'squeezenet1_1',\n",
       " 'swin3d_b',\n",
       " 'swin3d_s',\n",
       " 'swin3d_t',\n",
       " 'swin_b',\n",
       " 'swin_s',\n",
       " 'swin_t',\n",
       " 'swin_v2_b',\n",
       " 'swin_v2_s',\n",
       " 'swin_v2_t',\n",
       " 'vgg11',\n",
       " 'vgg11_bn',\n",
       " 'vgg13',\n",
       " 'vgg13_bn',\n",
       " 'vgg16',\n",
       " 'vgg16_bn',\n",
       " 'vgg19',\n",
       " 'vgg19_bn',\n",
       " 'vit_b_16',\n",
       " 'vit_b_32',\n",
       " 'vit_h_14',\n",
       " 'vit_l_16',\n",
       " 'vit_l_32',\n",
       " 'wide_resnet101_2',\n",
       " 'wide_resnet50_2']"
      ]
     },
     "execution_count": 1,
     "metadata": {},
     "output_type": "execute_result"
    }
   ],
   "source": [
    "import torch\n",
    "repo = 'pytorch/vision:v0.15.2'\n",
    "entrypoints = torch.hub.list(repo)\n",
    "entrypoints"
   ]
  },
  {
   "cell_type": "markdown",
   "id": "a160b023",
   "metadata": {
    "id": "a160b023"
   },
   "source": [
    "### 6.4.2 Loading a Model"
   ]
  },
  {
   "cell_type": "code",
   "execution_count": 2,
   "id": "5155e783",
   "metadata": {
    "colab": {
     "base_uri": "https://localhost:8080/"
    },
    "id": "5155e783",
    "outputId": "52bd2a69-0553-436b-d3e4-d94202b07b1e"
   },
   "outputs": [
    {
     "name": "stdout",
     "output_type": "stream",
     "text": [
      "ResNet-50 from `Deep Residual Learning for Image Recognition <https://arxiv.org/abs/1512.03385>`__.\n",
      "\n",
      "    .. note::\n",
      "       The bottleneck of TorchVision places the stride for downsampling to the second 3x3\n",
      "       convolution while the original paper places it to the first 1x1 convolution.\n",
      "       This variant improves the accuracy and is known as `ResNet V1.5\n",
      "       <https://ngc.nvidia.com/catalog/model-scripts/nvidia:resnet_50_v1_5_for_pytorch>`_.\n",
      "\n",
      "    Args:\n",
      "        weights (:class:`~torchvision.models.ResNet50_Weights`, optional): The\n",
      "            pretrained weights to use. See\n",
      "            :class:`~torchvision.models.ResNet50_Weights` below for\n",
      "            more details, and possible values. By default, no pre-trained\n",
      "            weights are used.\n",
      "        progress (bool, optional): If True, displays a progress bar of the\n",
      "            download to stderr. Default is True.\n",
      "        **kwargs: parameters passed to the ``torchvision.models.resnet.ResNet``\n",
      "            base class. Please refer to the `source code\n",
      "            <https://github.com/pytorch/vision/blob/main/torchvision/models/resnet.py>`_\n",
      "            for more details about this class.\n",
      "\n",
      "    .. autoclass:: torchvision.models.ResNet50_Weights\n",
      "        :members:\n",
      "    \n"
     ]
    },
    {
     "name": "stderr",
     "output_type": "stream",
     "text": [
      "Using cache found in /root/.cache/torch/hub/pytorch_vision_main\n"
     ]
    }
   ],
   "source": [
    "resnet_help = torch.hub.help(repo, 'resnet50')\n",
    "print(resnet_help)"
   ]
  },
  {
   "cell_type": "code",
   "execution_count": 3,
   "id": "1189ce03",
   "metadata": {
    "colab": {
     "base_uri": "https://localhost:8080/"
    },
    "id": "1189ce03",
    "outputId": "5fc5075a-cd7e-46cf-cf4e-424af67f56a9"
   },
   "outputs": [
    {
     "name": "stderr",
     "output_type": "stream",
     "text": [
      "Using cache found in /root/.cache/torch/hub/pytorch_vision_main\n"
     ]
    },
    {
     "data": {
      "text/plain": [
       "ResNet(\n",
       "  (conv1): Conv2d(3, 64, kernel_size=(7, 7), stride=(2, 2), padding=(3, 3), bias=False)\n",
       "  (bn1): BatchNorm2d(64, eps=1e-05, momentum=0.1, affine=True, track_running_stats=True)\n",
       "  (relu): ReLU(inplace=True)\n",
       "  (maxpool): MaxPool2d(kernel_size=3, stride=2, padding=1, dilation=1, ceil_mode=False)\n",
       "  (layer1): Sequential(\n",
       "    (0): Bottleneck(\n",
       "      (conv1): Conv2d(64, 64, kernel_size=(1, 1), stride=(1, 1), bias=False)\n",
       "      (bn1): BatchNorm2d(64, eps=1e-05, momentum=0.1, affine=True, track_running_stats=True)\n",
       "      (conv2): Conv2d(64, 64, kernel_size=(3, 3), stride=(1, 1), padding=(1, 1), bias=False)\n",
       "      (bn2): BatchNorm2d(64, eps=1e-05, momentum=0.1, affine=True, track_running_stats=True)\n",
       "      (conv3): Conv2d(64, 256, kernel_size=(1, 1), stride=(1, 1), bias=False)\n",
       "      (bn3): BatchNorm2d(256, eps=1e-05, momentum=0.1, affine=True, track_running_stats=True)\n",
       "      (relu): ReLU(inplace=True)\n",
       "      (downsample): Sequential(\n",
       "        (0): Conv2d(64, 256, kernel_size=(1, 1), stride=(1, 1), bias=False)\n",
       "        (1): BatchNorm2d(256, eps=1e-05, momentum=0.1, affine=True, track_running_stats=True)\n",
       "      )\n",
       "    )\n",
       "    (1): Bottleneck(\n",
       "      (conv1): Conv2d(256, 64, kernel_size=(1, 1), stride=(1, 1), bias=False)\n",
       "      (bn1): BatchNorm2d(64, eps=1e-05, momentum=0.1, affine=True, track_running_stats=True)\n",
       "      (conv2): Conv2d(64, 64, kernel_size=(3, 3), stride=(1, 1), padding=(1, 1), bias=False)\n",
       "      (bn2): BatchNorm2d(64, eps=1e-05, momentum=0.1, affine=True, track_running_stats=True)\n",
       "      (conv3): Conv2d(64, 256, kernel_size=(1, 1), stride=(1, 1), bias=False)\n",
       "      (bn3): BatchNorm2d(256, eps=1e-05, momentum=0.1, affine=True, track_running_stats=True)\n",
       "      (relu): ReLU(inplace=True)\n",
       "    )\n",
       "    (2): Bottleneck(\n",
       "      (conv1): Conv2d(256, 64, kernel_size=(1, 1), stride=(1, 1), bias=False)\n",
       "      (bn1): BatchNorm2d(64, eps=1e-05, momentum=0.1, affine=True, track_running_stats=True)\n",
       "      (conv2): Conv2d(64, 64, kernel_size=(3, 3), stride=(1, 1), padding=(1, 1), bias=False)\n",
       "      (bn2): BatchNorm2d(64, eps=1e-05, momentum=0.1, affine=True, track_running_stats=True)\n",
       "      (conv3): Conv2d(64, 256, kernel_size=(1, 1), stride=(1, 1), bias=False)\n",
       "      (bn3): BatchNorm2d(256, eps=1e-05, momentum=0.1, affine=True, track_running_stats=True)\n",
       "      (relu): ReLU(inplace=True)\n",
       "    )\n",
       "  )\n",
       "  (layer2): Sequential(\n",
       "    (0): Bottleneck(\n",
       "      (conv1): Conv2d(256, 128, kernel_size=(1, 1), stride=(1, 1), bias=False)\n",
       "      (bn1): BatchNorm2d(128, eps=1e-05, momentum=0.1, affine=True, track_running_stats=True)\n",
       "      (conv2): Conv2d(128, 128, kernel_size=(3, 3), stride=(2, 2), padding=(1, 1), bias=False)\n",
       "      (bn2): BatchNorm2d(128, eps=1e-05, momentum=0.1, affine=True, track_running_stats=True)\n",
       "      (conv3): Conv2d(128, 512, kernel_size=(1, 1), stride=(1, 1), bias=False)\n",
       "      (bn3): BatchNorm2d(512, eps=1e-05, momentum=0.1, affine=True, track_running_stats=True)\n",
       "      (relu): ReLU(inplace=True)\n",
       "      (downsample): Sequential(\n",
       "        (0): Conv2d(256, 512, kernel_size=(1, 1), stride=(2, 2), bias=False)\n",
       "        (1): BatchNorm2d(512, eps=1e-05, momentum=0.1, affine=True, track_running_stats=True)\n",
       "      )\n",
       "    )\n",
       "    (1): Bottleneck(\n",
       "      (conv1): Conv2d(512, 128, kernel_size=(1, 1), stride=(1, 1), bias=False)\n",
       "      (bn1): BatchNorm2d(128, eps=1e-05, momentum=0.1, affine=True, track_running_stats=True)\n",
       "      (conv2): Conv2d(128, 128, kernel_size=(3, 3), stride=(1, 1), padding=(1, 1), bias=False)\n",
       "      (bn2): BatchNorm2d(128, eps=1e-05, momentum=0.1, affine=True, track_running_stats=True)\n",
       "      (conv3): Conv2d(128, 512, kernel_size=(1, 1), stride=(1, 1), bias=False)\n",
       "      (bn3): BatchNorm2d(512, eps=1e-05, momentum=0.1, affine=True, track_running_stats=True)\n",
       "      (relu): ReLU(inplace=True)\n",
       "    )\n",
       "    (2): Bottleneck(\n",
       "      (conv1): Conv2d(512, 128, kernel_size=(1, 1), stride=(1, 1), bias=False)\n",
       "      (bn1): BatchNorm2d(128, eps=1e-05, momentum=0.1, affine=True, track_running_stats=True)\n",
       "      (conv2): Conv2d(128, 128, kernel_size=(3, 3), stride=(1, 1), padding=(1, 1), bias=False)\n",
       "      (bn2): BatchNorm2d(128, eps=1e-05, momentum=0.1, affine=True, track_running_stats=True)\n",
       "      (conv3): Conv2d(128, 512, kernel_size=(1, 1), stride=(1, 1), bias=False)\n",
       "      (bn3): BatchNorm2d(512, eps=1e-05, momentum=0.1, affine=True, track_running_stats=True)\n",
       "      (relu): ReLU(inplace=True)\n",
       "    )\n",
       "    (3): Bottleneck(\n",
       "      (conv1): Conv2d(512, 128, kernel_size=(1, 1), stride=(1, 1), bias=False)\n",
       "      (bn1): BatchNorm2d(128, eps=1e-05, momentum=0.1, affine=True, track_running_stats=True)\n",
       "      (conv2): Conv2d(128, 128, kernel_size=(3, 3), stride=(1, 1), padding=(1, 1), bias=False)\n",
       "      (bn2): BatchNorm2d(128, eps=1e-05, momentum=0.1, affine=True, track_running_stats=True)\n",
       "      (conv3): Conv2d(128, 512, kernel_size=(1, 1), stride=(1, 1), bias=False)\n",
       "      (bn3): BatchNorm2d(512, eps=1e-05, momentum=0.1, affine=True, track_running_stats=True)\n",
       "      (relu): ReLU(inplace=True)\n",
       "    )\n",
       "  )\n",
       "  (layer3): Sequential(\n",
       "    (0): Bottleneck(\n",
       "      (conv1): Conv2d(512, 256, kernel_size=(1, 1), stride=(1, 1), bias=False)\n",
       "      (bn1): BatchNorm2d(256, eps=1e-05, momentum=0.1, affine=True, track_running_stats=True)\n",
       "      (conv2): Conv2d(256, 256, kernel_size=(3, 3), stride=(2, 2), padding=(1, 1), bias=False)\n",
       "      (bn2): BatchNorm2d(256, eps=1e-05, momentum=0.1, affine=True, track_running_stats=True)\n",
       "      (conv3): Conv2d(256, 1024, kernel_size=(1, 1), stride=(1, 1), bias=False)\n",
       "      (bn3): BatchNorm2d(1024, eps=1e-05, momentum=0.1, affine=True, track_running_stats=True)\n",
       "      (relu): ReLU(inplace=True)\n",
       "      (downsample): Sequential(\n",
       "        (0): Conv2d(512, 1024, kernel_size=(1, 1), stride=(2, 2), bias=False)\n",
       "        (1): BatchNorm2d(1024, eps=1e-05, momentum=0.1, affine=True, track_running_stats=True)\n",
       "      )\n",
       "    )\n",
       "    (1): Bottleneck(\n",
       "      (conv1): Conv2d(1024, 256, kernel_size=(1, 1), stride=(1, 1), bias=False)\n",
       "      (bn1): BatchNorm2d(256, eps=1e-05, momentum=0.1, affine=True, track_running_stats=True)\n",
       "      (conv2): Conv2d(256, 256, kernel_size=(3, 3), stride=(1, 1), padding=(1, 1), bias=False)\n",
       "      (bn2): BatchNorm2d(256, eps=1e-05, momentum=0.1, affine=True, track_running_stats=True)\n",
       "      (conv3): Conv2d(256, 1024, kernel_size=(1, 1), stride=(1, 1), bias=False)\n",
       "      (bn3): BatchNorm2d(1024, eps=1e-05, momentum=0.1, affine=True, track_running_stats=True)\n",
       "      (relu): ReLU(inplace=True)\n",
       "    )\n",
       "    (2): Bottleneck(\n",
       "      (conv1): Conv2d(1024, 256, kernel_size=(1, 1), stride=(1, 1), bias=False)\n",
       "      (bn1): BatchNorm2d(256, eps=1e-05, momentum=0.1, affine=True, track_running_stats=True)\n",
       "      (conv2): Conv2d(256, 256, kernel_size=(3, 3), stride=(1, 1), padding=(1, 1), bias=False)\n",
       "      (bn2): BatchNorm2d(256, eps=1e-05, momentum=0.1, affine=True, track_running_stats=True)\n",
       "      (conv3): Conv2d(256, 1024, kernel_size=(1, 1), stride=(1, 1), bias=False)\n",
       "      (bn3): BatchNorm2d(1024, eps=1e-05, momentum=0.1, affine=True, track_running_stats=True)\n",
       "      (relu): ReLU(inplace=True)\n",
       "    )\n",
       "    (3): Bottleneck(\n",
       "      (conv1): Conv2d(1024, 256, kernel_size=(1, 1), stride=(1, 1), bias=False)\n",
       "      (bn1): BatchNorm2d(256, eps=1e-05, momentum=0.1, affine=True, track_running_stats=True)\n",
       "      (conv2): Conv2d(256, 256, kernel_size=(3, 3), stride=(1, 1), padding=(1, 1), bias=False)\n",
       "      (bn2): BatchNorm2d(256, eps=1e-05, momentum=0.1, affine=True, track_running_stats=True)\n",
       "      (conv3): Conv2d(256, 1024, kernel_size=(1, 1), stride=(1, 1), bias=False)\n",
       "      (bn3): BatchNorm2d(1024, eps=1e-05, momentum=0.1, affine=True, track_running_stats=True)\n",
       "      (relu): ReLU(inplace=True)\n",
       "    )\n",
       "    (4): Bottleneck(\n",
       "      (conv1): Conv2d(1024, 256, kernel_size=(1, 1), stride=(1, 1), bias=False)\n",
       "      (bn1): BatchNorm2d(256, eps=1e-05, momentum=0.1, affine=True, track_running_stats=True)\n",
       "      (conv2): Conv2d(256, 256, kernel_size=(3, 3), stride=(1, 1), padding=(1, 1), bias=False)\n",
       "      (bn2): BatchNorm2d(256, eps=1e-05, momentum=0.1, affine=True, track_running_stats=True)\n",
       "      (conv3): Conv2d(256, 1024, kernel_size=(1, 1), stride=(1, 1), bias=False)\n",
       "      (bn3): BatchNorm2d(1024, eps=1e-05, momentum=0.1, affine=True, track_running_stats=True)\n",
       "      (relu): ReLU(inplace=True)\n",
       "    )\n",
       "    (5): Bottleneck(\n",
       "      (conv1): Conv2d(1024, 256, kernel_size=(1, 1), stride=(1, 1), bias=False)\n",
       "      (bn1): BatchNorm2d(256, eps=1e-05, momentum=0.1, affine=True, track_running_stats=True)\n",
       "      (conv2): Conv2d(256, 256, kernel_size=(3, 3), stride=(1, 1), padding=(1, 1), bias=False)\n",
       "      (bn2): BatchNorm2d(256, eps=1e-05, momentum=0.1, affine=True, track_running_stats=True)\n",
       "      (conv3): Conv2d(256, 1024, kernel_size=(1, 1), stride=(1, 1), bias=False)\n",
       "      (bn3): BatchNorm2d(1024, eps=1e-05, momentum=0.1, affine=True, track_running_stats=True)\n",
       "      (relu): ReLU(inplace=True)\n",
       "    )\n",
       "  )\n",
       "  (layer4): Sequential(\n",
       "    (0): Bottleneck(\n",
       "      (conv1): Conv2d(1024, 512, kernel_size=(1, 1), stride=(1, 1), bias=False)\n",
       "      (bn1): BatchNorm2d(512, eps=1e-05, momentum=0.1, affine=True, track_running_stats=True)\n",
       "      (conv2): Conv2d(512, 512, kernel_size=(3, 3), stride=(2, 2), padding=(1, 1), bias=False)\n",
       "      (bn2): BatchNorm2d(512, eps=1e-05, momentum=0.1, affine=True, track_running_stats=True)\n",
       "      (conv3): Conv2d(512, 2048, kernel_size=(1, 1), stride=(1, 1), bias=False)\n",
       "      (bn3): BatchNorm2d(2048, eps=1e-05, momentum=0.1, affine=True, track_running_stats=True)\n",
       "      (relu): ReLU(inplace=True)\n",
       "      (downsample): Sequential(\n",
       "        (0): Conv2d(1024, 2048, kernel_size=(1, 1), stride=(2, 2), bias=False)\n",
       "        (1): BatchNorm2d(2048, eps=1e-05, momentum=0.1, affine=True, track_running_stats=True)\n",
       "      )\n",
       "    )\n",
       "    (1): Bottleneck(\n",
       "      (conv1): Conv2d(2048, 512, kernel_size=(1, 1), stride=(1, 1), bias=False)\n",
       "      (bn1): BatchNorm2d(512, eps=1e-05, momentum=0.1, affine=True, track_running_stats=True)\n",
       "      (conv2): Conv2d(512, 512, kernel_size=(3, 3), stride=(1, 1), padding=(1, 1), bias=False)\n",
       "      (bn2): BatchNorm2d(512, eps=1e-05, momentum=0.1, affine=True, track_running_stats=True)\n",
       "      (conv3): Conv2d(512, 2048, kernel_size=(1, 1), stride=(1, 1), bias=False)\n",
       "      (bn3): BatchNorm2d(2048, eps=1e-05, momentum=0.1, affine=True, track_running_stats=True)\n",
       "      (relu): ReLU(inplace=True)\n",
       "    )\n",
       "    (2): Bottleneck(\n",
       "      (conv1): Conv2d(2048, 512, kernel_size=(1, 1), stride=(1, 1), bias=False)\n",
       "      (bn1): BatchNorm2d(512, eps=1e-05, momentum=0.1, affine=True, track_running_stats=True)\n",
       "      (conv2): Conv2d(512, 512, kernel_size=(3, 3), stride=(1, 1), padding=(1, 1), bias=False)\n",
       "      (bn2): BatchNorm2d(512, eps=1e-05, momentum=0.1, affine=True, track_running_stats=True)\n",
       "      (conv3): Conv2d(512, 2048, kernel_size=(1, 1), stride=(1, 1), bias=False)\n",
       "      (bn3): BatchNorm2d(2048, eps=1e-05, momentum=0.1, affine=True, track_running_stats=True)\n",
       "      (relu): ReLU(inplace=True)\n",
       "    )\n",
       "  )\n",
       "  (avgpool): AdaptiveAvgPool2d(output_size=(1, 1))\n",
       "  (fc): Linear(in_features=2048, out_features=1000, bias=True)\n",
       ")"
      ]
     },
     "execution_count": 3,
     "metadata": {},
     "output_type": "execute_result"
    }
   ],
   "source": [
    "untrained_model = torch.hub.load(repo, 'resnet50')\n",
    "untrained_model"
   ]
  },
  {
   "cell_type": "markdown",
   "id": "734995ac",
   "metadata": {
    "id": "734995ac"
   },
   "source": [
    "### 6.4.3 Loading Pretrained Weights"
   ]
  },
  {
   "cell_type": "code",
   "execution_count": 4,
   "id": "ade710a8",
   "metadata": {
    "colab": {
     "base_uri": "https://localhost:8080/"
    },
    "id": "ade710a8",
    "outputId": "6b8e9ab4-45b7-4119-fa98-fb83cb8edc18"
   },
   "outputs": [
    {
     "name": "stderr",
     "output_type": "stream",
     "text": [
      "Using cache found in /root/.cache/torch/hub/pytorch_vision_main\n",
      "Downloading: \"https://download.pytorch.org/models/resnet50-11ad3fa6.pth\" to /root/.cache/torch/hub/checkpoints/resnet50-11ad3fa6.pth\n",
      "100%|██████████| 97.8M/97.8M [00:00<00:00, 160MB/s]\n"
     ]
    }
   ],
   "source": [
    "model = torch.hub.load(repo, 'resnet50', weights='ResNet50_Weights.DEFAULT')"
   ]
  },
  {
   "cell_type": "code",
   "execution_count": 5,
   "id": "063448d0",
   "metadata": {
    "colab": {
     "base_uri": "https://localhost:8080/",
     "height": 35
    },
    "id": "063448d0",
    "outputId": "7639eb81-64e8-4118-f6da-476dcdf7fdbb"
   },
   "outputs": [
    {
     "data": {
      "application/vnd.google.colaboratory.intrinsic+json": {
       "type": "string"
      },
      "text/plain": [
       "'/root/.cache/torch/hub'"
      ]
     },
     "execution_count": 5,
     "metadata": {},
     "output_type": "execute_result"
    }
   ],
   "source": [
    "torch.hub.get_dir()"
   ]
  },
  {
   "cell_type": "markdown",
   "id": "cf90c68a",
   "metadata": {
    "id": "cf90c68a"
   },
   "source": [
    "## 6.5 Computer Vision"
   ]
  },
  {
   "cell_type": "markdown",
   "id": "e5f21f4b",
   "metadata": {
    "id": "e5f21f4b"
   },
   "source": [
    "### 6.5.2 Model\n",
    "\n",
    "![](https://raw.githubusercontent.com/dvgodoy/assets/main/PyTorchInPractice/images/ch0/model_step1.png)"
   ]
  },
  {
   "cell_type": "code",
   "execution_count": 6,
   "id": "a0480829",
   "metadata": {
    "colab": {
     "base_uri": "https://localhost:8080/"
    },
    "id": "a0480829",
    "outputId": "96b8bb52-7d51-4e27-8f54-c3bc51b0219c"
   },
   "outputs": [
    {
     "name": "stderr",
     "output_type": "stream",
     "text": [
      "Using cache found in /root/.cache/torch/hub/pytorch_vision_main\n"
     ]
    }
   ],
   "source": [
    "model = torch.hub.load(repo, 'resnet50', weights='ResNet50_Weights.DEFAULT')"
   ]
  },
  {
   "cell_type": "code",
   "execution_count": 7,
   "id": "7614b02a",
   "metadata": {
    "colab": {
     "base_uri": "https://localhost:8080/"
    },
    "id": "7614b02a",
    "outputId": "439be7b1-2c87-41ef-dd3b-6126c94cf6b8"
   },
   "outputs": [
    {
     "name": "stderr",
     "output_type": "stream",
     "text": [
      "Using cache found in /root/.cache/torch/hub/pytorch_vision_main\n"
     ]
    }
   ],
   "source": [
    "from torchvision.models import get_weight\n",
    "\n",
    "weights = get_weight('ResNet50_Weights.DEFAULT')\n",
    "model = torch.hub.load(repo, 'resnet50', weights=weights)"
   ]
  },
  {
   "cell_type": "code",
   "execution_count": 8,
   "id": "4e39b19d",
   "metadata": {
    "colab": {
     "base_uri": "https://localhost:8080/"
    },
    "id": "4e39b19d",
    "outputId": "9a760579-1f32-475d-f5dd-6b128b8a7e91"
   },
   "outputs": [
    {
     "data": {
      "text/plain": [
       "dict_keys(['min_size', 'categories', 'num_params', 'recipe', '_metrics', '_ops', '_file_size', '_docs'])"
      ]
     },
     "execution_count": 8,
     "metadata": {},
     "output_type": "execute_result"
    }
   ],
   "source": [
    "weights.meta.keys()"
   ]
  },
  {
   "cell_type": "markdown",
   "id": "04112253",
   "metadata": {
    "id": "04112253"
   },
   "source": [
    "### 6.5.3 Weights' Metadata"
   ]
  },
  {
   "cell_type": "code",
   "execution_count": 9,
   "id": "80687941",
   "metadata": {
    "colab": {
     "base_uri": "https://localhost:8080/"
    },
    "id": "80687941",
    "outputId": "51a3999c-b2e3-4dc8-9f88-03615fab404d"
   },
   "outputs": [
    {
     "data": {
      "text/plain": [
       "['tench',\n",
       " 'goldfish',\n",
       " 'great white shark',\n",
       " 'tiger shark',\n",
       " 'hammerhead',\n",
       " 'electric ray',\n",
       " 'stingray',\n",
       " 'cock',\n",
       " 'hen',\n",
       " 'ostrich',\n",
       " 'brambling',\n",
       " 'goldfinch',\n",
       " 'house finch',\n",
       " 'junco',\n",
       " 'indigo bunting',\n",
       " 'robin',\n",
       " 'bulbul',\n",
       " 'jay',\n",
       " 'magpie',\n",
       " 'chickadee']"
      ]
     },
     "execution_count": 9,
     "metadata": {},
     "output_type": "execute_result"
    }
   ],
   "source": [
    "categories = weights.meta['categories']\n",
    "categories[:20]"
   ]
  },
  {
   "cell_type": "code",
   "execution_count": 10,
   "id": "e3fa3786",
   "metadata": {
    "colab": {
     "base_uri": "https://localhost:8080/"
    },
    "id": "e3fa3786",
    "outputId": "2bdaca66-8498-4b34-a355-8cb0b8569504"
   },
   "outputs": [
    {
     "data": {
      "text/plain": [
       "25.557032"
      ]
     },
     "execution_count": 10,
     "metadata": {},
     "output_type": "execute_result"
    }
   ],
   "source": [
    "weights.meta['num_params']/1e6"
   ]
  },
  {
   "cell_type": "code",
   "execution_count": 11,
   "id": "fa957bd6",
   "metadata": {
    "colab": {
     "base_uri": "https://localhost:8080/"
    },
    "id": "fa957bd6",
    "outputId": "12a56959-ad5a-4671-a4c1-3ef03ca278d1"
   },
   "outputs": [
    {
     "name": "stdout",
     "output_type": "stream",
     "text": [
      "ResNet18: 11.69 million\n",
      "ResNet34: 21.80 million\n",
      "ResNet50: 25.56 million\n",
      "ResNet101: 44.55 million\n",
      "ResNet152: 60.19 million\n"
     ]
    }
   ],
   "source": [
    "for s in [18, 34, 50, 101, 152]:\n",
    "    n_params = get_weight(f'ResNet{s}_Weights.DEFAULT').meta['num_params']/1e6\n",
    "    print(f'ResNet{s}: {n_params:.2f} million')"
   ]
  },
  {
   "cell_type": "code",
   "execution_count": 12,
   "id": "e942cf8f",
   "metadata": {
    "colab": {
     "base_uri": "https://localhost:8080/"
    },
    "id": "e942cf8f",
    "outputId": "2d40a6f7-259a-4e5e-9fd4-26ec6c0865ad"
   },
   "outputs": [
    {
     "name": "stdout",
     "output_type": "stream",
     "text": [
      "ResNet18: 69.758\n",
      "ResNet34: 73.314\n",
      "ResNet50: 80.858\n",
      "ResNet101: 81.886\n",
      "ResNet152: 82.284\n"
     ]
    }
   ],
   "source": [
    "for s in [18, 34, 50, 101, 152]:\n",
    "    acc1 = get_weight(f'ResNet{s}_Weights.DEFAULT').meta['_metrics']['ImageNet-1K']['acc@1']\n",
    "    print(f'ResNet{s}: {acc1}')"
   ]
  },
  {
   "cell_type": "markdown",
   "id": "94ae14a5",
   "metadata": {
    "id": "94ae14a5"
   },
   "source": [
    "### 6.5.4 Transforms\n",
    "\n",
    "![](https://raw.githubusercontent.com/dvgodoy/assets/main/PyTorchInPractice/images/ch0/data_step3.png)"
   ]
  },
  {
   "cell_type": "code",
   "execution_count": 13,
   "id": "43a3647c",
   "metadata": {
    "colab": {
     "base_uri": "https://localhost:8080/"
    },
    "id": "43a3647c",
    "outputId": "ddf85f3e-0c31-44c6-e7da-d13bc4ed9aee"
   },
   "outputs": [
    {
     "data": {
      "text/plain": [
       "ImageClassification(\n",
       "    crop_size=[224]\n",
       "    resize_size=[232]\n",
       "    mean=[0.485, 0.456, 0.406]\n",
       "    std=[0.229, 0.224, 0.225]\n",
       "    interpolation=InterpolationMode.BILINEAR\n",
       ")"
      ]
     },
     "execution_count": 13,
     "metadata": {},
     "output_type": "execute_result"
    }
   ],
   "source": [
    "transforms_fn = weights.transforms()\n",
    "transforms_fn"
   ]
  },
  {
   "cell_type": "code",
   "execution_count": 14,
   "id": "be77b23c",
   "metadata": {
    "colab": {
     "base_uri": "https://localhost:8080/"
    },
    "id": "be77b23c",
    "outputId": "d1e8c35a-e7e9-4cd2-c5c6-a1ce375bb89a"
   },
   "outputs": [
    {
     "data": {
      "text/plain": [
       "True"
      ]
     },
     "execution_count": 14,
     "metadata": {},
     "output_type": "execute_result"
    }
   ],
   "source": [
    "isinstance(transforms_fn, torch.nn.Module)"
   ]
  },
  {
   "cell_type": "markdown",
   "id": "470acf85",
   "metadata": {
    "id": "470acf85"
   },
   "source": [
    "![](https://raw.githubusercontent.com/dvgodoy/assets/main/PyTorchInPractice/images/ch4/image_channels2.png)"
   ]
  },
  {
   "cell_type": "markdown",
   "id": "e4ef3059",
   "metadata": {
    "id": "e4ef3059"
   },
   "source": [
    "<a title=\"Gibe, CC BY-SA 3.0 &lt;http://creativecommons.org/licenses/by-sa/3.0/&gt;, via Wikimedia Commons\" href=\"https://commons.wikimedia.org/wiki/File:Igel.JPG\"><img width=\"512\" alt=\"Igel\" src=\"https://upload.wikimedia.org/wikipedia/commons/thumb/7/72/Igel.JPG/512px-Igel.JPG\"></a>\n",
    "<center><a href=\"https://commons.wikimedia.org/wiki/File:Igel.JPG\">Gibe</a>, <a href=\"http://creativecommons.org/licenses/by-sa/3.0/\">CC BY-SA 3.0</a>, via Wikimedia Commons</center>"
   ]
  },
  {
   "cell_type": "code",
   "execution_count": 15,
   "id": "c9e5d88b",
   "metadata": {
    "id": "c9e5d88b"
   },
   "outputs": [],
   "source": [
    "import numpy as np\n",
    "import requests\n",
    "from PIL import Image\n",
    "from io import BytesIO\n",
    "\n",
    "def get_image_from_url(url, headers=None):\n",
    "    if headers is None:\n",
    "        headers = {'User-Agent': 'Mozilla/5.0 (Windows NT 10.0; Win64; x64) AppleWebKit/537.36 (KHTML, like Gecko) Chrome/102.0.0.0 Safari/537.36'}\n",
    "    response = requests.get(url, headers=headers)\n",
    "    response.raise_for_status()\n",
    "    img = Image.open(BytesIO(response.content))\n",
    "    return img"
   ]
  },
  {
   "cell_type": "code",
   "execution_count": 16,
   "id": "e1720756",
   "metadata": {
    "colab": {
     "base_uri": "https://localhost:8080/"
    },
    "id": "e1720756",
    "outputId": "eaad494f-f20d-4097-9f6a-60a49bc31878"
   },
   "outputs": [
    {
     "data": {
      "text/plain": [
       "(846, 1075)"
      ]
     },
     "execution_count": 16,
     "metadata": {},
     "output_type": "execute_result"
    }
   ],
   "source": [
    "url = 'https://upload.wikimedia.org/wikipedia/commons/7/72/Igel.JPG'\n",
    "img = get_image_from_url(url)\n",
    "img.height, img.width"
   ]
  },
  {
   "cell_type": "code",
   "execution_count": 17,
   "id": "28a17f10",
   "metadata": {
    "colab": {
     "base_uri": "https://localhost:8080/"
    },
    "id": "28a17f10",
    "outputId": "6390778f-98e6-4086-c2a7-9ad491e54589"
   },
   "outputs": [
    {
     "data": {
      "text/plain": [
       "((846, 1075, 3),\n",
       " array([[206, 206, 208, ..., 255, 255, 255],\n",
       "        [197, 205, 203, ..., 255, 255, 255],\n",
       "        [207, 211, 215, ..., 254, 253, 253],\n",
       "        ...,\n",
       "        [176, 186, 200, ...,   0,   0,   0],\n",
       "        [152, 165, 179, ...,   0,   0,   0],\n",
       "        [132, 136, 145, ...,   0,   0,   0]], dtype=uint8))"
      ]
     },
     "execution_count": 17,
     "metadata": {},
     "output_type": "execute_result"
    }
   ],
   "source": [
    "array = np.array(img)\n",
    "array.shape, array[:, :, 0]"
   ]
  },
  {
   "cell_type": "code",
   "execution_count": 18,
   "id": "5c128a15",
   "metadata": {
    "colab": {
     "base_uri": "https://localhost:8080/"
    },
    "id": "5c128a15",
    "outputId": "30bfa266-acfd-4bba-c480-b5795ae39888"
   },
   "outputs": [
    {
     "data": {
      "text/plain": [
       "(torch.Size([3, 224, 224]),\n",
       " tensor([[-0.0116, -0.0458, -0.1657,  ...,  2.2318,  2.2489,  2.2318],\n",
       "         [-0.0972, -0.1828, -0.1486,  ...,  2.1804,  2.1633,  1.8722],\n",
       "         [-0.0629, -0.0458,  0.0056,  ...,  1.7523,  2.1290,  1.7865],\n",
       "         ...,\n",
       "         [ 2.1975,  2.1633,  2.0434,  ..., -0.4226, -0.7993, -1.2103],\n",
       "         [ 1.8722,  2.0777,  2.1633,  ..., -1.1760, -0.9877, -0.7650],\n",
       "         [-0.6965,  0.2111,  0.7591,  ..., -1.5185, -1.3815, -1.3815]]))"
      ]
     },
     "execution_count": 18,
     "metadata": {},
     "output_type": "execute_result"
    }
   ],
   "source": [
    "preproc_img = transforms_fn(img)\n",
    "preproc_img.shape, preproc_img[0, :, :]"
   ]
  },
  {
   "cell_type": "code",
   "execution_count": 19,
   "id": "102b8c2a",
   "metadata": {
    "colab": {
     "base_uri": "https://localhost:8080/",
     "height": 241
    },
    "id": "102b8c2a",
    "outputId": "b8d89b1b-cecb-4e97-c261-e6de166cc7c6"
   },
   "outputs": [
    {
     "data": {
      "image/png": "[encoded data removed]",
      "text/plain": [
       "<PIL.Image.Image image mode=RGB size=224x224 at 0x7D4AAD510970>"
      ]
     },
     "execution_count": 19,
     "metadata": {},
     "output_type": "execute_result"
    }
   ],
   "source": [
    "from torchvision.transforms import ToPILImage\n",
    "\n",
    "ToPILImage()(preproc_img)"
   ]
  },
  {
   "cell_type": "markdown",
   "id": "0b439a89",
   "metadata": {
    "id": "0b439a89"
   },
   "source": [
    "### 6.5.5 Inference\n",
    "\n",
    "![](https://raw.githubusercontent.com/dvgodoy/assets/main/PyTorchInPractice/images/ch0/model_step5.png)"
   ]
  },
  {
   "cell_type": "code",
   "execution_count": 20,
   "id": "5fbc8c92",
   "metadata": {
    "colab": {
     "base_uri": "https://localhost:8080/"
    },
    "id": "5fbc8c92",
    "outputId": "d3c26c27-c0b2-4f02-f08f-cc3f1ab5c3dc"
   },
   "outputs": [
    {
     "data": {
      "text/plain": [
       "torch.Size([1, 3, 224, 224])"
      ]
     },
     "execution_count": 20,
     "metadata": {},
     "output_type": "execute_result"
    }
   ],
   "source": [
    "mini_batch = preproc_img.unsqueeze(0)\n",
    "mini_batch.shape"
   ]
  },
  {
   "cell_type": "markdown",
   "id": "2baee311",
   "metadata": {
    "id": "2baee311"
   },
   "source": [
    "![](https://raw.githubusercontent.com/dvgodoy/assets/main/PyTorchInPractice/images/ch4/logits.png)\n",
    "    \n",
    "   \n",
    "![](https://raw.githubusercontent.com/dvgodoy/assets/main/PyTorchInPractice/images/ch4/logits_probs.png)"
   ]
  },
  {
   "cell_type": "code",
   "execution_count": 21,
   "id": "34763c21",
   "metadata": {
    "colab": {
     "base_uri": "https://localhost:8080/"
    },
    "id": "34763c21",
    "outputId": "69deccab-4312-4314-f6f4-7b79b638f57d"
   },
   "outputs": [
    {
     "data": {
      "text/plain": [
       "(tensor([185]), 'Norfolk terrier')"
      ]
     },
     "execution_count": 21,
     "metadata": {},
     "output_type": "execute_result"
    }
   ],
   "source": [
    "logits = model(preproc_img.unsqueeze(0))\n",
    "highest_logit = logits.argmax(axis=1)\n",
    "\n",
    "highest_logit, categories[highest_logit]"
   ]
  },
  {
   "cell_type": "code",
   "execution_count": 22,
   "id": "54ba8868",
   "metadata": {
    "colab": {
     "base_uri": "https://localhost:8080/"
    },
    "id": "54ba8868",
    "outputId": "5cdf22d0-5d45-491c-bcf4-735899d08e75"
   },
   "outputs": [
    {
     "data": {
      "text/plain": [
       "(tensor([334]), 'porcupine')"
      ]
     },
     "execution_count": 22,
     "metadata": {},
     "output_type": "execute_result"
    }
   ],
   "source": [
    "model.eval()\n",
    "logits = model(preproc_img.unsqueeze(0))\n",
    "highest_logit = logits.argmax(axis=1)\n",
    "\n",
    "highest_logit, categories[highest_logit]"
   ]
  },
  {
   "cell_type": "markdown",
   "id": "645c9e05",
   "metadata": {
    "id": "645c9e05"
   },
   "source": [
    "#### 6.5.5.1 Probabilities"
   ]
  },
  {
   "cell_type": "code",
   "execution_count": 23,
   "id": "de45892e",
   "metadata": {
    "colab": {
     "base_uri": "https://localhost:8080/"
    },
    "id": "de45892e",
    "outputId": "4bb43a81-3dfc-47af-c49f-e2d9308b4e82"
   },
   "outputs": [
    {
     "data": {
      "text/plain": [
       "(torch.Size([1, 1000]), tensor([1.0000], grad_fn=<SumBackward1>))"
      ]
     },
     "execution_count": 23,
     "metadata": {},
     "output_type": "execute_result"
    }
   ],
   "source": [
    "import torch.nn.functional as F\n",
    "probabilities = F.softmax(logits, dim=-1)\n",
    "probabilities.shape, probabilities.sum(dim=-1)"
   ]
  },
  {
   "cell_type": "code",
   "execution_count": 24,
   "id": "71f8aac6",
   "metadata": {
    "colab": {
     "base_uri": "https://localhost:8080/"
    },
    "id": "71f8aac6",
    "outputId": "86aee3be-155d-402c-de38-90cb7add0230"
   },
   "outputs": [
    {
     "data": {
      "text/plain": [
       "(tensor([[0.3559]], grad_fn=<TopkBackward0>), tensor([[334]]))"
      ]
     },
     "execution_count": 24,
     "metadata": {},
     "output_type": "execute_result"
    }
   ],
   "source": [
    "values, indices = torch.topk(probabilities, k=1)\n",
    "values, indices"
   ]
  },
  {
   "cell_type": "code",
   "execution_count": 25,
   "id": "11c3e08f",
   "metadata": {
    "colab": {
     "base_uri": "https://localhost:8080/",
     "height": 35
    },
    "id": "11c3e08f",
    "outputId": "8b1b602a-411e-4fe7-e75a-f9818b19e794"
   },
   "outputs": [
    {
     "data": {
      "application/vnd.google.colaboratory.intrinsic+json": {
       "type": "string"
      },
      "text/plain": [
       "'porcupine'"
      ]
     },
     "execution_count": 25,
     "metadata": {},
     "output_type": "execute_result"
    }
   ],
   "source": [
    "categories[indices[0]]"
   ]
  },
  {
   "cell_type": "markdown",
   "id": "08ad7cdb",
   "metadata": {
    "id": "08ad7cdb"
   },
   "source": [
    "## 6.6 Dropout\n",
    "    \n",
    "![](https://raw.githubusercontent.com/dvgodoy/assets/main/PyTorchInPractice/images/ch0/model_step1.png)"
   ]
  },
  {
   "cell_type": "code",
   "execution_count": 26,
   "id": "110811c1",
   "metadata": {
    "id": "110811c1"
   },
   "outputs": [],
   "source": [
    "import torch.nn as nn\n",
    "\n",
    "dropping_model = nn.Sequential(nn.Dropout(p=0.5))"
   ]
  },
  {
   "cell_type": "code",
   "execution_count": 27,
   "id": "72806c28",
   "metadata": {
    "colab": {
     "base_uri": "https://localhost:8080/"
    },
    "id": "72806c28",
    "outputId": "fbd7bcbc-e1f2-4410-d7a1-ab589a3a5a84"
   },
   "outputs": [
    {
     "data": {
      "text/plain": [
       "tensor([-2.5264,  0.6232, -0.1237,  0.8670, -1.5351, -0.3728, -0.2706,  0.0397,\n",
       "        -0.3718,  1.0280])"
      ]
     },
     "execution_count": 27,
     "metadata": {},
     "output_type": "execute_result"
    }
   ],
   "source": [
    "random_input = torch.randn(10)\n",
    "random_input"
   ]
  },
  {
   "cell_type": "code",
   "execution_count": 28,
   "id": "9f9a9e92",
   "metadata": {
    "colab": {
     "base_uri": "https://localhost:8080/"
    },
    "id": "9f9a9e92",
    "outputId": "6347f93c-f08f-435c-cc9c-bbdc73f5db39"
   },
   "outputs": [
    {
     "data": {
      "text/plain": [
       "tensor([-5.0528,  1.2464, -0.0000,  0.0000, -0.0000, -0.7456, -0.5413,  0.0000,\n",
       "        -0.0000,  2.0559])"
      ]
     },
     "execution_count": 28,
     "metadata": {},
     "output_type": "execute_result"
    }
   ],
   "source": [
    "dropping_model.train()\n",
    "output_train = dropping_model(random_input)\n",
    "output_train"
   ]
  },
  {
   "cell_type": "code",
   "execution_count": 29,
   "id": "29aa712a",
   "metadata": {
    "colab": {
     "base_uri": "https://localhost:8080/"
    },
    "id": "29aa712a",
    "outputId": "d70ce3ec-0d4b-4a79-8b04-25e9dd795b22"
   },
   "outputs": [
    {
     "data": {
      "text/plain": [
       "tensor([-2.5264,  0.6232, -0.1237,  0.8670, -1.5351, -0.3728, -0.2706,  0.0397,\n",
       "        -0.3718,  1.0280])"
      ]
     },
     "execution_count": 29,
     "metadata": {},
     "output_type": "execute_result"
    }
   ],
   "source": [
    "dropping_model.eval()\n",
    "output_eval = dropping_model(random_input)\n",
    "output_eval"
   ]
  },
  {
   "cell_type": "markdown",
   "id": "d10c2aeb",
   "metadata": {
    "id": "d10c2aeb"
   },
   "source": [
    "### 6.7 ImageFolder Dataset\n",
    "    \n",
    "![](https://raw.githubusercontent.com/dvgodoy/assets/main/PyTorchInPractice/images/ch0/data_step4.png)"
   ]
  },
  {
   "cell_type": "markdown",
   "id": "a293702a",
   "metadata": {
    "id": "a293702a"
   },
   "source": [
    "### 6.7.2 Downloading and Saving Images"
   ]
  },
  {
   "cell_type": "code",
   "execution_count": 30,
   "id": "c9eeae93",
   "metadata": {
    "id": "c9eeae93"
   },
   "outputs": [],
   "source": [
    "import os\n",
    "import requests\n",
    "from io import BytesIO\n",
    "from PIL import Image\n",
    "\n",
    "def save_images(folder, search_term, count=10):\n",
    "    if not os.path.exists(folder):\n",
    "        os.mkdir(folder)\n",
    "\n",
    "    SEARCH_URL = \"https://huggingface.co/api/experimental/images/search\"\n",
    "\n",
    "    params = {\"q\": search_term, \"license\": \"public\", \"imageType\": \"photo\", \"count\": count}\n",
    "\n",
    "    resp = requests.get(SEARCH_URL, params=params)\n",
    "    if resp.status_code == 200:\n",
    "        content = resp.json()['value']\n",
    "        urls = [img['thumbnailUrl'] for img in content]\n",
    "\n",
    "        folder = os.path.join(folder, search_term)\n",
    "        if not os.path.exists(folder):\n",
    "            os.mkdir(folder)\n",
    "\n",
    "        i = 0\n",
    "        for url in urls:\n",
    "            try:\n",
    "                img = get_image_from_url(url)\n",
    "                fname = os.path.join(folder, f'{i}.jpg')\n",
    "                img.save(fname)\n",
    "                i += 1\n",
    "            except Exception:\n",
    "                pass\n",
    "        print(f'Retrieved {i} images for {search_term}')\n",
    "    else:\n",
    "        print(f'Failed to retrieve URLs for {search_term}')"
   ]
  },
  {
   "cell_type": "code",
   "execution_count": 31,
   "id": "011da922",
   "metadata": {
    "colab": {
     "base_uri": "https://localhost:8080/"
    },
    "id": "011da922",
    "outputId": "e1e07e86-bf96-4da7-fdf7-8fa7af28bb47"
   },
   "outputs": [
    {
     "name": "stdout",
     "output_type": "stream",
     "text": [
      "Retrieved 10 images for hedgehog\n",
      "Retrieved 10 images for ostrich\n",
      "Retrieved 10 images for armadillo\n"
     ]
    }
   ],
   "source": [
    "targets = ['hedgehog', 'ostrich', 'armadillo']\n",
    "\n",
    "for term in targets:\n",
    "    save_images('./animals', term)"
   ]
  },
  {
   "cell_type": "code",
   "execution_count": 32,
   "id": "5301c247",
   "metadata": {
    "colab": {
     "base_uri": "https://localhost:8080/"
    },
    "id": "5301c247",
    "outputId": "d320fb43-1b79-42a0-b4db-db87c41ed697"
   },
   "outputs": [
    {
     "name": "stdout",
     "output_type": "stream",
     "text": [
      "total 12\n",
      "drwxr-xr-x 2 root root 4096 Jul 20 19:10 armadillo\n",
      "drwxr-xr-x 2 root root 4096 Jul 20 19:10 hedgehog\n",
      "drwxr-xr-x 2 root root 4096 Jul 20 19:10 ostrich\n"
     ]
    }
   ],
   "source": [
    "!ls -l ./animals"
   ]
  },
  {
   "cell_type": "code",
   "execution_count": 33,
   "id": "aab0ca74",
   "metadata": {
    "colab": {
     "base_uri": "https://localhost:8080/"
    },
    "id": "aab0ca74",
    "outputId": "af2b5b21-d6fb-4c39-8837-c5023a893e71"
   },
   "outputs": [
    {
     "name": "stdout",
     "output_type": "stream",
     "text": [
      "total 480\n",
      "-rw-r--r-- 1 root root 38291 Jul 20 19:10 0.jpg\n",
      "-rw-r--r-- 1 root root  7458 Jul 20 19:10 1.jpg\n",
      "-rw-r--r-- 1 root root 41981 Jul 20 19:10 2.jpg\n",
      "-rw-r--r-- 1 root root 41132 Jul 20 19:10 3.jpg\n",
      "-rw-r--r-- 1 root root 51142 Jul 20 19:10 4.jpg\n",
      "-rw-r--r-- 1 root root 59301 Jul 20 19:10 5.jpg\n",
      "-rw-r--r-- 1 root root 41383 Jul 20 19:10 6.jpg\n",
      "-rw-r--r-- 1 root root 73822 Jul 20 19:10 7.jpg\n",
      "-rw-r--r-- 1 root root 58300 Jul 20 19:10 8.jpg\n",
      "-rw-r--r-- 1 root root 51982 Jul 20 19:10 9.jpg\n"
     ]
    }
   ],
   "source": [
    "!ls -l ./animals/armadillo"
   ]
  },
  {
   "cell_type": "code",
   "execution_count": 34,
   "id": "800e713b",
   "metadata": {
    "id": "800e713b"
   },
   "outputs": [],
   "source": [
    "from torchvision.datasets import ImageFolder\n",
    "from torchvision.models import get_weight\n",
    "\n",
    "weights = get_weight('ResNet50_Weights.DEFAULT')\n",
    "transforms_fn = weights.transforms()\n",
    "\n",
    "dataset = ImageFolder('./animals', transform=transforms_fn)\n",
    "targets = dataset.classes"
   ]
  },
  {
   "cell_type": "code",
   "execution_count": 35,
   "id": "fc66e791",
   "metadata": {
    "colab": {
     "base_uri": "https://localhost:8080/"
    },
    "id": "fc66e791",
    "outputId": "20b784a0-1d88-477e-c852-b432b7003504"
   },
   "outputs": [
    {
     "data": {
      "text/plain": [
       "(Dataset ImageFolder\n",
       "     Number of datapoints: 30\n",
       "     Root location: ./animals\n",
       "     StandardTransform\n",
       " Transform: ImageClassification(\n",
       "                crop_size=[224]\n",
       "                resize_size=[232]\n",
       "                mean=[0.485, 0.456, 0.406]\n",
       "                std=[0.229, 0.224, 0.225]\n",
       "                interpolation=InterpolationMode.BILINEAR\n",
       "            ),\n",
       " ['armadillo', 'hedgehog', 'ostrich'])"
      ]
     },
     "execution_count": 35,
     "metadata": {},
     "output_type": "execute_result"
    }
   ],
   "source": [
    "dataset, targets"
   ]
  },
  {
   "cell_type": "code",
   "execution_count": 36,
   "id": "f8a641df",
   "metadata": {
    "colab": {
     "base_uri": "https://localhost:8080/"
    },
    "id": "f8a641df",
    "outputId": "fb42eecb-d441-424f-f21a-35e59ae6af21"
   },
   "outputs": [
    {
     "data": {
      "text/plain": [
       "('armadillo',\n",
       " tensor([[[ 0.0227, -0.0287, -0.0972,  ..., -0.8335, -0.9020, -0.9192],\n",
       "          [-0.0116, -0.0629, -0.1314,  ..., -0.7822, -0.8507, -0.8849],\n",
       "          [ 0.0227, -0.0801, -0.1828,  ..., -0.6623, -0.7137, -0.7993],\n",
       "          ...,\n",
       "          [ 0.2282,  0.2282,  0.3652,  ..., -0.8849, -0.5253, -0.5424],\n",
       "          [ 0.5193,  0.6049,  0.6392,  ..., -0.3712, -0.3712, -0.4397],\n",
       "          [ 0.5193,  0.7933,  0.8447,  ...,  0.0056, -0.1314, -0.1999]],\n",
       " \n",
       "         [[-0.2150, -0.2675, -0.3375,  ..., -0.9153, -0.9678, -0.9853],\n",
       "          [-0.2500, -0.3025, -0.3725,  ..., -0.8627, -0.9153, -0.9503],\n",
       "          [-0.2150, -0.3200, -0.4251,  ..., -0.7402, -0.7752, -0.8627],\n",
       "          ...,\n",
       "          [-0.0749, -0.1275, -0.0399,  ..., -0.8627, -0.5301, -0.5476],\n",
       "          [ 0.1176,  0.1527,  0.1352,  ..., -0.5126, -0.5301, -0.5826],\n",
       "          [ 0.0301,  0.2752,  0.2927,  ..., -0.2675, -0.3725, -0.4426]],\n",
       " \n",
       "         [[-0.2881, -0.3404, -0.4101,  ..., -0.8981, -0.9156, -0.9330],\n",
       "          [-0.3230, -0.3753, -0.4450,  ..., -0.8633, -0.8633, -0.8981],\n",
       "          [-0.2881, -0.3927, -0.4973,  ..., -0.7413, -0.7238, -0.8110],\n",
       "          ...,\n",
       "          [-0.1835, -0.2184, -0.1312,  ..., -0.6715, -0.3578, -0.3753],\n",
       "          [ 0.0779,  0.1302,  0.1128,  ..., -0.4101, -0.4450, -0.4973],\n",
       "          [ 0.0431,  0.3045,  0.3219,  ..., -0.2532, -0.3753, -0.4450]]]))"
      ]
     },
     "execution_count": 36,
     "metadata": {},
     "output_type": "execute_result"
    }
   ],
   "source": [
    "x, y = dataset[0]\n",
    "targets[y], x"
   ]
  },
  {
   "cell_type": "code",
   "execution_count": 37,
   "id": "af513b7c",
   "metadata": {
    "colab": {
     "base_uri": "https://localhost:8080/",
     "height": 35
    },
    "id": "af513b7c",
    "outputId": "f5f118f6-76c0-4712-8c0b-a8624e297bf7"
   },
   "outputs": [
    {
     "data": {
      "application/vnd.google.colaboratory.intrinsic+json": {
       "type": "string"
      },
      "text/plain": [
       "'armadillo'"
      ]
     },
     "execution_count": 37,
     "metadata": {},
     "output_type": "execute_result"
    }
   ],
   "source": [
    "model.eval()\n",
    "mini_batch = x.unsqueeze(0)\n",
    "\n",
    "logits = model(mini_batch)\n",
    "pred_idx = logits.argmax(dim=1)\n",
    "\n",
    "categories[pred_idx]"
   ]
  }
 ],
 "metadata": {
  "accelerator": "GPU",
  "colab": {
   "gpuType": "T4",
   "provenance": []
  },
  "gpuClass": "standard",
  "kernelspec": {
   "display_name": "Python 3 (ipykernel)",
   "language": "python",
   "name": "python3"
  },
  "language_info": {
   "codemirror_mode": {
    "name": "ipython",
    "version": 3
   },
   "file_extension": ".py",
   "mimetype": "text/x-python",
   "name": "python",
   "nbconvert_exporter": "python",
   "pygments_lexer": "ipython3",
   "version": "3.9.0"
  }
 },
 "nbformat": 4,
 "nbformat_minor": 5
}
