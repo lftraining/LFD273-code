{
 "cells": [
  {
   "cell_type": "markdown",
   "id": "206de875",
   "metadata": {
    "id": "14582896"
   },
   "source": [
    "# Chapter 13: Models for Object Detection and Image Segmentation"
   ]
  },
  {
   "cell_type": "markdown",
   "id": "5044e465",
   "metadata": {
    "id": "b8c82899"
   },
   "source": [
    "## 13.3 Models"
   ]
  },
  {
   "cell_type": "markdown",
   "id": "516fb782",
   "metadata": {
    "id": "9cdc2c3c"
   },
   "source": [
    "### 13.3.4 Faster R-CNN and Mask R-CNN\n",
    "\n",
    "![](https://raw.githubusercontent.com/dvgodoy/assets/main/PyTorchInPractice/images/ch0/model_step1.png)"
   ]
  },
  {
   "cell_type": "code",
   "execution_count": 4,
   "id": "d71bc54a",
   "metadata": {
    "id": "f814c873"
   },
   "outputs": [],
   "source": [
    "from torchvision.models import get_weight\n",
    "\n",
    "weights = get_weight('FasterRCNN_ResNet50_FPN_Weights.DEFAULT')"
   ]
  },
  {
   "cell_type": "code",
   "execution_count": 5,
   "id": "2b47a1fe",
   "metadata": {
    "colab": {
     "base_uri": "https://localhost:8080/"
    },
    "id": "afd0b407",
    "outputId": "25dddf05-c100-48b4-e983-d12c1660701d"
   },
   "outputs": [
    {
     "data": {
      "text/plain": [
       "array(['__background__', 'person', 'bicycle', 'car', 'motorcycle',\n",
       "       'airplane', 'bus', 'train', 'truck', 'boat', 'traffic light',\n",
       "       'fire hydrant', 'N/A', 'stop sign', 'parking meter', 'bench',\n",
       "       'bird', 'cat', 'dog', 'horse', 'sheep', 'cow', 'elephant', 'bear',\n",
       "       'zebra', 'giraffe', 'N/A', 'backpack', 'umbrella', 'N/A', 'N/A',\n",
       "       'handbag', 'tie', 'suitcase', 'frisbee', 'skis', 'snowboard',\n",
       "       'sports ball', 'kite', 'baseball bat', 'baseball glove',\n",
       "       'skateboard', 'surfboard', 'tennis racket', 'bottle', 'N/A',\n",
       "       'wine glass', 'cup', 'fork', 'knife', 'spoon', 'bowl', 'banana',\n",
       "       'apple', 'sandwich', 'orange', 'broccoli', 'carrot', 'hot dog',\n",
       "       'pizza', 'donut', 'cake', 'chair', 'couch', 'potted plant', 'bed',\n",
       "       'N/A', 'dining table', 'N/A', 'N/A', 'toilet', 'N/A', 'tv',\n",
       "       'laptop', 'mouse', 'remote', 'keyboard', 'cell phone', 'microwave',\n",
       "       'oven', 'toaster', 'sink', 'refrigerator', 'N/A', 'book', 'clock',\n",
       "       'vase', 'scissors', 'teddy bear', 'hair drier', 'toothbrush'],\n",
       "      dtype='<U14')"
      ]
     },
     "execution_count": 5,
     "metadata": {},
     "output_type": "execute_result"
    }
   ],
   "source": [
    "import numpy as np\n",
    "\n",
    "categories = np.array(weights.meta['categories'])\n",
    "categories"
   ]
  },
  {
   "cell_type": "code",
   "execution_count": 6,
   "id": "83511e8f",
   "metadata": {
    "colab": {
     "base_uri": "https://localhost:8080/"
    },
    "id": "0bb6c9f2",
    "outputId": "5c67eaa4-8286-478f-a0d7-1aa57b296b1f"
   },
   "outputs": [
    {
     "name": "stderr",
     "output_type": "stream",
     "text": [
      "Downloading: \"https://download.pytorch.org/models/fasterrcnn_resnet50_fpn_coco-258fb6c6.pth\" to /root/.cache/torch/hub/checkpoints/fasterrcnn_resnet50_fpn_coco-258fb6c6.pth\n",
      "100%|██████████| 160M/160M [00:02<00:00, 80.2MB/s]\n"
     ]
    },
    {
     "data": {
      "text/plain": [
       "FasterRCNN(\n",
       "  (transform): GeneralizedRCNNTransform(\n",
       "      Normalize(mean=[0.485, 0.456, 0.406], std=[0.229, 0.224, 0.225])\n",
       "      Resize(min_size=(800,), max_size=1333, mode='bilinear')\n",
       "  )\n",
       "  (backbone): BackboneWithFPN(\n",
       "    (body): IntermediateLayerGetter(\n",
       "      (conv1): Conv2d(3, 64, kernel_size=(7, 7), stride=(2, 2), padding=(3, 3), bias=False)\n",
       "      (bn1): FrozenBatchNorm2d(64, eps=0.0)\n",
       "      (relu): ReLU(inplace=True)\n",
       "      (maxpool): MaxPool2d(kernel_size=3, stride=2, padding=1, dilation=1, ceil_mode=False)\n",
       "      (layer1): Sequential(\n",
       "        (0): Bottleneck(\n",
       "          (conv1): Conv2d(64, 64, kernel_size=(1, 1), stride=(1, 1), bias=False)\n",
       "          (bn1): FrozenBatchNorm2d(64, eps=0.0)\n",
       "          (conv2): Conv2d(64, 64, kernel_size=(3, 3), stride=(1, 1), padding=(1, 1), bias=False)\n",
       "          (bn2): FrozenBatchNorm2d(64, eps=0.0)\n",
       "          (conv3): Conv2d(64, 256, kernel_size=(1, 1), stride=(1, 1), bias=False)\n",
       "          (bn3): FrozenBatchNorm2d(256, eps=0.0)\n",
       "          (relu): ReLU(inplace=True)\n",
       "          (downsample): Sequential(\n",
       "            (0): Conv2d(64, 256, kernel_size=(1, 1), stride=(1, 1), bias=False)\n",
       "            (1): FrozenBatchNorm2d(256, eps=0.0)\n",
       "          )\n",
       "        )\n",
       "        (1): Bottleneck(\n",
       "          (conv1): Conv2d(256, 64, kernel_size=(1, 1), stride=(1, 1), bias=False)\n",
       "          (bn1): FrozenBatchNorm2d(64, eps=0.0)\n",
       "          (conv2): Conv2d(64, 64, kernel_size=(3, 3), stride=(1, 1), padding=(1, 1), bias=False)\n",
       "          (bn2): FrozenBatchNorm2d(64, eps=0.0)\n",
       "          (conv3): Conv2d(64, 256, kernel_size=(1, 1), stride=(1, 1), bias=False)\n",
       "          (bn3): FrozenBatchNorm2d(256, eps=0.0)\n",
       "          (relu): ReLU(inplace=True)\n",
       "        )\n",
       "        (2): Bottleneck(\n",
       "          (conv1): Conv2d(256, 64, kernel_size=(1, 1), stride=(1, 1), bias=False)\n",
       "          (bn1): FrozenBatchNorm2d(64, eps=0.0)\n",
       "          (conv2): Conv2d(64, 64, kernel_size=(3, 3), stride=(1, 1), padding=(1, 1), bias=False)\n",
       "          (bn2): FrozenBatchNorm2d(64, eps=0.0)\n",
       "          (conv3): Conv2d(64, 256, kernel_size=(1, 1), stride=(1, 1), bias=False)\n",
       "          (bn3): FrozenBatchNorm2d(256, eps=0.0)\n",
       "          (relu): ReLU(inplace=True)\n",
       "        )\n",
       "      )\n",
       "      (layer2): Sequential(\n",
       "        (0): Bottleneck(\n",
       "          (conv1): Conv2d(256, 128, kernel_size=(1, 1), stride=(1, 1), bias=False)\n",
       "          (bn1): FrozenBatchNorm2d(128, eps=0.0)\n",
       "          (conv2): Conv2d(128, 128, kernel_size=(3, 3), stride=(2, 2), padding=(1, 1), bias=False)\n",
       "          (bn2): FrozenBatchNorm2d(128, eps=0.0)\n",
       "          (conv3): Conv2d(128, 512, kernel_size=(1, 1), stride=(1, 1), bias=False)\n",
       "          (bn3): FrozenBatchNorm2d(512, eps=0.0)\n",
       "          (relu): ReLU(inplace=True)\n",
       "          (downsample): Sequential(\n",
       "            (0): Conv2d(256, 512, kernel_size=(1, 1), stride=(2, 2), bias=False)\n",
       "            (1): FrozenBatchNorm2d(512, eps=0.0)\n",
       "          )\n",
       "        )\n",
       "        (1): Bottleneck(\n",
       "          (conv1): Conv2d(512, 128, kernel_size=(1, 1), stride=(1, 1), bias=False)\n",
       "          (bn1): FrozenBatchNorm2d(128, eps=0.0)\n",
       "          (conv2): Conv2d(128, 128, kernel_size=(3, 3), stride=(1, 1), padding=(1, 1), bias=False)\n",
       "          (bn2): FrozenBatchNorm2d(128, eps=0.0)\n",
       "          (conv3): Conv2d(128, 512, kernel_size=(1, 1), stride=(1, 1), bias=False)\n",
       "          (bn3): FrozenBatchNorm2d(512, eps=0.0)\n",
       "          (relu): ReLU(inplace=True)\n",
       "        )\n",
       "        (2): Bottleneck(\n",
       "          (conv1): Conv2d(512, 128, kernel_size=(1, 1), stride=(1, 1), bias=False)\n",
       "          (bn1): FrozenBatchNorm2d(128, eps=0.0)\n",
       "          (conv2): Conv2d(128, 128, kernel_size=(3, 3), stride=(1, 1), padding=(1, 1), bias=False)\n",
       "          (bn2): FrozenBatchNorm2d(128, eps=0.0)\n",
       "          (conv3): Conv2d(128, 512, kernel_size=(1, 1), stride=(1, 1), bias=False)\n",
       "          (bn3): FrozenBatchNorm2d(512, eps=0.0)\n",
       "          (relu): ReLU(inplace=True)\n",
       "        )\n",
       "        (3): Bottleneck(\n",
       "          (conv1): Conv2d(512, 128, kernel_size=(1, 1), stride=(1, 1), bias=False)\n",
       "          (bn1): FrozenBatchNorm2d(128, eps=0.0)\n",
       "          (conv2): Conv2d(128, 128, kernel_size=(3, 3), stride=(1, 1), padding=(1, 1), bias=False)\n",
       "          (bn2): FrozenBatchNorm2d(128, eps=0.0)\n",
       "          (conv3): Conv2d(128, 512, kernel_size=(1, 1), stride=(1, 1), bias=False)\n",
       "          (bn3): FrozenBatchNorm2d(512, eps=0.0)\n",
       "          (relu): ReLU(inplace=True)\n",
       "        )\n",
       "      )\n",
       "      (layer3): Sequential(\n",
       "        (0): Bottleneck(\n",
       "          (conv1): Conv2d(512, 256, kernel_size=(1, 1), stride=(1, 1), bias=False)\n",
       "          (bn1): FrozenBatchNorm2d(256, eps=0.0)\n",
       "          (conv2): Conv2d(256, 256, kernel_size=(3, 3), stride=(2, 2), padding=(1, 1), bias=False)\n",
       "          (bn2): FrozenBatchNorm2d(256, eps=0.0)\n",
       "          (conv3): Conv2d(256, 1024, kernel_size=(1, 1), stride=(1, 1), bias=False)\n",
       "          (bn3): FrozenBatchNorm2d(1024, eps=0.0)\n",
       "          (relu): ReLU(inplace=True)\n",
       "          (downsample): Sequential(\n",
       "            (0): Conv2d(512, 1024, kernel_size=(1, 1), stride=(2, 2), bias=False)\n",
       "            (1): FrozenBatchNorm2d(1024, eps=0.0)\n",
       "          )\n",
       "        )\n",
       "        (1): Bottleneck(\n",
       "          (conv1): Conv2d(1024, 256, kernel_size=(1, 1), stride=(1, 1), bias=False)\n",
       "          (bn1): FrozenBatchNorm2d(256, eps=0.0)\n",
       "          (conv2): Conv2d(256, 256, kernel_size=(3, 3), stride=(1, 1), padding=(1, 1), bias=False)\n",
       "          (bn2): FrozenBatchNorm2d(256, eps=0.0)\n",
       "          (conv3): Conv2d(256, 1024, kernel_size=(1, 1), stride=(1, 1), bias=False)\n",
       "          (bn3): FrozenBatchNorm2d(1024, eps=0.0)\n",
       "          (relu): ReLU(inplace=True)\n",
       "        )\n",
       "        (2): Bottleneck(\n",
       "          (conv1): Conv2d(1024, 256, kernel_size=(1, 1), stride=(1, 1), bias=False)\n",
       "          (bn1): FrozenBatchNorm2d(256, eps=0.0)\n",
       "          (conv2): Conv2d(256, 256, kernel_size=(3, 3), stride=(1, 1), padding=(1, 1), bias=False)\n",
       "          (bn2): FrozenBatchNorm2d(256, eps=0.0)\n",
       "          (conv3): Conv2d(256, 1024, kernel_size=(1, 1), stride=(1, 1), bias=False)\n",
       "          (bn3): FrozenBatchNorm2d(1024, eps=0.0)\n",
       "          (relu): ReLU(inplace=True)\n",
       "        )\n",
       "        (3): Bottleneck(\n",
       "          (conv1): Conv2d(1024, 256, kernel_size=(1, 1), stride=(1, 1), bias=False)\n",
       "          (bn1): FrozenBatchNorm2d(256, eps=0.0)\n",
       "          (conv2): Conv2d(256, 256, kernel_size=(3, 3), stride=(1, 1), padding=(1, 1), bias=False)\n",
       "          (bn2): FrozenBatchNorm2d(256, eps=0.0)\n",
       "          (conv3): Conv2d(256, 1024, kernel_size=(1, 1), stride=(1, 1), bias=False)\n",
       "          (bn3): FrozenBatchNorm2d(1024, eps=0.0)\n",
       "          (relu): ReLU(inplace=True)\n",
       "        )\n",
       "        (4): Bottleneck(\n",
       "          (conv1): Conv2d(1024, 256, kernel_size=(1, 1), stride=(1, 1), bias=False)\n",
       "          (bn1): FrozenBatchNorm2d(256, eps=0.0)\n",
       "          (conv2): Conv2d(256, 256, kernel_size=(3, 3), stride=(1, 1), padding=(1, 1), bias=False)\n",
       "          (bn2): FrozenBatchNorm2d(256, eps=0.0)\n",
       "          (conv3): Conv2d(256, 1024, kernel_size=(1, 1), stride=(1, 1), bias=False)\n",
       "          (bn3): FrozenBatchNorm2d(1024, eps=0.0)\n",
       "          (relu): ReLU(inplace=True)\n",
       "        )\n",
       "        (5): Bottleneck(\n",
       "          (conv1): Conv2d(1024, 256, kernel_size=(1, 1), stride=(1, 1), bias=False)\n",
       "          (bn1): FrozenBatchNorm2d(256, eps=0.0)\n",
       "          (conv2): Conv2d(256, 256, kernel_size=(3, 3), stride=(1, 1), padding=(1, 1), bias=False)\n",
       "          (bn2): FrozenBatchNorm2d(256, eps=0.0)\n",
       "          (conv3): Conv2d(256, 1024, kernel_size=(1, 1), stride=(1, 1), bias=False)\n",
       "          (bn3): FrozenBatchNorm2d(1024, eps=0.0)\n",
       "          (relu): ReLU(inplace=True)\n",
       "        )\n",
       "      )\n",
       "      (layer4): Sequential(\n",
       "        (0): Bottleneck(\n",
       "          (conv1): Conv2d(1024, 512, kernel_size=(1, 1), stride=(1, 1), bias=False)\n",
       "          (bn1): FrozenBatchNorm2d(512, eps=0.0)\n",
       "          (conv2): Conv2d(512, 512, kernel_size=(3, 3), stride=(2, 2), padding=(1, 1), bias=False)\n",
       "          (bn2): FrozenBatchNorm2d(512, eps=0.0)\n",
       "          (conv3): Conv2d(512, 2048, kernel_size=(1, 1), stride=(1, 1), bias=False)\n",
       "          (bn3): FrozenBatchNorm2d(2048, eps=0.0)\n",
       "          (relu): ReLU(inplace=True)\n",
       "          (downsample): Sequential(\n",
       "            (0): Conv2d(1024, 2048, kernel_size=(1, 1), stride=(2, 2), bias=False)\n",
       "            (1): FrozenBatchNorm2d(2048, eps=0.0)\n",
       "          )\n",
       "        )\n",
       "        (1): Bottleneck(\n",
       "          (conv1): Conv2d(2048, 512, kernel_size=(1, 1), stride=(1, 1), bias=False)\n",
       "          (bn1): FrozenBatchNorm2d(512, eps=0.0)\n",
       "          (conv2): Conv2d(512, 512, kernel_size=(3, 3), stride=(1, 1), padding=(1, 1), bias=False)\n",
       "          (bn2): FrozenBatchNorm2d(512, eps=0.0)\n",
       "          (conv3): Conv2d(512, 2048, kernel_size=(1, 1), stride=(1, 1), bias=False)\n",
       "          (bn3): FrozenBatchNorm2d(2048, eps=0.0)\n",
       "          (relu): ReLU(inplace=True)\n",
       "        )\n",
       "        (2): Bottleneck(\n",
       "          (conv1): Conv2d(2048, 512, kernel_size=(1, 1), stride=(1, 1), bias=False)\n",
       "          (bn1): FrozenBatchNorm2d(512, eps=0.0)\n",
       "          (conv2): Conv2d(512, 512, kernel_size=(3, 3), stride=(1, 1), padding=(1, 1), bias=False)\n",
       "          (bn2): FrozenBatchNorm2d(512, eps=0.0)\n",
       "          (conv3): Conv2d(512, 2048, kernel_size=(1, 1), stride=(1, 1), bias=False)\n",
       "          (bn3): FrozenBatchNorm2d(2048, eps=0.0)\n",
       "          (relu): ReLU(inplace=True)\n",
       "        )\n",
       "      )\n",
       "    )\n",
       "    (fpn): FeaturePyramidNetwork(\n",
       "      (inner_blocks): ModuleList(\n",
       "        (0): Conv2dNormActivation(\n",
       "          (0): Conv2d(256, 256, kernel_size=(1, 1), stride=(1, 1))\n",
       "        )\n",
       "        (1): Conv2dNormActivation(\n",
       "          (0): Conv2d(512, 256, kernel_size=(1, 1), stride=(1, 1))\n",
       "        )\n",
       "        (2): Conv2dNormActivation(\n",
       "          (0): Conv2d(1024, 256, kernel_size=(1, 1), stride=(1, 1))\n",
       "        )\n",
       "        (3): Conv2dNormActivation(\n",
       "          (0): Conv2d(2048, 256, kernel_size=(1, 1), stride=(1, 1))\n",
       "        )\n",
       "      )\n",
       "      (layer_blocks): ModuleList(\n",
       "        (0-3): 4 x Conv2dNormActivation(\n",
       "          (0): Conv2d(256, 256, kernel_size=(3, 3), stride=(1, 1), padding=(1, 1))\n",
       "        )\n",
       "      )\n",
       "      (extra_blocks): LastLevelMaxPool()\n",
       "    )\n",
       "  )\n",
       "  (rpn): RegionProposalNetwork(\n",
       "    (anchor_generator): AnchorGenerator()\n",
       "    (head): RPNHead(\n",
       "      (conv): Sequential(\n",
       "        (0): Conv2dNormActivation(\n",
       "          (0): Conv2d(256, 256, kernel_size=(3, 3), stride=(1, 1), padding=(1, 1))\n",
       "          (1): ReLU(inplace=True)\n",
       "        )\n",
       "      )\n",
       "      (cls_logits): Conv2d(256, 3, kernel_size=(1, 1), stride=(1, 1))\n",
       "      (bbox_pred): Conv2d(256, 12, kernel_size=(1, 1), stride=(1, 1))\n",
       "    )\n",
       "  )\n",
       "  (roi_heads): RoIHeads(\n",
       "    (box_roi_pool): MultiScaleRoIAlign(featmap_names=['0', '1', '2', '3'], output_size=(7, 7), sampling_ratio=2)\n",
       "    (box_head): TwoMLPHead(\n",
       "      (fc6): Linear(in_features=12544, out_features=1024, bias=True)\n",
       "      (fc7): Linear(in_features=1024, out_features=1024, bias=True)\n",
       "    )\n",
       "    (box_predictor): FastRCNNPredictor(\n",
       "      (cls_score): Linear(in_features=1024, out_features=91, bias=True)\n",
       "      (bbox_pred): Linear(in_features=1024, out_features=364, bias=True)\n",
       "    )\n",
       "  )\n",
       ")"
      ]
     },
     "execution_count": 6,
     "metadata": {},
     "output_type": "execute_result"
    }
   ],
   "source": [
    "from torchvision.models.detection import fasterrcnn_resnet50_fpn\n",
    "\n",
    "model = fasterrcnn_resnet50_fpn(weights=weights)\n",
    "model"
   ]
  },
  {
   "cell_type": "code",
   "execution_count": null,
   "id": "6b5aba15",
   "metadata": {},
   "outputs": [],
   "source": [
    "!wget https://raw.githubusercontent.com/dvgodoy/assets/main/PyTorchInPractice/images/ch11/FudanPed00042.png"
   ]
  },
  {
   "cell_type": "code",
   "execution_count": 12,
   "id": "5648ddd9",
   "metadata": {
    "id": "35e81e10"
   },
   "outputs": [],
   "source": [
    "from torchvision.tv_tensors import Image\n",
    "from torchvision.io import read_image\n",
    "\n",
    "image_tensor = read_image('FudanPed00042.png')\n",
    "wrapped_image = Image(image_tensor) # that's datapoints.Image, not PIL Image"
   ]
  },
  {
   "cell_type": "code",
   "execution_count": 13,
   "id": "e30c9aff",
   "metadata": {
    "colab": {
     "base_uri": "https://localhost:8080/"
    },
    "id": "aa75d5a0",
    "outputId": "a9048027-732b-47e6-fff9-16314495222f"
   },
   "outputs": [
    {
     "data": {
      "text/plain": [
       "tensor([[[0.8471, 0.8392, 0.8275,  ..., 0.9412, 0.7686, 0.6549],\n",
       "         [0.8667, 0.8627, 0.8549,  ..., 0.9373, 0.7647, 0.6510],\n",
       "         [0.8863, 0.8824, 0.8784,  ..., 0.9294, 0.7569, 0.6471],\n",
       "         ...,\n",
       "         [0.4549, 0.4588, 0.4627,  ..., 0.4000, 0.3804, 0.3608],\n",
       "         [0.4784, 0.4824, 0.4902,  ..., 0.3765, 0.3255, 0.2902],\n",
       "         [0.4980, 0.5020, 0.5098,  ..., 0.3373, 0.2667, 0.2235]],\n",
       "\n",
       "        [[0.8000, 0.7922, 0.7804,  ..., 0.8980, 0.7255, 0.6118],\n",
       "         [0.8078, 0.8039, 0.7961,  ..., 0.8941, 0.7216, 0.6078],\n",
       "         [0.8196, 0.8157, 0.8118,  ..., 0.8863, 0.7137, 0.6039],\n",
       "         ...,\n",
       "         [0.4549, 0.4588, 0.4667,  ..., 0.3647, 0.3490, 0.3294],\n",
       "         [0.4784, 0.4824, 0.4941,  ..., 0.3294, 0.2863, 0.2510],\n",
       "         [0.4980, 0.5020, 0.5137,  ..., 0.2902, 0.2275, 0.1843]],\n",
       "\n",
       "        [[0.8157, 0.8078, 0.7961,  ..., 0.8275, 0.6549, 0.5412],\n",
       "         [0.8353, 0.8314, 0.8235,  ..., 0.8235, 0.6510, 0.5373],\n",
       "         [0.8588, 0.8549, 0.8510,  ..., 0.8157, 0.6431, 0.5333],\n",
       "         ...,\n",
       "         [0.4078, 0.4118, 0.4118,  ..., 0.3059, 0.2980, 0.2863],\n",
       "         [0.4314, 0.4353, 0.4392,  ..., 0.2667, 0.2392, 0.2039],\n",
       "         [0.4510, 0.4549, 0.4588,  ..., 0.2275, 0.1804, 0.1373]]])"
      ]
     },
     "execution_count": 13,
     "metadata": {},
     "output_type": "execute_result"
    }
   ],
   "source": [
    "image = weights.transforms()(wrapped_image)\n",
    "image"
   ]
  },
  {
   "cell_type": "code",
   "execution_count": 14,
   "id": "a952e68f",
   "metadata": {
    "id": "35f6dd13"
   },
   "outputs": [],
   "source": [
    "model.eval()\n",
    "pred = model([image])"
   ]
  },
  {
   "cell_type": "code",
   "execution_count": 15,
   "id": "6b545eba",
   "metadata": {
    "colab": {
     "base_uri": "https://localhost:8080/"
    },
    "id": "d6cfd4fc",
    "outputId": "a942ae87-0fe2-4de9-cfdd-02faa25205c5"
   },
   "outputs": [
    {
     "data": {
      "text/plain": [
       "(tensor([ 1,  1,  1,  6,  1,  1,  1,  2, 31,  1,  1, 62, 77, 62,  1,  6,  1,  2,\n",
       "          8,  2,  2,  3,  1,  1,  2,  2, 77,  1, 62,  1,  3, 31,  2,  1,  1,  1,\n",
       "         77, 62, 47,  6,  3,  2,  1,  2,  1,  6, 62,  2,  8, 62, 77, 31, 31,  2,\n",
       "          1,  2,  2,  1, 15, 33,  1,  2]),\n",
       " tensor([0.9996, 0.9983, 0.9973, 0.9746, 0.9525, 0.9412, 0.9089, 0.8985, 0.8838,\n",
       "         0.8597, 0.7399, 0.6795, 0.6014, 0.5764, 0.5515, 0.5278, 0.4802, 0.4519,\n",
       "         0.3813, 0.3654, 0.3571, 0.3006, 0.2887, 0.2627, 0.2523, 0.2412, 0.2330,\n",
       "         0.2220, 0.2134, 0.2130, 0.2128, 0.1975, 0.1919, 0.1505, 0.1474, 0.1336,\n",
       "         0.1279, 0.1265, 0.1171, 0.1053, 0.1040, 0.1002, 0.0984, 0.0905, 0.0893,\n",
       "         0.0884, 0.0881, 0.0878, 0.0806, 0.0799, 0.0783, 0.0755, 0.0739, 0.0716,\n",
       "         0.0708, 0.0704, 0.0692, 0.0681, 0.0663, 0.0650, 0.0594, 0.0504],\n",
       "        grad_fn=<IndexBackward0>))"
      ]
     },
     "execution_count": 15,
     "metadata": {},
     "output_type": "execute_result"
    }
   ],
   "source": [
    "pred_boxes = pred[0]['boxes']\n",
    "pred_labels = pred[0]['labels']\n",
    "pred_scores = pred[0]['scores']\n",
    "pred_labels, pred_scores"
   ]
  },
  {
   "cell_type": "code",
   "execution_count": 16,
   "id": "8de1f183",
   "metadata": {
    "colab": {
     "base_uri": "https://localhost:8080/"
    },
    "id": "3a8b993b",
    "outputId": "3cf08277-5cc2-4db5-976c-95413e8b39da"
   },
   "outputs": [
    {
     "data": {
      "text/plain": [
       "array(['person', 'person', 'person', 'bus', 'person', 'person', 'person'],\n",
       "      dtype='<U14')"
      ]
     },
     "execution_count": 16,
     "metadata": {},
     "output_type": "execute_result"
    }
   ],
   "source": [
    "categories[pred_labels[pred_scores >= .9]]"
   ]
  },
  {
   "cell_type": "code",
   "execution_count": 17,
   "id": "4c64f947",
   "metadata": {
    "colab": {
     "base_uri": "https://localhost:8080/"
    },
    "id": "df3dd1c6",
    "outputId": "6b734d99-6b81-47c7-c881-9537c62f2e80"
   },
   "outputs": [
    {
     "data": {
      "text/plain": [
       "tensor([[153.6986, 182.9845, 249.8504, 480.3208],\n",
       "        [288.8786, 157.5692, 387.5208, 459.2674],\n",
       "        [503.5206, 173.6245, 587.6513, 543.5108],\n",
       "        [  0.0000,   0.0000, 132.2605, 468.0171],\n",
       "        [381.6109, 177.3511, 472.0451, 313.1616],\n",
       "        [447.8536, 268.0893, 544.9938, 534.9994],\n",
       "        [248.8264, 270.2439, 297.6031, 340.2530]], grad_fn=<IndexBackward0>)"
      ]
     },
     "execution_count": 17,
     "metadata": {},
     "output_type": "execute_result"
    }
   ],
   "source": [
    "high_score_boxes = pred_boxes[(pred_scores >= .9)]\n",
    "high_score_boxes"
   ]
  },
  {
   "cell_type": "code",
   "execution_count": 18,
   "id": "9dddd83d",
   "metadata": {
    "colab": {
     "base_uri": "https://localhost:8080/",
     "height": 564
    },
    "id": "234546e7",
    "outputId": "6ea2f9eb-fbe9-414a-e778-8914f5562a74"
   },
   "outputs": [
    {
     "data": {
      "image/png": "[encoded data removed]",
      "text/plain": [
       "<PIL.Image.Image image mode=RGB size=588x547 at 0x7F11FC89F850>"
      ]
     },
     "execution_count": 18,
     "metadata": {},
     "output_type": "execute_result"
    }
   ],
   "source": [
    "from torchvision.utils import draw_bounding_boxes\n",
    "from torchvision.transforms import ToPILImage\n",
    "\n",
    "result = draw_bounding_boxes(image_tensor, high_score_boxes, colors=['red']*high_score_boxes.shape[0], width=2)\n",
    "ToPILImage()(result)"
   ]
  },
  {
   "cell_type": "markdown",
   "id": "ec19a41e",
   "metadata": {
    "id": "7ba88605"
   },
   "source": [
    "#### 13.3.4.1 Architecture"
   ]
  },
  {
   "cell_type": "markdown",
   "id": "3785df67",
   "metadata": {
    "id": "b59b57ce"
   },
   "source": [
    "![](https://raw.githubusercontent.com/dvgodoy/assets/main/PyTorchInPractice/images/ch11/rpn_paper.png)"
   ]
  },
  {
   "cell_type": "code",
   "execution_count": 19,
   "id": "9927ffdc",
   "metadata": {
    "id": "3d405957"
   },
   "outputs": [],
   "source": [
    "import torch\n",
    "from torchvision.tv_tensors import Image, BoundingBoxes, BoundingBoxFormat\n",
    "\n",
    "boxes = torch.tensor([[158., 185., 249., 469.], [287., 155., 391., 448.]])\n",
    "\n",
    "image_hw = image_tensor.shape[-2:]\n",
    "wrapped_boxes = BoundingBoxes(boxes, format=BoundingBoxFormat.XYXY, canvas_size=image_hw)\n",
    "\n",
    "labels = torch.tensor([1, 1], dtype=torch.int64)\n",
    "\n",
    "target = {'boxes': wrapped_boxes, 'labels': labels}"
   ]
  },
  {
   "cell_type": "code",
   "execution_count": 20,
   "id": "bc142fd9",
   "metadata": {
    "colab": {
     "base_uri": "https://localhost:8080/"
    },
    "id": "5a7df728",
    "outputId": "deb6d271-4200-434f-f8ba-a59f3333056f"
   },
   "outputs": [
    {
     "data": {
      "text/plain": [
       "ObjectDetection()"
      ]
     },
     "execution_count": 20,
     "metadata": {},
     "output_type": "execute_result"
    }
   ],
   "source": [
    "transform_fn = weights.transforms()\n",
    "transform_fn"
   ]
  },
  {
   "cell_type": "code",
   "execution_count": 21,
   "id": "ff979817",
   "metadata": {
    "colab": {
     "base_uri": "https://localhost:8080/"
    },
    "id": "ea142713",
    "outputId": "f64644fb-5448-4bab-e247-b9f9a29f606d"
   },
   "outputs": [
    {
     "data": {
      "text/plain": [
       "tensor([[[0.8471, 0.8392, 0.8275,  ..., 0.9412, 0.7686, 0.6549],\n",
       "         [0.8667, 0.8627, 0.8549,  ..., 0.9373, 0.7647, 0.6510],\n",
       "         [0.8863, 0.8824, 0.8784,  ..., 0.9294, 0.7569, 0.6471],\n",
       "         ...,\n",
       "         [0.4549, 0.4588, 0.4627,  ..., 0.4000, 0.3804, 0.3608],\n",
       "         [0.4784, 0.4824, 0.4902,  ..., 0.3765, 0.3255, 0.2902],\n",
       "         [0.4980, 0.5020, 0.5098,  ..., 0.3373, 0.2667, 0.2235]],\n",
       "\n",
       "        [[0.8000, 0.7922, 0.7804,  ..., 0.8980, 0.7255, 0.6118],\n",
       "         [0.8078, 0.8039, 0.7961,  ..., 0.8941, 0.7216, 0.6078],\n",
       "         [0.8196, 0.8157, 0.8118,  ..., 0.8863, 0.7137, 0.6039],\n",
       "         ...,\n",
       "         [0.4549, 0.4588, 0.4667,  ..., 0.3647, 0.3490, 0.3294],\n",
       "         [0.4784, 0.4824, 0.4941,  ..., 0.3294, 0.2863, 0.2510],\n",
       "         [0.4980, 0.5020, 0.5137,  ..., 0.2902, 0.2275, 0.1843]],\n",
       "\n",
       "        [[0.8157, 0.8078, 0.7961,  ..., 0.8275, 0.6549, 0.5412],\n",
       "         [0.8353, 0.8314, 0.8235,  ..., 0.8235, 0.6510, 0.5373],\n",
       "         [0.8588, 0.8549, 0.8510,  ..., 0.8157, 0.6431, 0.5333],\n",
       "         ...,\n",
       "         [0.4078, 0.4118, 0.4118,  ..., 0.3059, 0.2980, 0.2863],\n",
       "         [0.4314, 0.4353, 0.4392,  ..., 0.2667, 0.2392, 0.2039],\n",
       "         [0.4510, 0.4549, 0.4588,  ..., 0.2275, 0.1804, 0.1373]]])"
      ]
     },
     "execution_count": 21,
     "metadata": {},
     "output_type": "execute_result"
    }
   ],
   "source": [
    "xs_from_dl = transform_fn(wrapped_image)\n",
    "xs_from_dl"
   ]
  },
  {
   "cell_type": "code",
   "execution_count": 22,
   "id": "c081fd2d",
   "metadata": {
    "colab": {
     "base_uri": "https://localhost:8080/",
     "height": 288
    },
    "id": "165cd099",
    "outputId": "693af0da-ee6b-4d03-eb4f-a9715b08bbdc"
   },
   "outputs": [
    {
     "ename": "TypeError",
     "evalue": "ignored",
     "output_type": "error",
     "traceback": [
      "\u001b[0;31m---------------------------------------------------------------------------\u001b[0m",
      "\u001b[0;31mTypeError\u001b[0m                                 Traceback (most recent call last)",
      "\u001b[0;32m<ipython-input-22-bbdd9091f389>\u001b[0m in \u001b[0;36m<cell line: 1>\u001b[0;34m()\u001b[0m\n\u001b[0;32m----> 1\u001b[0;31m \u001b[0mtransform_fn\u001b[0m\u001b[0;34m(\u001b[0m\u001b[0mwrapped_image\u001b[0m\u001b[0;34m,\u001b[0m \u001b[0mtarget\u001b[0m\u001b[0;34m)\u001b[0m\u001b[0;34m\u001b[0m\u001b[0;34m\u001b[0m\u001b[0m\n\u001b[0m",
      "\u001b[0;32m/usr/local/lib/python3.10/dist-packages/torch/nn/modules/module.py\u001b[0m in \u001b[0;36m_call_impl\u001b[0;34m(self, *args, **kwargs)\u001b[0m\n\u001b[1;32m   1499\u001b[0m                 \u001b[0;32mor\u001b[0m \u001b[0m_global_backward_pre_hooks\u001b[0m \u001b[0;32mor\u001b[0m \u001b[0m_global_backward_hooks\u001b[0m\u001b[0;34m\u001b[0m\u001b[0;34m\u001b[0m\u001b[0m\n\u001b[1;32m   1500\u001b[0m                 or _global_forward_hooks or _global_forward_pre_hooks):\n\u001b[0;32m-> 1501\u001b[0;31m             \u001b[0;32mreturn\u001b[0m \u001b[0mforward_call\u001b[0m\u001b[0;34m(\u001b[0m\u001b[0;34m*\u001b[0m\u001b[0margs\u001b[0m\u001b[0;34m,\u001b[0m \u001b[0;34m**\u001b[0m\u001b[0mkwargs\u001b[0m\u001b[0;34m)\u001b[0m\u001b[0;34m\u001b[0m\u001b[0;34m\u001b[0m\u001b[0m\n\u001b[0m\u001b[1;32m   1502\u001b[0m         \u001b[0;31m# Do not call functions when jit is used\u001b[0m\u001b[0;34m\u001b[0m\u001b[0;34m\u001b[0m\u001b[0m\n\u001b[1;32m   1503\u001b[0m         \u001b[0mfull_backward_hooks\u001b[0m\u001b[0;34m,\u001b[0m \u001b[0mnon_full_backward_hooks\u001b[0m \u001b[0;34m=\u001b[0m \u001b[0;34m[\u001b[0m\u001b[0;34m]\u001b[0m\u001b[0;34m,\u001b[0m \u001b[0;34m[\u001b[0m\u001b[0;34m]\u001b[0m\u001b[0;34m\u001b[0m\u001b[0;34m\u001b[0m\u001b[0m\n",
      "\u001b[0;31mTypeError\u001b[0m: ObjectDetection.forward() takes 2 positional arguments but 3 were given"
     ]
    }
   ],
   "source": [
    "transform_fn(wrapped_image, target)"
   ]
  },
  {
   "cell_type": "code",
   "execution_count": 24,
   "id": "7d7e6afc",
   "metadata": {
    "colab": {
     "base_uri": "https://localhost:8080/"
    },
    "id": "3219729e",
    "outputId": "cd1f0803-87e4-4dc4-ccd7-715b49d62888"
   },
   "outputs": [
    {
     "name": "stderr",
     "output_type": "stream",
     "text": [
      "/usr/local/lib/python3.10/dist-packages/torchvision/transforms/v2/__init__.py:54: UserWarning: The torchvision.datapoints and torchvision.transforms.v2 namespaces are still Beta. While we do not expect major breaking changes, some APIs may still change according to user feedback. Please submit any feedback you may have in this issue: https://github.com/pytorch/vision/issues/6753, and you can also check out https://github.com/pytorch/vision/issues/7319 to learn more about the APIs that we suspect might involve future changes. You can silence this warning by calling torchvision.disable_beta_transforms_warning().\n",
      "  warnings.warn(_BETA_TRANSFORMS_WARNING)\n"
     ]
    }
   ],
   "source": [
    "import torchvision.transforms.v2 as transforms # new v2\n",
    "\n",
    "transform_fn = transforms.Compose([transforms.ToImage(),\n",
    "                                   transforms.ToDtype(torch.float32, scale=True)])"
   ]
  },
  {
   "cell_type": "code",
   "execution_count": 25,
   "id": "c9a6d3a5",
   "metadata": {
    "id": "c03819f1"
   },
   "outputs": [],
   "source": [
    "transform_fn = transforms.ToDtype(torch.float32, scale=True)"
   ]
  },
  {
   "cell_type": "code",
   "execution_count": 26,
   "id": "e90dad9f",
   "metadata": {
    "colab": {
     "base_uri": "https://localhost:8080/"
    },
    "id": "yHreJ9eJk3CX",
    "outputId": "887fb41d-0a39-4d6b-e5c6-a05451b26594"
   },
   "outputs": [
    {
     "data": {
      "text/plain": [
       "(Image([[[0.8471, 0.8392, 0.8275,  ..., 0.9412, 0.7686, 0.6549],\n",
       "         [0.8667, 0.8627, 0.8549,  ..., 0.9373, 0.7647, 0.6510],\n",
       "         [0.8863, 0.8824, 0.8784,  ..., 0.9294, 0.7569, 0.6471],\n",
       "         ...,\n",
       "         [0.4549, 0.4588, 0.4627,  ..., 0.4000, 0.3804, 0.3608],\n",
       "         [0.4784, 0.4824, 0.4902,  ..., 0.3765, 0.3255, 0.2902],\n",
       "         [0.4980, 0.5020, 0.5098,  ..., 0.3373, 0.2667, 0.2235]],\n",
       " \n",
       "        [[0.8000, 0.7922, 0.7804,  ..., 0.8980, 0.7255, 0.6118],\n",
       "         [0.8078, 0.8039, 0.7961,  ..., 0.8941, 0.7216, 0.6078],\n",
       "         [0.8196, 0.8157, 0.8118,  ..., 0.8863, 0.7137, 0.6039],\n",
       "         ...,\n",
       "         [0.4549, 0.4588, 0.4667,  ..., 0.3647, 0.3490, 0.3294],\n",
       "         [0.4784, 0.4824, 0.4941,  ..., 0.3294, 0.2863, 0.2510],\n",
       "         [0.4980, 0.5020, 0.5137,  ..., 0.2902, 0.2275, 0.1843]],\n",
       " \n",
       "        [[0.8157, 0.8078, 0.7961,  ..., 0.8275, 0.6549, 0.5412],\n",
       "         [0.8353, 0.8314, 0.8235,  ..., 0.8235, 0.6510, 0.5373],\n",
       "         [0.8588, 0.8549, 0.8510,  ..., 0.8157, 0.6431, 0.5333],\n",
       "         ...,\n",
       "         [0.4078, 0.4118, 0.4118,  ..., 0.3059, 0.2980, 0.2863],\n",
       "         [0.4314, 0.4353, 0.4392,  ..., 0.2667, 0.2392, 0.2039],\n",
       "         [0.4510, 0.4549, 0.4588,  ..., 0.2275, 0.1804, 0.1373]]], ),\n",
       " {'boxes': BoundingBox([[158., 185., 249., 469.],\n",
       "               [287., 155., 391., 448.]], format=BoundingBoxFormat.XYXY, spatial_size=torch.Size([547, 588])),\n",
       "  'labels': tensor([1, 1])})"
      ]
     },
     "execution_count": 26,
     "metadata": {},
     "output_type": "execute_result"
    }
   ],
   "source": [
    "transform_fn(wrapped_image, target)"
   ]
  },
  {
   "cell_type": "markdown",
   "id": "cfdc6434",
   "metadata": {
    "id": "b88fd3e5"
   },
   "source": [
    "#### 13.3.4.2 `transform`: Preprocessing"
   ]
  },
  {
   "cell_type": "code",
   "execution_count": 27,
   "id": "a2a085d4",
   "metadata": {
    "colab": {
     "base_uri": "https://localhost:8080/"
    },
    "id": "1a4b8241",
    "outputId": "87987a0f-b82b-4149-e796-b0fdba891d28"
   },
   "outputs": [
    {
     "data": {
      "text/plain": [
       "GeneralizedRCNNTransform(\n",
       "    Normalize(mean=[0.485, 0.456, 0.406], std=[0.229, 0.224, 0.225])\n",
       "    Resize(min_size=(800,), max_size=1333, mode='bilinear')\n",
       ")"
      ]
     },
     "execution_count": 27,
     "metadata": {},
     "output_type": "execute_result"
    }
   ],
   "source": [
    "model.train()\n",
    "\n",
    "model.transform"
   ]
  },
  {
   "cell_type": "code",
   "execution_count": 28,
   "id": "75e42ba5",
   "metadata": {
    "colab": {
     "base_uri": "https://localhost:8080/"
    },
    "id": "7234ce81",
    "outputId": "e78f2871-b839-4c9c-8ffd-8e681de2e99f"
   },
   "outputs": [
    {
     "data": {
      "text/plain": [
       "([(800, 859)],\n",
       " tensor([[[[ 1.5810,  1.5630,  1.5359,  ...,  0.0000,  0.0000,  0.0000],\n",
       "           [ 1.6260,  1.6127,  1.5918,  ...,  0.0000,  0.0000,  0.0000],\n",
       "           [ 1.6846,  1.6756,  1.6610,  ...,  0.0000,  0.0000,  0.0000],\n",
       "           ...,\n",
       "           [-0.0502, -0.0412, -0.0266,  ...,  0.0000,  0.0000,  0.0000],\n",
       "           [ 0.0119,  0.0210,  0.0363,  ...,  0.0000,  0.0000,  0.0000],\n",
       "           [ 0.0569,  0.0660,  0.0813,  ...,  0.0000,  0.0000,  0.0000]],\n",
       " \n",
       "          [[ 1.5357,  1.5173,  1.4896,  ...,  0.0000,  0.0000,  0.0000],\n",
       "           [ 1.5541,  1.5405,  1.5192,  ...,  0.0000,  0.0000,  0.0000],\n",
       "           [ 1.5817,  1.5725,  1.5576,  ...,  0.0000,  0.0000,  0.0000],\n",
       "           ...,\n",
       "           [ 0.0781,  0.0874,  0.1060,  ...,  0.0000,  0.0000,  0.0000],\n",
       "           [ 0.1417,  0.1509,  0.1703,  ...,  0.0000,  0.0000,  0.0000],\n",
       "           [ 0.1877,  0.1969,  0.2163,  ...,  0.0000,  0.0000,  0.0000]],\n",
       " \n",
       "          [[ 1.8208,  1.8025,  1.7749,  ...,  0.0000,  0.0000,  0.0000],\n",
       "           [ 1.8666,  1.8531,  1.8318,  ...,  0.0000,  0.0000,  0.0000],\n",
       "           [ 1.9299,  1.9207,  1.9058,  ...,  0.0000,  0.0000,  0.0000],\n",
       "           ...,\n",
       "           [ 0.0909,  0.1000,  0.1112,  ...,  0.0000,  0.0000,  0.0000],\n",
       "           [ 0.1541,  0.1633,  0.1752,  ...,  0.0000,  0.0000,  0.0000],\n",
       "           [ 0.1999,  0.2091,  0.2210,  ...,  0.0000,  0.0000,  0.0000]]]]))"
      ]
     },
     "execution_count": 28,
     "metadata": {},
     "output_type": "execute_result"
    }
   ],
   "source": [
    "transf_images, transf_targets = model.transform([xs_from_dl], [target])\n",
    "transf_images.image_sizes, transf_images.tensors"
   ]
  },
  {
   "cell_type": "code",
   "execution_count": 29,
   "id": "d546d720",
   "metadata": {
    "colab": {
     "base_uri": "https://localhost:8080/"
    },
    "id": "08fbf21b",
    "outputId": "84ae844c-c88f-4029-dba9-fa8c38cad943"
   },
   "outputs": [
    {
     "data": {
      "text/plain": [
       "[(547, 588)]"
      ]
     },
     "execution_count": 29,
     "metadata": {},
     "output_type": "execute_result"
    }
   ],
   "source": [
    "original_image_sizes = []\n",
    "for img in [xs_from_dl]:\n",
    "    val = img.shape[-2:]\n",
    "    original_image_sizes.append((val[0], val[1]))\n",
    "\n",
    "original_image_sizes"
   ]
  },
  {
   "cell_type": "markdown",
   "id": "a5c106bc",
   "metadata": {
    "id": "a0700252"
   },
   "source": [
    "#### 13.3.4.3 `backbone`: Base Model and Feature Pyramid Network (FPN)"
   ]
  },
  {
   "cell_type": "code",
   "execution_count": 30,
   "id": "8ac0c402",
   "metadata": {
    "colab": {
     "base_uri": "https://localhost:8080/"
    },
    "id": "5e65fb4a",
    "outputId": "9ae4d8eb-4472-4aef-a978-014f6f72eb9b"
   },
   "outputs": [
    {
     "data": {
      "text/plain": [
       "(odict_keys(['0', '1', '2', '3']),\n",
       " [torch.Size([1, 256, 200, 216]),\n",
       "  torch.Size([1, 512, 100, 108]),\n",
       "  torch.Size([1, 1024, 50, 54]),\n",
       "  torch.Size([1, 2048, 25, 27])])"
      ]
     },
     "execution_count": 30,
     "metadata": {},
     "output_type": "execute_result"
    }
   ],
   "source": [
    "resp_body = model.backbone.body(transf_images.tensors)\n",
    "resp_body.keys(), [v.shape for v in resp_body.values()]"
   ]
  },
  {
   "cell_type": "code",
   "execution_count": 31,
   "id": "4db30ff6",
   "metadata": {
    "colab": {
     "base_uri": "https://localhost:8080/"
    },
    "id": "eead813e",
    "outputId": "387e119a-6aa4-41c0-964f-02b3f6bac2ca"
   },
   "outputs": [
    {
     "data": {
      "text/plain": [
       "FeaturePyramidNetwork(\n",
       "  (inner_blocks): ModuleList(\n",
       "    (0): Conv2dNormActivation(\n",
       "      (0): Conv2d(256, 256, kernel_size=(1, 1), stride=(1, 1))\n",
       "    )\n",
       "    (1): Conv2dNormActivation(\n",
       "      (0): Conv2d(512, 256, kernel_size=(1, 1), stride=(1, 1))\n",
       "    )\n",
       "    (2): Conv2dNormActivation(\n",
       "      (0): Conv2d(1024, 256, kernel_size=(1, 1), stride=(1, 1))\n",
       "    )\n",
       "    (3): Conv2dNormActivation(\n",
       "      (0): Conv2d(2048, 256, kernel_size=(1, 1), stride=(1, 1))\n",
       "    )\n",
       "  )\n",
       "  (layer_blocks): ModuleList(\n",
       "    (0-3): 4 x Conv2dNormActivation(\n",
       "      (0): Conv2d(256, 256, kernel_size=(3, 3), stride=(1, 1), padding=(1, 1))\n",
       "    )\n",
       "  )\n",
       "  (extra_blocks): LastLevelMaxPool()\n",
       ")"
      ]
     },
     "execution_count": 31,
     "metadata": {},
     "output_type": "execute_result"
    }
   ],
   "source": [
    "# makes out channels 256 for every feature\n",
    "model.backbone.fpn"
   ]
  },
  {
   "cell_type": "code",
   "execution_count": 32,
   "id": "3b5c0980",
   "metadata": {
    "colab": {
     "base_uri": "https://localhost:8080/"
    },
    "id": "b4ef6f91",
    "outputId": "cd850faf-ba68-4247-9d09-3c27e318fc89"
   },
   "outputs": [
    {
     "data": {
      "text/plain": [
       "(odict_keys(['0', '1', '2', '3', 'pool']),\n",
       " [torch.Size([1, 256, 200, 216]),\n",
       "  torch.Size([1, 256, 100, 108]),\n",
       "  torch.Size([1, 256, 50, 54]),\n",
       "  torch.Size([1, 256, 25, 27]),\n",
       "  torch.Size([1, 256, 13, 14])])"
      ]
     },
     "execution_count": 32,
     "metadata": {},
     "output_type": "execute_result"
    }
   ],
   "source": [
    "features = model.backbone.fpn(resp_body)\n",
    "features.keys(), [v.shape for v in features.values()]"
   ]
  },
  {
   "cell_type": "code",
   "execution_count": 33,
   "id": "cebb3c07",
   "metadata": {
    "colab": {
     "base_uri": "https://localhost:8080/"
    },
    "id": "5bbfc2db",
    "outputId": "1564576f-6aa1-4442-b838-5e9080307e10"
   },
   "outputs": [
    {
     "data": {
      "text/plain": [
       "256"
      ]
     },
     "execution_count": 33,
     "metadata": {},
     "output_type": "execute_result"
    }
   ],
   "source": [
    "model.backbone.out_channels"
   ]
  },
  {
   "cell_type": "code",
   "execution_count": 34,
   "id": "a1a8ca88",
   "metadata": {
    "id": "21f35079"
   },
   "outputs": [],
   "source": [
    "if isinstance(features, torch.Tensor):\n",
    "    features = OrderedDict([(\"0\", features)])"
   ]
  },
  {
   "cell_type": "markdown",
   "id": "fc4138c4",
   "metadata": {
    "id": "d7c1e57c"
   },
   "source": [
    "#### 13.3.4.4 `rpn`: Region Proposal Network"
   ]
  },
  {
   "cell_type": "code",
   "execution_count": 35,
   "id": "eb92398e",
   "metadata": {
    "colab": {
     "base_uri": "https://localhost:8080/"
    },
    "id": "afb8779e",
    "outputId": "8c32b1d3-237a-4995-8315-ea2480aac6f8"
   },
   "outputs": [
    {
     "data": {
      "text/plain": [
       "RegionProposalNetwork(\n",
       "  (anchor_generator): AnchorGenerator()\n",
       "  (head): RPNHead(\n",
       "    (conv): Sequential(\n",
       "      (0): Conv2dNormActivation(\n",
       "        (0): Conv2d(256, 256, kernel_size=(3, 3), stride=(1, 1), padding=(1, 1))\n",
       "        (1): ReLU(inplace=True)\n",
       "      )\n",
       "    )\n",
       "    (cls_logits): Conv2d(256, 3, kernel_size=(1, 1), stride=(1, 1))\n",
       "    (bbox_pred): Conv2d(256, 12, kernel_size=(1, 1), stride=(1, 1))\n",
       "  )\n",
       ")"
      ]
     },
     "execution_count": 35,
     "metadata": {},
     "output_type": "execute_result"
    }
   ],
   "source": [
    "model.rpn"
   ]
  },
  {
   "cell_type": "code",
   "execution_count": 36,
   "id": "e84ab4ba",
   "metadata": {
    "colab": {
     "base_uri": "https://localhost:8080/"
    },
    "id": "282113a0",
    "outputId": "5b6f2b73-7e10-449f-de3f-598aa2346aea"
   },
   "outputs": [
    {
     "data": {
      "text/plain": [
       "(((32,), (64,), (128,), (256,), (512,)),\n",
       " ((0.5, 1.0, 2.0),\n",
       "  (0.5, 1.0, 2.0),\n",
       "  (0.5, 1.0, 2.0),\n",
       "  (0.5, 1.0, 2.0),\n",
       "  (0.5, 1.0, 2.0)))"
      ]
     },
     "execution_count": 36,
     "metadata": {},
     "output_type": "execute_result"
    }
   ],
   "source": [
    "model.rpn.anchor_generator.sizes, model.rpn.anchor_generator.aspect_ratios"
   ]
  },
  {
   "cell_type": "markdown",
   "id": "17f076e6",
   "metadata": {},
   "source": [
    "![](https://raw.githubusercontent.com/dvgodoy/assets/main/PyTorchInPractice/images/ch11/anchors-centers.png)\n",
    "\n",
    "![](https://raw.githubusercontent.com/dvgodoy/assets/main/PyTorchInPractice/images/ch11/anchors_paper.png)"
   ]
  },
  {
   "cell_type": "code",
   "execution_count": 37,
   "id": "7ff5e19b",
   "metadata": {
    "id": "45477a74"
   },
   "outputs": [],
   "source": [
    "proposals, proposal_losses = model.rpn(transf_images, features, transf_targets)"
   ]
  },
  {
   "cell_type": "code",
   "execution_count": 38,
   "id": "3a4719f0",
   "metadata": {
    "colab": {
     "base_uri": "https://localhost:8080/"
    },
    "id": "c95d28f8",
    "outputId": "195d1385-841d-415a-8cd8-6734d373074a"
   },
   "outputs": [
    {
     "data": {
      "text/plain": [
       "([tensor([[658.8484, 366.1876, 814.5435, 792.4978],\n",
       "          [688.4003, 297.1996, 848.2238, 800.0000],\n",
       "          [223.9525, 265.2068, 366.4737, 716.3390],\n",
       "          ...,\n",
       "          [415.4728, 235.8373, 463.9001, 352.1774],\n",
       "          [748.5613, 357.9511, 780.6770, 394.9054],\n",
       "          [329.7100, 422.4762, 365.6756, 473.8938]])],\n",
       " {'loss_objectness': tensor(0.0398, grad_fn=<BinaryCrossEntropyWithLogitsBackward0>),\n",
       "  'loss_rpn_box_reg': tensor(0.0007, grad_fn=<DivBackward0>)})"
      ]
     },
     "execution_count": 38,
     "metadata": {},
     "output_type": "execute_result"
    }
   ],
   "source": [
    "proposals, proposal_losses"
   ]
  },
  {
   "cell_type": "markdown",
   "id": "45a6c7af",
   "metadata": {
    "id": "373257e5"
   },
   "source": [
    "#### 13.3.4.5 `roi_heads`: Regions of Interest\n",
    "\n",
    "![](https://raw.githubusercontent.com/dvgodoy/assets/main/PyTorchInPractice/images/ch11/roi_pooling.jpg)"
   ]
  },
  {
   "cell_type": "code",
   "execution_count": 39,
   "id": "f1f7b897",
   "metadata": {
    "colab": {
     "base_uri": "https://localhost:8080/"
    },
    "id": "165ee1cd",
    "outputId": "a6e3e194-74f0-40cc-b3f3-9bc69e064860"
   },
   "outputs": [
    {
     "data": {
      "text/plain": [
       "RoIHeads(\n",
       "  (box_roi_pool): MultiScaleRoIAlign(featmap_names=['0', '1', '2', '3'], output_size=(7, 7), sampling_ratio=2)\n",
       "  (box_head): TwoMLPHead(\n",
       "    (fc6): Linear(in_features=12544, out_features=1024, bias=True)\n",
       "    (fc7): Linear(in_features=1024, out_features=1024, bias=True)\n",
       "  )\n",
       "  (box_predictor): FastRCNNPredictor(\n",
       "    (cls_score): Linear(in_features=1024, out_features=91, bias=True)\n",
       "    (bbox_pred): Linear(in_features=1024, out_features=364, bias=True)\n",
       "  )\n",
       ")"
      ]
     },
     "execution_count": 39,
     "metadata": {},
     "output_type": "execute_result"
    }
   ],
   "source": [
    "model.roi_heads"
   ]
  },
  {
   "cell_type": "code",
   "execution_count": 40,
   "id": "577b0758",
   "metadata": {
    "colab": {
     "base_uri": "https://localhost:8080/"
    },
    "id": "b39ea1f7",
    "outputId": "62f1bc90-7b15-41a8-ee0b-9491c1ac8021"
   },
   "outputs": [
    {
     "data": {
      "text/plain": [
       "MultiScaleRoIAlign(featmap_names=['0', '1', '2', '3'], output_size=(7, 7), sampling_ratio=2)"
      ]
     },
     "execution_count": 40,
     "metadata": {},
     "output_type": "execute_result"
    }
   ],
   "source": [
    "model.roi_heads.box_roi_pool"
   ]
  },
  {
   "cell_type": "code",
   "execution_count": 41,
   "id": "b9a7cbd6",
   "metadata": {
    "colab": {
     "base_uri": "https://localhost:8080/"
    },
    "id": "d9180ed8",
    "outputId": "803487e1-7902-4a8a-d13a-fe9be46b29ac"
   },
   "outputs": [
    {
     "data": {
      "text/plain": [
       "FastRCNNPredictor(\n",
       "  (cls_score): Linear(in_features=1024, out_features=91, bias=True)\n",
       "  (bbox_pred): Linear(in_features=1024, out_features=364, bias=True)\n",
       ")"
      ]
     },
     "execution_count": 41,
     "metadata": {},
     "output_type": "execute_result"
    }
   ],
   "source": [
    "model.roi_heads.box_predictor"
   ]
  },
  {
   "cell_type": "code",
   "execution_count": 42,
   "id": "cab5b9c1",
   "metadata": {
    "colab": {
     "base_uri": "https://localhost:8080/"
    },
    "id": "be375299",
    "outputId": "f93d1730-96a8-436c-d8a8-a6b3799b3cdc"
   },
   "outputs": [
    {
     "data": {
      "text/plain": [
       "([],\n",
       " {'loss_classifier': tensor(0.2603, grad_fn=<NllLossBackward0>),\n",
       "  'loss_box_reg': tensor(0.0263, grad_fn=<DivBackward0>)})"
      ]
     },
     "execution_count": 42,
     "metadata": {},
     "output_type": "execute_result"
    }
   ],
   "source": [
    "detections, detector_losses = model.roi_heads(features, proposals, transf_images.image_sizes, transf_targets)\n",
    "detections, detector_losses"
   ]
  },
  {
   "cell_type": "code",
   "execution_count": 43,
   "id": "2f556c2f",
   "metadata": {
    "colab": {
     "base_uri": "https://localhost:8080/"
    },
    "id": "c737d528",
    "outputId": "66251585-4d08-4520-acdc-b864fb827e9c"
   },
   "outputs": [
    {
     "data": {
      "text/plain": [
       "dict_keys(['boxes', 'labels', 'scores'])"
      ]
     },
     "execution_count": 43,
     "metadata": {},
     "output_type": "execute_result"
    }
   ],
   "source": [
    "model.eval()\n",
    "detections, detector_losses = model.roi_heads(features, proposals, transf_images.image_sizes, transf_targets)\n",
    "detections[0].keys()"
   ]
  },
  {
   "cell_type": "markdown",
   "id": "3d8d229b",
   "metadata": {
    "id": "0ebee470"
   },
   "source": [
    "#### 13.3.4.6 `transform`: Postprocessing"
   ]
  },
  {
   "cell_type": "code",
   "execution_count": 44,
   "id": "b3ecfcfb",
   "metadata": {
    "colab": {
     "base_uri": "https://localhost:8080/"
    },
    "id": "dd55ae89",
    "outputId": "05ab3a69-a15a-4d02-f466-a37bb761b7e5"
   },
   "outputs": [
    {
     "data": {
      "text/plain": [
       "<bound method GeneralizedRCNNTransform.postprocess of GeneralizedRCNNTransform(\n",
       "    Normalize(mean=[0.485, 0.456, 0.406], std=[0.229, 0.224, 0.225])\n",
       "    Resize(min_size=(800,), max_size=1333, mode='bilinear')\n",
       ")>"
      ]
     },
     "execution_count": 44,
     "metadata": {},
     "output_type": "execute_result"
    }
   ],
   "source": [
    "model.transform.postprocess"
   ]
  },
  {
   "cell_type": "code",
   "execution_count": 45,
   "id": "d8b40dc6",
   "metadata": {
    "colab": {
     "base_uri": "https://localhost:8080/"
    },
    "id": "5437fd04",
    "outputId": "80bbe2cc-b567-4a16-9e28-a8892af48048"
   },
   "outputs": [
    {
     "data": {
      "text/plain": [
       "dict_keys(['boxes', 'labels', 'scores'])"
      ]
     },
     "execution_count": 45,
     "metadata": {},
     "output_type": "execute_result"
    }
   ],
   "source": [
    "detections = model.transform.postprocess(detections, transf_images.image_sizes, original_image_sizes)\n",
    "detections[0].keys()"
   ]
  },
  {
   "cell_type": "markdown",
   "id": "9d69d6cf",
   "metadata": {
    "id": "ce0c853c"
   },
   "source": [
    "### 13.3.5 Custom Faster R-CNN Model"
   ]
  },
  {
   "cell_type": "code",
   "execution_count": null,
   "id": "a3c891a7",
   "metadata": {
    "id": "79a5d7e3"
   },
   "outputs": [],
   "source": [
    "from torchvision.models.detection.faster_rcnn import FastRCNNPredictor\n",
    "\n",
    "# 1. Creating FastRCNNPredictor\n",
    "in_features_box = model.roi_heads.box_predictor.cls_score.in_features\n",
    "num_classes = 2 # 0 background / 1 people in the Penn-Fudan dataset\n",
    "\n",
    "new_head = FastRCNNPredictor(in_channels=in_features_box, num_classes=num_classes)\n",
    "\n",
    "# 2. Replacing the existing head\n",
    "model.roi_heads.box_predictor = new_head"
   ]
  },
  {
   "cell_type": "code",
   "execution_count": null,
   "id": "785526df",
   "metadata": {},
   "outputs": [],
   "source": [
    "from torchvision.models.detection import FasterRCNN\n",
    "from torchvision.models import mobilenet_v2, get_weight\n",
    "from torchvision.ops import MultiScaleRoIAlign\n",
    "from torchvision.models.detection.rpn import AnchorGenerator\n",
    "\n",
    "# 1. Choose a computer vision model\n",
    "weights = get_weight('MobileNet_V2_Weights.DEFAULT')\n",
    "mobilenet = mobilenet_v2(weights=weights)\n",
    "\n",
    "# 2. Create a new backbone\n",
    "new_backbone = mobilenet.features\n",
    "new_backbone.out_channels = 1280\n",
    "\n",
    "# 3. Create an anchor generator\n",
    "sizes = ((32, 64, 128, 256, 512),)\n",
    "aspect_ratios = ((0.5, 1.0, 2.0),)\n",
    "anchor_generator = AnchorGenerator(sizes=sizes, aspect_ratios=aspect_ratios)\n",
    "\n",
    "# 4. Create a ROI pooler\n",
    "roi_pooler = MultiScaleRoIAlign(featmap_names=['0'], output_size=7, sampling_ratio=2)\n",
    "\n",
    "# 5. Create an instance of FasterRCNN\n",
    "num_classes = 2 # 0 background / 1 people in the Penn-Fudan dataset\n",
    "model = FasterRCNN(new_backbone,\n",
    "                   rpn_anchor_generator=anchor_generator,\n",
    "                   box_roi_pool=roi_pooler,\n",
    "                   num_classes=num_classes)"
   ]
  },
  {
   "cell_type": "markdown",
   "id": "3966755a",
   "metadata": {
    "id": "db694623"
   },
   "source": [
    "### 13.3.6 Custom Mask R-CNN Model"
   ]
  },
  {
   "cell_type": "code",
   "execution_count": 6,
   "id": "827ba773",
   "metadata": {},
   "outputs": [],
   "source": [
    "from torchvision.models.detection import maskrcnn_resnet50_fpn, MaskRCNN_ResNet50_FPN_Weights\n",
    "\n",
    "weights = MaskRCNN_ResNet50_FPN_Weights.DEFAULT\n",
    "model = maskrcnn_resnet50_fpn(weights=weights)"
   ]
  },
  {
   "cell_type": "code",
   "execution_count": 7,
   "id": "116736ee",
   "metadata": {},
   "outputs": [
    {
     "data": {
      "text/plain": [
       "RoIHeads(\n",
       "  (box_roi_pool): MultiScaleRoIAlign(featmap_names=['0', '1', '2', '3'], output_size=(7, 7), sampling_ratio=2)\n",
       "  (box_head): TwoMLPHead(\n",
       "    (fc6): Linear(in_features=12544, out_features=1024, bias=True)\n",
       "    (fc7): Linear(in_features=1024, out_features=1024, bias=True)\n",
       "  )\n",
       "  (box_predictor): FastRCNNPredictor(\n",
       "    (cls_score): Linear(in_features=1024, out_features=91, bias=True)\n",
       "    (bbox_pred): Linear(in_features=1024, out_features=364, bias=True)\n",
       "  )\n",
       "  (mask_roi_pool): MultiScaleRoIAlign(featmap_names=['0', '1', '2', '3'], output_size=(14, 14), sampling_ratio=2)\n",
       "  (mask_head): MaskRCNNHeads(\n",
       "    (0): Conv2dNormActivation(\n",
       "      (0): Conv2d(256, 256, kernel_size=(3, 3), stride=(1, 1), padding=(1, 1))\n",
       "      (1): ReLU(inplace=True)\n",
       "    )\n",
       "    (1): Conv2dNormActivation(\n",
       "      (0): Conv2d(256, 256, kernel_size=(3, 3), stride=(1, 1), padding=(1, 1))\n",
       "      (1): ReLU(inplace=True)\n",
       "    )\n",
       "    (2): Conv2dNormActivation(\n",
       "      (0): Conv2d(256, 256, kernel_size=(3, 3), stride=(1, 1), padding=(1, 1))\n",
       "      (1): ReLU(inplace=True)\n",
       "    )\n",
       "    (3): Conv2dNormActivation(\n",
       "      (0): Conv2d(256, 256, kernel_size=(3, 3), stride=(1, 1), padding=(1, 1))\n",
       "      (1): ReLU(inplace=True)\n",
       "    )\n",
       "  )\n",
       "  (mask_predictor): MaskRCNNPredictor(\n",
       "    (conv5_mask): ConvTranspose2d(256, 256, kernel_size=(2, 2), stride=(2, 2))\n",
       "    (relu): ReLU(inplace=True)\n",
       "    (mask_fcn_logits): Conv2d(256, 91, kernel_size=(1, 1), stride=(1, 1))\n",
       "  )\n",
       ")"
      ]
     },
     "execution_count": 7,
     "metadata": {},
     "output_type": "execute_result"
    }
   ],
   "source": [
    "model.roi_heads"
   ]
  },
  {
   "cell_type": "code",
   "execution_count": null,
   "id": "8ff3e89b",
   "metadata": {
    "colab": {
     "base_uri": "https://localhost:8080/"
    },
    "id": "847fe51c",
    "outputId": "c0066ec5-6a51-4163-c529-ff58c4e58445"
   },
   "outputs": [],
   "source": [
    "from torchvision.models.detection.faster_rcnn import FastRCNNPredictor\n",
    "from torchvision.models.detection.mask_rcnn import MaskRCNNPredictor\n",
    "\n",
    "# 1. Creating FastRCNNPredictor\n",
    "num_classes = 2 # 0 background / 1 people in the Penn-Fudan dataset\n",
    "in_features_box = model.roi_heads.box_predictor.cls_score.in_features\n",
    "new_head_boxes = FastRCNNPredictor(in_features_box, num_classes)\n",
    "\n",
    "# 2. Replacing the existing head\n",
    "model.roi_heads.box_predictor = new_head_boxes\n",
    "\n",
    "# 3. Creating MaskRCNNPredictor\n",
    "in_features_mask = model.roi_heads.mask_predictor.conv5_mask.in_channels\n",
    "hidden_layer = 256\n",
    "new_head_masks = MaskRCNNPredictor(in_features_mask, hidden_layer, num_classes)\n",
    "\n",
    "# 4. Replacing the second head\n",
    "model.roi_heads.mask_predictor = new_head_masks"
   ]
  },
  {
   "cell_type": "markdown",
   "id": "f82e088f",
   "metadata": {
    "id": "63162919"
   },
   "source": [
    "### 13.3.7 Learning Rate Schedulers\n",
    "\n",
    "![](https://raw.githubusercontent.com/dvgodoy/assets/main/PyTorchInPractice/images/ch0/model_step3.png)"
   ]
  },
  {
   "cell_type": "code",
   "execution_count": 4,
   "id": "7ebb1aa3",
   "metadata": {
    "id": "7ba30334"
   },
   "outputs": [],
   "source": [
    "import torch.optim as optim\n",
    "from torch.optim.lr_scheduler import StepLR, LinearLR\n",
    "\n",
    "optimizer = optim.SGD(model.parameters(), lr=0.005, momentum=0.9, weight_decay=0.0005)"
   ]
  },
  {
   "cell_type": "code",
   "execution_count": 5,
   "id": "fd21f82b",
   "metadata": {
    "colab": {
     "base_uri": "https://localhost:8080/"
    },
    "id": "7039d6ea",
    "outputId": "28ea8f09-8ea5-4186-b78b-a7fb604dfc8d"
   },
   "outputs": [
    {
     "data": {
      "text/plain": [
       "[0.005]"
      ]
     },
     "execution_count": 5,
     "metadata": {},
     "output_type": "execute_result"
    }
   ],
   "source": [
    "def get_lr(optimizer):\n",
    "    return list(map(lambda d: d['lr'], optimizer.state_dict()['param_groups']))\n",
    "\n",
    "get_lr(optimizer)"
   ]
  },
  {
   "cell_type": "code",
   "execution_count": 6,
   "id": "854b0831",
   "metadata": {
    "id": "c0b5b204"
   },
   "outputs": [],
   "source": [
    "lr_scheduler = StepLR(optimizer, step_size=3, gamma=0.1)\n",
    "\n",
    "warmup_factor = 1.0 / 1000\n",
    "warmup_iters = 1000\n",
    "lr_scheduler2 = LinearLR(optimizer, start_factor=warmup_factor, total_iters=warmup_iters)"
   ]
  },
  {
   "cell_type": "code",
   "execution_count": 7,
   "id": "73de5034",
   "metadata": {
    "colab": {
     "base_uri": "https://localhost:8080/"
    },
    "id": "5d074f18",
    "outputId": "3ca9a0aa-86fb-4dfa-d89b-5a7f3f779225"
   },
   "outputs": [
    {
     "name": "stderr",
     "output_type": "stream",
     "text": [
      "/home/dvgodoy/anaconda3/envs/ptip/lib/python3.9/site-packages/torch/optim/lr_scheduler.py:138: UserWarning: Detected call of `lr_scheduler.step()` before `optimizer.step()`. In PyTorch 1.1.0 and later, you should call them in the opposite order: `optimizer.step()` before `lr_scheduler.step()`.  Failure to do this will result in PyTorch skipping the first value of the learning rate schedule. See more details at https://pytorch.org/docs/stable/optim.html#how-to-adjust-learning-rate\n",
      "  warnings.warn(\"Detected call of `lr_scheduler.step()` before `optimizer.step()`. \"\n"
     ]
    }
   ],
   "source": [
    "# Recreating everything here, so you don't have to re-run the previous code\n",
    "# if you want to try different configurations or places in the loop\n",
    "optimizer = optim.SGD(model.parameters(), lr=0.005, momentum=0.9, weight_decay=0.0005)\n",
    "lr_scheduler = StepLR(optimizer, step_size=3, gamma=0.1)\n",
    "lr_scheduler2 = LinearLR(optimizer, start_factor=warmup_factor, total_iters=warmup_iters)\n",
    "\n",
    "num_epochs = 5\n",
    "\n",
    "lrs = []\n",
    "\n",
    "for epoch in range(num_epochs):\n",
    "    for i in range(1000):\n",
    "        if epoch == 0:\n",
    "            lr_scheduler2.step()\n",
    "\n",
    "        lrs.append(get_lr(optimizer)[0])\n",
    "\n",
    "    lr_scheduler.step()"
   ]
  },
  {
   "cell_type": "code",
   "execution_count": 12,
   "id": "2136e37e",
   "metadata": {
    "colab": {
     "base_uri": "https://localhost:8080/",
     "height": 448
    },
    "id": "88d6e295",
    "outputId": "4ecfc3cc-0034-4509-a0bc-d043a78a56f4"
   },
   "outputs": [
    {
     "data": {
      "image/png": "[encoded data removed]",
      "text/plain": [
       "<Figure size 600x400 with 1 Axes>"
      ]
     },
     "metadata": {},
     "output_type": "display_data"
    }
   ],
   "source": [
    "from matplotlib import pyplot as plt\n",
    "fig, ax = plt.subplots(1, 1, figsize=(6, 4))\n",
    "ax.plot(lrs)\n",
    "ax.set_xlabel('Mini-Batches')\n",
    "ax.set_ylabel('Learning Rate')\n",
    "fig.savefig('lr_schedule.png', dpi=300)"
   ]
  }
 ],
 "metadata": {
  "accelerator": "GPU",
  "colab": {
   "gpuType": "T4",
   "provenance": []
  },
  "kernelspec": {
   "display_name": "Python 3 (ipykernel)",
   "language": "python",
   "name": "python3"
  },
  "language_info": {
   "codemirror_mode": {
    "name": "ipython",
    "version": 3
   },
   "file_extension": ".py",
   "mimetype": "text/x-python",
   "name": "python",
   "nbconvert_exporter": "python",
   "pygments_lexer": "ipython3",
   "version": "3.9.0"
  },
  "widgets": {
   "application/vnd.jupyter.widget-state+json": {
    "023d4d8b590e4338ad7032594ba59481": {
     "model_module": "@jupyter-widgets/controls",
     "model_module_version": "1.5.0",
     "model_name": "DescriptionStyleModel",
     "state": {
      "_model_module": "@jupyter-widgets/controls",
      "_model_module_version": "1.5.0",
      "_model_name": "DescriptionStyleModel",
      "_view_count": null,
      "_view_module": "@jupyter-widgets/base",
      "_view_module_version": "1.2.0",
      "_view_name": "StyleView",
      "description_width": ""
     }
    },
    "031ff1a7318d476aa664790fd5f1708f": {
     "model_module": "@jupyter-widgets/base",
     "model_module_version": "1.2.0",
     "model_name": "LayoutModel",
     "state": {
      "_model_module": "@jupyter-widgets/base",
      "_model_module_version": "1.2.0",
      "_model_name": "LayoutModel",
      "_view_count": null,
      "_view_module": "@jupyter-widgets/base",
      "_view_module_version": "1.2.0",
      "_view_name": "LayoutView",
      "align_content": null,
      "align_items": null,
      "align_self": null,
      "border": null,
      "bottom": null,
      "display": null,
      "flex": null,
      "flex_flow": null,
      "grid_area": null,
      "grid_auto_columns": null,
      "grid_auto_flow": null,
      "grid_auto_rows": null,
      "grid_column": null,
      "grid_gap": null,
      "grid_row": null,
      "grid_template_areas": null,
      "grid_template_columns": null,
      "grid_template_rows": null,
      "height": null,
      "justify_content": null,
      "justify_items": null,
      "left": null,
      "margin": null,
      "max_height": null,
      "max_width": null,
      "min_height": null,
      "min_width": null,
      "object_fit": null,
      "object_position": null,
      "order": null,
      "overflow": null,
      "overflow_x": null,
      "overflow_y": null,
      "padding": null,
      "right": null,
      "top": null,
      "visibility": null,
      "width": null
     }
    },
    "034524d770cb43faa0b4b99758a5a6e0": {
     "model_module": "@jupyter-widgets/controls",
     "model_module_version": "1.5.0",
     "model_name": "FloatProgressModel",
     "state": {
      "_dom_classes": [],
      "_model_module": "@jupyter-widgets/controls",
      "_model_module_version": "1.5.0",
      "_model_name": "FloatProgressModel",
      "_view_count": null,
      "_view_module": "@jupyter-widgets/controls",
      "_view_module_version": "1.5.0",
      "_view_name": "ProgressView",
      "bar_style": "success",
      "description": "",
      "description_tooltip": null,
      "layout": "IPY_MODEL_7baa371070ba458b9110cda209ab2a8c",
      "max": 4418,
      "min": 0,
      "orientation": "horizontal",
      "style": "IPY_MODEL_8a96cb49e461451eb1ef97f438b8004a",
      "value": 4418
     }
    },
    "0508f891e4be4058998eda71c43e25ff": {
     "model_module": "@jupyter-widgets/controls",
     "model_module_version": "1.5.0",
     "model_name": "HTMLModel",
     "state": {
      "_dom_classes": [],
      "_model_module": "@jupyter-widgets/controls",
      "_model_module_version": "1.5.0",
      "_model_name": "HTMLModel",
      "_view_count": null,
      "_view_module": "@jupyter-widgets/controls",
      "_view_module_version": "1.5.0",
      "_view_name": "HTMLView",
      "description": "",
      "description_tooltip": null,
      "layout": "IPY_MODEL_6ad554e463364020b256413a4daa00a6",
      "placeholder": "​",
      "style": "IPY_MODEL_a72a459d46fa42f5825b3e54ce2fd2c5",
      "value": "Downloading (…)rocessor_config.json: 100%"
     }
    },
    "0c71d78e57104407a5b3c9adcd5d6757": {
     "model_module": "@jupyter-widgets/controls",
     "model_module_version": "1.5.0",
     "model_name": "HTMLModel",
     "state": {
      "_dom_classes": [],
      "_model_module": "@jupyter-widgets/controls",
      "_model_module_version": "1.5.0",
      "_model_name": "HTMLModel",
      "_view_count": null,
      "_view_module": "@jupyter-widgets/controls",
      "_view_module_version": "1.5.0",
      "_view_name": "HTMLView",
      "description": "",
      "description_tooltip": null,
      "layout": "IPY_MODEL_e86347ea739646b99dc2273d76a8f02b",
      "placeholder": "​",
      "style": "IPY_MODEL_9909efc9edda4a859476234dd5924f24",
      "value": " 775/775 [00:00&lt;00:00, 47.7kB/s]"
     }
    },
    "0eaea0e893214476baf965653a1a23bd": {
     "model_module": "@jupyter-widgets/base",
     "model_module_version": "1.2.0",
     "model_name": "LayoutModel",
     "state": {
      "_model_module": "@jupyter-widgets/base",
      "_model_module_version": "1.2.0",
      "_model_name": "LayoutModel",
      "_view_count": null,
      "_view_module": "@jupyter-widgets/base",
      "_view_module_version": "1.2.0",
      "_view_name": "LayoutView",
      "align_content": null,
      "align_items": null,
      "align_self": null,
      "border": null,
      "bottom": null,
      "display": null,
      "flex": null,
      "flex_flow": null,
      "grid_area": null,
      "grid_auto_columns": null,
      "grid_auto_flow": null,
      "grid_auto_rows": null,
      "grid_column": null,
      "grid_gap": null,
      "grid_row": null,
      "grid_template_areas": null,
      "grid_template_columns": null,
      "grid_template_rows": null,
      "height": null,
      "justify_content": null,
      "justify_items": null,
      "left": null,
      "margin": null,
      "max_height": null,
      "max_width": null,
      "min_height": null,
      "min_width": null,
      "object_fit": null,
      "object_position": null,
      "order": null,
      "overflow": null,
      "overflow_x": null,
      "overflow_y": null,
      "padding": null,
      "right": null,
      "top": null,
      "visibility": null,
      "width": null
     }
    },
    "11a2a59e69424fcdacae53342531655c": {
     "model_module": "@jupyter-widgets/controls",
     "model_module_version": "1.5.0",
     "model_name": "HBoxModel",
     "state": {
      "_dom_classes": [],
      "_model_module": "@jupyter-widgets/controls",
      "_model_module_version": "1.5.0",
      "_model_name": "HBoxModel",
      "_view_count": null,
      "_view_module": "@jupyter-widgets/controls",
      "_view_module_version": "1.5.0",
      "_view_name": "HBoxView",
      "box_style": "",
      "children": [
       "IPY_MODEL_a3bd563502ba4cd88c48486c2a309754",
       "IPY_MODEL_91b9f0a779754f8fb799a0f944d0a8a3",
       "IPY_MODEL_592bb1e626554ad48518c5460103a248"
      ],
      "layout": "IPY_MODEL_aba132c32fc24fe7a8c956d01af401ad"
     }
    },
    "1311ab93070c408aa8777cceae01e4c6": {
     "model_module": "@jupyter-widgets/controls",
     "model_module_version": "1.5.0",
     "model_name": "HBoxModel",
     "state": {
      "_dom_classes": [],
      "_model_module": "@jupyter-widgets/controls",
      "_model_module_version": "1.5.0",
      "_model_name": "HBoxModel",
      "_view_count": null,
      "_view_module": "@jupyter-widgets/controls",
      "_view_module_version": "1.5.0",
      "_view_name": "HBoxView",
      "box_style": "",
      "children": [
       "IPY_MODEL_30874c808264454ebb9048ade4a2ad96",
       "IPY_MODEL_fb82a5c282e14a9186397960bd013dc9",
       "IPY_MODEL_dc4fd1f72222404395156e2752043426"
      ],
      "layout": "IPY_MODEL_d9c977a56cfa4beeb7f83fcdb71e17c3"
     }
    },
    "1aec1810a0a14d909c4c9ce6a4d7c393": {
     "model_module": "@jupyter-widgets/base",
     "model_module_version": "1.2.0",
     "model_name": "LayoutModel",
     "state": {
      "_model_module": "@jupyter-widgets/base",
      "_model_module_version": "1.2.0",
      "_model_name": "LayoutModel",
      "_view_count": null,
      "_view_module": "@jupyter-widgets/base",
      "_view_module_version": "1.2.0",
      "_view_name": "LayoutView",
      "align_content": null,
      "align_items": null,
      "align_self": null,
      "border": null,
      "bottom": null,
      "display": null,
      "flex": null,
      "flex_flow": null,
      "grid_area": null,
      "grid_auto_columns": null,
      "grid_auto_flow": null,
      "grid_auto_rows": null,
      "grid_column": null,
      "grid_gap": null,
      "grid_row": null,
      "grid_template_areas": null,
      "grid_template_columns": null,
      "grid_template_rows": null,
      "height": null,
      "justify_content": null,
      "justify_items": null,
      "left": null,
      "margin": null,
      "max_height": null,
      "max_width": null,
      "min_height": null,
      "min_width": null,
      "object_fit": null,
      "object_position": null,
      "order": null,
      "overflow": null,
      "overflow_x": null,
      "overflow_y": null,
      "padding": null,
      "right": null,
      "top": null,
      "visibility": null,
      "width": null
     }
    },
    "1b9adaf6e0144aec92be625b3db4032f": {
     "model_module": "@jupyter-widgets/base",
     "model_module_version": "1.2.0",
     "model_name": "LayoutModel",
     "state": {
      "_model_module": "@jupyter-widgets/base",
      "_model_module_version": "1.2.0",
      "_model_name": "LayoutModel",
      "_view_count": null,
      "_view_module": "@jupyter-widgets/base",
      "_view_module_version": "1.2.0",
      "_view_name": "LayoutView",
      "align_content": null,
      "align_items": null,
      "align_self": null,
      "border": null,
      "bottom": null,
      "display": null,
      "flex": null,
      "flex_flow": null,
      "grid_area": null,
      "grid_auto_columns": null,
      "grid_auto_flow": null,
      "grid_auto_rows": null,
      "grid_column": null,
      "grid_gap": null,
      "grid_row": null,
      "grid_template_areas": null,
      "grid_template_columns": null,
      "grid_template_rows": null,
      "height": null,
      "justify_content": null,
      "justify_items": null,
      "left": null,
      "margin": null,
      "max_height": null,
      "max_width": null,
      "min_height": null,
      "min_width": null,
      "object_fit": null,
      "object_position": null,
      "order": null,
      "overflow": null,
      "overflow_x": null,
      "overflow_y": null,
      "padding": null,
      "right": null,
      "top": null,
      "visibility": null,
      "width": null
     }
    },
    "219760dbf032492c91c4c71239c566ee": {
     "model_module": "@jupyter-widgets/controls",
     "model_module_version": "1.5.0",
     "model_name": "HTMLModel",
     "state": {
      "_dom_classes": [],
      "_model_module": "@jupyter-widgets/controls",
      "_model_module_version": "1.5.0",
      "_model_name": "HTMLModel",
      "_view_count": null,
      "_view_module": "@jupyter-widgets/controls",
      "_view_module_version": "1.5.0",
      "_view_name": "HTMLView",
      "description": "",
      "description_tooltip": null,
      "layout": "IPY_MODEL_1b9adaf6e0144aec92be625b3db4032f",
      "placeholder": "​",
      "style": "IPY_MODEL_bbc01c288ba44608a149dddece54a8d4",
      "value": "Downloading (…)olve/main/merges.txt: 100%"
     }
    },
    "23893e23eb1f4f3ea65957ad9794c8ff": {
     "model_module": "@jupyter-widgets/controls",
     "model_module_version": "1.5.0",
     "model_name": "FloatProgressModel",
     "state": {
      "_dom_classes": [],
      "_model_module": "@jupyter-widgets/controls",
      "_model_module_version": "1.5.0",
      "_model_name": "FloatProgressModel",
      "_view_count": null,
      "_view_module": "@jupyter-widgets/controls",
      "_view_module_version": "1.5.0",
      "_view_name": "ProgressView",
      "bar_style": "success",
      "description": "",
      "description_tooltip": null,
      "layout": "IPY_MODEL_9c42544212304aca92ec7a4bc1415737",
      "max": 775,
      "min": 0,
      "orientation": "horizontal",
      "style": "IPY_MODEL_de2591fa134f4811adc7d80f64c38e2f",
      "value": 775
     }
    },
    "276f215ec8e84c0791121ad0bb9988a7": {
     "model_module": "@jupyter-widgets/base",
     "model_module_version": "1.2.0",
     "model_name": "LayoutModel",
     "state": {
      "_model_module": "@jupyter-widgets/base",
      "_model_module_version": "1.2.0",
      "_model_name": "LayoutModel",
      "_view_count": null,
      "_view_module": "@jupyter-widgets/base",
      "_view_module_version": "1.2.0",
      "_view_name": "LayoutView",
      "align_content": null,
      "align_items": null,
      "align_self": null,
      "border": null,
      "bottom": null,
      "display": null,
      "flex": null,
      "flex_flow": null,
      "grid_area": null,
      "grid_auto_columns": null,
      "grid_auto_flow": null,
      "grid_auto_rows": null,
      "grid_column": null,
      "grid_gap": null,
      "grid_row": null,
      "grid_template_areas": null,
      "grid_template_columns": null,
      "grid_template_rows": null,
      "height": null,
      "justify_content": null,
      "justify_items": null,
      "left": null,
      "margin": null,
      "max_height": null,
      "max_width": null,
      "min_height": null,
      "min_width": null,
      "object_fit": null,
      "object_position": null,
      "order": null,
      "overflow": null,
      "overflow_x": null,
      "overflow_y": null,
      "padding": null,
      "right": null,
      "top": null,
      "visibility": null,
      "width": null
     }
    },
    "2dd96a6f9b174542945adbd25fb0dc5c": {
     "model_module": "@jupyter-widgets/base",
     "model_module_version": "1.2.0",
     "model_name": "LayoutModel",
     "state": {
      "_model_module": "@jupyter-widgets/base",
      "_model_module_version": "1.2.0",
      "_model_name": "LayoutModel",
      "_view_count": null,
      "_view_module": "@jupyter-widgets/base",
      "_view_module_version": "1.2.0",
      "_view_name": "LayoutView",
      "align_content": null,
      "align_items": null,
      "align_self": null,
      "border": null,
      "bottom": null,
      "display": null,
      "flex": null,
      "flex_flow": null,
      "grid_area": null,
      "grid_auto_columns": null,
      "grid_auto_flow": null,
      "grid_auto_rows": null,
      "grid_column": null,
      "grid_gap": null,
      "grid_row": null,
      "grid_template_areas": null,
      "grid_template_columns": null,
      "grid_template_rows": null,
      "height": null,
      "justify_content": null,
      "justify_items": null,
      "left": null,
      "margin": null,
      "max_height": null,
      "max_width": null,
      "min_height": null,
      "min_width": null,
      "object_fit": null,
      "object_position": null,
      "order": null,
      "overflow": null,
      "overflow_x": null,
      "overflow_y": null,
      "padding": null,
      "right": null,
      "top": null,
      "visibility": null,
      "width": null
     }
    },
    "30874c808264454ebb9048ade4a2ad96": {
     "model_module": "@jupyter-widgets/controls",
     "model_module_version": "1.5.0",
     "model_name": "HTMLModel",
     "state": {
      "_dom_classes": [],
      "_model_module": "@jupyter-widgets/controls",
      "_model_module_version": "1.5.0",
      "_model_name": "HTMLModel",
      "_view_count": null,
      "_view_module": "@jupyter-widgets/controls",
      "_view_module_version": "1.5.0",
      "_view_name": "HTMLView",
      "description": "",
      "description_tooltip": null,
      "layout": "IPY_MODEL_3b577f78438a4795bc0412839e89aab7",
      "placeholder": "​",
      "style": "IPY_MODEL_f048c3c4ca034c1c84b28c87373c2ddd",
      "value": "Downloading pytorch_model.bin: 100%"
     }
    },
    "33939d15efb241268ef6918e4789f198": {
     "model_module": "@jupyter-widgets/base",
     "model_module_version": "1.2.0",
     "model_name": "LayoutModel",
     "state": {
      "_model_module": "@jupyter-widgets/base",
      "_model_module_version": "1.2.0",
      "_model_name": "LayoutModel",
      "_view_count": null,
      "_view_module": "@jupyter-widgets/base",
      "_view_module_version": "1.2.0",
      "_view_name": "LayoutView",
      "align_content": null,
      "align_items": null,
      "align_self": null,
      "border": null,
      "bottom": null,
      "display": null,
      "flex": null,
      "flex_flow": null,
      "grid_area": null,
      "grid_auto_columns": null,
      "grid_auto_flow": null,
      "grid_auto_rows": null,
      "grid_column": null,
      "grid_gap": null,
      "grid_row": null,
      "grid_template_areas": null,
      "grid_template_columns": null,
      "grid_template_rows": null,
      "height": null,
      "justify_content": null,
      "justify_items": null,
      "left": null,
      "margin": null,
      "max_height": null,
      "max_width": null,
      "min_height": null,
      "min_width": null,
      "object_fit": null,
      "object_position": null,
      "order": null,
      "overflow": null,
      "overflow_x": null,
      "overflow_y": null,
      "padding": null,
      "right": null,
      "top": null,
      "visibility": null,
      "width": null
     }
    },
    "3b577f78438a4795bc0412839e89aab7": {
     "model_module": "@jupyter-widgets/base",
     "model_module_version": "1.2.0",
     "model_name": "LayoutModel",
     "state": {
      "_model_module": "@jupyter-widgets/base",
      "_model_module_version": "1.2.0",
      "_model_name": "LayoutModel",
      "_view_count": null,
      "_view_module": "@jupyter-widgets/base",
      "_view_module_version": "1.2.0",
      "_view_name": "LayoutView",
      "align_content": null,
      "align_items": null,
      "align_self": null,
      "border": null,
      "bottom": null,
      "display": null,
      "flex": null,
      "flex_flow": null,
      "grid_area": null,
      "grid_auto_columns": null,
      "grid_auto_flow": null,
      "grid_auto_rows": null,
      "grid_column": null,
      "grid_gap": null,
      "grid_row": null,
      "grid_template_areas": null,
      "grid_template_columns": null,
      "grid_template_rows": null,
      "height": null,
      "justify_content": null,
      "justify_items": null,
      "left": null,
      "margin": null,
      "max_height": null,
      "max_width": null,
      "min_height": null,
      "min_width": null,
      "object_fit": null,
      "object_position": null,
      "order": null,
      "overflow": null,
      "overflow_x": null,
      "overflow_y": null,
      "padding": null,
      "right": null,
      "top": null,
      "visibility": null,
      "width": null
     }
    },
    "3f173ab3cc5e40369d2227722631747f": {
     "model_module": "@jupyter-widgets/base",
     "model_module_version": "1.2.0",
     "model_name": "LayoutModel",
     "state": {
      "_model_module": "@jupyter-widgets/base",
      "_model_module_version": "1.2.0",
      "_model_name": "LayoutModel",
      "_view_count": null,
      "_view_module": "@jupyter-widgets/base",
      "_view_module_version": "1.2.0",
      "_view_name": "LayoutView",
      "align_content": null,
      "align_items": null,
      "align_self": null,
      "border": null,
      "bottom": null,
      "display": null,
      "flex": null,
      "flex_flow": null,
      "grid_area": null,
      "grid_auto_columns": null,
      "grid_auto_flow": null,
      "grid_auto_rows": null,
      "grid_column": null,
      "grid_gap": null,
      "grid_row": null,
      "grid_template_areas": null,
      "grid_template_columns": null,
      "grid_template_rows": null,
      "height": null,
      "justify_content": null,
      "justify_items": null,
      "left": null,
      "margin": null,
      "max_height": null,
      "max_width": null,
      "min_height": null,
      "min_width": null,
      "object_fit": null,
      "object_position": null,
      "order": null,
      "overflow": null,
      "overflow_x": null,
      "overflow_y": null,
      "padding": null,
      "right": null,
      "top": null,
      "visibility": null,
      "width": null
     }
    },
    "4090d3e02a004fb2a92da2584e718499": {
     "model_module": "@jupyter-widgets/base",
     "model_module_version": "1.2.0",
     "model_name": "LayoutModel",
     "state": {
      "_model_module": "@jupyter-widgets/base",
      "_model_module_version": "1.2.0",
      "_model_name": "LayoutModel",
      "_view_count": null,
      "_view_module": "@jupyter-widgets/base",
      "_view_module_version": "1.2.0",
      "_view_name": "LayoutView",
      "align_content": null,
      "align_items": null,
      "align_self": null,
      "border": null,
      "bottom": null,
      "display": null,
      "flex": null,
      "flex_flow": null,
      "grid_area": null,
      "grid_auto_columns": null,
      "grid_auto_flow": null,
      "grid_auto_rows": null,
      "grid_column": null,
      "grid_gap": null,
      "grid_row": null,
      "grid_template_areas": null,
      "grid_template_columns": null,
      "grid_template_rows": null,
      "height": null,
      "justify_content": null,
      "justify_items": null,
      "left": null,
      "margin": null,
      "max_height": null,
      "max_width": null,
      "min_height": null,
      "min_width": null,
      "object_fit": null,
      "object_position": null,
      "order": null,
      "overflow": null,
      "overflow_x": null,
      "overflow_y": null,
      "padding": null,
      "right": null,
      "top": null,
      "visibility": null,
      "width": null
     }
    },
    "41f2c79c661246ae8e1958d9a8e23734": {
     "model_module": "@jupyter-widgets/controls",
     "model_module_version": "1.5.0",
     "model_name": "HTMLModel",
     "state": {
      "_dom_classes": [],
      "_model_module": "@jupyter-widgets/controls",
      "_model_module_version": "1.5.0",
      "_model_name": "HTMLModel",
      "_view_count": null,
      "_view_module": "@jupyter-widgets/controls",
      "_view_module_version": "1.5.0",
      "_view_name": "HTMLView",
      "description": "",
      "description_tooltip": null,
      "layout": "IPY_MODEL_4b4365e3a631406889e9e8c19f40d812",
      "placeholder": "​",
      "style": "IPY_MODEL_d8ff9bd2f2954757be518c1098ca7a82",
      "value": "Downloading (…)olve/main/vocab.json: 100%"
     }
    },
    "48f8959276354e139303fe393eb08c2b": {
     "model_module": "@jupyter-widgets/controls",
     "model_module_version": "1.5.0",
     "model_name": "HBoxModel",
     "state": {
      "_dom_classes": [],
      "_model_module": "@jupyter-widgets/controls",
      "_model_module_version": "1.5.0",
      "_model_name": "HBoxModel",
      "_view_count": null,
      "_view_module": "@jupyter-widgets/controls",
      "_view_module_version": "1.5.0",
      "_view_name": "HBoxView",
      "box_style": "",
      "children": [
       "IPY_MODEL_41f2c79c661246ae8e1958d9a8e23734",
       "IPY_MODEL_cbdb5df3bed54d0b8dc8b9cac5d13317",
       "IPY_MODEL_aec2ce2e8e104edeb1ed8ebe78688099"
      ],
      "layout": "IPY_MODEL_2dd96a6f9b174542945adbd25fb0dc5c"
     }
    },
    "4b4365e3a631406889e9e8c19f40d812": {
     "model_module": "@jupyter-widgets/base",
     "model_module_version": "1.2.0",
     "model_name": "LayoutModel",
     "state": {
      "_model_module": "@jupyter-widgets/base",
      "_model_module_version": "1.2.0",
      "_model_name": "LayoutModel",
      "_view_count": null,
      "_view_module": "@jupyter-widgets/base",
      "_view_module_version": "1.2.0",
      "_view_name": "LayoutView",
      "align_content": null,
      "align_items": null,
      "align_self": null,
      "border": null,
      "bottom": null,
      "display": null,
      "flex": null,
      "flex_flow": null,
      "grid_area": null,
      "grid_auto_columns": null,
      "grid_auto_flow": null,
      "grid_auto_rows": null,
      "grid_column": null,
      "grid_gap": null,
      "grid_row": null,
      "grid_template_areas": null,
      "grid_template_columns": null,
      "grid_template_rows": null,
      "height": null,
      "justify_content": null,
      "justify_items": null,
      "left": null,
      "margin": null,
      "max_height": null,
      "max_width": null,
      "min_height": null,
      "min_width": null,
      "object_fit": null,
      "object_position": null,
      "order": null,
      "overflow": null,
      "overflow_x": null,
      "overflow_y": null,
      "padding": null,
      "right": null,
      "top": null,
      "visibility": null,
      "width": null
     }
    },
    "542354e0af6543a89a00699e1fccff8d": {
     "model_module": "@jupyter-widgets/controls",
     "model_module_version": "1.5.0",
     "model_name": "HBoxModel",
     "state": {
      "_dom_classes": [],
      "_model_module": "@jupyter-widgets/controls",
      "_model_module_version": "1.5.0",
      "_model_name": "HBoxModel",
      "_view_count": null,
      "_view_module": "@jupyter-widgets/controls",
      "_view_module_version": "1.5.0",
      "_view_name": "HBoxView",
      "box_style": "",
      "children": [
       "IPY_MODEL_219760dbf032492c91c4c71239c566ee",
       "IPY_MODEL_dd6b8c30cb004fb4a8638129ab231601",
       "IPY_MODEL_8880669e08c2402db169874fb648e03b"
      ],
      "layout": "IPY_MODEL_33939d15efb241268ef6918e4789f198"
     }
    },
    "592bb1e626554ad48518c5460103a248": {
     "model_module": "@jupyter-widgets/controls",
     "model_module_version": "1.5.0",
     "model_name": "HTMLModel",
     "state": {
      "_dom_classes": [],
      "_model_module": "@jupyter-widgets/controls",
      "_model_module_version": "1.5.0",
      "_model_name": "HTMLModel",
      "_view_count": null,
      "_view_module": "@jupyter-widgets/controls",
      "_view_module_version": "1.5.0",
      "_view_name": "HTMLView",
      "description": "",
      "description_tooltip": null,
      "layout": "IPY_MODEL_4090d3e02a004fb2a92da2584e718499",
      "placeholder": "​",
      "style": "IPY_MODEL_d2207216be7747f48947b555b1093d84",
      "value": " 460/460 [00:00&lt;00:00, 31.6kB/s]"
     }
    },
    "6026bdc2f73e437a8639e50f02ffbd43": {
     "model_module": "@jupyter-widgets/controls",
     "model_module_version": "1.5.0",
     "model_name": "DescriptionStyleModel",
     "state": {
      "_model_module": "@jupyter-widgets/controls",
      "_model_module_version": "1.5.0",
      "_model_name": "DescriptionStyleModel",
      "_view_count": null,
      "_view_module": "@jupyter-widgets/base",
      "_view_module_version": "1.2.0",
      "_view_name": "StyleView",
      "description_width": ""
     }
    },
    "62776dddfb3542f394e9452f85e8f721": {
     "model_module": "@jupyter-widgets/controls",
     "model_module_version": "1.5.0",
     "model_name": "DescriptionStyleModel",
     "state": {
      "_model_module": "@jupyter-widgets/controls",
      "_model_module_version": "1.5.0",
      "_model_name": "DescriptionStyleModel",
      "_view_count": null,
      "_view_module": "@jupyter-widgets/base",
      "_view_module_version": "1.2.0",
      "_view_name": "StyleView",
      "description_width": ""
     }
    },
    "64d9784e8e554a5ea20343212aa96ceb": {
     "model_module": "@jupyter-widgets/controls",
     "model_module_version": "1.5.0",
     "model_name": "HBoxModel",
     "state": {
      "_dom_classes": [],
      "_model_module": "@jupyter-widgets/controls",
      "_model_module_version": "1.5.0",
      "_model_name": "HBoxModel",
      "_view_count": null,
      "_view_module": "@jupyter-widgets/controls",
      "_view_module_version": "1.5.0",
      "_view_name": "HBoxView",
      "box_style": "",
      "children": [
       "IPY_MODEL_0508f891e4be4058998eda71c43e25ff",
       "IPY_MODEL_7aa7929345494165b6a54e14b5fd5169",
       "IPY_MODEL_8d10234462b64a3f9f78d7087191bac3"
      ],
      "layout": "IPY_MODEL_3f173ab3cc5e40369d2227722631747f"
     }
    },
    "6ad554e463364020b256413a4daa00a6": {
     "model_module": "@jupyter-widgets/base",
     "model_module_version": "1.2.0",
     "model_name": "LayoutModel",
     "state": {
      "_model_module": "@jupyter-widgets/base",
      "_model_module_version": "1.2.0",
      "_model_name": "LayoutModel",
      "_view_count": null,
      "_view_module": "@jupyter-widgets/base",
      "_view_module_version": "1.2.0",
      "_view_name": "LayoutView",
      "align_content": null,
      "align_items": null,
      "align_self": null,
      "border": null,
      "bottom": null,
      "display": null,
      "flex": null,
      "flex_flow": null,
      "grid_area": null,
      "grid_auto_columns": null,
      "grid_auto_flow": null,
      "grid_auto_rows": null,
      "grid_column": null,
      "grid_gap": null,
      "grid_row": null,
      "grid_template_areas": null,
      "grid_template_columns": null,
      "grid_template_rows": null,
      "height": null,
      "justify_content": null,
      "justify_items": null,
      "left": null,
      "margin": null,
      "max_height": null,
      "max_width": null,
      "min_height": null,
      "min_width": null,
      "object_fit": null,
      "object_position": null,
      "order": null,
      "overflow": null,
      "overflow_x": null,
      "overflow_y": null,
      "padding": null,
      "right": null,
      "top": null,
      "visibility": null,
      "width": null
     }
    },
    "732a5f3e18424138ae715ec9fb2ccd30": {
     "model_module": "@jupyter-widgets/controls",
     "model_module_version": "1.5.0",
     "model_name": "HTMLModel",
     "state": {
      "_dom_classes": [],
      "_model_module": "@jupyter-widgets/controls",
      "_model_module_version": "1.5.0",
      "_model_name": "HTMLModel",
      "_view_count": null,
      "_view_module": "@jupyter-widgets/controls",
      "_view_module_version": "1.5.0",
      "_view_name": "HTMLView",
      "description": "",
      "description_tooltip": null,
      "layout": "IPY_MODEL_c0c03860b6a648b09d22e4c4edc00d30",
      "placeholder": "​",
      "style": "IPY_MODEL_62776dddfb3542f394e9452f85e8f721",
      "value": "Downloading (…)okenizer_config.json: 100%"
     }
    },
    "77cc34358df74d5baf96e335724564ee": {
     "model_module": "@jupyter-widgets/base",
     "model_module_version": "1.2.0",
     "model_name": "LayoutModel",
     "state": {
      "_model_module": "@jupyter-widgets/base",
      "_model_module_version": "1.2.0",
      "_model_name": "LayoutModel",
      "_view_count": null,
      "_view_module": "@jupyter-widgets/base",
      "_view_module_version": "1.2.0",
      "_view_name": "LayoutView",
      "align_content": null,
      "align_items": null,
      "align_self": null,
      "border": null,
      "bottom": null,
      "display": null,
      "flex": null,
      "flex_flow": null,
      "grid_area": null,
      "grid_auto_columns": null,
      "grid_auto_flow": null,
      "grid_auto_rows": null,
      "grid_column": null,
      "grid_gap": null,
      "grid_row": null,
      "grid_template_areas": null,
      "grid_template_columns": null,
      "grid_template_rows": null,
      "height": null,
      "justify_content": null,
      "justify_items": null,
      "left": null,
      "margin": null,
      "max_height": null,
      "max_width": null,
      "min_height": null,
      "min_width": null,
      "object_fit": null,
      "object_position": null,
      "order": null,
      "overflow": null,
      "overflow_x": null,
      "overflow_y": null,
      "padding": null,
      "right": null,
      "top": null,
      "visibility": null,
      "width": null
     }
    },
    "7aa7929345494165b6a54e14b5fd5169": {
     "model_module": "@jupyter-widgets/controls",
     "model_module_version": "1.5.0",
     "model_name": "FloatProgressModel",
     "state": {
      "_dom_classes": [],
      "_model_module": "@jupyter-widgets/controls",
      "_model_module_version": "1.5.0",
      "_model_name": "FloatProgressModel",
      "_view_count": null,
      "_view_module": "@jupyter-widgets/controls",
      "_view_module_version": "1.5.0",
      "_view_name": "ProgressView",
      "bar_style": "success",
      "description": "",
      "description_tooltip": null,
      "layout": "IPY_MODEL_fe1b0edcd9864a57b7ce15953d8fd5cb",
      "max": 392,
      "min": 0,
      "orientation": "horizontal",
      "style": "IPY_MODEL_9b825c9a4f204eafbb17bc69db55f224",
      "value": 392
     }
    },
    "7baa371070ba458b9110cda209ab2a8c": {
     "model_module": "@jupyter-widgets/base",
     "model_module_version": "1.2.0",
     "model_name": "LayoutModel",
     "state": {
      "_model_module": "@jupyter-widgets/base",
      "_model_module_version": "1.2.0",
      "_model_name": "LayoutModel",
      "_view_count": null,
      "_view_module": "@jupyter-widgets/base",
      "_view_module_version": "1.2.0",
      "_view_name": "LayoutView",
      "align_content": null,
      "align_items": null,
      "align_self": null,
      "border": null,
      "bottom": null,
      "display": null,
      "flex": null,
      "flex_flow": null,
      "grid_area": null,
      "grid_auto_columns": null,
      "grid_auto_flow": null,
      "grid_auto_rows": null,
      "grid_column": null,
      "grid_gap": null,
      "grid_row": null,
      "grid_template_areas": null,
      "grid_template_columns": null,
      "grid_template_rows": null,
      "height": null,
      "justify_content": null,
      "justify_items": null,
      "left": null,
      "margin": null,
      "max_height": null,
      "max_width": null,
      "min_height": null,
      "min_width": null,
      "object_fit": null,
      "object_position": null,
      "order": null,
      "overflow": null,
      "overflow_x": null,
      "overflow_y": null,
      "padding": null,
      "right": null,
      "top": null,
      "visibility": null,
      "width": null
     }
    },
    "7f1bc4bccc3e4a349a16e800131020d9": {
     "model_module": "@jupyter-widgets/controls",
     "model_module_version": "1.5.0",
     "model_name": "HBoxModel",
     "state": {
      "_dom_classes": [],
      "_model_module": "@jupyter-widgets/controls",
      "_model_module_version": "1.5.0",
      "_model_name": "HBoxModel",
      "_view_count": null,
      "_view_module": "@jupyter-widgets/controls",
      "_view_module_version": "1.5.0",
      "_view_name": "HBoxView",
      "box_style": "",
      "children": [
       "IPY_MODEL_732a5f3e18424138ae715ec9fb2ccd30",
       "IPY_MODEL_23893e23eb1f4f3ea65957ad9794c8ff",
       "IPY_MODEL_0c71d78e57104407a5b3c9adcd5d6757"
      ],
      "layout": "IPY_MODEL_a1343a48fe0c4c22916b7f5435faf49f"
     }
    },
    "8744ea2bda2847679fbeda55cb31d876": {
     "model_module": "@jupyter-widgets/controls",
     "model_module_version": "1.5.0",
     "model_name": "ProgressStyleModel",
     "state": {
      "_model_module": "@jupyter-widgets/controls",
      "_model_module_version": "1.5.0",
      "_model_name": "ProgressStyleModel",
      "_view_count": null,
      "_view_module": "@jupyter-widgets/base",
      "_view_module_version": "1.2.0",
      "_view_name": "StyleView",
      "bar_color": null,
      "description_width": ""
     }
    },
    "8880669e08c2402db169874fb648e03b": {
     "model_module": "@jupyter-widgets/controls",
     "model_module_version": "1.5.0",
     "model_name": "HTMLModel",
     "state": {
      "_dom_classes": [],
      "_model_module": "@jupyter-widgets/controls",
      "_model_module_version": "1.5.0",
      "_model_name": "HTMLModel",
      "_view_count": null,
      "_view_module": "@jupyter-widgets/controls",
      "_view_module_version": "1.5.0",
      "_view_name": "HTMLView",
      "description": "",
      "description_tooltip": null,
      "layout": "IPY_MODEL_d8dac358de0d48a79a4976a6dce37bfc",
      "placeholder": "​",
      "style": "IPY_MODEL_a8fac45bfc154d7e93e3549ff7f3c7e6",
      "value": " 525k/525k [00:00&lt;00:00, 34.0MB/s]"
     }
    },
    "8a96cb49e461451eb1ef97f438b8004a": {
     "model_module": "@jupyter-widgets/controls",
     "model_module_version": "1.5.0",
     "model_name": "ProgressStyleModel",
     "state": {
      "_model_module": "@jupyter-widgets/controls",
      "_model_module_version": "1.5.0",
      "_model_name": "ProgressStyleModel",
      "_view_count": null,
      "_view_module": "@jupyter-widgets/base",
      "_view_module_version": "1.2.0",
      "_view_name": "StyleView",
      "bar_color": null,
      "description_width": ""
     }
    },
    "8d10234462b64a3f9f78d7087191bac3": {
     "model_module": "@jupyter-widgets/controls",
     "model_module_version": "1.5.0",
     "model_name": "HTMLModel",
     "state": {
      "_dom_classes": [],
      "_model_module": "@jupyter-widgets/controls",
      "_model_module_version": "1.5.0",
      "_model_name": "HTMLModel",
      "_view_count": null,
      "_view_module": "@jupyter-widgets/controls",
      "_view_module_version": "1.5.0",
      "_view_name": "HTMLView",
      "description": "",
      "description_tooltip": null,
      "layout": "IPY_MODEL_1aec1810a0a14d909c4c9ce6a4d7c393",
      "placeholder": "​",
      "style": "IPY_MODEL_f770eb95d7124a9384db2d07d970f9e9",
      "value": " 392/392 [00:00&lt;00:00, 19.0kB/s]"
     }
    },
    "8ebbc7925139424a8223ef04c8263379": {
     "model_module": "@jupyter-widgets/controls",
     "model_module_version": "1.5.0",
     "model_name": "ProgressStyleModel",
     "state": {
      "_model_module": "@jupyter-widgets/controls",
      "_model_module_version": "1.5.0",
      "_model_name": "ProgressStyleModel",
      "_view_count": null,
      "_view_module": "@jupyter-widgets/base",
      "_view_module_version": "1.2.0",
      "_view_name": "StyleView",
      "bar_color": null,
      "description_width": ""
     }
    },
    "91b9f0a779754f8fb799a0f944d0a8a3": {
     "model_module": "@jupyter-widgets/controls",
     "model_module_version": "1.5.0",
     "model_name": "FloatProgressModel",
     "state": {
      "_dom_classes": [],
      "_model_module": "@jupyter-widgets/controls",
      "_model_module_version": "1.5.0",
      "_model_name": "FloatProgressModel",
      "_view_count": null,
      "_view_module": "@jupyter-widgets/controls",
      "_view_module_version": "1.5.0",
      "_view_name": "ProgressView",
      "bar_style": "success",
      "description": "",
      "description_tooltip": null,
      "layout": "IPY_MODEL_276f215ec8e84c0791121ad0bb9988a7",
      "max": 460,
      "min": 0,
      "orientation": "horizontal",
      "style": "IPY_MODEL_8ebbc7925139424a8223ef04c8263379",
      "value": 460
     }
    },
    "9909efc9edda4a859476234dd5924f24": {
     "model_module": "@jupyter-widgets/controls",
     "model_module_version": "1.5.0",
     "model_name": "DescriptionStyleModel",
     "state": {
      "_model_module": "@jupyter-widgets/controls",
      "_model_module_version": "1.5.0",
      "_model_name": "DescriptionStyleModel",
      "_view_count": null,
      "_view_module": "@jupyter-widgets/base",
      "_view_module_version": "1.2.0",
      "_view_name": "StyleView",
      "description_width": ""
     }
    },
    "9b825c9a4f204eafbb17bc69db55f224": {
     "model_module": "@jupyter-widgets/controls",
     "model_module_version": "1.5.0",
     "model_name": "ProgressStyleModel",
     "state": {
      "_model_module": "@jupyter-widgets/controls",
      "_model_module_version": "1.5.0",
      "_model_name": "ProgressStyleModel",
      "_view_count": null,
      "_view_module": "@jupyter-widgets/base",
      "_view_module_version": "1.2.0",
      "_view_name": "StyleView",
      "bar_color": null,
      "description_width": ""
     }
    },
    "9c42544212304aca92ec7a4bc1415737": {
     "model_module": "@jupyter-widgets/base",
     "model_module_version": "1.2.0",
     "model_name": "LayoutModel",
     "state": {
      "_model_module": "@jupyter-widgets/base",
      "_model_module_version": "1.2.0",
      "_model_name": "LayoutModel",
      "_view_count": null,
      "_view_module": "@jupyter-widgets/base",
      "_view_module_version": "1.2.0",
      "_view_name": "LayoutView",
      "align_content": null,
      "align_items": null,
      "align_self": null,
      "border": null,
      "bottom": null,
      "display": null,
      "flex": null,
      "flex_flow": null,
      "grid_area": null,
      "grid_auto_columns": null,
      "grid_auto_flow": null,
      "grid_auto_rows": null,
      "grid_column": null,
      "grid_gap": null,
      "grid_row": null,
      "grid_template_areas": null,
      "grid_template_columns": null,
      "grid_template_rows": null,
      "height": null,
      "justify_content": null,
      "justify_items": null,
      "left": null,
      "margin": null,
      "max_height": null,
      "max_width": null,
      "min_height": null,
      "min_width": null,
      "object_fit": null,
      "object_position": null,
      "order": null,
      "overflow": null,
      "overflow_x": null,
      "overflow_y": null,
      "padding": null,
      "right": null,
      "top": null,
      "visibility": null,
      "width": null
     }
    },
    "9db1300a9b5549a88f8239bd26698e83": {
     "model_module": "@jupyter-widgets/controls",
     "model_module_version": "1.5.0",
     "model_name": "HTMLModel",
     "state": {
      "_dom_classes": [],
      "_model_module": "@jupyter-widgets/controls",
      "_model_module_version": "1.5.0",
      "_model_name": "HTMLModel",
      "_view_count": null,
      "_view_module": "@jupyter-widgets/controls",
      "_view_module_version": "1.5.0",
      "_view_name": "HTMLView",
      "description": "",
      "description_tooltip": null,
      "layout": "IPY_MODEL_c61c0c2f9d414ebaaea6efa84e7b2563",
      "placeholder": "​",
      "style": "IPY_MODEL_e61557f01d21480394d5777338c92d63",
      "value": "Downloading (…)lve/main/config.json: 100%"
     }
    },
    "a1343a48fe0c4c22916b7f5435faf49f": {
     "model_module": "@jupyter-widgets/base",
     "model_module_version": "1.2.0",
     "model_name": "LayoutModel",
     "state": {
      "_model_module": "@jupyter-widgets/base",
      "_model_module_version": "1.2.0",
      "_model_name": "LayoutModel",
      "_view_count": null,
      "_view_module": "@jupyter-widgets/base",
      "_view_module_version": "1.2.0",
      "_view_name": "LayoutView",
      "align_content": null,
      "align_items": null,
      "align_self": null,
      "border": null,
      "bottom": null,
      "display": null,
      "flex": null,
      "flex_flow": null,
      "grid_area": null,
      "grid_auto_columns": null,
      "grid_auto_flow": null,
      "grid_auto_rows": null,
      "grid_column": null,
      "grid_gap": null,
      "grid_row": null,
      "grid_template_areas": null,
      "grid_template_columns": null,
      "grid_template_rows": null,
      "height": null,
      "justify_content": null,
      "justify_items": null,
      "left": null,
      "margin": null,
      "max_height": null,
      "max_width": null,
      "min_height": null,
      "min_width": null,
      "object_fit": null,
      "object_position": null,
      "order": null,
      "overflow": null,
      "overflow_x": null,
      "overflow_y": null,
      "padding": null,
      "right": null,
      "top": null,
      "visibility": null,
      "width": null
     }
    },
    "a3bd563502ba4cd88c48486c2a309754": {
     "model_module": "@jupyter-widgets/controls",
     "model_module_version": "1.5.0",
     "model_name": "HTMLModel",
     "state": {
      "_dom_classes": [],
      "_model_module": "@jupyter-widgets/controls",
      "_model_module_version": "1.5.0",
      "_model_name": "HTMLModel",
      "_view_count": null,
      "_view_module": "@jupyter-widgets/controls",
      "_view_module_version": "1.5.0",
      "_view_name": "HTMLView",
      "description": "",
      "description_tooltip": null,
      "layout": "IPY_MODEL_bbb47d5aa3344c819981d2188528c550",
      "placeholder": "​",
      "style": "IPY_MODEL_6026bdc2f73e437a8639e50f02ffbd43",
      "value": "Downloading (…)cial_tokens_map.json: 100%"
     }
    },
    "a72a459d46fa42f5825b3e54ce2fd2c5": {
     "model_module": "@jupyter-widgets/controls",
     "model_module_version": "1.5.0",
     "model_name": "DescriptionStyleModel",
     "state": {
      "_model_module": "@jupyter-widgets/controls",
      "_model_module_version": "1.5.0",
      "_model_name": "DescriptionStyleModel",
      "_view_count": null,
      "_view_module": "@jupyter-widgets/base",
      "_view_module_version": "1.2.0",
      "_view_name": "StyleView",
      "description_width": ""
     }
    },
    "a7c541c2d380408d942c66dfe468ccb7": {
     "model_module": "@jupyter-widgets/base",
     "model_module_version": "1.2.0",
     "model_name": "LayoutModel",
     "state": {
      "_model_module": "@jupyter-widgets/base",
      "_model_module_version": "1.2.0",
      "_model_name": "LayoutModel",
      "_view_count": null,
      "_view_module": "@jupyter-widgets/base",
      "_view_module_version": "1.2.0",
      "_view_name": "LayoutView",
      "align_content": null,
      "align_items": null,
      "align_self": null,
      "border": null,
      "bottom": null,
      "display": null,
      "flex": null,
      "flex_flow": null,
      "grid_area": null,
      "grid_auto_columns": null,
      "grid_auto_flow": null,
      "grid_auto_rows": null,
      "grid_column": null,
      "grid_gap": null,
      "grid_row": null,
      "grid_template_areas": null,
      "grid_template_columns": null,
      "grid_template_rows": null,
      "height": null,
      "justify_content": null,
      "justify_items": null,
      "left": null,
      "margin": null,
      "max_height": null,
      "max_width": null,
      "min_height": null,
      "min_width": null,
      "object_fit": null,
      "object_position": null,
      "order": null,
      "overflow": null,
      "overflow_x": null,
      "overflow_y": null,
      "padding": null,
      "right": null,
      "top": null,
      "visibility": null,
      "width": null
     }
    },
    "a8fac45bfc154d7e93e3549ff7f3c7e6": {
     "model_module": "@jupyter-widgets/controls",
     "model_module_version": "1.5.0",
     "model_name": "DescriptionStyleModel",
     "state": {
      "_model_module": "@jupyter-widgets/controls",
      "_model_module_version": "1.5.0",
      "_model_name": "DescriptionStyleModel",
      "_view_count": null,
      "_view_module": "@jupyter-widgets/base",
      "_view_module_version": "1.2.0",
      "_view_name": "StyleView",
      "description_width": ""
     }
    },
    "aba132c32fc24fe7a8c956d01af401ad": {
     "model_module": "@jupyter-widgets/base",
     "model_module_version": "1.2.0",
     "model_name": "LayoutModel",
     "state": {
      "_model_module": "@jupyter-widgets/base",
      "_model_module_version": "1.2.0",
      "_model_name": "LayoutModel",
      "_view_count": null,
      "_view_module": "@jupyter-widgets/base",
      "_view_module_version": "1.2.0",
      "_view_name": "LayoutView",
      "align_content": null,
      "align_items": null,
      "align_self": null,
      "border": null,
      "bottom": null,
      "display": null,
      "flex": null,
      "flex_flow": null,
      "grid_area": null,
      "grid_auto_columns": null,
      "grid_auto_flow": null,
      "grid_auto_rows": null,
      "grid_column": null,
      "grid_gap": null,
      "grid_row": null,
      "grid_template_areas": null,
      "grid_template_columns": null,
      "grid_template_rows": null,
      "height": null,
      "justify_content": null,
      "justify_items": null,
      "left": null,
      "margin": null,
      "max_height": null,
      "max_width": null,
      "min_height": null,
      "min_width": null,
      "object_fit": null,
      "object_position": null,
      "order": null,
      "overflow": null,
      "overflow_x": null,
      "overflow_y": null,
      "padding": null,
      "right": null,
      "top": null,
      "visibility": null,
      "width": null
     }
    },
    "aec2ce2e8e104edeb1ed8ebe78688099": {
     "model_module": "@jupyter-widgets/controls",
     "model_module_version": "1.5.0",
     "model_name": "HTMLModel",
     "state": {
      "_dom_classes": [],
      "_model_module": "@jupyter-widgets/controls",
      "_model_module_version": "1.5.0",
      "_model_name": "HTMLModel",
      "_view_count": null,
      "_view_module": "@jupyter-widgets/controls",
      "_view_module_version": "1.5.0",
      "_view_name": "HTMLView",
      "description": "",
      "description_tooltip": null,
      "layout": "IPY_MODEL_77cc34358df74d5baf96e335724564ee",
      "placeholder": "​",
      "style": "IPY_MODEL_d0d002af986a4787aa8e636404e3ca86",
      "value": " 1.06M/1.06M [00:00&lt;00:00, 16.8MB/s]"
     }
    },
    "bbb47d5aa3344c819981d2188528c550": {
     "model_module": "@jupyter-widgets/base",
     "model_module_version": "1.2.0",
     "model_name": "LayoutModel",
     "state": {
      "_model_module": "@jupyter-widgets/base",
      "_model_module_version": "1.2.0",
      "_model_name": "LayoutModel",
      "_view_count": null,
      "_view_module": "@jupyter-widgets/base",
      "_view_module_version": "1.2.0",
      "_view_name": "LayoutView",
      "align_content": null,
      "align_items": null,
      "align_self": null,
      "border": null,
      "bottom": null,
      "display": null,
      "flex": null,
      "flex_flow": null,
      "grid_area": null,
      "grid_auto_columns": null,
      "grid_auto_flow": null,
      "grid_auto_rows": null,
      "grid_column": null,
      "grid_gap": null,
      "grid_row": null,
      "grid_template_areas": null,
      "grid_template_columns": null,
      "grid_template_rows": null,
      "height": null,
      "justify_content": null,
      "justify_items": null,
      "left": null,
      "margin": null,
      "max_height": null,
      "max_width": null,
      "min_height": null,
      "min_width": null,
      "object_fit": null,
      "object_position": null,
      "order": null,
      "overflow": null,
      "overflow_x": null,
      "overflow_y": null,
      "padding": null,
      "right": null,
      "top": null,
      "visibility": null,
      "width": null
     }
    },
    "bbc01c288ba44608a149dddece54a8d4": {
     "model_module": "@jupyter-widgets/controls",
     "model_module_version": "1.5.0",
     "model_name": "DescriptionStyleModel",
     "state": {
      "_model_module": "@jupyter-widgets/controls",
      "_model_module_version": "1.5.0",
      "_model_name": "DescriptionStyleModel",
      "_view_count": null,
      "_view_module": "@jupyter-widgets/base",
      "_view_module_version": "1.2.0",
      "_view_name": "StyleView",
      "description_width": ""
     }
    },
    "c0c03860b6a648b09d22e4c4edc00d30": {
     "model_module": "@jupyter-widgets/base",
     "model_module_version": "1.2.0",
     "model_name": "LayoutModel",
     "state": {
      "_model_module": "@jupyter-widgets/base",
      "_model_module_version": "1.2.0",
      "_model_name": "LayoutModel",
      "_view_count": null,
      "_view_module": "@jupyter-widgets/base",
      "_view_module_version": "1.2.0",
      "_view_name": "LayoutView",
      "align_content": null,
      "align_items": null,
      "align_self": null,
      "border": null,
      "bottom": null,
      "display": null,
      "flex": null,
      "flex_flow": null,
      "grid_area": null,
      "grid_auto_columns": null,
      "grid_auto_flow": null,
      "grid_auto_rows": null,
      "grid_column": null,
      "grid_gap": null,
      "grid_row": null,
      "grid_template_areas": null,
      "grid_template_columns": null,
      "grid_template_rows": null,
      "height": null,
      "justify_content": null,
      "justify_items": null,
      "left": null,
      "margin": null,
      "max_height": null,
      "max_width": null,
      "min_height": null,
      "min_width": null,
      "object_fit": null,
      "object_position": null,
      "order": null,
      "overflow": null,
      "overflow_x": null,
      "overflow_y": null,
      "padding": null,
      "right": null,
      "top": null,
      "visibility": null,
      "width": null
     }
    },
    "c61c0c2f9d414ebaaea6efa84e7b2563": {
     "model_module": "@jupyter-widgets/base",
     "model_module_version": "1.2.0",
     "model_name": "LayoutModel",
     "state": {
      "_model_module": "@jupyter-widgets/base",
      "_model_module_version": "1.2.0",
      "_model_name": "LayoutModel",
      "_view_count": null,
      "_view_module": "@jupyter-widgets/base",
      "_view_module_version": "1.2.0",
      "_view_name": "LayoutView",
      "align_content": null,
      "align_items": null,
      "align_self": null,
      "border": null,
      "bottom": null,
      "display": null,
      "flex": null,
      "flex_flow": null,
      "grid_area": null,
      "grid_auto_columns": null,
      "grid_auto_flow": null,
      "grid_auto_rows": null,
      "grid_column": null,
      "grid_gap": null,
      "grid_row": null,
      "grid_template_areas": null,
      "grid_template_columns": null,
      "grid_template_rows": null,
      "height": null,
      "justify_content": null,
      "justify_items": null,
      "left": null,
      "margin": null,
      "max_height": null,
      "max_width": null,
      "min_height": null,
      "min_width": null,
      "object_fit": null,
      "object_position": null,
      "order": null,
      "overflow": null,
      "overflow_x": null,
      "overflow_y": null,
      "padding": null,
      "right": null,
      "top": null,
      "visibility": null,
      "width": null
     }
    },
    "cbdb5df3bed54d0b8dc8b9cac5d13317": {
     "model_module": "@jupyter-widgets/controls",
     "model_module_version": "1.5.0",
     "model_name": "FloatProgressModel",
     "state": {
      "_dom_classes": [],
      "_model_module": "@jupyter-widgets/controls",
      "_model_module_version": "1.5.0",
      "_model_name": "FloatProgressModel",
      "_view_count": null,
      "_view_module": "@jupyter-widgets/controls",
      "_view_module_version": "1.5.0",
      "_view_name": "ProgressView",
      "bar_style": "success",
      "description": "",
      "description_tooltip": null,
      "layout": "IPY_MODEL_e68c6a6fc801486d9f03138a00633948",
      "max": 1059962,
      "min": 0,
      "orientation": "horizontal",
      "style": "IPY_MODEL_d3bf0a585a6d45f99d8d730a8ecfcef3",
      "value": 1059962
     }
    },
    "cc1892731c0a4cbfb8e9d7ca8e3f0e09": {
     "model_module": "@jupyter-widgets/controls",
     "model_module_version": "1.5.0",
     "model_name": "HBoxModel",
     "state": {
      "_dom_classes": [],
      "_model_module": "@jupyter-widgets/controls",
      "_model_module_version": "1.5.0",
      "_model_name": "HBoxModel",
      "_view_count": null,
      "_view_module": "@jupyter-widgets/controls",
      "_view_module_version": "1.5.0",
      "_view_name": "HBoxView",
      "box_style": "",
      "children": [
       "IPY_MODEL_9db1300a9b5549a88f8239bd26698e83",
       "IPY_MODEL_034524d770cb43faa0b4b99758a5a6e0",
       "IPY_MODEL_dc2b335e82d24a4f8f53a935682464bf"
      ],
      "layout": "IPY_MODEL_031ff1a7318d476aa664790fd5f1708f"
     }
    },
    "ce2d86d9fab14fbcbb70a29aad3ace80": {
     "model_module": "@jupyter-widgets/base",
     "model_module_version": "1.2.0",
     "model_name": "LayoutModel",
     "state": {
      "_model_module": "@jupyter-widgets/base",
      "_model_module_version": "1.2.0",
      "_model_name": "LayoutModel",
      "_view_count": null,
      "_view_module": "@jupyter-widgets/base",
      "_view_module_version": "1.2.0",
      "_view_name": "LayoutView",
      "align_content": null,
      "align_items": null,
      "align_self": null,
      "border": null,
      "bottom": null,
      "display": null,
      "flex": null,
      "flex_flow": null,
      "grid_area": null,
      "grid_auto_columns": null,
      "grid_auto_flow": null,
      "grid_auto_rows": null,
      "grid_column": null,
      "grid_gap": null,
      "grid_row": null,
      "grid_template_areas": null,
      "grid_template_columns": null,
      "grid_template_rows": null,
      "height": null,
      "justify_content": null,
      "justify_items": null,
      "left": null,
      "margin": null,
      "max_height": null,
      "max_width": null,
      "min_height": null,
      "min_width": null,
      "object_fit": null,
      "object_position": null,
      "order": null,
      "overflow": null,
      "overflow_x": null,
      "overflow_y": null,
      "padding": null,
      "right": null,
      "top": null,
      "visibility": null,
      "width": null
     }
    },
    "d0d002af986a4787aa8e636404e3ca86": {
     "model_module": "@jupyter-widgets/controls",
     "model_module_version": "1.5.0",
     "model_name": "DescriptionStyleModel",
     "state": {
      "_model_module": "@jupyter-widgets/controls",
      "_model_module_version": "1.5.0",
      "_model_name": "DescriptionStyleModel",
      "_view_count": null,
      "_view_module": "@jupyter-widgets/base",
      "_view_module_version": "1.2.0",
      "_view_name": "StyleView",
      "description_width": ""
     }
    },
    "d2207216be7747f48947b555b1093d84": {
     "model_module": "@jupyter-widgets/controls",
     "model_module_version": "1.5.0",
     "model_name": "DescriptionStyleModel",
     "state": {
      "_model_module": "@jupyter-widgets/controls",
      "_model_module_version": "1.5.0",
      "_model_name": "DescriptionStyleModel",
      "_view_count": null,
      "_view_module": "@jupyter-widgets/base",
      "_view_module_version": "1.2.0",
      "_view_name": "StyleView",
      "description_width": ""
     }
    },
    "d3bf0a585a6d45f99d8d730a8ecfcef3": {
     "model_module": "@jupyter-widgets/controls",
     "model_module_version": "1.5.0",
     "model_name": "ProgressStyleModel",
     "state": {
      "_model_module": "@jupyter-widgets/controls",
      "_model_module_version": "1.5.0",
      "_model_name": "ProgressStyleModel",
      "_view_count": null,
      "_view_module": "@jupyter-widgets/base",
      "_view_module_version": "1.2.0",
      "_view_name": "StyleView",
      "bar_color": null,
      "description_width": ""
     }
    },
    "d8dac358de0d48a79a4976a6dce37bfc": {
     "model_module": "@jupyter-widgets/base",
     "model_module_version": "1.2.0",
     "model_name": "LayoutModel",
     "state": {
      "_model_module": "@jupyter-widgets/base",
      "_model_module_version": "1.2.0",
      "_model_name": "LayoutModel",
      "_view_count": null,
      "_view_module": "@jupyter-widgets/base",
      "_view_module_version": "1.2.0",
      "_view_name": "LayoutView",
      "align_content": null,
      "align_items": null,
      "align_self": null,
      "border": null,
      "bottom": null,
      "display": null,
      "flex": null,
      "flex_flow": null,
      "grid_area": null,
      "grid_auto_columns": null,
      "grid_auto_flow": null,
      "grid_auto_rows": null,
      "grid_column": null,
      "grid_gap": null,
      "grid_row": null,
      "grid_template_areas": null,
      "grid_template_columns": null,
      "grid_template_rows": null,
      "height": null,
      "justify_content": null,
      "justify_items": null,
      "left": null,
      "margin": null,
      "max_height": null,
      "max_width": null,
      "min_height": null,
      "min_width": null,
      "object_fit": null,
      "object_position": null,
      "order": null,
      "overflow": null,
      "overflow_x": null,
      "overflow_y": null,
      "padding": null,
      "right": null,
      "top": null,
      "visibility": null,
      "width": null
     }
    },
    "d8ff9bd2f2954757be518c1098ca7a82": {
     "model_module": "@jupyter-widgets/controls",
     "model_module_version": "1.5.0",
     "model_name": "DescriptionStyleModel",
     "state": {
      "_model_module": "@jupyter-widgets/controls",
      "_model_module_version": "1.5.0",
      "_model_name": "DescriptionStyleModel",
      "_view_count": null,
      "_view_module": "@jupyter-widgets/base",
      "_view_module_version": "1.2.0",
      "_view_name": "StyleView",
      "description_width": ""
     }
    },
    "d9c977a56cfa4beeb7f83fcdb71e17c3": {
     "model_module": "@jupyter-widgets/base",
     "model_module_version": "1.2.0",
     "model_name": "LayoutModel",
     "state": {
      "_model_module": "@jupyter-widgets/base",
      "_model_module_version": "1.2.0",
      "_model_name": "LayoutModel",
      "_view_count": null,
      "_view_module": "@jupyter-widgets/base",
      "_view_module_version": "1.2.0",
      "_view_name": "LayoutView",
      "align_content": null,
      "align_items": null,
      "align_self": null,
      "border": null,
      "bottom": null,
      "display": null,
      "flex": null,
      "flex_flow": null,
      "grid_area": null,
      "grid_auto_columns": null,
      "grid_auto_flow": null,
      "grid_auto_rows": null,
      "grid_column": null,
      "grid_gap": null,
      "grid_row": null,
      "grid_template_areas": null,
      "grid_template_columns": null,
      "grid_template_rows": null,
      "height": null,
      "justify_content": null,
      "justify_items": null,
      "left": null,
      "margin": null,
      "max_height": null,
      "max_width": null,
      "min_height": null,
      "min_width": null,
      "object_fit": null,
      "object_position": null,
      "order": null,
      "overflow": null,
      "overflow_x": null,
      "overflow_y": null,
      "padding": null,
      "right": null,
      "top": null,
      "visibility": null,
      "width": null
     }
    },
    "dc2b335e82d24a4f8f53a935682464bf": {
     "model_module": "@jupyter-widgets/controls",
     "model_module_version": "1.5.0",
     "model_name": "HTMLModel",
     "state": {
      "_dom_classes": [],
      "_model_module": "@jupyter-widgets/controls",
      "_model_module_version": "1.5.0",
      "_model_name": "HTMLModel",
      "_view_count": null,
      "_view_module": "@jupyter-widgets/controls",
      "_view_module_version": "1.5.0",
      "_view_name": "HTMLView",
      "description": "",
      "description_tooltip": null,
      "layout": "IPY_MODEL_ce2d86d9fab14fbcbb70a29aad3ace80",
      "placeholder": "​",
      "style": "IPY_MODEL_e63c8e968a064d9983981f7d1af28a28",
      "value": " 4.42k/4.42k [00:00&lt;00:00, 296kB/s]"
     }
    },
    "dc4fd1f72222404395156e2752043426": {
     "model_module": "@jupyter-widgets/controls",
     "model_module_version": "1.5.0",
     "model_name": "HTMLModel",
     "state": {
      "_dom_classes": [],
      "_model_module": "@jupyter-widgets/controls",
      "_model_module_version": "1.5.0",
      "_model_name": "HTMLModel",
      "_view_count": null,
      "_view_module": "@jupyter-widgets/controls",
      "_view_module_version": "1.5.0",
      "_view_name": "HTMLView",
      "description": "",
      "description_tooltip": null,
      "layout": "IPY_MODEL_0eaea0e893214476baf965653a1a23bd",
      "placeholder": "​",
      "style": "IPY_MODEL_023d4d8b590e4338ad7032594ba59481",
      "value": " 613M/613M [00:07&lt;00:00, 88.3MB/s]"
     }
    },
    "dd6b8c30cb004fb4a8638129ab231601": {
     "model_module": "@jupyter-widgets/controls",
     "model_module_version": "1.5.0",
     "model_name": "FloatProgressModel",
     "state": {
      "_dom_classes": [],
      "_model_module": "@jupyter-widgets/controls",
      "_model_module_version": "1.5.0",
      "_model_name": "FloatProgressModel",
      "_view_count": null,
      "_view_module": "@jupyter-widgets/controls",
      "_view_module_version": "1.5.0",
      "_view_name": "ProgressView",
      "bar_style": "success",
      "description": "",
      "description_tooltip": null,
      "layout": "IPY_MODEL_e1bf0cea15404451a1b02d5aa9aaa363",
      "max": 524619,
      "min": 0,
      "orientation": "horizontal",
      "style": "IPY_MODEL_e674f530620f479a8ebd74ea5c4010f3",
      "value": 524619
     }
    },
    "de2591fa134f4811adc7d80f64c38e2f": {
     "model_module": "@jupyter-widgets/controls",
     "model_module_version": "1.5.0",
     "model_name": "ProgressStyleModel",
     "state": {
      "_model_module": "@jupyter-widgets/controls",
      "_model_module_version": "1.5.0",
      "_model_name": "ProgressStyleModel",
      "_view_count": null,
      "_view_module": "@jupyter-widgets/base",
      "_view_module_version": "1.2.0",
      "_view_name": "StyleView",
      "bar_color": null,
      "description_width": ""
     }
    },
    "e1bf0cea15404451a1b02d5aa9aaa363": {
     "model_module": "@jupyter-widgets/base",
     "model_module_version": "1.2.0",
     "model_name": "LayoutModel",
     "state": {
      "_model_module": "@jupyter-widgets/base",
      "_model_module_version": "1.2.0",
      "_model_name": "LayoutModel",
      "_view_count": null,
      "_view_module": "@jupyter-widgets/base",
      "_view_module_version": "1.2.0",
      "_view_name": "LayoutView",
      "align_content": null,
      "align_items": null,
      "align_self": null,
      "border": null,
      "bottom": null,
      "display": null,
      "flex": null,
      "flex_flow": null,
      "grid_area": null,
      "grid_auto_columns": null,
      "grid_auto_flow": null,
      "grid_auto_rows": null,
      "grid_column": null,
      "grid_gap": null,
      "grid_row": null,
      "grid_template_areas": null,
      "grid_template_columns": null,
      "grid_template_rows": null,
      "height": null,
      "justify_content": null,
      "justify_items": null,
      "left": null,
      "margin": null,
      "max_height": null,
      "max_width": null,
      "min_height": null,
      "min_width": null,
      "object_fit": null,
      "object_position": null,
      "order": null,
      "overflow": null,
      "overflow_x": null,
      "overflow_y": null,
      "padding": null,
      "right": null,
      "top": null,
      "visibility": null,
      "width": null
     }
    },
    "e61557f01d21480394d5777338c92d63": {
     "model_module": "@jupyter-widgets/controls",
     "model_module_version": "1.5.0",
     "model_name": "DescriptionStyleModel",
     "state": {
      "_model_module": "@jupyter-widgets/controls",
      "_model_module_version": "1.5.0",
      "_model_name": "DescriptionStyleModel",
      "_view_count": null,
      "_view_module": "@jupyter-widgets/base",
      "_view_module_version": "1.2.0",
      "_view_name": "StyleView",
      "description_width": ""
     }
    },
    "e63c8e968a064d9983981f7d1af28a28": {
     "model_module": "@jupyter-widgets/controls",
     "model_module_version": "1.5.0",
     "model_name": "DescriptionStyleModel",
     "state": {
      "_model_module": "@jupyter-widgets/controls",
      "_model_module_version": "1.5.0",
      "_model_name": "DescriptionStyleModel",
      "_view_count": null,
      "_view_module": "@jupyter-widgets/base",
      "_view_module_version": "1.2.0",
      "_view_name": "StyleView",
      "description_width": ""
     }
    },
    "e674f530620f479a8ebd74ea5c4010f3": {
     "model_module": "@jupyter-widgets/controls",
     "model_module_version": "1.5.0",
     "model_name": "ProgressStyleModel",
     "state": {
      "_model_module": "@jupyter-widgets/controls",
      "_model_module_version": "1.5.0",
      "_model_name": "ProgressStyleModel",
      "_view_count": null,
      "_view_module": "@jupyter-widgets/base",
      "_view_module_version": "1.2.0",
      "_view_name": "StyleView",
      "bar_color": null,
      "description_width": ""
     }
    },
    "e68c6a6fc801486d9f03138a00633948": {
     "model_module": "@jupyter-widgets/base",
     "model_module_version": "1.2.0",
     "model_name": "LayoutModel",
     "state": {
      "_model_module": "@jupyter-widgets/base",
      "_model_module_version": "1.2.0",
      "_model_name": "LayoutModel",
      "_view_count": null,
      "_view_module": "@jupyter-widgets/base",
      "_view_module_version": "1.2.0",
      "_view_name": "LayoutView",
      "align_content": null,
      "align_items": null,
      "align_self": null,
      "border": null,
      "bottom": null,
      "display": null,
      "flex": null,
      "flex_flow": null,
      "grid_area": null,
      "grid_auto_columns": null,
      "grid_auto_flow": null,
      "grid_auto_rows": null,
      "grid_column": null,
      "grid_gap": null,
      "grid_row": null,
      "grid_template_areas": null,
      "grid_template_columns": null,
      "grid_template_rows": null,
      "height": null,
      "justify_content": null,
      "justify_items": null,
      "left": null,
      "margin": null,
      "max_height": null,
      "max_width": null,
      "min_height": null,
      "min_width": null,
      "object_fit": null,
      "object_position": null,
      "order": null,
      "overflow": null,
      "overflow_x": null,
      "overflow_y": null,
      "padding": null,
      "right": null,
      "top": null,
      "visibility": null,
      "width": null
     }
    },
    "e86347ea739646b99dc2273d76a8f02b": {
     "model_module": "@jupyter-widgets/base",
     "model_module_version": "1.2.0",
     "model_name": "LayoutModel",
     "state": {
      "_model_module": "@jupyter-widgets/base",
      "_model_module_version": "1.2.0",
      "_model_name": "LayoutModel",
      "_view_count": null,
      "_view_module": "@jupyter-widgets/base",
      "_view_module_version": "1.2.0",
      "_view_name": "LayoutView",
      "align_content": null,
      "align_items": null,
      "align_self": null,
      "border": null,
      "bottom": null,
      "display": null,
      "flex": null,
      "flex_flow": null,
      "grid_area": null,
      "grid_auto_columns": null,
      "grid_auto_flow": null,
      "grid_auto_rows": null,
      "grid_column": null,
      "grid_gap": null,
      "grid_row": null,
      "grid_template_areas": null,
      "grid_template_columns": null,
      "grid_template_rows": null,
      "height": null,
      "justify_content": null,
      "justify_items": null,
      "left": null,
      "margin": null,
      "max_height": null,
      "max_width": null,
      "min_height": null,
      "min_width": null,
      "object_fit": null,
      "object_position": null,
      "order": null,
      "overflow": null,
      "overflow_x": null,
      "overflow_y": null,
      "padding": null,
      "right": null,
      "top": null,
      "visibility": null,
      "width": null
     }
    },
    "f048c3c4ca034c1c84b28c87373c2ddd": {
     "model_module": "@jupyter-widgets/controls",
     "model_module_version": "1.5.0",
     "model_name": "DescriptionStyleModel",
     "state": {
      "_model_module": "@jupyter-widgets/controls",
      "_model_module_version": "1.5.0",
      "_model_name": "DescriptionStyleModel",
      "_view_count": null,
      "_view_module": "@jupyter-widgets/base",
      "_view_module_version": "1.2.0",
      "_view_name": "StyleView",
      "description_width": ""
     }
    },
    "f770eb95d7124a9384db2d07d970f9e9": {
     "model_module": "@jupyter-widgets/controls",
     "model_module_version": "1.5.0",
     "model_name": "DescriptionStyleModel",
     "state": {
      "_model_module": "@jupyter-widgets/controls",
      "_model_module_version": "1.5.0",
      "_model_name": "DescriptionStyleModel",
      "_view_count": null,
      "_view_module": "@jupyter-widgets/base",
      "_view_module_version": "1.2.0",
      "_view_name": "StyleView",
      "description_width": ""
     }
    },
    "fb82a5c282e14a9186397960bd013dc9": {
     "model_module": "@jupyter-widgets/controls",
     "model_module_version": "1.5.0",
     "model_name": "FloatProgressModel",
     "state": {
      "_dom_classes": [],
      "_model_module": "@jupyter-widgets/controls",
      "_model_module_version": "1.5.0",
      "_model_name": "FloatProgressModel",
      "_view_count": null,
      "_view_module": "@jupyter-widgets/controls",
      "_view_module_version": "1.5.0",
      "_view_name": "ProgressView",
      "bar_style": "success",
      "description": "",
      "description_tooltip": null,
      "layout": "IPY_MODEL_a7c541c2d380408d942c66dfe468ccb7",
      "max": 613049157,
      "min": 0,
      "orientation": "horizontal",
      "style": "IPY_MODEL_8744ea2bda2847679fbeda55cb31d876",
      "value": 613049157
     }
    },
    "fe1b0edcd9864a57b7ce15953d8fd5cb": {
     "model_module": "@jupyter-widgets/base",
     "model_module_version": "1.2.0",
     "model_name": "LayoutModel",
     "state": {
      "_model_module": "@jupyter-widgets/base",
      "_model_module_version": "1.2.0",
      "_model_name": "LayoutModel",
      "_view_count": null,
      "_view_module": "@jupyter-widgets/base",
      "_view_module_version": "1.2.0",
      "_view_name": "LayoutView",
      "align_content": null,
      "align_items": null,
      "align_self": null,
      "border": null,
      "bottom": null,
      "display": null,
      "flex": null,
      "flex_flow": null,
      "grid_area": null,
      "grid_auto_columns": null,
      "grid_auto_flow": null,
      "grid_auto_rows": null,
      "grid_column": null,
      "grid_gap": null,
      "grid_row": null,
      "grid_template_areas": null,
      "grid_template_columns": null,
      "grid_template_rows": null,
      "height": null,
      "justify_content": null,
      "justify_items": null,
      "left": null,
      "margin": null,
      "max_height": null,
      "max_width": null,
      "min_height": null,
      "min_width": null,
      "object_fit": null,
      "object_position": null,
      "order": null,
      "overflow": null,
      "overflow_x": null,
      "overflow_y": null,
      "padding": null,
      "right": null,
      "top": null,
      "visibility": null,
      "width": null
     }
    }
   }
  }
 },
 "nbformat": 4,
 "nbformat_minor": 5
}
