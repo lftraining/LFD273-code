{
 "cells": [
  {
   "cell_type": "markdown",
   "id": "8aedd195",
   "metadata": {
    "id": "dbf7e139"
   },
   "source": [
    "# Chapter 5: Building Your First DataPipe"
   ]
  },
  {
   "cell_type": "markdown",
   "id": "bd8d017e",
   "metadata": {
    "id": "bd8d017e"
   },
   "source": [
    "## 5.3 A New Dataset"
   ]
  },
  {
   "cell_type": "code",
   "execution_count": null,
   "id": "6ca4ebe9",
   "metadata": {},
   "outputs": [],
   "source": [
    "!wget https://github.com/dvgodoy/assets/raw/main/PyTorchInPractice/data/100KUsedCar/car_prices.zip\n",
    "!unzip car_prices.zip -d car_prices"
   ]
  },
  {
   "cell_type": "markdown",
   "id": "2ab61477",
   "metadata": {
    "id": "2ab61477"
   },
   "source": [
    "### 5.3.1 DataPipes"
   ]
  },
  {
   "cell_type": "code",
   "execution_count": 36,
   "id": "38f399cb",
   "metadata": {
    "id": "38f399cb"
   },
   "outputs": [],
   "source": [
    "import torchdata.datapipes as dp\n",
    "\n",
    "datapipe = dp.iter.FileLister('./car_prices')"
   ]
  },
  {
   "cell_type": "code",
   "execution_count": 37,
   "id": "66383ad5",
   "metadata": {
    "colab": {
     "base_uri": "https://localhost:8080/"
    },
    "id": "66383ad5",
    "outputId": "05e945c2-3dd4-4102-a9eb-82bffbf803a7"
   },
   "outputs": [
    {
     "data": {
      "text/plain": [
       "['./car_prices/audi.csv',\n",
       " './car_prices/bmw.csv',\n",
       " './car_prices/cclass.csv',\n",
       " './car_prices/focus.csv',\n",
       " './car_prices/ford.csv',\n",
       " './car_prices/hyundi.csv',\n",
       " './car_prices/merc.csv',\n",
       " './car_prices/skoda.csv',\n",
       " './car_prices/toyota.csv',\n",
       " './car_prices/unclean cclass.csv',\n",
       " './car_prices/unclean focus.csv',\n",
       " './car_prices/vauxhall.csv',\n",
       " './car_prices/vw.csv']"
      ]
     },
     "execution_count": 37,
     "metadata": {},
     "output_type": "execute_result"
    }
   ],
   "source": [
    "from torch.utils.data import DataLoader\n",
    "next(iter(DataLoader(dataset=datapipe, batch_size=16)))"
   ]
  },
  {
   "cell_type": "code",
   "execution_count": 38,
   "id": "98fe0fee",
   "metadata": {
    "id": "98fe0fee"
   },
   "outputs": [],
   "source": [
    "def filter_for_data(filename):\n",
    "    return (\"unclean\" not in filename) and (\"focus\" not in filename) and (\"cclass\" not in filename) and filename.endswith(\".csv\")\n",
    "\n",
    "datapipe = datapipe.filter(filter_fn=filter_for_data)"
   ]
  },
  {
   "cell_type": "code",
   "execution_count": 39,
   "id": "76bc8cec",
   "metadata": {
    "colab": {
     "base_uri": "https://localhost:8080/"
    },
    "id": "76bc8cec",
    "outputId": "9d839089-6297-417d-dc18-86786ed2ef4b"
   },
   "outputs": [
    {
     "data": {
      "text/plain": [
       "['./car_prices/audi.csv',\n",
       " './car_prices/bmw.csv',\n",
       " './car_prices/ford.csv',\n",
       " './car_prices/hyundi.csv',\n",
       " './car_prices/merc.csv',\n",
       " './car_prices/skoda.csv',\n",
       " './car_prices/toyota.csv',\n",
       " './car_prices/vauxhall.csv',\n",
       " './car_prices/vw.csv']"
      ]
     },
     "execution_count": 39,
     "metadata": {},
     "output_type": "execute_result"
    }
   ],
   "source": [
    "next(iter(DataLoader(dataset=datapipe, batch_size=16)))"
   ]
  },
  {
   "cell_type": "markdown",
   "id": "8ef5bd1b",
   "metadata": {
    "id": "8ef5bd1b"
   },
   "source": [
    "#### 5.3.1.1 Loading CSV Files\n",
    "\n",
    "![](https://raw.githubusercontent.com/dvgodoy/assets/main/PyTorchInPractice/images/ch0/data_step1.png)"
   ]
  },
  {
   "cell_type": "code",
   "execution_count": 40,
   "id": "e4470ea3",
   "metadata": {
    "id": "e4470ea3"
   },
   "outputs": [],
   "source": [
    "datapipe = datapipe.open_files(mode='rt')\n",
    "datapipe = datapipe.parse_csv(delimiter=\",\", skip_lines=1, return_path=True)"
   ]
  },
  {
   "cell_type": "code",
   "execution_count": 41,
   "id": "27f11f93",
   "metadata": {
    "colab": {
     "base_uri": "https://localhost:8080/"
    },
    "id": "27f11f93",
    "outputId": "f69e606e-a437-4ea1-cb87-59ce386a9fc4"
   },
   "outputs": [
    {
     "data": {
      "text/plain": [
       "[('./car_prices/audi.csv',\n",
       "  './car_prices/audi.csv',\n",
       "  './car_prices/audi.csv',\n",
       "  './car_prices/audi.csv'),\n",
       " [(' A1', ' A6', ' A1', ' A4'),\n",
       "  ('2017', '2016', '2016', '2017'),\n",
       "  ('12500', '16500', '11000', '16800'),\n",
       "  ('Manual', 'Automatic', 'Manual', 'Automatic'),\n",
       "  ('15735', '36203', '29946', '25952'),\n",
       "  ('Petrol', 'Diesel', 'Petrol', 'Diesel'),\n",
       "  ('150', '20', '30', '145'),\n",
       "  ('55.4', '64.2', '55.4', '67.3'),\n",
       "  ('1.4', '2.0', '1.4', '2.0')]]"
      ]
     },
     "execution_count": 41,
     "metadata": {},
     "output_type": "execute_result"
    }
   ],
   "source": [
    "next(iter(DataLoader(dataset=datapipe, batch_size=4)))"
   ]
  },
  {
   "cell_type": "code",
   "execution_count": 42,
   "id": "9bb5a18a",
   "metadata": {
    "id": "9bb5a18a"
   },
   "outputs": [],
   "source": [
    "import os\n",
    "\n",
    "def get_manufacturer(content):\n",
    "    path, data = content\n",
    "    manuf = os.path.splitext(os.path.basename(path))[0].upper()\n",
    "    data.extend([manuf])\n",
    "    return data\n",
    "\n",
    "datapipe = datapipe.map(get_manufacturer)"
   ]
  },
  {
   "cell_type": "code",
   "execution_count": 43,
   "id": "9bd8a0a9",
   "metadata": {
    "colab": {
     "base_uri": "https://localhost:8080/"
    },
    "id": "9bd8a0a9",
    "outputId": "c8564e7b-e8ba-4049-bfea-b5ed7e0bfdef"
   },
   "outputs": [
    {
     "data": {
      "text/plain": [
       "[(' A1', ' A6', ' A1', ' A4'),\n",
       " ('2017', '2016', '2016', '2017'),\n",
       " ('12500', '16500', '11000', '16800'),\n",
       " ('Manual', 'Automatic', 'Manual', 'Automatic'),\n",
       " ('15735', '36203', '29946', '25952'),\n",
       " ('Petrol', 'Diesel', 'Petrol', 'Diesel'),\n",
       " ('150', '20', '30', '145'),\n",
       " ('55.4', '64.2', '55.4', '67.3'),\n",
       " ('1.4', '2.0', '1.4', '2.0'),\n",
       " ('AUDI', 'AUDI', 'AUDI', 'AUDI')]"
      ]
     },
     "execution_count": 43,
     "metadata": {},
     "output_type": "execute_result"
    }
   ],
   "source": [
    "next(iter(DataLoader(dataset=datapipe, batch_size=4)))"
   ]
  },
  {
   "cell_type": "markdown",
   "id": "d4245cef",
   "metadata": {
    "id": "d4245cef"
   },
   "source": [
    "#### 5.3.1.2 Encoding Categorical Attributes\n",
    "\n",
    "![](https://raw.githubusercontent.com/dvgodoy/assets/main/PyTorchInPractice/images/ch0/data_step3.png)"
   ]
  },
  {
   "cell_type": "code",
   "execution_count": 44,
   "id": "a7175bc3",
   "metadata": {
    "id": "a7175bc3"
   },
   "outputs": [],
   "source": [
    "import pandas as pd\n",
    "\n",
    "colnames = ['model', 'year', 'price', 'transmission', 'mileage', 'fuel_type', 'road_tax', 'mpg', 'engine_size', 'manufacturer']\n",
    "df = pd.DataFrame(list(datapipe), columns=colnames)\n",
    "N_ROWS = len(df)"
   ]
  },
  {
   "cell_type": "code",
   "execution_count": 47,
   "id": "c3203638",
   "metadata": {
    "id": "c3203638"
   },
   "outputs": [],
   "source": [
    "cont_attr = ['year', 'mileage', 'road_tax', 'mpg', 'engine_size']\n",
    "cat_attr = ['model', 'transmission', 'fuel_type', 'manufacturer']\n",
    "\n",
    "def gen_encoder_dict(series):\n",
    "    values = series.unique()\n",
    "    return dict(zip(values, range(len(values))))\n",
    "\n",
    "dropdown_encoders = {col: gen_encoder_dict(df[col]) for col in cat_attr}"
   ]
  },
  {
   "cell_type": "code",
   "execution_count": 48,
   "id": "715fd236",
   "metadata": {
    "colab": {
     "base_uri": "https://localhost:8080/"
    },
    "id": "715fd236",
    "outputId": "97736360-5fe7-4c1a-d199-49589bad2ada"
   },
   "outputs": [
    {
     "data": {
      "text/plain": [
       "{'Petrol': 0, 'Diesel': 1, 'Hybrid': 2, 'Other': 3, 'Electric': 4}"
      ]
     },
     "execution_count": 48,
     "metadata": {},
     "output_type": "execute_result"
    }
   ],
   "source": [
    "dropdown_encoders['fuel_type']"
   ]
  },
  {
   "cell_type": "markdown",
   "id": "399c1848",
   "metadata": {
    "id": "399c1848"
   },
   "source": [
    "#### 5.3.1.3 Row Output"
   ]
  },
  {
   "cell_type": "code",
   "execution_count": 49,
   "id": "ee44eb8a",
   "metadata": {
    "id": "ee44eb8a"
   },
   "outputs": [],
   "source": [
    "import numpy as np\n",
    "\n",
    "def preproc(row):\n",
    "    colnames = ['model', 'year', 'price', 'transmission', 'mileage', 'fuel_type', 'road_tax', 'mpg', 'engine_size', 'manufacturer']\n",
    "    \n",
    "    cat_attr = ['model', 'transmission', 'fuel_type', 'manufacturer']\n",
    "    cont_attr = ['year', 'mileage', 'road_tax', 'mpg', 'engine_size']\n",
    "    target = 'price'\n",
    "    \n",
    "    vals = dict(zip(colnames, row))\n",
    "    cont_X = [float(vals[name]) for name in cont_attr]\n",
    "    cat_X = [dropdown_encoders[name][vals[name]] for name in cat_attr]\n",
    "            \n",
    "    return {'label': np.array([float(vals[target])], dtype=np.float32),\n",
    "            'cont_X': np.array(cont_X, dtype=np.float32), \n",
    "            'cat_X': np.array(cat_X, dtype=int)}"
   ]
  },
  {
   "cell_type": "code",
   "execution_count": 50,
   "id": "e56f5a06",
   "metadata": {
    "id": "e56f5a06"
   },
   "outputs": [],
   "source": [
    "datapipe = datapipe.map(preproc)"
   ]
  },
  {
   "cell_type": "code",
   "execution_count": 51,
   "id": "cd931dad",
   "metadata": {
    "colab": {
     "base_uri": "https://localhost:8080/"
    },
    "id": "cd931dad",
    "outputId": "172c7509-274f-4c34-fe2f-9ca1143574b0"
   },
   "outputs": [
    {
     "data": {
      "text/plain": [
       "{'label': tensor([[12500.],\n",
       "         [16500.],\n",
       "         [11000.],\n",
       "         [16800.]]),\n",
       " 'cont_X': tensor([[2.0170e+03, 1.5735e+04, 1.5000e+02, 5.5400e+01, 1.4000e+00],\n",
       "         [2.0160e+03, 3.6203e+04, 2.0000e+01, 6.4200e+01, 2.0000e+00],\n",
       "         [2.0160e+03, 2.9946e+04, 3.0000e+01, 5.5400e+01, 1.4000e+00],\n",
       "         [2.0170e+03, 2.5952e+04, 1.4500e+02, 6.7300e+01, 2.0000e+00]]),\n",
       " 'cat_X': tensor([[0, 0, 0, 0],\n",
       "         [1, 1, 1, 0],\n",
       "         [0, 0, 0, 0],\n",
       "         [2, 1, 1, 0]])}"
      ]
     },
     "execution_count": 51,
     "metadata": {},
     "output_type": "execute_result"
    }
   ],
   "source": [
    "next(iter(DataLoader(dataset=datapipe, batch_size=4)))"
   ]
  },
  {
   "cell_type": "markdown",
   "id": "6cb9421f",
   "metadata": {
    "id": "6cb9421f"
   },
   "source": [
    "#### 5.3.1.4 The Full DataPipe and Splits\n",
    "\n",
    "![](https://raw.githubusercontent.com/dvgodoy/assets/main/PyTorchInPractice/images/ch0/data_step4.png)"
   ]
  },
  {
   "cell_type": "code",
   "execution_count": 52,
   "id": "4afed88a",
   "metadata": {
    "id": "4afed88a"
   },
   "outputs": [],
   "source": [
    "datapipe = dp.iter.FileLister('./car_prices')\n",
    "datapipe = datapipe.filter(filter_fn=filter_for_data)\n",
    "datapipe = datapipe.open_files(mode='rt')\n",
    "datapipe = datapipe.parse_csv(delimiter=\",\", skip_lines=1, return_path=True)\n",
    "datapipe = datapipe.map(get_manufacturer)\n",
    "datapipe = datapipe.map(preproc)"
   ]
  },
  {
   "cell_type": "code",
   "execution_count": 53,
   "id": "40ee0a98",
   "metadata": {
    "id": "40ee0a98"
   },
   "outputs": [],
   "source": [
    "datapipes = {}\n",
    "datapipes['train'] = datapipe.random_split(total_length=N_ROWS, weights={\"train\": 0.8, \"val\": 0.1, \"test\": 0.1}, seed=11, target='train')\n",
    "datapipes['val'] = datapipe.random_split(total_length=N_ROWS, weights={\"train\": 0.8, \"val\": 0.1, \"test\": 0.1}, seed=11, target='val')\n",
    "datapipes['test'] = datapipe.random_split(total_length=N_ROWS, weights={\"train\": 0.8, \"val\": 0.1, \"test\": 0.1}, seed=11, target='test')\n",
    "\n",
    "datapipes['train'] = datapipes['train'].shuffle(buffer_size=100000)"
   ]
  },
  {
   "cell_type": "markdown",
   "id": "04dcc2a0",
   "metadata": {
    "id": "04dcc2a0"
   },
   "source": [
    "![](https://raw.githubusercontent.com/dvgodoy/assets/main/PyTorchInPractice/images/ch0/data_step5.png)"
   ]
  },
  {
   "cell_type": "code",
   "execution_count": 54,
   "id": "ac2e8993",
   "metadata": {
    "id": "ac2e8993"
   },
   "outputs": [],
   "source": [
    "dataloaders = {}\n",
    "dataloaders['train'] = DataLoader(dataset=datapipes['train'], batch_size=128, drop_last=True, shuffle=True)\n",
    "dataloaders['val'] = DataLoader(dataset=datapipes['val'], batch_size=128)\n",
    "dataloaders['test'] = DataLoader(dataset=datapipes['test'], batch_size=128)"
   ]
  },
  {
   "cell_type": "markdown",
   "id": "56c0da42",
   "metadata": {
    "id": "56c0da42"
   },
   "source": [
    "### 5.3.2 BatchNorm for Continuous Attributes\n",
    "\n",
    "![](https://raw.githubusercontent.com/dvgodoy/assets/main/PyTorchInPractice/images/ch0/model_step1.png)"
   ]
  },
  {
   "cell_type": "code",
   "execution_count": 55,
   "id": "c32ee8a8",
   "metadata": {
    "colab": {
     "base_uri": "https://localhost:8080/"
    },
    "id": "c32ee8a8",
    "outputId": "83998ea5-e579-4c16-a1a1-ef023cb59c37"
   },
   "outputs": [
    {
     "data": {
      "text/plain": [
       "(tensor([2.0174e+03, 2.1038e+04, 1.1512e+02, 5.3813e+01, 1.6766e+00]),\n",
       " tensor([1.5904e+00, 1.7717e+04, 5.7773e+01, 1.1183e+01, 5.1135e-01]))"
      ]
     },
     "execution_count": 55,
     "metadata": {},
     "output_type": "execute_result"
    }
   ],
   "source": [
    "import torch.nn as nn\n",
    "\n",
    "batch = next(iter(dataloaders['train']))\n",
    "batch['cont_X'].mean(axis=0), batch['cont_X'].std(axis=0, unbiased=False)"
   ]
  },
  {
   "cell_type": "code",
   "execution_count": 56,
   "id": "55719029",
   "metadata": {
    "colab": {
     "base_uri": "https://localhost:8080/"
    },
    "id": "55719029",
    "outputId": "fac8f821-45ab-4e34-ffab-ff71e18f1ca5"
   },
   "outputs": [
    {
     "data": {
      "text/plain": [
       "(tensor([ 4.0997e-05,  3.3528e-08,  3.7253e-08, -2.4214e-07, -1.0058e-07],\n",
       "        grad_fn=<MeanBackward1>),\n",
       " tensor([1.0000, 1.0000, 1.0000, 1.0000, 1.0000], grad_fn=<StdBackward0>))"
      ]
     },
     "execution_count": 56,
     "metadata": {},
     "output_type": "execute_result"
    }
   ],
   "source": [
    "bn_layer = nn.BatchNorm1d(num_features=len(cont_attr))\n",
    "\n",
    "normalized_cont = bn_layer(batch['cont_X'])\n",
    "normalized_cont.mean(axis=0), normalized_cont.std(axis=0, unbiased=False)"
   ]
  },
  {
   "cell_type": "code",
   "execution_count": 57,
   "id": "6c93ab15",
   "metadata": {
    "colab": {
     "base_uri": "https://localhost:8080/"
    },
    "id": "6c93ab15",
    "outputId": "0012b347-a193-49e8-92d3-32deae45e22d"
   },
   "outputs": [
    {
     "data": {
      "text/plain": [
       "OrderedDict([('weight', tensor([1., 1., 1., 1., 1.])),\n",
       "             ('bias', tensor([0., 0., 0., 0., 0.])),\n",
       "             ('running_mean',\n",
       "              tensor([2.0174e+02, 2.1038e+03, 1.1512e+01, 5.3813e+00, 1.6766e-01])),\n",
       "             ('running_var',\n",
       "              tensor([1.1549e+00, 3.1638e+07, 3.3730e+02, 1.3504e+01, 9.2635e-01])),\n",
       "             ('num_batches_tracked', tensor(1))])"
      ]
     },
     "execution_count": 57,
     "metadata": {},
     "output_type": "execute_result"
    }
   ],
   "source": [
    "bn_layer.state_dict()"
   ]
  }
 ],
 "metadata": {
  "accelerator": "GPU",
  "colab": {
   "provenance": []
  },
  "gpuClass": "standard",
  "kernelspec": {
   "display_name": "Python 3 (ipykernel)",
   "language": "python",
   "name": "python3"
  },
  "language_info": {
   "codemirror_mode": {
    "name": "ipython",
    "version": 3
   },
   "file_extension": ".py",
   "mimetype": "text/x-python",
   "name": "python",
   "nbconvert_exporter": "python",
   "pygments_lexer": "ipython3",
   "version": "3.9.12"
  }
 },
 "nbformat": 4,
 "nbformat_minor": 5
}
