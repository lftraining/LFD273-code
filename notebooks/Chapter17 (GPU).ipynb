{
 "cells": [
  {
   "cell_type": "markdown",
   "id": "bb0b7309",
   "metadata": {
    "id": "5eef016c"
   },
   "source": [
    "# Chapter 17: Pipelines for NLP Tasks"
   ]
  },
  {
   "cell_type": "code",
   "execution_count": 2,
   "id": "c611f054",
   "metadata": {
    "id": "928565dd"
   },
   "outputs": [],
   "source": [
    "!pip install transformers portalocker"
   ]
  },
  {
   "cell_type": "markdown",
   "id": "5736bfa2",
   "metadata": {
    "id": "f626b9fd"
   },
   "source": [
    "## 17.3 HuggingFace Pipelines\n",
    "\n",
    "![](https://raw.githubusercontent.com/dvgodoy/assets/main/PyTorchInPractice/images/ch15/hf_nlp_tasks.png)"
   ]
  },
  {
   "cell_type": "markdown",
   "id": "4d97c90c",
   "metadata": {
    "id": "5a873b72"
   },
   "source": [
    "### 17.3.1 Models"
   ]
  },
  {
   "cell_type": "code",
   "execution_count": 10,
   "id": "163ac249",
   "metadata": {
    "colab": {
     "base_uri": "https://localhost:8080/"
    },
    "id": "c808b928",
    "outputId": "5a7b85af-34f5-4ba5-96fa-f4b5a0e09b12"
   },
   "outputs": [
    {
     "data": {
      "text/plain": [
       "[('text-classification', 'distilbert-base-uncased-finetuned-sst-2-english'),\n",
       " ('token-classification', 'dbmdz/bert-large-cased-finetuned-conll03-english'),\n",
       " ('question-answering', 'distilbert-base-cased-distilled-squad'),\n",
       " ('table-question-answering', 'google/tapas-base-finetuned-wtq'),\n",
       " ('fill-mask', 'distilroberta-base'),\n",
       " ('summarization', 'sshleifer/distilbart-cnn-12-6'),\n",
       " ('translation', None),\n",
       " ('text2text-generation', 't5-base'),\n",
       " ('text-generation', 'gpt2'),\n",
       " ('zero-shot-classification', 'facebook/bart-large-mnli'),\n",
       " ('conversational', 'microsoft/DialoGPT-medium')]"
      ]
     },
     "execution_count": 10,
     "metadata": {},
     "output_type": "execute_result"
    }
   ],
   "source": [
    "from transformers.pipelines import SUPPORTED_TASKS\n",
    "\n",
    "[(task, conf['default'].get('model', {}).get('pt', (None,))[0])\n",
    " for task, conf in SUPPORTED_TASKS.items()\n",
    " if conf['type'] == 'text']"
   ]
  },
  {
   "cell_type": "markdown",
   "id": "f55cd542",
   "metadata": {
    "id": "fdb0208b"
   },
   "source": [
    "### 17.3.2 Tokenizers"
   ]
  },
  {
   "cell_type": "code",
   "execution_count": 11,
   "id": "9ba0a505",
   "metadata": {
    "colab": {
     "base_uri": "https://localhost:8080/",
     "height": 113,
     "referenced_widgets": [
      "40001c492859442b8fa00c81810f85a4",
      "4bfe0808002c486fa8cba378c956f5df",
      "95a51c834eb947679ce8e447abbd284f",
      "8cc4218b27f9496a8d2f6d67452ebd31",
      "c85aaa21ffdc489a8c10515cdb8049e6",
      "f013c86754094408b383d65ae8659cac",
      "8fc91ce9f1034e52b62fbd0c51ac9579",
      "5a1f53d5e8b74a73a55e86f5a9056c3c",
      "df4f434ca12f4016b745fd8ee3483a14",
      "0830363fe57349478d40ef142328b021",
      "91c22479569d4076a917283835baf16d",
      "5577938cc1414f378c15a47ced422599",
      "607371380b3749a2b9956f1ac817268e",
      "fb98c469e17643609320ed25645c8619",
      "0b6a03ccbda84ebcbb1bd859456c8042",
      "4b15b17ce6eb4cc9aa1abb8bd5721231",
      "55ba8bb94b3a451aa44a5d85c3a789d6",
      "75ffe7ee6a944343b18df497151c382c",
      "8ce0f20d5c4c40089c5d6870ef59a92e",
      "e7ff32aca2a240b39d96e28035aa2e80",
      "92dcf64194454617bc1ddf734d5bf540",
      "6a1051db376d4c49924bb8167e8e9500",
      "b02bd3c1997a447a871bb3c90e25cca8",
      "4150e63278db405cb054a35a7a65b79b",
      "27759a06a0a541de80c17cb500ca76ad",
      "ef53398f10c04c7f819ec248aaaf0ef1",
      "b1b0fcc3154e48838725f595cc4ac09b",
      "8af987b87beb420f985044917c745d66",
      "f1af9fcd801e4a20b5250ce24dd18917",
      "d4c06c423d244eae9fb03ef43e509793",
      "6ff3925ee18b46a39ff206a87ae1b99b",
      "a9404c6134ce4306a52d21a4e38740b6",
      "67773071df0d481aaf22023c887eb26b"
     ]
    },
    "id": "1cd1adbc",
    "outputId": "23d46df1-3df0-4aa3-c44c-72eb24857f37"
   },
   "outputs": [
    {
     "data": {
      "application/vnd.jupyter.widget-view+json": {
       "model_id": "40001c492859442b8fa00c81810f85a4",
       "version_major": 2,
       "version_minor": 0
      },
      "text/plain": [
       "Downloading (…)solve/main/vocab.txt:   0%|          | 0.00/232k [00:00<?, ?B/s]"
      ]
     },
     "metadata": {},
     "output_type": "display_data"
    },
    {
     "data": {
      "application/vnd.jupyter.widget-view+json": {
       "model_id": "5577938cc1414f378c15a47ced422599",
       "version_major": 2,
       "version_minor": 0
      },
      "text/plain": [
       "Downloading (…)okenizer_config.json:   0%|          | 0.00/28.0 [00:00<?, ?B/s]"
      ]
     },
     "metadata": {},
     "output_type": "display_data"
    },
    {
     "data": {
      "application/vnd.jupyter.widget-view+json": {
       "model_id": "b02bd3c1997a447a871bb3c90e25cca8",
       "version_major": 2,
       "version_minor": 0
      },
      "text/plain": [
       "Downloading (…)lve/main/config.json:   0%|          | 0.00/570 [00:00<?, ?B/s]"
      ]
     },
     "metadata": {},
     "output_type": "display_data"
    }
   ],
   "source": [
    "from transformers import BertTokenizer\n",
    "\n",
    "tokenizer = BertTokenizer.from_pretrained(\"bert-base-uncased\")"
   ]
  },
  {
   "cell_type": "code",
   "execution_count": 12,
   "id": "9f902f76",
   "metadata": {
    "colab": {
     "base_uri": "https://localhost:8080/"
    },
    "id": "b4b095b7",
    "outputId": "cf12692b-5e39-4d9f-f0b0-a5c6d085bce0"
   },
   "outputs": [
    {
     "data": {
      "text/plain": [
       "(30522, ['[UNK]', '[SEP]', '[PAD]', '[CLS]', '[MASK]'])"
      ]
     },
     "execution_count": 12,
     "metadata": {},
     "output_type": "execute_result"
    }
   ],
   "source": [
    "tokenizer.vocab_size, tokenizer.all_special_tokens"
   ]
  },
  {
   "cell_type": "code",
   "execution_count": 13,
   "id": "cb32e20d",
   "metadata": {
    "colab": {
     "base_uri": "https://localhost:8080/"
    },
    "id": "b1a8b86f",
    "outputId": "1efca3f8-1665-4ff4-89fd-e209b7d11503"
   },
   "outputs": [
    {
     "data": {
      "text/plain": [
       "['the',\n",
       " 'core',\n",
       " 'of',\n",
       " 'the',\n",
       " 'planet',\n",
       " 'is',\n",
       " 'becoming',\n",
       " 'une',\n",
       " '##x',\n",
       " '##pl',\n",
       " '##ica',\n",
       " '##bly',\n",
       " 'unstable',\n",
       " '.']"
      ]
     },
     "execution_count": 13,
     "metadata": {},
     "output_type": "execute_result"
    }
   ],
   "source": [
    "sentences = (\"The core of the planet is becoming unexplicably unstable.\",\n",
    "             \"The shift in the company's core business markets had impacted their quartely results.\")\n",
    "\n",
    "tokens = tokenizer.tokenize(sentences[0])\n",
    "tokens"
   ]
  },
  {
   "cell_type": "code",
   "execution_count": 14,
   "id": "3956c44f",
   "metadata": {
    "colab": {
     "base_uri": "https://localhost:8080/"
    },
    "id": "e5543973",
    "outputId": "ff28bb6a-e1f7-4b9e-99ab-a00859b5967f"
   },
   "outputs": [
    {
     "data": {
      "text/plain": [
       "[101,\n",
       " 1996,\n",
       " 4563,\n",
       " 1997,\n",
       " 1996,\n",
       " 4774,\n",
       " 2003,\n",
       " 3352,\n",
       " 16655,\n",
       " 2595,\n",
       " 24759,\n",
       " 5555,\n",
       " 6321,\n",
       " 14480,\n",
       " 1012,\n",
       " 102]"
      ]
     },
     "execution_count": 14,
     "metadata": {},
     "output_type": "execute_result"
    }
   ],
   "source": [
    "token_ids = tokenizer.encode(sentences[0])\n",
    "token_ids"
   ]
  },
  {
   "cell_type": "code",
   "execution_count": 15,
   "id": "488e525e",
   "metadata": {
    "colab": {
     "base_uri": "https://localhost:8080/",
     "height": 35
    },
    "id": "88142d7d",
    "outputId": "acf7676c-6ab9-4491-95cd-7f3ca7bd8094"
   },
   "outputs": [
    {
     "data": {
      "application/vnd.google.colaboratory.intrinsic+json": {
       "type": "string"
      },
      "text/plain": [
       "'[CLS] the core of the planet is becoming unexplicably unstable. [SEP]'"
      ]
     },
     "execution_count": 15,
     "metadata": {},
     "output_type": "execute_result"
    }
   ],
   "source": [
    "tokenizer.decode(token_ids)"
   ]
  },
  {
   "cell_type": "code",
   "execution_count": 16,
   "id": "c9a0c1fb",
   "metadata": {
    "colab": {
     "base_uri": "https://localhost:8080/"
    },
    "id": "f27ef79a",
    "outputId": "7bcad4ab-9446-4a00-ab3e-7e363a827da2"
   },
   "outputs": [
    {
     "data": {
      "text/plain": [
       "{'input_ids': [101, 1996, 4563, 1997, 1996, 4774, 2003, 3352, 16655, 2595, 24759, 5555, 6321, 14480, 1012, 102], 'token_type_ids': [0, 0, 0, 0, 0, 0, 0, 0, 0, 0, 0, 0, 0, 0, 0, 0], 'attention_mask': [1, 1, 1, 1, 1, 1, 1, 1, 1, 1, 1, 1, 1, 1, 1, 1]}"
      ]
     },
     "execution_count": 16,
     "metadata": {},
     "output_type": "execute_result"
    }
   ],
   "source": [
    "token_dict = tokenizer.encode_plus(sentences[0])\n",
    "token_dict"
   ]
  },
  {
   "cell_type": "code",
   "execution_count": 17,
   "id": "f38ca6c8",
   "metadata": {
    "colab": {
     "base_uri": "https://localhost:8080/"
    },
    "id": "fcb65ef0",
    "outputId": "50e87e8e-1941-4bff-c420-56a25202ab8c"
   },
   "outputs": [
    {
     "data": {
      "text/plain": [
       "{'input_ids': [101, 1996, 4563, 1997, 1996, 4774, 2003, 3352, 16655, 2595, 24759, 5555, 6321, 14480, 1012, 102, 1996, 5670, 1999, 1996, 2194, 1005, 1055, 4563, 2449, 6089, 2018, 19209, 2037, 24209, 24847, 2135, 3463, 1012, 102], 'token_type_ids': [0, 0, 0, 0, 0, 0, 0, 0, 0, 0, 0, 0, 0, 0, 0, 0, 1, 1, 1, 1, 1, 1, 1, 1, 1, 1, 1, 1, 1, 1, 1, 1, 1, 1, 1], 'attention_mask': [1, 1, 1, 1, 1, 1, 1, 1, 1, 1, 1, 1, 1, 1, 1, 1, 1, 1, 1, 1, 1, 1, 1, 1, 1, 1, 1, 1, 1, 1, 1, 1, 1, 1, 1]}"
      ]
     },
     "execution_count": 17,
     "metadata": {},
     "output_type": "execute_result"
    }
   ],
   "source": [
    "token_dict_mult = tokenizer(*sentences)\n",
    "token_dict_mult"
   ]
  },
  {
   "cell_type": "code",
   "execution_count": 18,
   "id": "7bd9fb11",
   "metadata": {
    "colab": {
     "base_uri": "https://localhost:8080/",
     "height": 52
    },
    "id": "a2599f26",
    "outputId": "f41722d5-6af3-4f09-ba8f-0d5ad40f5c32"
   },
   "outputs": [
    {
     "data": {
      "application/vnd.google.colaboratory.intrinsic+json": {
       "type": "string"
      },
      "text/plain": [
       "\"[CLS] the core of the planet is becoming unexplicably unstable. [SEP] the shift in the company's core business markets had impacted their quartely results. [SEP]\""
      ]
     },
     "execution_count": 18,
     "metadata": {},
     "output_type": "execute_result"
    }
   ],
   "source": [
    "tokenizer.decode(token_dict_mult['input_ids'])"
   ]
  },
  {
   "cell_type": "markdown",
   "id": "6e63c325",
   "metadata": {
    "id": "c4f5e545"
   },
   "source": [
    "### 17.3.3 Zero-Shot Text Classification"
   ]
  },
  {
   "cell_type": "markdown",
   "id": "08a4df89",
   "metadata": {},
   "source": [
    "![](https://raw.githubusercontent.com/dvgodoy/assets/main/PyTorchInPractice/images/ch0/data_step1.png)"
   ]
  },
  {
   "cell_type": "code",
   "execution_count": 6,
   "id": "2d650d05",
   "metadata": {
    "id": "11466c94"
   },
   "outputs": [],
   "source": [
    "!wget https://raw.githubusercontent.com/mhjabreel/CharCnn_Keras/master/data/ag_news_csv/train.csv\n",
    "!wget https://raw.githubusercontent.com/mhjabreel/CharCnn_Keras/master/data/ag_news_csv/test.csv\n",
    "!wget https://raw.githubusercontent.com/mhjabreel/CharCnn_Keras/master/data/ag_news_csv/classes.txt"
   ]
  },
  {
   "cell_type": "markdown",
   "id": "5eb2962f",
   "metadata": {},
   "source": [
    "![](https://raw.githubusercontent.com/dvgodoy/assets/main/PyTorchInPractice/images/ch0/data_step2.png)"
   ]
  },
  {
   "cell_type": "code",
   "execution_count": 7,
   "id": "7f4533fb",
   "metadata": {
    "id": "7c8cbebf"
   },
   "outputs": [],
   "source": [
    "import numpy as np\n",
    "\n",
    "chr_codes = np.array([\n",
    "     36,   151,    38,  8220,   147,   148,   146,   225,   133,    39,  8221,  8212,   232,   149,   145,   233,\n",
    "  64257,  8217,   163,   160,    91,    93,  8211,  8482,   234,    37,  8364,   153,   195,   169\n",
    "])\n",
    "chr_subst = {f' #{c};':chr(c) for c in chr_codes}\n",
    "chr_subst.update({' amp;': '&', ' quot;': \"'\", ' hellip;': '...', ' nbsp;': ' ', '&lt;': '', '&gt;': '',\n",
    "                  '&lt;em&gt;': '', '&lt;/em&gt;': '', '&lt;strong&gt;': '', '&lt;/strong&gt;': ''})"
   ]
  },
  {
   "cell_type": "code",
   "execution_count": 8,
   "id": "4c84f943",
   "metadata": {
    "id": "a2108e26"
   },
   "outputs": [],
   "source": [
    "def replace_chars(sent):\n",
    "    to_replace = [c for c in list(chr_subst.keys()) if c in sent]\n",
    "    for c in to_replace:\n",
    "        sent = sent.replace(c, chr_subst[c])\n",
    "    return sent\n",
    "\n",
    "def preproc_description(desc):\n",
    "    desc = desc.replace('\\\\', ' ').strip()\n",
    "    return replace_chars(desc)"
   ]
  },
  {
   "cell_type": "code",
   "execution_count": 9,
   "id": "a255951d",
   "metadata": {
    "id": "b126f81f"
   },
   "outputs": [],
   "source": [
    "from torchdata.datapipes.iter import FileLister\n",
    "from torch.utils.data import DataLoader\n",
    "\n",
    "def create_raw_datapipe(fname):\n",
    "    datapipe = FileLister(root='.')\n",
    "    datapipe = datapipe.filter(filter_fn=lambda v: v.endswith(fname))\n",
    "    datapipe = datapipe.open_files(mode='rt', encoding=\"utf-8\")\n",
    "    datapipe = datapipe.parse_csv(delimiter=\",\", skip_lines=0)\n",
    "    datapipe = datapipe.map(lambda row: (int(row[0])-1, preproc_description(row[2])))\n",
    "    return datapipe"
   ]
  },
  {
   "cell_type": "markdown",
   "id": "4e270eda",
   "metadata": {},
   "source": [
    "![](https://raw.githubusercontent.com/dvgodoy/assets/main/PyTorchInPractice/images/ch0/data_step4.png)"
   ]
  },
  {
   "cell_type": "code",
   "execution_count": null,
   "id": "024baa0c",
   "metadata": {
    "id": "63058350"
   },
   "outputs": [],
   "source": [
    "datapipes = {}\n",
    "datapipes['train'] = create_raw_datapipe('train.csv').shuffle(buffer_size=125000)\n",
    "datapipes['test'] = create_raw_datapipe('test.csv')"
   ]
  },
  {
   "cell_type": "markdown",
   "id": "09545824",
   "metadata": {},
   "source": [
    "![](https://raw.githubusercontent.com/dvgodoy/assets/main/PyTorchInPractice/images/ch0/data_step5.png)"
   ]
  },
  {
   "cell_type": "code",
   "execution_count": null,
   "id": "b778f5b2",
   "metadata": {},
   "outputs": [],
   "source": [
    "dataloaders = {}\n",
    "dataloaders['train'] = DataLoader(dataset=datapipes['train'], batch_size=32, shuffle=True)\n",
    "dataloaders['test'] = DataLoader(dataset=datapipes['test'], batch_size=32)"
   ]
  },
  {
   "cell_type": "markdown",
   "id": "0a828213",
   "metadata": {},
   "source": [
    "![](https://raw.githubusercontent.com/dvgodoy/assets/main/PyTorchInPractice/images/ch0/model_step5.png)"
   ]
  },
  {
   "cell_type": "code",
   "execution_count": 22,
   "id": "4e01a229",
   "metadata": {
    "id": "d85c5210"
   },
   "outputs": [],
   "source": [
    "import torch\n",
    "from transformers import pipeline\n",
    "\n",
    "device = 0 if torch.cuda.is_available() else -1\n",
    "\n",
    "classifier = pipeline(\"zero-shot-classification\", model=\"facebook/bart-large-mnli\", device=device)"
   ]
  },
  {
   "cell_type": "code",
   "execution_count": 23,
   "id": "2effd3ca",
   "metadata": {
    "id": "ff6279f2"
   },
   "outputs": [],
   "source": [
    "import warnings\n",
    "warnings.filterwarnings(\"ignore\")\n",
    "\n",
    "candidate_labels = ['world', 'sports', 'business', 'science and technology']\n",
    "\n",
    "labels, sentences = next(iter(dataloaders['test']))\n",
    "\n",
    "out = classifier(list(sentences), candidate_labels)"
   ]
  },
  {
   "cell_type": "code",
   "execution_count": 24,
   "id": "54388bf1",
   "metadata": {
    "colab": {
     "base_uri": "https://localhost:8080/"
    },
    "id": "cbced580",
    "outputId": "55b5dfca-2b0c-4ca6-bf7e-2655bd5c0c44"
   },
   "outputs": [
    {
     "data": {
      "text/plain": [
       "{'sequence': \"Unions representing workers at Turner   Newall say they are 'disappointed' after talks with stricken parent firm Federal Mogul.\",\n",
       " 'labels': ['business', 'world', 'sports', 'science and technology'],\n",
       " 'scores': [0.5680877566337585,\n",
       "  0.32770952582359314,\n",
       "  0.05973348021507263,\n",
       "  0.044469203799963]}"
      ]
     },
     "execution_count": 24,
     "metadata": {},
     "output_type": "execute_result"
    }
   ],
   "source": [
    "out[0]"
   ]
  },
  {
   "cell_type": "code",
   "execution_count": 25,
   "id": "03db418a",
   "metadata": {
    "colab": {
     "base_uri": "https://localhost:8080/"
    },
    "id": "c77b8015",
    "outputId": "b69a9410-1757-4a57-f87a-2fa8af2faaa7"
   },
   "outputs": [
    {
     "data": {
      "text/plain": [
       "('business', 2)"
      ]
     },
     "execution_count": 25,
     "metadata": {},
     "output_type": "execute_result"
    }
   ],
   "source": [
    "pred_label = out[0]['labels'][0]\n",
    "pred_class = candidate_labels.index(pred_label)\n",
    "pred_label, pred_class"
   ]
  },
  {
   "cell_type": "code",
   "execution_count": 26,
   "id": "cddb379c",
   "metadata": {
    "colab": {
     "base_uri": "https://localhost:8080/"
    },
    "id": "2249f4b0",
    "outputId": "41bcab39-e9c2-432a-a713-15761a475d4b"
   },
   "outputs": [
    {
     "data": {
      "text/plain": [
       "tensor(0.4062)"
      ]
     },
     "execution_count": 26,
     "metadata": {},
     "output_type": "execute_result"
    }
   ],
   "source": [
    "pred_labels = torch.as_tensor([candidate_labels.index(s['labels'][0]) for s in out])\n",
    "(pred_labels == labels).float().mean()"
   ]
  }
 ],
 "metadata": {
  "accelerator": "GPU",
  "colab": {
   "gpuType": "T4",
   "provenance": []
  },
  "kernelspec": {
   "display_name": "Python 3 (ipykernel)",
   "language": "python",
   "name": "python3"
  },
  "language_info": {
   "codemirror_mode": {
    "name": "ipython",
    "version": 3
   },
   "file_extension": ".py",
   "mimetype": "text/x-python",
   "name": "python",
   "nbconvert_exporter": "python",
   "pygments_lexer": "ipython3",
   "version": "3.9.12"
  },
  "widgets": {
   "application/vnd.jupyter.widget-state+json": {
    "0830363fe57349478d40ef142328b021": {
     "model_module": "@jupyter-widgets/base",
     "model_module_version": "1.2.0",
     "model_name": "LayoutModel",
     "state": {
      "_model_module": "@jupyter-widgets/base",
      "_model_module_version": "1.2.0",
      "_model_name": "LayoutModel",
      "_view_count": null,
      "_view_module": "@jupyter-widgets/base",
      "_view_module_version": "1.2.0",
      "_view_name": "LayoutView",
      "align_content": null,
      "align_items": null,
      "align_self": null,
      "border": null,
      "bottom": null,
      "display": null,
      "flex": null,
      "flex_flow": null,
      "grid_area": null,
      "grid_auto_columns": null,
      "grid_auto_flow": null,
      "grid_auto_rows": null,
      "grid_column": null,
      "grid_gap": null,
      "grid_row": null,
      "grid_template_areas": null,
      "grid_template_columns": null,
      "grid_template_rows": null,
      "height": null,
      "justify_content": null,
      "justify_items": null,
      "left": null,
      "margin": null,
      "max_height": null,
      "max_width": null,
      "min_height": null,
      "min_width": null,
      "object_fit": null,
      "object_position": null,
      "order": null,
      "overflow": null,
      "overflow_x": null,
      "overflow_y": null,
      "padding": null,
      "right": null,
      "top": null,
      "visibility": null,
      "width": null
     }
    },
    "0b6a03ccbda84ebcbb1bd859456c8042": {
     "model_module": "@jupyter-widgets/controls",
     "model_module_version": "1.5.0",
     "model_name": "HTMLModel",
     "state": {
      "_dom_classes": [],
      "_model_module": "@jupyter-widgets/controls",
      "_model_module_version": "1.5.0",
      "_model_name": "HTMLModel",
      "_view_count": null,
      "_view_module": "@jupyter-widgets/controls",
      "_view_module_version": "1.5.0",
      "_view_name": "HTMLView",
      "description": "",
      "description_tooltip": null,
      "layout": "IPY_MODEL_92dcf64194454617bc1ddf734d5bf540",
      "placeholder": "​",
      "style": "IPY_MODEL_6a1051db376d4c49924bb8167e8e9500",
      "value": " 28.0/28.0 [00:00&lt;00:00, 1.21kB/s]"
     }
    },
    "27759a06a0a541de80c17cb500ca76ad": {
     "model_module": "@jupyter-widgets/controls",
     "model_module_version": "1.5.0",
     "model_name": "FloatProgressModel",
     "state": {
      "_dom_classes": [],
      "_model_module": "@jupyter-widgets/controls",
      "_model_module_version": "1.5.0",
      "_model_name": "FloatProgressModel",
      "_view_count": null,
      "_view_module": "@jupyter-widgets/controls",
      "_view_module_version": "1.5.0",
      "_view_name": "ProgressView",
      "bar_style": "success",
      "description": "",
      "description_tooltip": null,
      "layout": "IPY_MODEL_d4c06c423d244eae9fb03ef43e509793",
      "max": 570,
      "min": 0,
      "orientation": "horizontal",
      "style": "IPY_MODEL_6ff3925ee18b46a39ff206a87ae1b99b",
      "value": 570
     }
    },
    "40001c492859442b8fa00c81810f85a4": {
     "model_module": "@jupyter-widgets/controls",
     "model_module_version": "1.5.0",
     "model_name": "HBoxModel",
     "state": {
      "_dom_classes": [],
      "_model_module": "@jupyter-widgets/controls",
      "_model_module_version": "1.5.0",
      "_model_name": "HBoxModel",
      "_view_count": null,
      "_view_module": "@jupyter-widgets/controls",
      "_view_module_version": "1.5.0",
      "_view_name": "HBoxView",
      "box_style": "",
      "children": [
       "IPY_MODEL_4bfe0808002c486fa8cba378c956f5df",
       "IPY_MODEL_95a51c834eb947679ce8e447abbd284f",
       "IPY_MODEL_8cc4218b27f9496a8d2f6d67452ebd31"
      ],
      "layout": "IPY_MODEL_c85aaa21ffdc489a8c10515cdb8049e6"
     }
    },
    "4150e63278db405cb054a35a7a65b79b": {
     "model_module": "@jupyter-widgets/controls",
     "model_module_version": "1.5.0",
     "model_name": "HTMLModel",
     "state": {
      "_dom_classes": [],
      "_model_module": "@jupyter-widgets/controls",
      "_model_module_version": "1.5.0",
      "_model_name": "HTMLModel",
      "_view_count": null,
      "_view_module": "@jupyter-widgets/controls",
      "_view_module_version": "1.5.0",
      "_view_name": "HTMLView",
      "description": "",
      "description_tooltip": null,
      "layout": "IPY_MODEL_8af987b87beb420f985044917c745d66",
      "placeholder": "​",
      "style": "IPY_MODEL_f1af9fcd801e4a20b5250ce24dd18917",
      "value": "Downloading (…)lve/main/config.json: 100%"
     }
    },
    "4b15b17ce6eb4cc9aa1abb8bd5721231": {
     "model_module": "@jupyter-widgets/base",
     "model_module_version": "1.2.0",
     "model_name": "LayoutModel",
     "state": {
      "_model_module": "@jupyter-widgets/base",
      "_model_module_version": "1.2.0",
      "_model_name": "LayoutModel",
      "_view_count": null,
      "_view_module": "@jupyter-widgets/base",
      "_view_module_version": "1.2.0",
      "_view_name": "LayoutView",
      "align_content": null,
      "align_items": null,
      "align_self": null,
      "border": null,
      "bottom": null,
      "display": null,
      "flex": null,
      "flex_flow": null,
      "grid_area": null,
      "grid_auto_columns": null,
      "grid_auto_flow": null,
      "grid_auto_rows": null,
      "grid_column": null,
      "grid_gap": null,
      "grid_row": null,
      "grid_template_areas": null,
      "grid_template_columns": null,
      "grid_template_rows": null,
      "height": null,
      "justify_content": null,
      "justify_items": null,
      "left": null,
      "margin": null,
      "max_height": null,
      "max_width": null,
      "min_height": null,
      "min_width": null,
      "object_fit": null,
      "object_position": null,
      "order": null,
      "overflow": null,
      "overflow_x": null,
      "overflow_y": null,
      "padding": null,
      "right": null,
      "top": null,
      "visibility": null,
      "width": null
     }
    },
    "4bfe0808002c486fa8cba378c956f5df": {
     "model_module": "@jupyter-widgets/controls",
     "model_module_version": "1.5.0",
     "model_name": "HTMLModel",
     "state": {
      "_dom_classes": [],
      "_model_module": "@jupyter-widgets/controls",
      "_model_module_version": "1.5.0",
      "_model_name": "HTMLModel",
      "_view_count": null,
      "_view_module": "@jupyter-widgets/controls",
      "_view_module_version": "1.5.0",
      "_view_name": "HTMLView",
      "description": "",
      "description_tooltip": null,
      "layout": "IPY_MODEL_f013c86754094408b383d65ae8659cac",
      "placeholder": "​",
      "style": "IPY_MODEL_8fc91ce9f1034e52b62fbd0c51ac9579",
      "value": "Downloading (…)solve/main/vocab.txt: 100%"
     }
    },
    "5577938cc1414f378c15a47ced422599": {
     "model_module": "@jupyter-widgets/controls",
     "model_module_version": "1.5.0",
     "model_name": "HBoxModel",
     "state": {
      "_dom_classes": [],
      "_model_module": "@jupyter-widgets/controls",
      "_model_module_version": "1.5.0",
      "_model_name": "HBoxModel",
      "_view_count": null,
      "_view_module": "@jupyter-widgets/controls",
      "_view_module_version": "1.5.0",
      "_view_name": "HBoxView",
      "box_style": "",
      "children": [
       "IPY_MODEL_607371380b3749a2b9956f1ac817268e",
       "IPY_MODEL_fb98c469e17643609320ed25645c8619",
       "IPY_MODEL_0b6a03ccbda84ebcbb1bd859456c8042"
      ],
      "layout": "IPY_MODEL_4b15b17ce6eb4cc9aa1abb8bd5721231"
     }
    },
    "55ba8bb94b3a451aa44a5d85c3a789d6": {
     "model_module": "@jupyter-widgets/base",
     "model_module_version": "1.2.0",
     "model_name": "LayoutModel",
     "state": {
      "_model_module": "@jupyter-widgets/base",
      "_model_module_version": "1.2.0",
      "_model_name": "LayoutModel",
      "_view_count": null,
      "_view_module": "@jupyter-widgets/base",
      "_view_module_version": "1.2.0",
      "_view_name": "LayoutView",
      "align_content": null,
      "align_items": null,
      "align_self": null,
      "border": null,
      "bottom": null,
      "display": null,
      "flex": null,
      "flex_flow": null,
      "grid_area": null,
      "grid_auto_columns": null,
      "grid_auto_flow": null,
      "grid_auto_rows": null,
      "grid_column": null,
      "grid_gap": null,
      "grid_row": null,
      "grid_template_areas": null,
      "grid_template_columns": null,
      "grid_template_rows": null,
      "height": null,
      "justify_content": null,
      "justify_items": null,
      "left": null,
      "margin": null,
      "max_height": null,
      "max_width": null,
      "min_height": null,
      "min_width": null,
      "object_fit": null,
      "object_position": null,
      "order": null,
      "overflow": null,
      "overflow_x": null,
      "overflow_y": null,
      "padding": null,
      "right": null,
      "top": null,
      "visibility": null,
      "width": null
     }
    },
    "5a1f53d5e8b74a73a55e86f5a9056c3c": {
     "model_module": "@jupyter-widgets/base",
     "model_module_version": "1.2.0",
     "model_name": "LayoutModel",
     "state": {
      "_model_module": "@jupyter-widgets/base",
      "_model_module_version": "1.2.0",
      "_model_name": "LayoutModel",
      "_view_count": null,
      "_view_module": "@jupyter-widgets/base",
      "_view_module_version": "1.2.0",
      "_view_name": "LayoutView",
      "align_content": null,
      "align_items": null,
      "align_self": null,
      "border": null,
      "bottom": null,
      "display": null,
      "flex": null,
      "flex_flow": null,
      "grid_area": null,
      "grid_auto_columns": null,
      "grid_auto_flow": null,
      "grid_auto_rows": null,
      "grid_column": null,
      "grid_gap": null,
      "grid_row": null,
      "grid_template_areas": null,
      "grid_template_columns": null,
      "grid_template_rows": null,
      "height": null,
      "justify_content": null,
      "justify_items": null,
      "left": null,
      "margin": null,
      "max_height": null,
      "max_width": null,
      "min_height": null,
      "min_width": null,
      "object_fit": null,
      "object_position": null,
      "order": null,
      "overflow": null,
      "overflow_x": null,
      "overflow_y": null,
      "padding": null,
      "right": null,
      "top": null,
      "visibility": null,
      "width": null
     }
    },
    "607371380b3749a2b9956f1ac817268e": {
     "model_module": "@jupyter-widgets/controls",
     "model_module_version": "1.5.0",
     "model_name": "HTMLModel",
     "state": {
      "_dom_classes": [],
      "_model_module": "@jupyter-widgets/controls",
      "_model_module_version": "1.5.0",
      "_model_name": "HTMLModel",
      "_view_count": null,
      "_view_module": "@jupyter-widgets/controls",
      "_view_module_version": "1.5.0",
      "_view_name": "HTMLView",
      "description": "",
      "description_tooltip": null,
      "layout": "IPY_MODEL_55ba8bb94b3a451aa44a5d85c3a789d6",
      "placeholder": "​",
      "style": "IPY_MODEL_75ffe7ee6a944343b18df497151c382c",
      "value": "Downloading (…)okenizer_config.json: 100%"
     }
    },
    "67773071df0d481aaf22023c887eb26b": {
     "model_module": "@jupyter-widgets/controls",
     "model_module_version": "1.5.0",
     "model_name": "DescriptionStyleModel",
     "state": {
      "_model_module": "@jupyter-widgets/controls",
      "_model_module_version": "1.5.0",
      "_model_name": "DescriptionStyleModel",
      "_view_count": null,
      "_view_module": "@jupyter-widgets/base",
      "_view_module_version": "1.2.0",
      "_view_name": "StyleView",
      "description_width": ""
     }
    },
    "6a1051db376d4c49924bb8167e8e9500": {
     "model_module": "@jupyter-widgets/controls",
     "model_module_version": "1.5.0",
     "model_name": "DescriptionStyleModel",
     "state": {
      "_model_module": "@jupyter-widgets/controls",
      "_model_module_version": "1.5.0",
      "_model_name": "DescriptionStyleModel",
      "_view_count": null,
      "_view_module": "@jupyter-widgets/base",
      "_view_module_version": "1.2.0",
      "_view_name": "StyleView",
      "description_width": ""
     }
    },
    "6ff3925ee18b46a39ff206a87ae1b99b": {
     "model_module": "@jupyter-widgets/controls",
     "model_module_version": "1.5.0",
     "model_name": "ProgressStyleModel",
     "state": {
      "_model_module": "@jupyter-widgets/controls",
      "_model_module_version": "1.5.0",
      "_model_name": "ProgressStyleModel",
      "_view_count": null,
      "_view_module": "@jupyter-widgets/base",
      "_view_module_version": "1.2.0",
      "_view_name": "StyleView",
      "bar_color": null,
      "description_width": ""
     }
    },
    "75ffe7ee6a944343b18df497151c382c": {
     "model_module": "@jupyter-widgets/controls",
     "model_module_version": "1.5.0",
     "model_name": "DescriptionStyleModel",
     "state": {
      "_model_module": "@jupyter-widgets/controls",
      "_model_module_version": "1.5.0",
      "_model_name": "DescriptionStyleModel",
      "_view_count": null,
      "_view_module": "@jupyter-widgets/base",
      "_view_module_version": "1.2.0",
      "_view_name": "StyleView",
      "description_width": ""
     }
    },
    "8af987b87beb420f985044917c745d66": {
     "model_module": "@jupyter-widgets/base",
     "model_module_version": "1.2.0",
     "model_name": "LayoutModel",
     "state": {
      "_model_module": "@jupyter-widgets/base",
      "_model_module_version": "1.2.0",
      "_model_name": "LayoutModel",
      "_view_count": null,
      "_view_module": "@jupyter-widgets/base",
      "_view_module_version": "1.2.0",
      "_view_name": "LayoutView",
      "align_content": null,
      "align_items": null,
      "align_self": null,
      "border": null,
      "bottom": null,
      "display": null,
      "flex": null,
      "flex_flow": null,
      "grid_area": null,
      "grid_auto_columns": null,
      "grid_auto_flow": null,
      "grid_auto_rows": null,
      "grid_column": null,
      "grid_gap": null,
      "grid_row": null,
      "grid_template_areas": null,
      "grid_template_columns": null,
      "grid_template_rows": null,
      "height": null,
      "justify_content": null,
      "justify_items": null,
      "left": null,
      "margin": null,
      "max_height": null,
      "max_width": null,
      "min_height": null,
      "min_width": null,
      "object_fit": null,
      "object_position": null,
      "order": null,
      "overflow": null,
      "overflow_x": null,
      "overflow_y": null,
      "padding": null,
      "right": null,
      "top": null,
      "visibility": null,
      "width": null
     }
    },
    "8cc4218b27f9496a8d2f6d67452ebd31": {
     "model_module": "@jupyter-widgets/controls",
     "model_module_version": "1.5.0",
     "model_name": "HTMLModel",
     "state": {
      "_dom_classes": [],
      "_model_module": "@jupyter-widgets/controls",
      "_model_module_version": "1.5.0",
      "_model_name": "HTMLModel",
      "_view_count": null,
      "_view_module": "@jupyter-widgets/controls",
      "_view_module_version": "1.5.0",
      "_view_name": "HTMLView",
      "description": "",
      "description_tooltip": null,
      "layout": "IPY_MODEL_0830363fe57349478d40ef142328b021",
      "placeholder": "​",
      "style": "IPY_MODEL_91c22479569d4076a917283835baf16d",
      "value": " 232k/232k [00:00&lt;00:00, 552kB/s]"
     }
    },
    "8ce0f20d5c4c40089c5d6870ef59a92e": {
     "model_module": "@jupyter-widgets/base",
     "model_module_version": "1.2.0",
     "model_name": "LayoutModel",
     "state": {
      "_model_module": "@jupyter-widgets/base",
      "_model_module_version": "1.2.0",
      "_model_name": "LayoutModel",
      "_view_count": null,
      "_view_module": "@jupyter-widgets/base",
      "_view_module_version": "1.2.0",
      "_view_name": "LayoutView",
      "align_content": null,
      "align_items": null,
      "align_self": null,
      "border": null,
      "bottom": null,
      "display": null,
      "flex": null,
      "flex_flow": null,
      "grid_area": null,
      "grid_auto_columns": null,
      "grid_auto_flow": null,
      "grid_auto_rows": null,
      "grid_column": null,
      "grid_gap": null,
      "grid_row": null,
      "grid_template_areas": null,
      "grid_template_columns": null,
      "grid_template_rows": null,
      "height": null,
      "justify_content": null,
      "justify_items": null,
      "left": null,
      "margin": null,
      "max_height": null,
      "max_width": null,
      "min_height": null,
      "min_width": null,
      "object_fit": null,
      "object_position": null,
      "order": null,
      "overflow": null,
      "overflow_x": null,
      "overflow_y": null,
      "padding": null,
      "right": null,
      "top": null,
      "visibility": null,
      "width": null
     }
    },
    "8fc91ce9f1034e52b62fbd0c51ac9579": {
     "model_module": "@jupyter-widgets/controls",
     "model_module_version": "1.5.0",
     "model_name": "DescriptionStyleModel",
     "state": {
      "_model_module": "@jupyter-widgets/controls",
      "_model_module_version": "1.5.0",
      "_model_name": "DescriptionStyleModel",
      "_view_count": null,
      "_view_module": "@jupyter-widgets/base",
      "_view_module_version": "1.2.0",
      "_view_name": "StyleView",
      "description_width": ""
     }
    },
    "91c22479569d4076a917283835baf16d": {
     "model_module": "@jupyter-widgets/controls",
     "model_module_version": "1.5.0",
     "model_name": "DescriptionStyleModel",
     "state": {
      "_model_module": "@jupyter-widgets/controls",
      "_model_module_version": "1.5.0",
      "_model_name": "DescriptionStyleModel",
      "_view_count": null,
      "_view_module": "@jupyter-widgets/base",
      "_view_module_version": "1.2.0",
      "_view_name": "StyleView",
      "description_width": ""
     }
    },
    "92dcf64194454617bc1ddf734d5bf540": {
     "model_module": "@jupyter-widgets/base",
     "model_module_version": "1.2.0",
     "model_name": "LayoutModel",
     "state": {
      "_model_module": "@jupyter-widgets/base",
      "_model_module_version": "1.2.0",
      "_model_name": "LayoutModel",
      "_view_count": null,
      "_view_module": "@jupyter-widgets/base",
      "_view_module_version": "1.2.0",
      "_view_name": "LayoutView",
      "align_content": null,
      "align_items": null,
      "align_self": null,
      "border": null,
      "bottom": null,
      "display": null,
      "flex": null,
      "flex_flow": null,
      "grid_area": null,
      "grid_auto_columns": null,
      "grid_auto_flow": null,
      "grid_auto_rows": null,
      "grid_column": null,
      "grid_gap": null,
      "grid_row": null,
      "grid_template_areas": null,
      "grid_template_columns": null,
      "grid_template_rows": null,
      "height": null,
      "justify_content": null,
      "justify_items": null,
      "left": null,
      "margin": null,
      "max_height": null,
      "max_width": null,
      "min_height": null,
      "min_width": null,
      "object_fit": null,
      "object_position": null,
      "order": null,
      "overflow": null,
      "overflow_x": null,
      "overflow_y": null,
      "padding": null,
      "right": null,
      "top": null,
      "visibility": null,
      "width": null
     }
    },
    "95a51c834eb947679ce8e447abbd284f": {
     "model_module": "@jupyter-widgets/controls",
     "model_module_version": "1.5.0",
     "model_name": "FloatProgressModel",
     "state": {
      "_dom_classes": [],
      "_model_module": "@jupyter-widgets/controls",
      "_model_module_version": "1.5.0",
      "_model_name": "FloatProgressModel",
      "_view_count": null,
      "_view_module": "@jupyter-widgets/controls",
      "_view_module_version": "1.5.0",
      "_view_name": "ProgressView",
      "bar_style": "success",
      "description": "",
      "description_tooltip": null,
      "layout": "IPY_MODEL_5a1f53d5e8b74a73a55e86f5a9056c3c",
      "max": 231508,
      "min": 0,
      "orientation": "horizontal",
      "style": "IPY_MODEL_df4f434ca12f4016b745fd8ee3483a14",
      "value": 231508
     }
    },
    "a9404c6134ce4306a52d21a4e38740b6": {
     "model_module": "@jupyter-widgets/base",
     "model_module_version": "1.2.0",
     "model_name": "LayoutModel",
     "state": {
      "_model_module": "@jupyter-widgets/base",
      "_model_module_version": "1.2.0",
      "_model_name": "LayoutModel",
      "_view_count": null,
      "_view_module": "@jupyter-widgets/base",
      "_view_module_version": "1.2.0",
      "_view_name": "LayoutView",
      "align_content": null,
      "align_items": null,
      "align_self": null,
      "border": null,
      "bottom": null,
      "display": null,
      "flex": null,
      "flex_flow": null,
      "grid_area": null,
      "grid_auto_columns": null,
      "grid_auto_flow": null,
      "grid_auto_rows": null,
      "grid_column": null,
      "grid_gap": null,
      "grid_row": null,
      "grid_template_areas": null,
      "grid_template_columns": null,
      "grid_template_rows": null,
      "height": null,
      "justify_content": null,
      "justify_items": null,
      "left": null,
      "margin": null,
      "max_height": null,
      "max_width": null,
      "min_height": null,
      "min_width": null,
      "object_fit": null,
      "object_position": null,
      "order": null,
      "overflow": null,
      "overflow_x": null,
      "overflow_y": null,
      "padding": null,
      "right": null,
      "top": null,
      "visibility": null,
      "width": null
     }
    },
    "b02bd3c1997a447a871bb3c90e25cca8": {
     "model_module": "@jupyter-widgets/controls",
     "model_module_version": "1.5.0",
     "model_name": "HBoxModel",
     "state": {
      "_dom_classes": [],
      "_model_module": "@jupyter-widgets/controls",
      "_model_module_version": "1.5.0",
      "_model_name": "HBoxModel",
      "_view_count": null,
      "_view_module": "@jupyter-widgets/controls",
      "_view_module_version": "1.5.0",
      "_view_name": "HBoxView",
      "box_style": "",
      "children": [
       "IPY_MODEL_4150e63278db405cb054a35a7a65b79b",
       "IPY_MODEL_27759a06a0a541de80c17cb500ca76ad",
       "IPY_MODEL_ef53398f10c04c7f819ec248aaaf0ef1"
      ],
      "layout": "IPY_MODEL_b1b0fcc3154e48838725f595cc4ac09b"
     }
    },
    "b1b0fcc3154e48838725f595cc4ac09b": {
     "model_module": "@jupyter-widgets/base",
     "model_module_version": "1.2.0",
     "model_name": "LayoutModel",
     "state": {
      "_model_module": "@jupyter-widgets/base",
      "_model_module_version": "1.2.0",
      "_model_name": "LayoutModel",
      "_view_count": null,
      "_view_module": "@jupyter-widgets/base",
      "_view_module_version": "1.2.0",
      "_view_name": "LayoutView",
      "align_content": null,
      "align_items": null,
      "align_self": null,
      "border": null,
      "bottom": null,
      "display": null,
      "flex": null,
      "flex_flow": null,
      "grid_area": null,
      "grid_auto_columns": null,
      "grid_auto_flow": null,
      "grid_auto_rows": null,
      "grid_column": null,
      "grid_gap": null,
      "grid_row": null,
      "grid_template_areas": null,
      "grid_template_columns": null,
      "grid_template_rows": null,
      "height": null,
      "justify_content": null,
      "justify_items": null,
      "left": null,
      "margin": null,
      "max_height": null,
      "max_width": null,
      "min_height": null,
      "min_width": null,
      "object_fit": null,
      "object_position": null,
      "order": null,
      "overflow": null,
      "overflow_x": null,
      "overflow_y": null,
      "padding": null,
      "right": null,
      "top": null,
      "visibility": null,
      "width": null
     }
    },
    "c85aaa21ffdc489a8c10515cdb8049e6": {
     "model_module": "@jupyter-widgets/base",
     "model_module_version": "1.2.0",
     "model_name": "LayoutModel",
     "state": {
      "_model_module": "@jupyter-widgets/base",
      "_model_module_version": "1.2.0",
      "_model_name": "LayoutModel",
      "_view_count": null,
      "_view_module": "@jupyter-widgets/base",
      "_view_module_version": "1.2.0",
      "_view_name": "LayoutView",
      "align_content": null,
      "align_items": null,
      "align_self": null,
      "border": null,
      "bottom": null,
      "display": null,
      "flex": null,
      "flex_flow": null,
      "grid_area": null,
      "grid_auto_columns": null,
      "grid_auto_flow": null,
      "grid_auto_rows": null,
      "grid_column": null,
      "grid_gap": null,
      "grid_row": null,
      "grid_template_areas": null,
      "grid_template_columns": null,
      "grid_template_rows": null,
      "height": null,
      "justify_content": null,
      "justify_items": null,
      "left": null,
      "margin": null,
      "max_height": null,
      "max_width": null,
      "min_height": null,
      "min_width": null,
      "object_fit": null,
      "object_position": null,
      "order": null,
      "overflow": null,
      "overflow_x": null,
      "overflow_y": null,
      "padding": null,
      "right": null,
      "top": null,
      "visibility": null,
      "width": null
     }
    },
    "d4c06c423d244eae9fb03ef43e509793": {
     "model_module": "@jupyter-widgets/base",
     "model_module_version": "1.2.0",
     "model_name": "LayoutModel",
     "state": {
      "_model_module": "@jupyter-widgets/base",
      "_model_module_version": "1.2.0",
      "_model_name": "LayoutModel",
      "_view_count": null,
      "_view_module": "@jupyter-widgets/base",
      "_view_module_version": "1.2.0",
      "_view_name": "LayoutView",
      "align_content": null,
      "align_items": null,
      "align_self": null,
      "border": null,
      "bottom": null,
      "display": null,
      "flex": null,
      "flex_flow": null,
      "grid_area": null,
      "grid_auto_columns": null,
      "grid_auto_flow": null,
      "grid_auto_rows": null,
      "grid_column": null,
      "grid_gap": null,
      "grid_row": null,
      "grid_template_areas": null,
      "grid_template_columns": null,
      "grid_template_rows": null,
      "height": null,
      "justify_content": null,
      "justify_items": null,
      "left": null,
      "margin": null,
      "max_height": null,
      "max_width": null,
      "min_height": null,
      "min_width": null,
      "object_fit": null,
      "object_position": null,
      "order": null,
      "overflow": null,
      "overflow_x": null,
      "overflow_y": null,
      "padding": null,
      "right": null,
      "top": null,
      "visibility": null,
      "width": null
     }
    },
    "df4f434ca12f4016b745fd8ee3483a14": {
     "model_module": "@jupyter-widgets/controls",
     "model_module_version": "1.5.0",
     "model_name": "ProgressStyleModel",
     "state": {
      "_model_module": "@jupyter-widgets/controls",
      "_model_module_version": "1.5.0",
      "_model_name": "ProgressStyleModel",
      "_view_count": null,
      "_view_module": "@jupyter-widgets/base",
      "_view_module_version": "1.2.0",
      "_view_name": "StyleView",
      "bar_color": null,
      "description_width": ""
     }
    },
    "e7ff32aca2a240b39d96e28035aa2e80": {
     "model_module": "@jupyter-widgets/controls",
     "model_module_version": "1.5.0",
     "model_name": "ProgressStyleModel",
     "state": {
      "_model_module": "@jupyter-widgets/controls",
      "_model_module_version": "1.5.0",
      "_model_name": "ProgressStyleModel",
      "_view_count": null,
      "_view_module": "@jupyter-widgets/base",
      "_view_module_version": "1.2.0",
      "_view_name": "StyleView",
      "bar_color": null,
      "description_width": ""
     }
    },
    "ef53398f10c04c7f819ec248aaaf0ef1": {
     "model_module": "@jupyter-widgets/controls",
     "model_module_version": "1.5.0",
     "model_name": "HTMLModel",
     "state": {
      "_dom_classes": [],
      "_model_module": "@jupyter-widgets/controls",
      "_model_module_version": "1.5.0",
      "_model_name": "HTMLModel",
      "_view_count": null,
      "_view_module": "@jupyter-widgets/controls",
      "_view_module_version": "1.5.0",
      "_view_name": "HTMLView",
      "description": "",
      "description_tooltip": null,
      "layout": "IPY_MODEL_a9404c6134ce4306a52d21a4e38740b6",
      "placeholder": "​",
      "style": "IPY_MODEL_67773071df0d481aaf22023c887eb26b",
      "value": " 570/570 [00:00&lt;00:00, 34.7kB/s]"
     }
    },
    "f013c86754094408b383d65ae8659cac": {
     "model_module": "@jupyter-widgets/base",
     "model_module_version": "1.2.0",
     "model_name": "LayoutModel",
     "state": {
      "_model_module": "@jupyter-widgets/base",
      "_model_module_version": "1.2.0",
      "_model_name": "LayoutModel",
      "_view_count": null,
      "_view_module": "@jupyter-widgets/base",
      "_view_module_version": "1.2.0",
      "_view_name": "LayoutView",
      "align_content": null,
      "align_items": null,
      "align_self": null,
      "border": null,
      "bottom": null,
      "display": null,
      "flex": null,
      "flex_flow": null,
      "grid_area": null,
      "grid_auto_columns": null,
      "grid_auto_flow": null,
      "grid_auto_rows": null,
      "grid_column": null,
      "grid_gap": null,
      "grid_row": null,
      "grid_template_areas": null,
      "grid_template_columns": null,
      "grid_template_rows": null,
      "height": null,
      "justify_content": null,
      "justify_items": null,
      "left": null,
      "margin": null,
      "max_height": null,
      "max_width": null,
      "min_height": null,
      "min_width": null,
      "object_fit": null,
      "object_position": null,
      "order": null,
      "overflow": null,
      "overflow_x": null,
      "overflow_y": null,
      "padding": null,
      "right": null,
      "top": null,
      "visibility": null,
      "width": null
     }
    },
    "f1af9fcd801e4a20b5250ce24dd18917": {
     "model_module": "@jupyter-widgets/controls",
     "model_module_version": "1.5.0",
     "model_name": "DescriptionStyleModel",
     "state": {
      "_model_module": "@jupyter-widgets/controls",
      "_model_module_version": "1.5.0",
      "_model_name": "DescriptionStyleModel",
      "_view_count": null,
      "_view_module": "@jupyter-widgets/base",
      "_view_module_version": "1.2.0",
      "_view_name": "StyleView",
      "description_width": ""
     }
    },
    "fb98c469e17643609320ed25645c8619": {
     "model_module": "@jupyter-widgets/controls",
     "model_module_version": "1.5.0",
     "model_name": "FloatProgressModel",
     "state": {
      "_dom_classes": [],
      "_model_module": "@jupyter-widgets/controls",
      "_model_module_version": "1.5.0",
      "_model_name": "FloatProgressModel",
      "_view_count": null,
      "_view_module": "@jupyter-widgets/controls",
      "_view_module_version": "1.5.0",
      "_view_name": "ProgressView",
      "bar_style": "success",
      "description": "",
      "description_tooltip": null,
      "layout": "IPY_MODEL_8ce0f20d5c4c40089c5d6870ef59a92e",
      "max": 28,
      "min": 0,
      "orientation": "horizontal",
      "style": "IPY_MODEL_e7ff32aca2a240b39d96e28035aa2e80",
      "value": 28
     }
    }
   }
  }
 },
 "nbformat": 4,
 "nbformat_minor": 5
}
