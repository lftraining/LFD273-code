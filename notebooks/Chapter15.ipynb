{
 "cells": [
  {
   "cell_type": "markdown",
   "metadata": {
    "id": "5eef016c"
   },
   "source": [
    "# Chapter 15: Word Embeddings and Text Classification"
   ]
  },
  {
   "cell_type": "code",
   "execution_count": 3,
   "metadata": {
    "id": "928565dd"
   },
   "outputs": [],
   "source": [
    "!pip install transformers evaluate chromadb langchain datasets gensim"
   ]
  },
  {
   "cell_type": "markdown",
   "metadata": {
    "id": "d17cefe0"
   },
   "source": [
    "## 15.4 AG News Dataset\n",
    "\n",
    "![](https://raw.githubusercontent.com/dvgodoy/assets/main/PyTorchInPractice/images/ch0/data_step1.png)"
   ]
  },
  {
   "cell_type": "code",
   "execution_count": null,
   "metadata": {
    "id": "11466c94"
   },
   "outputs": [],
   "source": [
    "!wget https://raw.githubusercontent.com/mhjabreel/CharCnn_Keras/master/data/ag_news_csv/train.csv\n",
    "!wget https://raw.githubusercontent.com/mhjabreel/CharCnn_Keras/master/data/ag_news_csv/test.csv\n",
    "!wget https://raw.githubusercontent.com/mhjabreel/CharCnn_Keras/master/data/ag_news_csv/classes.txt"
   ]
  },
  {
   "cell_type": "markdown",
   "metadata": {
    "id": "5d4390d4"
   },
   "source": [
    "### 15.4.1 Data Cleaning\n",
    "\n",
    "![](https://raw.githubusercontent.com/dvgodoy/assets/main/PyTorchInPractice/images/ch0/data_step2.png)"
   ]
  },
  {
   "cell_type": "code",
   "execution_count": 2,
   "metadata": {
    "id": "7c8cbebf"
   },
   "outputs": [],
   "source": [
    "import numpy as np\n",
    "\n",
    "chr_codes = np.array([\n",
    "     36,   151,    38,  8220,   147,   148,   146,   225,   133,    39,  8221,  8212,   232,   149,   145,   233,\n",
    "  64257,  8217,   163,   160,    91,    93,  8211,  8482,   234,    37,  8364,   153,   195,   169\n",
    "])\n",
    "chr_subst = {f' #{c};':chr(c) for c in chr_codes}\n",
    "chr_subst.update({' amp;': '&', ' quot;': \"'\", ' hellip;': '...', ' nbsp;': ' ', '&lt;': '', '&gt;': '',\n",
    "                  '&lt;em&gt;': '', '&lt;/em&gt;': '', '&lt;strong&gt;': '', '&lt;/strong&gt;': ''})"
   ]
  },
  {
   "cell_type": "code",
   "execution_count": 3,
   "metadata": {
    "id": "a2108e26"
   },
   "outputs": [],
   "source": [
    "def replace_chars(sent):\n",
    "    to_replace = [c for c in list(chr_subst.keys()) if c in sent]\n",
    "    for c in to_replace:\n",
    "        sent = sent.replace(c, chr_subst[c])\n",
    "    return sent\n",
    "\n",
    "def preproc_description(desc):\n",
    "    desc = desc.replace('\\\\', ' ').strip()\n",
    "    return replace_chars(desc)"
   ]
  },
  {
   "cell_type": "markdown",
   "metadata": {
    "id": "902cca8d"
   },
   "source": [
    "### 15.4.2 Hugging Face Datasets\n",
    "\n",
    "![](https://raw.githubusercontent.com/dvgodoy/assets/main/PyTorchInPractice/images/ch0/data_step4.png)"
   ]
  },
  {
   "cell_type": "code",
   "execution_count": 4,
   "metadata": {},
   "outputs": [
    {
     "name": "stdout",
     "output_type": "stream",
     "text": [
      "Downloading and preparing dataset csv/default to /home/dvgodoy/.cache/huggingface/datasets/csv/default-74551251eaf25b66/0.0.0/6954658bab30a358235fa864b05cf819af0e179325c740e4bc853bcc7ec513e1...\n"
     ]
    },
    {
     "data": {
      "application/vnd.jupyter.widget-view+json": {
       "model_id": "69ec7447a3164df98d7fabdf8acef882",
       "version_major": 2,
       "version_minor": 0
      },
      "text/plain": [
       "Downloading data files:   0%|          | 0/1 [00:00<?, ?it/s]"
      ]
     },
     "metadata": {},
     "output_type": "display_data"
    },
    {
     "data": {
      "application/vnd.jupyter.widget-view+json": {
       "model_id": "16ed4274ce27486594b6b8d258270263",
       "version_major": 2,
       "version_minor": 0
      },
      "text/plain": [
       "Extracting data files:   0%|          | 0/1 [00:00<?, ?it/s]"
      ]
     },
     "metadata": {},
     "output_type": "display_data"
    },
    {
     "data": {
      "application/vnd.jupyter.widget-view+json": {
       "model_id": "",
       "version_major": 2,
       "version_minor": 0
      },
      "text/plain": [
       "Generating train split: 0 examples [00:00, ? examples/s]"
      ]
     },
     "metadata": {},
     "output_type": "display_data"
    },
    {
     "name": "stdout",
     "output_type": "stream",
     "text": [
      "Dataset csv downloaded and prepared to /home/dvgodoy/.cache/huggingface/datasets/csv/default-74551251eaf25b66/0.0.0/6954658bab30a358235fa864b05cf819af0e179325c740e4bc853bcc7ec513e1. Subsequent calls will reuse this data.\n",
      "Downloading and preparing dataset csv/default to /home/dvgodoy/.cache/huggingface/datasets/csv/default-cc3721dbf091fd55/0.0.0/6954658bab30a358235fa864b05cf819af0e179325c740e4bc853bcc7ec513e1...\n"
     ]
    },
    {
     "data": {
      "application/vnd.jupyter.widget-view+json": {
       "model_id": "51e169b726df4603b0b84fcd3aa04c92",
       "version_major": 2,
       "version_minor": 0
      },
      "text/plain": [
       "Downloading data files:   0%|          | 0/1 [00:00<?, ?it/s]"
      ]
     },
     "metadata": {},
     "output_type": "display_data"
    },
    {
     "data": {
      "application/vnd.jupyter.widget-view+json": {
       "model_id": "f190267b304745629bea57c9a6ea4cb0",
       "version_major": 2,
       "version_minor": 0
      },
      "text/plain": [
       "Extracting data files:   0%|          | 0/1 [00:00<?, ?it/s]"
      ]
     },
     "metadata": {},
     "output_type": "display_data"
    },
    {
     "data": {
      "application/vnd.jupyter.widget-view+json": {
       "model_id": "",
       "version_major": 2,
       "version_minor": 0
      },
      "text/plain": [
       "Generating train split: 0 examples [00:00, ? examples/s]"
      ]
     },
     "metadata": {},
     "output_type": "display_data"
    },
    {
     "name": "stdout",
     "output_type": "stream",
     "text": [
      "Dataset csv downloaded and prepared to /home/dvgodoy/.cache/huggingface/datasets/csv/default-cc3721dbf091fd55/0.0.0/6954658bab30a358235fa864b05cf819af0e179325c740e4bc853bcc7ec513e1. Subsequent calls will reuse this data.\n"
     ]
    },
    {
     "data": {
      "text/plain": [
       "DatasetDict({\n",
       "    train: Dataset({\n",
       "        features: ['topic', 'title', 'news'],\n",
       "        num_rows: 120000\n",
       "    })\n",
       "    test: Dataset({\n",
       "        features: ['topic', 'title', 'news'],\n",
       "        num_rows: 7600\n",
       "    })\n",
       "})"
      ]
     },
     "execution_count": 4,
     "metadata": {},
     "output_type": "execute_result"
    }
   ],
   "source": [
    "from datasets import load_dataset, Split, DatasetDict\n",
    "\n",
    "colnames = ['topic', 'title', 'news']\n",
    "\n",
    "train_ds = load_dataset(\"csv\", data_files='train.csv', sep=',', split=Split.ALL, column_names=colnames)\n",
    "test_ds = load_dataset(\"csv\", data_files='test.csv', sep=',', split=Split.ALL, column_names=colnames)\n",
    "\n",
    "datasets = DatasetDict({'train': train_ds, 'test': test_ds})\n",
    "datasets"
   ]
  },
  {
   "cell_type": "code",
   "execution_count": 5,
   "metadata": {},
   "outputs": [
    {
     "data": {
      "text/plain": [
       "{'topic': 3,\n",
       " 'title': 'Wall St. Bears Claw Back Into the Black (Reuters)',\n",
       " 'news': \"Reuters - Short-sellers, Wall Street's dwindling\\\\band of ultra-cynics, are seeing green again.\"}"
      ]
     },
     "execution_count": 5,
     "metadata": {},
     "output_type": "execute_result"
    }
   ],
   "source": [
    "datasets['train'][0]"
   ]
  },
  {
   "cell_type": "code",
   "execution_count": 6,
   "metadata": {},
   "outputs": [
    {
     "data": {
      "application/vnd.jupyter.widget-view+json": {
       "model_id": "",
       "version_major": 2,
       "version_minor": 0
      },
      "text/plain": [
       "Map:   0%|          | 0/120000 [00:00<?, ? examples/s]"
      ]
     },
     "metadata": {},
     "output_type": "display_data"
    },
    {
     "data": {
      "application/vnd.jupyter.widget-view+json": {
       "model_id": "",
       "version_major": 2,
       "version_minor": 0
      },
      "text/plain": [
       "Map:   0%|          | 0/7600 [00:00<?, ? examples/s]"
      ]
     },
     "metadata": {},
     "output_type": "display_data"
    }
   ],
   "source": [
    "datasets = datasets.map(lambda row: {'topic': row['topic']-1, \n",
    "                                     'news': preproc_description(row['news'])})\n",
    "datasets = datasets.select_columns(['topic', 'news'])"
   ]
  },
  {
   "cell_type": "code",
   "execution_count": 7,
   "metadata": {},
   "outputs": [
    {
     "data": {
      "text/plain": [
       "([2, 2, 2, 2],\n",
       " [\"Reuters - Short-sellers, Wall Street's dwindling band of ultra-cynics, are seeing green again.\",\n",
       "  'Reuters - Private investment firm Carlyle Group, which has a reputation for making well-timed and occasionally controversial plays in the defense industry, has quietly placed its bets on another part of the market.',\n",
       "  'Reuters - Soaring crude prices plus worries about the economy and the outlook for earnings are expected to hang over the stock market next week during the depth of the summer doldrums.',\n",
       "  'Reuters - Authorities have halted oil export flows from the main pipeline in southern Iraq after intelligence showed a rebel militia could strike infrastructure, an oil official said on Saturday.'])"
      ]
     },
     "execution_count": 7,
     "metadata": {},
     "output_type": "execute_result"
    }
   ],
   "source": [
    "batch = datasets['train'][:4]\n",
    "labels, descriptions = batch['topic'], batch['news']\n",
    "labels, descriptions"
   ]
  },
  {
   "cell_type": "markdown",
   "metadata": {
    "id": "c20834dc"
   },
   "source": [
    "## 15.5 Tokenization\n",
    "\n",
    "![](https://raw.githubusercontent.com/dvgodoy/assets/main/PyTorchInPractice/images/ch0/data_step3.png)"
   ]
  },
  {
   "cell_type": "code",
   "execution_count": 8,
   "metadata": {},
   "outputs": [
    {
     "data": {
      "text/plain": [
       "['Reuters',\n",
       " '-',\n",
       " 'Short-sellers,',\n",
       " 'Wall',\n",
       " \"Street's\",\n",
       " 'dwindling',\n",
       " 'band',\n",
       " 'of',\n",
       " 'ultra-cynics,',\n",
       " 'are',\n",
       " 'seeing',\n",
       " 'green',\n",
       " 'again.']"
      ]
     },
     "execution_count": 8,
     "metadata": {},
     "output_type": "execute_result"
    }
   ],
   "source": [
    "tokens = descriptions[0].split()\n",
    "tokens"
   ]
  },
  {
   "cell_type": "code",
   "execution_count": 9,
   "metadata": {},
   "outputs": [
    {
     "data": {
      "text/plain": [
       "['reuters',\n",
       " 'short',\n",
       " 'sellers',\n",
       " 'wall',\n",
       " 'street',\n",
       " 'dwindling',\n",
       " 'band',\n",
       " 'of',\n",
       " 'ultra',\n",
       " 'cynics',\n",
       " 'are',\n",
       " 'seeing',\n",
       " 'green',\n",
       " 'again']"
      ]
     },
     "execution_count": 9,
     "metadata": {},
     "output_type": "execute_result"
    }
   ],
   "source": [
    "from gensim.utils import simple_preprocess\n",
    "tokens = simple_preprocess(descriptions[0])\n",
    "tokens"
   ]
  },
  {
   "cell_type": "code",
   "execution_count": 10,
   "metadata": {},
   "outputs": [
    {
     "name": "stderr",
     "output_type": "stream",
     "text": [
      "/home/dvgodoy/anaconda3/envs/pyt20/lib/python3.9/site-packages/transformers/tokenization_utils_base.py:1601: FutureWarning: `clean_up_tokenization_spaces` was not set. It will be set to `True` by default. This behavior will be depracted in transformers v4.45, and will be then set to `False` by default. For more details check this issue: https://github.com/huggingface/transformers/issues/31884\n",
      "  warnings.warn(\n"
     ]
    },
    {
     "data": {
      "text/plain": [
       "<tokenizers.Tokenizer at 0x7f408895f430>"
      ]
     },
     "execution_count": 10,
     "metadata": {},
     "output_type": "execute_result"
    }
   ],
   "source": [
    "from transformers import AutoTokenizer\n",
    "\n",
    "tokenizer = AutoTokenizer.from_pretrained(\"bert-base-uncased\")\n",
    "\n",
    "tok_obj = tokenizer.backend_tokenizer\n",
    "tok_obj"
   ]
  },
  {
   "cell_type": "code",
   "execution_count": 11,
   "metadata": {},
   "outputs": [
    {
     "data": {
      "text/plain": [
       "(True, True, None)"
      ]
     },
     "execution_count": 11,
     "metadata": {},
     "output_type": "execute_result"
    }
   ],
   "source": [
    "normalizer = tok_obj.normalizer\n",
    "normalizer.lowercase, normalizer.clean_text, normalizer.strip_accents"
   ]
  },
  {
   "cell_type": "code",
   "execution_count": 12,
   "metadata": {},
   "outputs": [
    {
     "data": {
      "text/plain": [
       "\"reuters - short-sellers, wall street's dwindling band of ultra-cynics, are seeing green again.\""
      ]
     },
     "execution_count": 12,
     "metadata": {},
     "output_type": "execute_result"
    }
   ],
   "source": [
    "normalized = normalizer.normalize_str(descriptions[0])\n",
    "normalized"
   ]
  },
  {
   "cell_type": "code",
   "execution_count": 13,
   "metadata": {},
   "outputs": [
    {
     "data": {
      "text/plain": [
       "[('reuters', (0, 7)),\n",
       " ('-', (8, 9)),\n",
       " ('short', (10, 15)),\n",
       " ('-', (15, 16)),\n",
       " ('sellers', (16, 23)),\n",
       " (',', (23, 24)),\n",
       " ('wall', (25, 29)),\n",
       " ('street', (30, 36)),\n",
       " (\"'\", (36, 37)),\n",
       " ('s', (37, 38)),\n",
       " ('dwindling', (39, 48)),\n",
       " ('band', (49, 53)),\n",
       " ('of', (54, 56)),\n",
       " ('ultra', (57, 62)),\n",
       " ('-', (62, 63)),\n",
       " ('cynics', (63, 69)),\n",
       " (',', (69, 70)),\n",
       " ('are', (71, 74)),\n",
       " ('seeing', (75, 81)),\n",
       " ('green', (82, 87)),\n",
       " ('again', (88, 93)),\n",
       " ('.', (93, 94))]"
      ]
     },
     "execution_count": 13,
     "metadata": {},
     "output_type": "execute_result"
    }
   ],
   "source": [
    "pre_tokenizer = tok_obj.pre_tokenizer\n",
    "tokens = pre_tokenizer.pre_tokenize_str(normalized)\n",
    "tokens"
   ]
  },
  {
   "cell_type": "markdown",
   "metadata": {
    "id": "02890969"
   },
   "source": [
    "### 15.5.1 Vocabulary"
   ]
  },
  {
   "cell_type": "code",
   "execution_count": 14,
   "metadata": {},
   "outputs": [
    {
     "data": {
      "text/plain": [
       "{'exchequer': 28889,\n",
       " 'hoping': 5327,\n",
       " 'similarities': 12319,\n",
       " 'smoothed': 17966,\n",
       " 'organic': 7554,\n",
       " 'plantation': 10065,\n",
       " 'inaugural': 7725,\n",
       " 'vaguely': 15221,\n",
       " '40': 2871,\n",
       " '##lov': 14301,\n",
       " '##land': 3122,\n",
       " 'behavioral': 14260,\n",
       " 'sparsely': 24961,\n",
       " 'having': 2383,\n",
       " 'rays': 9938,\n",
       " 'spade': 23288,\n",
       " 'intricate': 17796,\n",
       " 'arrow': 8612,\n",
       " '##ographer': 26145,\n",
       " '1634': 28502,\n",
       " 'pixel': 22138,\n",
       " '##氏': 30417,\n",
       " 'aerodynamic': 28033,\n",
       " 'tko': 26537,\n",
       " 'awaited': 19605,\n",
       " 'wcw': 24215,\n",
       " '##っ': 30189,\n",
       " 'activation': 13791,\n",
       " '##hm': 14227,\n",
       " '1880': 6756,\n",
       " 'asset': 11412,\n",
       " 'whole': 2878,\n",
       " 'bruises': 18438,\n",
       " 'inspection': 10569,\n",
       " 'islamist': 27256,\n",
       " '⇒': 1591,\n",
       " 'toilets': 21674,\n",
       " 'belong': 7141,\n",
       " 'chet': 25157,\n",
       " 'shortly': 3859,\n",
       " '[unused252]': 257,\n",
       " 'quoting': 27394,\n",
       " '##not': 17048,\n",
       " 'thence': 23166,\n",
       " 'access': 3229,\n",
       " '##iciencies': 28227,\n",
       " 'rated': 6758,\n",
       " 'stove': 16247,\n",
       " 'proxy': 24540,\n",
       " 'especially': 2926,\n",
       " 'shaded': 25273,\n",
       " '##dro': 22196,\n",
       " 'marxism': 27255,\n",
       " 'dart': 14957,\n",
       " 'mitch': 11857,\n",
       " 'audition': 14597,\n",
       " 'per': 2566,\n",
       " '##ʀ': 29693,\n",
       " 'relations': 4262,\n",
       " 'petitioned': 22527,\n",
       " '##rse': 22573,\n",
       " 'shook': 3184,\n",
       " 'rodeo': 18936,\n",
       " '##tman': 22942,\n",
       " 'receptors': 13833,\n",
       " '[unused836]': 841,\n",
       " '231': 20304,\n",
       " '##eiro': 17166,\n",
       " 'gunther': 19384,\n",
       " 'understanding': 4824,\n",
       " 'minneapolis': 11334,\n",
       " 'comprised': 11539,\n",
       " 'verge': 16079,\n",
       " 'desirable': 16166,\n",
       " '##ars': 11650,\n",
       " 'knowing': 4209,\n",
       " 'recreational': 10517,\n",
       " 'stairs': 5108,\n",
       " 'extend': 7949,\n",
       " 'wicket': 12937,\n",
       " 'iowa': 5947,\n",
       " '[unused330]': 335,\n",
       " 'church': 2277,\n",
       " '##var': 10755,\n",
       " '1699': 28718,\n",
       " 'rainfall': 10101,\n",
       " 'riverside': 12497,\n",
       " 'nassau': 14646,\n",
       " 'iberian': 21988,\n",
       " '##bird': 9001,\n",
       " 'consecrated': 12299,\n",
       " 'specials': 19247,\n",
       " '##flow': 12314,\n",
       " '##lder': 16502,\n",
       " 'mutants': 23892,\n",
       " 'spiders': 14160,\n",
       " 'achilles': 23167,\n",
       " 'classmate': 23175,\n",
       " 'narrower': 22546,\n",
       " '部': 1960,\n",
       " 'indo': 11424,\n",
       " 'baltimore': 6222,\n",
       " 'sampson': 22041,\n",
       " 'straightened': 11168,\n",
       " 'behave': 16582,\n",
       " 'warrant': 10943,\n",
       " 'attacker': 17346,\n",
       " 'roasted': 28115,\n",
       " 'wave': 4400,\n",
       " 'retail': 7027,\n",
       " '##lite': 22779,\n",
       " '##imating': 22835,\n",
       " 'diner': 15736,\n",
       " '##ropolis': 23248,\n",
       " '##heads': 13038,\n",
       " 'harmless': 19741,\n",
       " 'boot': 9573,\n",
       " '310': 17196,\n",
       " '##ᅮ': 30014,\n",
       " '44': 4008,\n",
       " 'bed': 2793,\n",
       " 'wand': 23967,\n",
       " 'devastation': 25594,\n",
       " 'quiz': 19461,\n",
       " 'undrafted': 21347,\n",
       " 'frost': 10097,\n",
       " 'bhutan': 18768,\n",
       " 'populations': 7080,\n",
       " 'signs': 5751,\n",
       " '##jian': 27685,\n",
       " 'distinguished': 5182,\n",
       " '##shan': 9688,\n",
       " '##rna': 12789,\n",
       " 'lowland': 15234,\n",
       " '505': 28952,\n",
       " 'im': 10047,\n",
       " '##ining': 24002,\n",
       " 'frigates': 22833,\n",
       " 'predecessors': 16372,\n",
       " 'halves': 23672,\n",
       " 'tails': 17448,\n",
       " 'penis': 19085,\n",
       " 'regardless': 7539,\n",
       " '##eme': 21382,\n",
       " 'prescribed': 16250,\n",
       " 'cory': 18342,\n",
       " 'pounder': 20091,\n",
       " 'briefcase': 21793,\n",
       " '[unused675]': 680,\n",
       " '##ku': 5283,\n",
       " '##ask': 19895,\n",
       " 'shaking': 5513,\n",
       " 'leland': 27134,\n",
       " 'drown': 19549,\n",
       " '##powering': 23948,\n",
       " 'accelerated': 14613,\n",
       " 'transcribed': 26223,\n",
       " '##ausen': 25701,\n",
       " 'や': 1682,\n",
       " 'kit': 8934,\n",
       " 'farrell': 16248,\n",
       " 'rosalie': 29564,\n",
       " 'cavity': 17790,\n",
       " '##onia': 12488,\n",
       " 'morality': 16561,\n",
       " 'sung': 7042,\n",
       " 'shakes': 10854,\n",
       " '##drive': 23663,\n",
       " 'fragmented': 26872,\n",
       " 'thatcher': 21127,\n",
       " 'fidelity': 22625,\n",
       " 'albanian': 9408,\n",
       " 'mira': 18062,\n",
       " 'redhead': 26705,\n",
       " 'bold': 7782,\n",
       " '##taking': 17904,\n",
       " 'zombie': 11798,\n",
       " 'pairing': 22778,\n",
       " '##hurst': 10510,\n",
       " '##bian': 15599,\n",
       " '521': 26963,\n",
       " '##la': 2721,\n",
       " '##mania': 27010,\n",
       " 'upgrades': 18739,\n",
       " 'big': 2502,\n",
       " '##bourne': 11634,\n",
       " '##fe': 7959,\n",
       " 'anglican': 9437,\n",
       " 'salisbury': 13817,\n",
       " 'jen': 15419,\n",
       " 'detached': 12230,\n",
       " '●': 1619,\n",
       " 'stalked': 15858,\n",
       " '##opa': 29477,\n",
       " 'antibiotics': 24479,\n",
       " '130': 7558,\n",
       " 'improvised': 19641,\n",
       " 'tian': 23401,\n",
       " 'migrating': 28636,\n",
       " 'masculine': 14818,\n",
       " '##☆': 30148,\n",
       " 'reality': 4507,\n",
       " 'aachen': 29093,\n",
       " '1890': 6193,\n",
       " 'argues': 9251,\n",
       " '##berto': 21201,\n",
       " 'episode': 2792,\n",
       " 'haryana': 23261,\n",
       " 'sings': 10955,\n",
       " 'ー': 1739,\n",
       " '##ei': 7416,\n",
       " 'forewings': 13211,\n",
       " 'citrus': 20418,\n",
       " 'euroleague': 26093,\n",
       " '##>': 29631,\n",
       " 'janeiro': 11497,\n",
       " 'stadiums': 28244,\n",
       " 'youngest': 6587,\n",
       " 'inch': 4960,\n",
       " 'stifled': 27146,\n",
       " 'inuit': 25179,\n",
       " 'skeptical': 18386,\n",
       " 'artistic': 6018,\n",
       " 'suit': 4848,\n",
       " 'battery': 6046,\n",
       " '##tive': 6024,\n",
       " 'tam': 17214,\n",
       " 'nas': 17235,\n",
       " 'frankly': 19597,\n",
       " 'grasslands': 26183,\n",
       " '##bon': 11735,\n",
       " 'booth': 9065,\n",
       " 'puddle': 25081,\n",
       " 'rediscovered': 26733,\n",
       " 'ν': 1167,\n",
       " 'generosity': 26161,\n",
       " '弘': 1843,\n",
       " 'eye': 3239,\n",
       " 'lee': 3389,\n",
       " 'ion': 10163,\n",
       " 'narrowly': 11866,\n",
       " '##ddin': 18277,\n",
       " 'howling': 22298,\n",
       " 'quite': 3243,\n",
       " '##vac': 24887,\n",
       " 'everywhere': 7249,\n",
       " '##ffle': 18142,\n",
       " 'transplant': 22291,\n",
       " 'tits': 25671,\n",
       " 'picnic': 12695,\n",
       " 'fl': 13109,\n",
       " 'persona': 16115,\n",
       " 'gave': 2435,\n",
       " 'sore': 14699,\n",
       " 'squirrel': 18197,\n",
       " 'helplessly': 24942,\n",
       " 'nodes': 14164,\n",
       " 'trade': 3119,\n",
       " '⅓': 1581,\n",
       " 'zaragoza': 25744,\n",
       " '1800s': 19878,\n",
       " 'premiere': 6765,\n",
       " '田': 1911,\n",
       " '##illo': 10486,\n",
       " 'vein': 12818,\n",
       " 'collector': 10018,\n",
       " 'motive': 15793,\n",
       " 'visibility': 16476,\n",
       " 'diffusion': 19241,\n",
       " 'barrie': 24953,\n",
       " 'rosa': 9508,\n",
       " 'electrons': 15057,\n",
       " 'urging': 14328,\n",
       " 'shannon': 10881,\n",
       " 'recurring': 10694,\n",
       " '[unused975]': 980,\n",
       " 'dimensions': 9646,\n",
       " 'lottery': 15213,\n",
       " 'expert': 6739,\n",
       " 'solidarity': 14657,\n",
       " 'tristan': 9822,\n",
       " 'cho': 16480,\n",
       " 'irony': 19728,\n",
       " 'ricardo': 13559,\n",
       " 'relentless': 21660,\n",
       " 'sheath': 21867,\n",
       " 'eel': 24315,\n",
       " 'clarissa': 25260,\n",
       " 'campaigning': 18524,\n",
       " 'hague': 14575,\n",
       " 'vii': 8890,\n",
       " '##phate': 24556,\n",
       " '£10': 26812,\n",
       " '1984': 3118,\n",
       " 'instruction': 7899,\n",
       " 'mod': 16913,\n",
       " 'text': 3793,\n",
       " 'spine': 8560,\n",
       " '##une': 9816,\n",
       " 'utilizing': 16911,\n",
       " 'male': 3287,\n",
       " 'kingsley': 22819,\n",
       " 'convert': 10463,\n",
       " '[unused564]': 569,\n",
       " 'ponder': 29211,\n",
       " 'castle': 3317,\n",
       " '##rsa': 22381,\n",
       " '##ggs': 21314,\n",
       " '##dav': 29045,\n",
       " '[unused195]': 200,\n",
       " '[unused535]': 540,\n",
       " 'snapped': 5941,\n",
       " '##ध': 29862,\n",
       " 'growls': 27825,\n",
       " 'pts': 19637,\n",
       " 'blank': 8744,\n",
       " 'louis': 3434,\n",
       " 'probe': 15113,\n",
       " 'ambitious': 12479,\n",
       " 'eleventh': 11911,\n",
       " 'restaurant': 4825,\n",
       " 'crust': 19116,\n",
       " 'accompaniment': 22205,\n",
       " 'pods': 26723,\n",
       " '##mates': 15416,\n",
       " 'coined': 13279,\n",
       " 'sexy': 7916,\n",
       " 'jason': 4463,\n",
       " '##ough': 10593,\n",
       " 'parasite': 21198,\n",
       " '##mini': 25300,\n",
       " 'atmospheric': 12483,\n",
       " '##eron': 26534,\n",
       " 'appearing': 6037,\n",
       " 'leiden': 20329,\n",
       " 'tae': 22297,\n",
       " 'tainted': 26392,\n",
       " 'stuttgart': 13022,\n",
       " 'chrysler': 17714,\n",
       " 'thomson': 11161,\n",
       " 'admits': 14456,\n",
       " 'littered': 24777,\n",
       " '51st': 26017,\n",
       " 'pine': 7222,\n",
       " 'switch': 6942,\n",
       " 'clarinet': 12089,\n",
       " 'off': 2125,\n",
       " '艹': 1939,\n",
       " 'tore': 9538,\n",
       " 'trough': 23389,\n",
       " '[unused236]': 241,\n",
       " 'worshipped': 22876,\n",
       " 'cornice': 27848,\n",
       " 'trio': 7146,\n",
       " 'hunan': 27374,\n",
       " 'cereal': 20943,\n",
       " 'dorchester': 27252,\n",
       " '[unused385]': 390,\n",
       " '##suka': 26544,\n",
       " 'deported': 17929,\n",
       " '1906': 5518,\n",
       " '##ʊ': 29698,\n",
       " '##brand': 23544,\n",
       " 'ा': 1340,\n",
       " 'nonlinear': 27400,\n",
       " 'epidemic': 16311,\n",
       " 'advisers': 24205,\n",
       " '420': 17442,\n",
       " 'temperatures': 7715,\n",
       " 'hook': 8103,\n",
       " 'ranch': 8086,\n",
       " '[unused546]': 551,\n",
       " 'export': 9167,\n",
       " 'collarbone': 29600,\n",
       " 'cunningham': 13652,\n",
       " 'supporter': 10129,\n",
       " '[unused256]': 261,\n",
       " 'diego': 5277,\n",
       " 'swallowed': 7351,\n",
       " '##uma': 12248,\n",
       " '##dya': 25838,\n",
       " 'midtown': 27219,\n",
       " 'sanity': 20039,\n",
       " 'surely': 7543,\n",
       " 'ʾ': 1147,\n",
       " 'catching': 9105,\n",
       " 'gathers': 29438,\n",
       " 'plans': 3488,\n",
       " 'lima': 12967,\n",
       " 'soloists': 27516,\n",
       " 'creates': 9005,\n",
       " 'line': 2240,\n",
       " 'indicative': 24668,\n",
       " 'organizers': 18829,\n",
       " '##zz': 13213,\n",
       " 'bedrooms': 18390,\n",
       " 'featherweight': 27145,\n",
       " 'felt': 2371,\n",
       " '[unused592]': 597,\n",
       " 'honeymoon': 19227,\n",
       " 'bratislava': 22992,\n",
       " 'preach': 25250,\n",
       " '##emy': 26662,\n",
       " '##ene': 8625,\n",
       " 'hole': 4920,\n",
       " '345': 23785,\n",
       " 'feasibility': 24010,\n",
       " 'chelsea': 9295,\n",
       " 'winners': 4791,\n",
       " '##iv': 12848,\n",
       " 'gin': 18353,\n",
       " 'companions': 11946,\n",
       " 'delegation': 10656,\n",
       " '十': 1783,\n",
       " 'customer': 8013,\n",
       " '##rol': 13153,\n",
       " 'contexts': 18046,\n",
       " 'ellison': 21513,\n",
       " 'equivalent': 5662,\n",
       " 'endings': 21306,\n",
       " '-': 1011,\n",
       " 'mortally': 26495,\n",
       " 'detective': 6317,\n",
       " 'procedure': 7709,\n",
       " 'https': 16770,\n",
       " 'tx': 19067,\n",
       " 'casino': 9270,\n",
       " '##ied': 6340,\n",
       " '##uated': 16453,\n",
       " 'know': 2113,\n",
       " 'palazzo': 18482,\n",
       " 'grotesque': 27707,\n",
       " 'rains': 15811,\n",
       " 'jean': 3744,\n",
       " 'onward': 15834,\n",
       " 'neglect': 19046,\n",
       " 'ო': 1450,\n",
       " '##dock': 14647,\n",
       " 'threads': 16457,\n",
       " 'inconsistent': 20316,\n",
       " '##oor': 16506,\n",
       " 'marseille': 16766,\n",
       " '##encia': 27742,\n",
       " 'laughs': 11680,\n",
       " 'criterion': 19229,\n",
       " '##史': 30316,\n",
       " '##ange': 22043,\n",
       " 'wrong': 3308,\n",
       " 'markings': 13967,\n",
       " '##aus': 20559,\n",
       " 'evans': 6473,\n",
       " 'oxidation': 19577,\n",
       " 'math': 8785,\n",
       " '[unused370]': 375,\n",
       " 'instrumental': 6150,\n",
       " 'bea': 26892,\n",
       " 'huddersfield': 19715,\n",
       " '##ssing': 18965,\n",
       " 'attached': 4987,\n",
       " 'restore': 9239,\n",
       " 'crushed': 10560,\n",
       " 'airbus': 20901,\n",
       " '##buck': 24204,\n",
       " 'boats': 6242,\n",
       " 'pro': 4013,\n",
       " 'admiring': 24588,\n",
       " '##aer': 27867,\n",
       " 'il': 6335,\n",
       " 'illustrating': 28252,\n",
       " 'seville': 18983,\n",
       " 'retiring': 9150,\n",
       " 'impatiently': 19951,\n",
       " '##ᅥ': 30008,\n",
       " 'price': 3976,\n",
       " 'athlete': 8258,\n",
       " '##★': 30147,\n",
       " 'rivera': 14043,\n",
       " 'general': 2236,\n",
       " 'shaped': 5044,\n",
       " 'turbo': 15386,\n",
       " '##gle': 9354,\n",
       " '[unused499]': 504,\n",
       " 'throat': 3759,\n",
       " 'boris': 11235,\n",
       " 'writ': 25697,\n",
       " 'amplifiers': 28633,\n",
       " '##հ': 29775,\n",
       " 'smiles': 8451,\n",
       " 'maureen': 19167,\n",
       " '##民': 30418,\n",
       " 'apologized': 17806,\n",
       " 'upstairs': 8721,\n",
       " '##recht': 28109,\n",
       " 'treasury': 9837,\n",
       " 'saliva': 26308,\n",
       " 'relying': 18345,\n",
       " 'verona': 20197,\n",
       " '##nare': 26148,\n",
       " 'frs': 25188,\n",
       " '[unused198]': 203,\n",
       " '##ested': 17944,\n",
       " '##leton': 19263,\n",
       " 'mommy': 20565,\n",
       " '87': 6584,\n",
       " 'whispering': 13550,\n",
       " 'docked': 25727,\n",
       " 'approve': 14300,\n",
       " 'baroness': 21479,\n",
       " '[unused777]': 782,\n",
       " 'butler': 7055,\n",
       " 'exits': 16639,\n",
       " 'micah': 17665,\n",
       " 'liar': 16374,\n",
       " 'fireplace': 13788,\n",
       " '##tani': 17681,\n",
       " 'hoax': 28520,\n",
       " 'oxygen': 7722,\n",
       " 'hooded': 21592,\n",
       " 'flexed': 24244,\n",
       " 'hang': 6865,\n",
       " 'priced': 21125,\n",
       " 'roofed': 26080,\n",
       " 'friendship': 6860,\n",
       " '##tar': 7559,\n",
       " 'regression': 26237,\n",
       " 'once': 2320,\n",
       " '##ى': 29837,\n",
       " '樹': 1884,\n",
       " 'kickoff': 25233,\n",
       " '[unused307]': 312,\n",
       " '##iously': 19426,\n",
       " '##iology': 20569,\n",
       " 'seven': 2698,\n",
       " '##pore': 26691,\n",
       " 'idol': 10282,\n",
       " 'mixtape': 18713,\n",
       " 'mountainous': 14897,\n",
       " 'twenties': 18946,\n",
       " 'torches': 24711,\n",
       " 'rubbing': 10137,\n",
       " '##ische': 13719,\n",
       " '##э': 29756,\n",
       " 'portraits': 9668,\n",
       " 'johnny': 5206,\n",
       " 'orbits': 20347,\n",
       " '##ing': 2075,\n",
       " 'slack': 19840,\n",
       " 'palm': 5340,\n",
       " '##works': 9316,\n",
       " '##gua': 19696,\n",
       " 'bruised': 18618,\n",
       " 'copyright': 9385,\n",
       " 'biographer': 17121,\n",
       " '[unused798]': 803,\n",
       " '1865': 6725,\n",
       " 'synthetic': 12553,\n",
       " '2nd': 3416,\n",
       " 'family': 2155,\n",
       " 'ש': 1266,\n",
       " 'candidacy': 17057,\n",
       " '[unused340]': 345,\n",
       " 'humiliation': 21171,\n",
       " 'ears': 5551,\n",
       " 'wales': 3575,\n",
       " 'hardy': 9532,\n",
       " 'admiralty': 14179,\n",
       " 'pity': 12063,\n",
       " '##eit': 20175,\n",
       " '##missive': 27876,\n",
       " '##hore': 16892,\n",
       " 'sweetly': 22557,\n",
       " 'ₗ': 1566,\n",
       " 'implementation': 7375,\n",
       " 'auditor': 20964,\n",
       " 'vibe': 21209,\n",
       " 'closeness': 28398,\n",
       " 'revelations': 22191,\n",
       " 'comments': 7928,\n",
       " 'kindly': 19045,\n",
       " 'straightening': 27508,\n",
       " 'ceo': 5766,\n",
       " 'calculation': 17208,\n",
       " 'shrug': 13409,\n",
       " 'yep': 15624,\n",
       " 'commanding': 7991,\n",
       " 'mughal': 17877,\n",
       " 'poppy': 19745,\n",
       " '##gre': 17603,\n",
       " 'component': 6922,\n",
       " 'trick': 7577,\n",
       " 'generations': 8213,\n",
       " 'ʼ': 1146,\n",
       " 'aug': 15476,\n",
       " 'leaves': 3727,\n",
       " 'penalties': 12408,\n",
       " 'palatinate': 18990,\n",
       " '##nation': 9323,\n",
       " 'praising': 15838,\n",
       " 'ngc': 27645,\n",
       " 'plates': 7766,\n",
       " 'benefited': 19727,\n",
       " '##eland': 25689,\n",
       " 'genetics': 14471,\n",
       " 'licking': 17033,\n",
       " '##tock': 17406,\n",
       " 'felony': 24648,\n",
       " '##grounds': 28951,\n",
       " 'on': 2006,\n",
       " '₩': 1573,\n",
       " '244': 24194,\n",
       " '##rera': 24068,\n",
       " 'wider': 7289,\n",
       " 'champions': 3966,\n",
       " 'metro': 6005,\n",
       " '##unce': 17457,\n",
       " 'regaining': 28657,\n",
       " '##nsor': 29577,\n",
       " '##sable': 19150,\n",
       " 'talk': 2831,\n",
       " 'cyril': 16049,\n",
       " 'dilemma': 21883,\n",
       " '37th': 23027,\n",
       " 'crypt': 19888,\n",
       " 'quadrant': 29371,\n",
       " '##ific': 18513,\n",
       " '##go': 3995,\n",
       " 'lamp': 10437,\n",
       " 'complications': 12763,\n",
       " '長': 1967,\n",
       " 'davenport': 16273,\n",
       " 'cooperative': 10791,\n",
       " 'finishing': 5131,\n",
       " 'fresco': 26991,\n",
       " 'maverick': 27187,\n",
       " 'bribes': 29117,\n",
       " '##¡': 29644,\n",
       " '##ng': 3070,\n",
       " '##imov': 25299,\n",
       " '[UNK]': 100,\n",
       " '##game': 16650,\n",
       " 'kazakh': 25907,\n",
       " 'loaded': 8209,\n",
       " 'drowning': 14759,\n",
       " 'antiquity': 16433,\n",
       " 'albeit': 12167,\n",
       " 'horn': 7109,\n",
       " 'forceful': 28552,\n",
       " '##urbed': 29595,\n",
       " 'hazardous': 17760,\n",
       " 'bop': 29432,\n",
       " '##lston': 21540,\n",
       " 'barnard': 22266,\n",
       " 'hangul': 19051,\n",
       " '永': 1896,\n",
       " 'mozart': 13177,\n",
       " 'blurted': 18751,\n",
       " 'deformation': 29130,\n",
       " '##ogen': 23924,\n",
       " '##building': 25820,\n",
       " 'kurdish': 15553,\n",
       " 'hawkins': 13835,\n",
       " 'petite': 20146,\n",
       " 'tossing': 15021,\n",
       " 'marianne': 19887,\n",
       " 'outfit': 11018,\n",
       " 'rubin': 20524,\n",
       " '##taken': 25310,\n",
       " 'cai': 29080,\n",
       " 'madly': 29179,\n",
       " '381': 29335,\n",
       " '##you': 29337,\n",
       " '##yu': 10513,\n",
       " '葉': 1943,\n",
       " '##uch': 10875,\n",
       " '##asia': 15396,\n",
       " 'flipping': 18497,\n",
       " 'rookie': 8305,\n",
       " 'makeshift': 19368,\n",
       " 'kamen': 22099,\n",
       " 'lashes': 16008,\n",
       " 'daniels': 13196,\n",
       " '##apes': 29040,\n",
       " 'lil': 13451,\n",
       " 'hong': 4291,\n",
       " 'consumption': 8381,\n",
       " '¹⁄₂': 18728,\n",
       " '##open': 26915,\n",
       " '##樹': 30410,\n",
       " 'stress': 6911,\n",
       " 'stuff': 4933,\n",
       " 'percussion': 6333,\n",
       " 'delivered': 5359,\n",
       " '##piece': 11198,\n",
       " 'cartridge': 15110,\n",
       " 'cheung': 22632,\n",
       " 'nebula': 25677,\n",
       " '##zbek': 28733,\n",
       " '451': 28161,\n",
       " 'independent': 2981,\n",
       " 'tugged': 10621,\n",
       " 'བ': 1431,\n",
       " 'closer': 3553,\n",
       " 'howe': 13358,\n",
       " 'nail': 13774,\n",
       " 'robotic': 20478,\n",
       " '##form': 14192,\n",
       " '##場': 30332,\n",
       " 'shine': 12342,\n",
       " '1638': 27497,\n",
       " '##岡': 30358,\n",
       " 'coding': 16861,\n",
       " 'damages': 12394,\n",
       " 'provoke': 27895,\n",
       " 'periodic': 15861,\n",
       " 'produce': 3965,\n",
       " '##八': 30297,\n",
       " 'canned': 27141,\n",
       " 'impromptu': 29213,\n",
       " '##事': 30277,\n",
       " '[unused608]': 613,\n",
       " 'highway': 3307,\n",
       " 'disbelief': 12537,\n",
       " 'programs': 3454,\n",
       " 'activism': 16841,\n",
       " 'slave': 6658,\n",
       " 'hines': 25445,\n",
       " 'kawasaki': 27324,\n",
       " 'regime': 6939,\n",
       " 'formed': 2719,\n",
       " 'usaf': 18531,\n",
       " 'nad': 23233,\n",
       " '元': 1769,\n",
       " 'strolled': 20354,\n",
       " 'billboard': 4908,\n",
       " '1960': 3624,\n",
       " 'excavation': 16456,\n",
       " 'resumed': 7943,\n",
       " 'snowfall': 26043,\n",
       " 'agra': 29542,\n",
       " 'telescope': 12772,\n",
       " 'モ': 1727,\n",
       " '[unused987]': 992,\n",
       " 'colonel': 4327,\n",
       " '##copic': 26461,\n",
       " 'milne': 24377,\n",
       " 'somewhere': 4873,\n",
       " 'logos': 25571,\n",
       " 'crises': 25332,\n",
       " 'banker': 13448,\n",
       " 'script': 5896,\n",
       " '##keeping': 18321,\n",
       " 'impacted': 19209,\n",
       " 'assists': 8456,\n",
       " 'autobiography': 10828,\n",
       " 'ต': 1411,\n",
       " 'encompassing': 19129,\n",
       " 'dfb': 28894,\n",
       " '##-': 29624,\n",
       " 'macintosh': 22228,\n",
       " 'rainer': 28035,\n",
       " 'maine': 7081,\n",
       " 'tasked': 13487,\n",
       " 'robbie': 12289,\n",
       " 'recommend': 16755,\n",
       " 'monkeys': 17059,\n",
       " 'vineyard': 18621,\n",
       " 'defeats': 14222,\n",
       " 'baseline': 26163,\n",
       " 'pumps': 15856,\n",
       " 'erwin': 22209,\n",
       " 'fearless': 22518,\n",
       " 'sanctuary': 8493,\n",
       " '[unused601]': 606,\n",
       " '##graphy': 12565,\n",
       " '##shin': 17426,\n",
       " 'idle': 18373,\n",
       " 'roofs': 15753,\n",
       " '##ady': 18632,\n",
       " 'bk': 23923,\n",
       " 'gust': 26903,\n",
       " 'sydney': 3994,\n",
       " 'silvio': 28107,\n",
       " 'ash': 6683,\n",
       " 'limiting': 14879,\n",
       " 'england': 2563,\n",
       " '##sch': 11624,\n",
       " 'patrol': 6477,\n",
       " '##xi': 9048,\n",
       " 'teammate': 10809,\n",
       " '##風': 30503,\n",
       " 'folks': 12455,\n",
       " 'insults': 23862,\n",
       " 'blasted': 18461,\n",
       " '##rey': 15202,\n",
       " 'characterised': 17253,\n",
       " '215': 17405,\n",
       " 'newman': 10625,\n",
       " 'lord': 2935,\n",
       " 'tempo': 13657,\n",
       " '##lly': 9215,\n",
       " 'nationalist': 8986,\n",
       " 'bonn': 19349,\n",
       " 'terri': 26568,\n",
       " 'bangs': 28490,\n",
       " 'piracy': 24386,\n",
       " 'slightly': 3621,\n",
       " '52': 4720,\n",
       " '132': 14078,\n",
       " '134': 15170,\n",
       " 'newer': 10947,\n",
       " '##dina': 18979,\n",
       " 'therapeutic': 17261,\n",
       " 'replaced': 2999,\n",
       " '##wana': 21761,\n",
       " 'respect': 4847,\n",
       " 'marine': 3884,\n",
       " '##ast': 14083,\n",
       " 'darted': 14051,\n",
       " 'innovation': 8144,\n",
       " 'च': 1318,\n",
       " 'vp': 21210,\n",
       " '##з': 29744,\n",
       " 'cardinals': 9310,\n",
       " '##uss': 17854,\n",
       " 'palms': 9486,\n",
       " '##chfield': 22693,\n",
       " '##lea': 19738,\n",
       " '640': 19714,\n",
       " 'brahms': 28419,\n",
       " '[unused617]': 622,\n",
       " '¾': 1093,\n",
       " 'formations': 13197,\n",
       " 'balls': 7395,\n",
       " 'manners': 14632,\n",
       " '##lon': 7811,\n",
       " 'hiatus': 14221,\n",
       " 'hal': 11085,\n",
       " 'mouthed': 20521,\n",
       " 'racist': 16939,\n",
       " 'deportivo': 23696,\n",
       " 'ᅡ': 1470,\n",
       " 'conde': 24707,\n",
       " 'urgently': 25478,\n",
       " '[unused839]': 844,\n",
       " 'crusade': 16282,\n",
       " 'prediction': 17547,\n",
       " '##vus': 27500,\n",
       " '##章': 30458,\n",
       " '##imeter': 19198,\n",
       " 'sprint': 9043,\n",
       " '##val': 10175,\n",
       " 'external': 6327,\n",
       " 'praises': 27128,\n",
       " 'decrease': 9885,\n",
       " '1730': 23272,\n",
       " 'memories': 5758,\n",
       " '##ш': 29753,\n",
       " 'reaper': 19559,\n",
       " '##մ': 29776,\n",
       " 'disappearing': 14489,\n",
       " '##ович': 16198,\n",
       " 'gear': 6718,\n",
       " '##vio': 25500,\n",
       " 'rockies': 22366,\n",
       " 'higher': 3020,\n",
       " 'intake': 13822,\n",
       " 'archipelago': 13888,\n",
       " 'shores': 13312,\n",
       " 'gilles': 21717,\n",
       " 'donnell': 18016,\n",
       " 'ached': 15043,\n",
       " 'cerro': 25498,\n",
       " 'regulation': 7816,\n",
       " '##し': 30183,\n",
       " 'glass': 3221,\n",
       " 'snarl': 24845,\n",
       " '##dion': 29573,\n",
       " 'breach': 12510,\n",
       " '##color': 18717,\n",
       " '##kha': 15256,\n",
       " 'occurrences': 27247,\n",
       " '##odle': 26156,\n",
       " 'liquids': 26820,\n",
       " '[unused172]': 177,\n",
       " 'swirled': 19171,\n",
       " 'worse': 4788,\n",
       " 'earthquake': 8372,\n",
       " 'snatched': 14177,\n",
       " '##llation': 20382,\n",
       " 'patterson': 12424,\n",
       " '[unused258]': 263,\n",
       " 'hostess': 22566,\n",
       " 'restraining': 28285,\n",
       " 'client': 7396,\n",
       " 'briggs': 15487,\n",
       " '1843': 10075,\n",
       " 'martini': 24480,\n",
       " '[unused625]': 630,\n",
       " 'timmy': 27217,\n",
       " 'nikolai': 13870,\n",
       " 'receipts': 28258,\n",
       " '##gar': 6843,\n",
       " 'eat': 4521,\n",
       " 'foothills': 18455,\n",
       " '##uate': 20598,\n",
       " 'carrot': 25659,\n",
       " 'disturb': 22995,\n",
       " '##vs': 15088,\n",
       " 'functioned': 20903,\n",
       " 'telephone': 7026,\n",
       " 'index': 5950,\n",
       " 'revoked': 22837,\n",
       " 'accepting': 10564,\n",
       " '##ops': 11923,\n",
       " 'cooperation': 6792,\n",
       " 'refugee': 13141,\n",
       " '##rgy': 22637,\n",
       " 'remy': 22712,\n",
       " 'sitting': 3564,\n",
       " 'fitting': 11414,\n",
       " 'ape': 23957,\n",
       " '##rle': 20927,\n",
       " 'vicky': 22845,\n",
       " 'fascism': 23779,\n",
       " '##case': 18382,\n",
       " 'wingspan': 9635,\n",
       " 'mock': 12934,\n",
       " 'secret': 3595,\n",
       " '##straße': 24967,\n",
       " 'intellectuals': 17412,\n",
       " 'yamamoto': 28318,\n",
       " 'alloys': 28655,\n",
       " 'leinster': 15684,\n",
       " 'wentworth': 20572,\n",
       " 'guaranteed': 12361,\n",
       " 'relationship': 3276,\n",
       " '##sford': 17658,\n",
       " 'consecration': 24730,\n",
       " 'reorganisation': 24934,\n",
       " 'sonia': 16244,\n",
       " '##tish': 24788,\n",
       " '##oes': 22504,\n",
       " 'proponents': 20401,\n",
       " '##wyn': 11761,\n",
       " 'manson': 21440,\n",
       " 'bowler': 14999,\n",
       " '##vich': 12933,\n",
       " 'rotation': 9963,\n",
       " '##izer': 17629,\n",
       " 'comets': 27138,\n",
       " 'vaughn': 18220,\n",
       " 'esteem': 19593,\n",
       " 'seton': 28796,\n",
       " 'announced': 2623,\n",
       " 'certificate': 8196,\n",
       " '##pper': 18620,\n",
       " '##tama': 28282,\n",
       " '##nberg': 11144,\n",
       " '##য': 29907,\n",
       " 'performance': 2836,\n",
       " '##kali': 28613,\n",
       " 'weren': 4694,\n",
       " 'snatch': 23365,\n",
       " 'entrance': 4211,\n",
       " 'convened': 19596,\n",
       " '1804': 13140,\n",
       " 'users': 5198,\n",
       " '##oss': 15094,\n",
       " 'vijay': 17027,\n",
       " 'monitored': 17785,\n",
       " 'parchment': 22433,\n",
       " 'vendor': 21431,\n",
       " '##lifting': 26644,\n",
       " 'download': 8816,\n",
       " 'lawn': 10168,\n",
       " 'youth': 3360,\n",
       " '320': 13710,\n",
       " 'africa': 3088,\n",
       " '##ა': 29974,\n",
       " 'fundraising': 15524,\n",
       " 'conversations': 11450,\n",
       " 'arrays': 27448,\n",
       " 'base': 2918,\n",
       " 'radial': 15255,\n",
       " '##ssee': 29522,\n",
       " 'greene': 11006,\n",
       " 'gardens': 5822,\n",
       " '##ms': 5244,\n",
       " '[unused886]': 891,\n",
       " 'cabins': 20321,\n",
       " 'terrain': 9291,\n",
       " '##yard': 14132,\n",
       " '##cede': 22119,\n",
       " 'younger': 3920,\n",
       " 'goaltender': 21437,\n",
       " 'fours': 23817,\n",
       " 'domingo': 15586,\n",
       " 'suffix': 16809,\n",
       " 'ד': 1244,\n",
       " 'dora': 21008,\n",
       " ...}"
      ]
     },
     "execution_count": 14,
     "metadata": {},
     "output_type": "execute_result"
    }
   ],
   "source": [
    "vocab = tok_obj.get_vocab()\n",
    "vocab"
   ]
  },
  {
   "cell_type": "code",
   "execution_count": 15,
   "metadata": {},
   "outputs": [
    {
     "ename": "KeyError",
     "evalue": "'dwindling'",
     "output_type": "error",
     "traceback": [
      "\u001b[0;31m---------------------------------------------------------------------------\u001b[0m",
      "\u001b[0;31mKeyError\u001b[0m                                  Traceback (most recent call last)",
      "Cell \u001b[0;32mIn[15], line 1\u001b[0m\n\u001b[0;32m----> 1\u001b[0m \u001b[43mvocab\u001b[49m\u001b[43m[\u001b[49m\u001b[38;5;124;43m'\u001b[39;49m\u001b[38;5;124;43mdwindling\u001b[39;49m\u001b[38;5;124;43m'\u001b[39;49m\u001b[43m]\u001b[49m\n",
      "\u001b[0;31mKeyError\u001b[0m: 'dwindling'"
     ]
    }
   ],
   "source": [
    "vocab['dwindling']"
   ]
  },
  {
   "cell_type": "code",
   "execution_count": 16,
   "metadata": {},
   "outputs": [
    {
     "data": {
      "text/plain": [
       "30522"
      ]
     },
     "execution_count": 16,
     "metadata": {},
     "output_type": "execute_result"
    }
   ],
   "source": [
    "tok_obj.get_vocab_size()"
   ]
  },
  {
   "cell_type": "markdown",
   "metadata": {},
   "source": [
    "### 15.5.2 Tokenizer's Model"
   ]
  },
  {
   "cell_type": "code",
   "execution_count": 17,
   "metadata": {},
   "outputs": [
    {
     "data": {
      "text/plain": [
       "<tokenizers.models.WordPiece at 0x7f3fe7d138b0>"
      ]
     },
     "execution_count": 17,
     "metadata": {},
     "output_type": "execute_result"
    }
   ],
   "source": [
    "tok_obj.model"
   ]
  },
  {
   "cell_type": "code",
   "execution_count": 18,
   "metadata": {},
   "outputs": [
    {
     "name": "stdout",
     "output_type": "stream",
     "text": [
      "['reuters', '-', 'short', '-', 'sellers', ',', 'wall', 'street', \"'\", 's', 'dwindling', 'band', 'of', 'ultra', '-', 'cynics', ',', 'are', 'seeing', 'green', 'again', '.']\n",
      "[26665, 1011, 2460, 1011, 19041, 1010, 2813, 2395, 1005, 1055, None, 2316, 1997, 11087, 1011, None, 1010, 2024, 3773, 2665, 2153, 1012]\n"
     ]
    }
   ],
   "source": [
    "tokens_only = [token[0] for token in tokens]\n",
    "token_ids = [tok_obj.model.token_to_id(token) for token in tokens_only]\n",
    "print(tokens_only)\n",
    "print(token_ids)"
   ]
  },
  {
   "cell_type": "code",
   "execution_count": 19,
   "metadata": {},
   "outputs": [
    {
     "data": {
      "text/plain": [
       "(10, 'dwindling')"
      ]
     },
     "execution_count": 19,
     "metadata": {},
     "output_type": "execute_result"
    }
   ],
   "source": [
    "missing_id = token_ids.index(None)\n",
    "missing_token = tokens_only[missing_id]\n",
    "missing_id, missing_token"
   ]
  },
  {
   "cell_type": "code",
   "execution_count": 20,
   "metadata": {},
   "outputs": [
    {
     "data": {
      "text/plain": [
       "[(1040, 'd', (0, 1)), (11101, '##wind', (1, 5)), (2989, '##ling', (5, 9))]"
      ]
     },
     "execution_count": 20,
     "metadata": {},
     "output_type": "execute_result"
    }
   ],
   "source": [
    "tokenized_word = tok_obj.model.tokenize(missing_token)\n",
    "[piece.as_tuple() for piece in tokenized_word]"
   ]
  },
  {
   "cell_type": "code",
   "execution_count": 21,
   "metadata": {},
   "outputs": [
    {
     "name": "stdout",
     "output_type": "stream",
     "text": [
      "['reuters', '-', 'short', '-', 'sellers', ',', 'wall', 'street', \"'\", 's', 'd', '##wind', '##ling', 'band', 'of', 'ultra', '-', 'cy', '##nic', '##s', ',', 'are', 'seeing', 'green', 'again', '.']\n",
      "[26665, 1011, 2460, 1011, 19041, 1010, 2813, 2395, 1005, 1055, 1040, 11101, 2989, 2316, 1997, 11087, 1011, 22330, 8713, 2015, 1010, 2024, 3773, 2665, 2153, 1012]\n"
     ]
    }
   ],
   "source": [
    "encoded = tok_obj.encode(descriptions[0], add_special_tokens=False)\n",
    "print(encoded.tokens)\n",
    "print(encoded.ids)"
   ]
  },
  {
   "cell_type": "markdown",
   "metadata": {
    "id": "296731d1"
   },
   "source": [
    "### 15.5.3 Special Tokens"
   ]
  },
  {
   "cell_type": "code",
   "execution_count": 22,
   "metadata": {},
   "outputs": [
    {
     "name": "stdout",
     "output_type": "stream",
     "text": [
      "['[CLS]', 'reuters', '-', 'short', '-', 'sellers', ',', 'wall', 'street', \"'\", 's', 'd', '##wind', '##ling', 'band', 'of', 'ultra', '-', 'cy', '##nic', '##s', ',', 'are', 'seeing', 'green', 'again', '.', '[SEP]']\n"
     ]
    }
   ],
   "source": [
    "post_processor = tok_obj.post_processor\n",
    "post_encoded = post_processor.process(encoded)\n",
    "print(post_encoded.tokens)"
   ]
  },
  {
   "cell_type": "code",
   "execution_count": 23,
   "metadata": {},
   "outputs": [
    {
     "name": "stdout",
     "output_type": "stream",
     "text": [
      "['[CLS]', 'reuters', '-', 'short', '-', 'sellers', ',', 'wall', 'street', \"'\", 's', 'd', '##wind', '##ling', 'band', 'of', 'ultra', '-', 'cy', '##nic', '##s', ',', 'are', 'seeing', 'green', 'again', '.', '[SEP]']\n"
     ]
    }
   ],
   "source": [
    "print(tok_obj.encode(descriptions[0]).tokens)"
   ]
  },
  {
   "cell_type": "markdown",
   "metadata": {
    "id": "deeb46f0"
   },
   "source": [
    "#### 15.5.3.1 `[CLS]`: Classification Token"
   ]
  },
  {
   "cell_type": "code",
   "execution_count": 24,
   "metadata": {},
   "outputs": [
    {
     "data": {
      "text/plain": [
       "('[CLS]', 101)"
      ]
     },
     "execution_count": 24,
     "metadata": {},
     "output_type": "execute_result"
    }
   ],
   "source": [
    "tokenizer.cls_token, tokenizer.cls_token_id"
   ]
  },
  {
   "cell_type": "markdown",
   "metadata": {
    "id": "8fb5ea5b"
   },
   "source": [
    "#### 15.5.3.2 `[SEP]`: Separation Token"
   ]
  },
  {
   "cell_type": "code",
   "execution_count": 25,
   "metadata": {},
   "outputs": [
    {
     "data": {
      "text/plain": [
       "('[SEP]', 102)"
      ]
     },
     "execution_count": 25,
     "metadata": {},
     "output_type": "execute_result"
    }
   ],
   "source": [
    "tokenizer.sep_token, tokenizer.sep_token_id"
   ]
  },
  {
   "cell_type": "code",
   "execution_count": 26,
   "metadata": {},
   "outputs": [
    {
     "name": "stdout",
     "output_type": "stream",
     "text": [
      "['[CLS]', 'reuters', '-', 'short', '-', 'sellers', ',', 'wall', 'street', \"'\", 's', 'd', '##wind', '##ling', 'band', 'of', 'ultra', '-', 'cy', '##nic', '##s', ',', 'are', 'seeing', 'green', 'again', '.', '[SEP]', 'reuters', '-', 'private', 'investment', 'firm', 'carly', '##le', 'group', ',', 'which', 'has', 'a', 'reputation', 'for', 'making', 'well', '-', 'timed', 'and', 'occasionally', 'controversial', 'plays', 'in', 'the', 'defense', 'industry', ',', 'has', 'quietly', 'placed', 'its', 'bets', 'on', 'another', 'part', 'of', 'the', 'market', '.', '[SEP]']\n"
     ]
    }
   ],
   "source": [
    "print(tok_obj.encode(*descriptions[:2]).tokens)"
   ]
  },
  {
   "cell_type": "markdown",
   "metadata": {
    "id": "eedf8f81"
   },
   "source": [
    "#### 15.5.3.3 `[UNK]`: Unknown Token"
   ]
  },
  {
   "cell_type": "code",
   "execution_count": 27,
   "metadata": {
    "colab": {
     "base_uri": "https://localhost:8080/"
    },
    "id": "03e2c584",
    "outputId": "5246d723-301b-4aaa-eb7a-788f4236712a"
   },
   "outputs": [
    {
     "data": {
      "text/plain": [
       "('[UNK]', 100)"
      ]
     },
     "execution_count": 27,
     "metadata": {},
     "output_type": "execute_result"
    }
   ],
   "source": [
    "tokenizer.unk_token, tokenizer.unk_token_id"
   ]
  },
  {
   "cell_type": "markdown",
   "metadata": {
    "id": "e9dc0b2c"
   },
   "source": [
    "#### 15.5.3.4 `[PAD]`: Padding Token"
   ]
  },
  {
   "cell_type": "code",
   "execution_count": 28,
   "metadata": {},
   "outputs": [
    {
     "data": {
      "text/plain": [
       "('[PAD]', 0)"
      ]
     },
     "execution_count": 28,
     "metadata": {},
     "output_type": "execute_result"
    }
   ],
   "source": [
    "tokenizer.pad_token, tokenizer.pad_token_id"
   ]
  },
  {
   "cell_type": "code",
   "execution_count": 29,
   "metadata": {},
   "outputs": [
    {
     "data": {
      "text/plain": [
       "[28, 41, 38, 34]"
      ]
     },
     "execution_count": 29,
     "metadata": {},
     "output_type": "execute_result"
    }
   ],
   "source": [
    "[len(seq) for seq in tokenizer(descriptions)['input_ids']]"
   ]
  },
  {
   "cell_type": "code",
   "execution_count": 30,
   "metadata": {},
   "outputs": [
    {
     "data": {
      "text/plain": [
       "tensor([[  101, 26665,  1011,  2460,  1011, 19041,  1010,  2813,  2395,  1005,\n",
       "          1055,  1040, 11101,  2989,  2316,  1997, 11087,  1011, 22330,  8713,\n",
       "          2015,  1010,  2024,  3773,  2665,  2153,  1012,   102,     0,     0,\n",
       "             0,     0,     0,     0,     0,     0,     0,     0,     0,     0,\n",
       "             0],\n",
       "        [  101, 26665,  1011,  2797,  5211,  3813, 18431,  2571,  2177,  1010,\n",
       "          2029,  2038,  1037,  5891,  2005,  2437,  2092,  1011, 22313,  1998,\n",
       "          5681,  6801,  3248,  1999,  1996,  3639,  3068,  1010,  2038,  5168,\n",
       "          2872,  2049, 29475,  2006,  2178,  2112,  1997,  1996,  3006,  1012,\n",
       "           102],\n",
       "        [  101, 26665,  1011, 23990, 13587,  7597,  4606, 15508,  2055,  1996,\n",
       "          4610,  1998,  1996, 17680,  2005, 16565,  2024,  3517,  2000,  6865,\n",
       "          2058,  1996,  4518,  3006,  2279,  2733,  2076,  1996,  5995,  1997,\n",
       "          1996,  2621,  2079,  6392,  6824,  2015,  1012,   102,     0,     0,\n",
       "             0],\n",
       "        [  101, 26665,  1011,  4614,  2031, 12705,  3514,  9167,  6223,  2013,\n",
       "          1996,  2364, 13117,  1999,  2670,  5712,  2044,  4454,  3662,  1037,\n",
       "          8443,  8396,  2071,  4894,  6502,  1010,  2019,  3514,  2880,  2056,\n",
       "          2006,  5095,  1012,   102,     0,     0,     0,     0,     0,     0,\n",
       "             0]])"
      ]
     },
     "execution_count": 30,
     "metadata": {},
     "output_type": "execute_result"
    }
   ],
   "source": [
    "padded_token_ids = tokenizer(descriptions, padding=True, return_tensors='pt')['input_ids']\n",
    "padded_token_ids"
   ]
  },
  {
   "cell_type": "markdown",
   "metadata": {
    "id": "41c30064"
   },
   "source": [
    "### 15.5.4 Truncation"
   ]
  },
  {
   "cell_type": "code",
   "execution_count": 31,
   "metadata": {
    "id": "95e0ec0f"
   },
   "outputs": [
    {
     "data": {
      "text/plain": [
       "(510, 512)"
      ]
     },
     "execution_count": 31,
     "metadata": {},
     "output_type": "execute_result"
    }
   ],
   "source": [
    "tokenizer.max_len_single_sentence, tokenizer.model_max_length"
   ]
  },
  {
   "cell_type": "markdown",
   "metadata": {
    "id": "59092fde"
   },
   "source": [
    "## 15.6 Embeddings"
   ]
  },
  {
   "cell_type": "code",
   "execution_count": 32,
   "metadata": {
    "colab": {
     "base_uri": "https://localhost:8080/"
    },
    "id": "97f75748",
    "outputId": "58153604-36f7-4075-a558-e04dcf1aacaf"
   },
   "outputs": [
    {
     "data": {
      "text/plain": [
       "Embedding(30522, 50)"
      ]
     },
     "execution_count": 32,
     "metadata": {},
     "output_type": "execute_result"
    }
   ],
   "source": [
    "import torch.nn as nn\n",
    "\n",
    "emb_dims = 50\n",
    "embeddings = nn.Embedding(len(vocab), emb_dims)\n",
    "embeddings"
   ]
  },
  {
   "cell_type": "code",
   "execution_count": 33,
   "metadata": {
    "colab": {
     "base_uri": "https://localhost:8080/"
    },
    "id": "553745ac",
    "outputId": "eb6e49b4-c044-4f23-f6a0-ce544957b0a3"
   },
   "outputs": [
    {
     "data": {
      "text/plain": [
       "(tensor([26665]),\n",
       " tensor([[ 0.7852,  1.1387,  0.1653,  0.2548, -0.6308, -0.7297,  0.6510, -0.7459,\n",
       "           0.2181,  1.8420, -0.3047, -1.9223,  0.0369, -0.1154, -0.3422, -1.3286,\n",
       "          -0.1698,  1.4621,  0.5494,  1.5559,  0.4176,  1.3323,  1.8485, -1.5429,\n",
       "           1.0536, -0.7027, -0.7522,  0.6534, -2.2764, -0.2425, -0.5586, -0.4805,\n",
       "          -0.4237, -0.2305,  1.0381, -1.7203,  0.2204, -0.3051,  0.4059, -0.4032,\n",
       "           1.6566,  0.4455, -1.0343,  1.2464,  1.3887, -0.4467, -0.5867,  1.0211,\n",
       "           0.9035, -0.1101]], grad_fn=<EmbeddingBackward0>))"
      ]
     },
     "execution_count": 33,
     "metadata": {},
     "output_type": "execute_result"
    }
   ],
   "source": [
    "import torch\n",
    "\n",
    "idx = torch.as_tensor([vocab['reuters']])\n",
    "idx, embeddings(idx)"
   ]
  },
  {
   "cell_type": "code",
   "execution_count": 34,
   "metadata": {
    "colab": {
     "base_uri": "https://localhost:8080/"
    },
    "id": "24bd2513",
    "outputId": "31006559-8042-49ea-c32f-85599ce0ec7f"
   },
   "outputs": [
    {
     "data": {
      "text/plain": [
       "tensor([[ 0.7852,  1.1387,  0.1653,  0.2548, -0.6308, -0.7297,  0.6510, -0.7459,\n",
       "          0.2181,  1.8420, -0.3047, -1.9223,  0.0369, -0.1154, -0.3422, -1.3286,\n",
       "         -0.1698,  1.4621,  0.5494,  1.5559,  0.4176,  1.3323,  1.8485, -1.5429,\n",
       "          1.0536, -0.7027, -0.7522,  0.6534, -2.2764, -0.2425, -0.5586, -0.4805,\n",
       "         -0.4237, -0.2305,  1.0381, -1.7203,  0.2204, -0.3051,  0.4059, -0.4032,\n",
       "          1.6566,  0.4455, -1.0343,  1.2464,  1.3887, -0.4467, -0.5867,  1.0211,\n",
       "          0.9035, -0.1101]], grad_fn=<IndexBackward0>)"
      ]
     },
     "execution_count": 34,
     "metadata": {},
     "output_type": "execute_result"
    }
   ],
   "source": [
    "embeddings.weight[idx]"
   ]
  },
  {
   "cell_type": "markdown",
   "metadata": {
    "id": "3fd37adf"
   },
   "source": [
    "### 15.6.2 Embedding Arithmetic\n",
    "\n",
    "![](https://raw.githubusercontent.com/dvgodoy/assets/main/PyTorchInPractice/images/ch13/embed_arithmetic.png)"
   ]
  },
  {
   "cell_type": "markdown",
   "metadata": {
    "id": "a0da8bb0"
   },
   "source": [
    "![](https://raw.githubusercontent.com/dvgodoy/assets/main/PyTorchInPractice/images/ch13/synthetic_queen.png)"
   ]
  },
  {
   "cell_type": "markdown",
   "metadata": {
    "id": "2bee9d13"
   },
   "source": [
    "### 15.6.3 Global Vectors (GloVe)"
   ]
  },
  {
   "cell_type": "code",
   "execution_count": 35,
   "metadata": {},
   "outputs": [],
   "source": [
    "from gensim import downloader\n",
    "\n",
    "vec = downloader.load('glove-wiki-gigaword-50')"
   ]
  },
  {
   "cell_type": "code",
   "execution_count": 36,
   "metadata": {},
   "outputs": [
    {
     "data": {
      "text/plain": [
       "(array([[ 0.418   ,  0.24968 , -0.41242 , ..., -0.18411 , -0.11514 ,\n",
       "         -0.78581 ],\n",
       "        [ 0.013441,  0.23682 , -0.16899 , ..., -0.56657 ,  0.044691,\n",
       "          0.30392 ],\n",
       "        [ 0.15164 ,  0.30177 , -0.16763 , ..., -0.35652 ,  0.016413,\n",
       "          0.10216 ],\n",
       "        ...,\n",
       "        [-0.51181 ,  0.058706,  1.0913  , ..., -0.25003 , -1.125   ,\n",
       "          1.5863  ],\n",
       "        [-0.75898 , -0.47426 ,  0.4737  , ...,  0.78954 , -0.014116,\n",
       "          0.6448  ],\n",
       "        [ 0.072617, -0.51393 ,  0.4728  , ..., -0.18907 , -0.59021 ,\n",
       "          0.55559 ]], dtype=float32),\n",
       " (400000, 50))"
      ]
     },
     "execution_count": 36,
     "metadata": {},
     "output_type": "execute_result"
    }
   ],
   "source": [
    "vec.vectors, vec.vectors.shape"
   ]
  },
  {
   "cell_type": "code",
   "execution_count": 37,
   "metadata": {},
   "outputs": [
    {
     "data": {
      "text/plain": [
       "array([-0.13741  , -0.25495  ,  1.8853   ,  0.1476   ,  0.63859  ,\n",
       "       -0.67678  , -1.1622   , -0.21528  ,  0.2598   , -0.52879  ,\n",
       "        0.66678  , -0.76747  , -0.52731  ,  0.06657  ,  0.076613 ,\n",
       "        0.32743  , -0.80251  , -0.4955   , -0.37393  ,  0.11261  ,\n",
       "        1.1671   ,  1.1508   ,  0.61801  ,  0.079467 ,  0.1269   ,\n",
       "       -0.072447 , -1.2037   , -0.24622  , -0.77076  ,  0.76699  ,\n",
       "        1.2745   , -0.12898  ,  0.99892  , -0.26733  , -0.57542  ,\n",
       "       -1.0151   , -0.14278  , -0.43824  ,  0.76577  , -0.0087715,\n",
       "        1.2848   ,  0.0030819,  0.1186   , -0.38817  , -0.23516  ,\n",
       "       -0.92094  , -0.51644  ,  1.5083   ,  0.36456  ,  0.59912  ],\n",
       "      dtype=float32)"
      ]
     },
     "execution_count": 37,
     "metadata": {},
     "output_type": "execute_result"
    }
   ],
   "source": [
    "vec['reuters']"
   ]
  },
  {
   "cell_type": "code",
   "execution_count": 44,
   "metadata": {},
   "outputs": [
    {
     "data": {
      "text/plain": [
       "OrderedDict([('weight',\n",
       "              tensor([[ 0.4180,  0.2497, -0.4124,  ..., -0.1841, -0.1151, -0.7858],\n",
       "                      [ 0.0134,  0.2368, -0.1690,  ..., -0.5666,  0.0447,  0.3039],\n",
       "                      [ 0.1516,  0.3018, -0.1676,  ..., -0.3565,  0.0164,  0.1022],\n",
       "                      ...,\n",
       "                      [-0.5118,  0.0587,  1.0913,  ..., -0.2500, -1.1250,  1.5863],\n",
       "                      [-0.7590, -0.4743,  0.4737,  ...,  0.7895, -0.0141,  0.6448],\n",
       "                      [ 0.0726, -0.5139,  0.4728,  ..., -0.1891, -0.5902,  0.5556]]))])"
      ]
     },
     "execution_count": 44,
     "metadata": {},
     "output_type": "execute_result"
    }
   ],
   "source": [
    "import torch.nn as nn\n",
    "\n",
    "tensor_glove = torch.as_tensor(vec.vectors).float()\n",
    "embedding = nn.Embedding.from_pretrained(tensor_glove)\n",
    "embedding.state_dict()"
   ]
  },
  {
   "cell_type": "code",
   "execution_count": 45,
   "metadata": {},
   "outputs": [
    {
     "data": {
      "text/plain": [
       "(10851, 'reuters')"
      ]
     },
     "execution_count": 45,
     "metadata": {},
     "output_type": "execute_result"
    }
   ],
   "source": [
    "idx = vec.key_to_index['reuters']\n",
    "token = vec.index_to_key[idx]\n",
    "idx, token"
   ]
  },
  {
   "cell_type": "code",
   "execution_count": 46,
   "metadata": {},
   "outputs": [
    {
     "ename": "KeyError",
     "evalue": "'zzzzz'",
     "output_type": "error",
     "traceback": [
      "\u001b[0;31m---------------------------------------------------------------------------\u001b[0m",
      "\u001b[0;31mKeyError\u001b[0m                                  Traceback (most recent call last)",
      "Cell \u001b[0;32mIn[46], line 1\u001b[0m\n\u001b[0;32m----> 1\u001b[0m \u001b[43mvec\u001b[49m\u001b[38;5;241;43m.\u001b[39;49m\u001b[43mkey_to_index\u001b[49m\u001b[43m[\u001b[49m\u001b[38;5;124;43m'\u001b[39;49m\u001b[38;5;124;43mzzzzz\u001b[39;49m\u001b[38;5;124;43m'\u001b[39;49m\u001b[43m]\u001b[49m\n",
      "\u001b[0;31mKeyError\u001b[0m: 'zzzzz'"
     ]
    }
   ],
   "source": [
    "vec.key_to_index['zzzzz']"
   ]
  },
  {
   "cell_type": "code",
   "execution_count": 47,
   "metadata": {},
   "outputs": [],
   "source": [
    "def encode_str(key_to_index, tokens, unk_token=-1):\n",
    "    token_ids = [key_to_index.get(token, unk_token) for token in tokens]\n",
    "    return token_ids"
   ]
  },
  {
   "cell_type": "code",
   "execution_count": 48,
   "metadata": {},
   "outputs": [
    {
     "data": {
      "text/plain": [
       "[10851, -1]"
      ]
     },
     "execution_count": 48,
     "metadata": {},
     "output_type": "execute_result"
    }
   ],
   "source": [
    "some_ids = encode_str(vec.key_to_index, ['reuters', 'zzzzz'])\n",
    "some_ids"
   ]
  },
  {
   "cell_type": "code",
   "execution_count": 49,
   "metadata": {},
   "outputs": [],
   "source": [
    "def get_embeddings(embedding, token_ids):\n",
    "    valid_ids = torch.as_tensor([token_id for token_id in token_ids if token_id >= 0])\n",
    "    embedded_tokens = embedding(valid_ids)\n",
    "    return embedded_tokens"
   ]
  },
  {
   "cell_type": "code",
   "execution_count": 50,
   "metadata": {},
   "outputs": [
    {
     "data": {
      "text/plain": [
       "tensor([[-0.1374, -0.2549,  1.8853,  0.1476,  0.6386, -0.6768, -1.1622, -0.2153,\n",
       "          0.2598, -0.5288,  0.6668, -0.7675, -0.5273,  0.0666,  0.0766,  0.3274,\n",
       "         -0.8025, -0.4955, -0.3739,  0.1126,  1.1671,  1.1508,  0.6180,  0.0795,\n",
       "          0.1269, -0.0724, -1.2037, -0.2462, -0.7708,  0.7670,  1.2745, -0.1290,\n",
       "          0.9989, -0.2673, -0.5754, -1.0151, -0.1428, -0.4382,  0.7658, -0.0088,\n",
       "          1.2848,  0.0031,  0.1186, -0.3882, -0.2352, -0.9209, -0.5164,  1.5083,\n",
       "          0.3646,  0.5991]])"
      ]
     },
     "execution_count": 50,
     "metadata": {},
     "output_type": "execute_result"
    }
   ],
   "source": [
    "get_embeddings(embedding, some_ids)"
   ]
  },
  {
   "cell_type": "code",
   "execution_count": 51,
   "metadata": {},
   "outputs": [],
   "source": [
    "def func_builder(vec):\n",
    "    tensor_glove = torch.as_tensor(vec.vectors).float()\n",
    "    embedding = nn.Embedding.from_pretrained(tensor_glove)\n",
    "    \n",
    "    def get_vecs_by_tokens(tokens):\n",
    "        token_ids = encode_str(vec.key_to_index, tokens)        \n",
    "        embedded_tokens = get_embeddings(embedding, token_ids)\n",
    "        return embedded_tokens\n",
    "    \n",
    "    return get_vecs_by_tokens\n",
    "\n",
    "get_vecs_by_tokens = func_builder(vec)"
   ]
  },
  {
   "cell_type": "code",
   "execution_count": 52,
   "metadata": {},
   "outputs": [
    {
     "data": {
      "text/plain": [
       "['reuters',\n",
       " 'short',\n",
       " 'sellers',\n",
       " 'wall',\n",
       " 'street',\n",
       " 'dwindling',\n",
       " 'band',\n",
       " 'of',\n",
       " 'ultra',\n",
       " 'cynics',\n",
       " 'are',\n",
       " 'seeing',\n",
       " 'green',\n",
       " 'again']"
      ]
     },
     "execution_count": 52,
     "metadata": {},
     "output_type": "execute_result"
    }
   ],
   "source": [
    "from gensim.utils import simple_preprocess\n",
    "tokens = simple_preprocess(descriptions[0])\n",
    "tokens"
   ]
  },
  {
   "cell_type": "code",
   "execution_count": 53,
   "metadata": {},
   "outputs": [
    {
     "data": {
      "text/plain": [
       "torch.Size([14, 50])"
      ]
     },
     "execution_count": 53,
     "metadata": {},
     "output_type": "execute_result"
    }
   ],
   "source": [
    "embedded_tokens = get_vecs_by_tokens(tokens)\n",
    "embedded_tokens.shape"
   ]
  },
  {
   "cell_type": "markdown",
   "metadata": {
    "id": "9c5cd348"
   },
   "source": [
    "## 15.7 Vector Databases"
   ]
  },
  {
   "cell_type": "markdown",
   "metadata": {
    "id": "676af97f"
   },
   "source": [
    "### 15.7.1 ChromaDB"
   ]
  },
  {
   "cell_type": "code",
   "execution_count": 54,
   "metadata": {
    "id": "3efc931f"
   },
   "outputs": [],
   "source": [
    "import chromadb\n",
    "\n",
    "client = chromadb.PersistentClient(path=\"./agnews_db\")"
   ]
  },
  {
   "cell_type": "code",
   "execution_count": 55,
   "metadata": {
    "id": "6b2b4719"
   },
   "outputs": [],
   "source": [
    "collection = client.create_collection(\"agnews_collection\")"
   ]
  },
  {
   "cell_type": "markdown",
   "metadata": {
    "id": "2088f815"
   },
   "source": [
    "![](https://raw.githubusercontent.com/dvgodoy/assets/main/PyTorchInPractice/images/ch13/vector_db.png)"
   ]
  },
  {
   "cell_type": "code",
   "execution_count": 56,
   "metadata": {},
   "outputs": [],
   "source": [
    "def tokenize_batch(sentences, tokenizer=None):\n",
    "    if tokenizer is None:\n",
    "        tokenizer = simple_preprocess\n",
    "    \n",
    "    return [tokenizer(s) for s in sentences]\n",
    "\n",
    "def get_bag_of_embeddings(tokens):\n",
    "    embeddings = torch.cat([get_vecs_by_tokens(s).mean(axis=0).unsqueeze(0) for s in tokens], dim=0)\n",
    "    return embeddings"
   ]
  },
  {
   "cell_type": "code",
   "execution_count": 57,
   "metadata": {
    "id": "7b04a64d"
   },
   "outputs": [],
   "source": [
    "from torch.utils.data import DataLoader\n",
    "\n",
    "batch_size = 32\n",
    "unshuffled_dl = DataLoader(dataset=datasets['train'], batch_size=batch_size, shuffle=False)\n",
    "\n",
    "for i, batch in enumerate(unshuffled_dl):\n",
    "    labels, sentences = batch['topic'], batch['news']\n",
    "    tokens = tokenize_batch(sentences)\n",
    "    embeddings = get_bag_of_embeddings(tokens)\n",
    "    ids = [f'{i:06}' for i in np.arange(i*batch_size, i*batch_size+len(sentences))]\n",
    "\n",
    "    collection.add(embeddings=embeddings.tolist(),\n",
    "                   documents=sentences,\n",
    "                   metadatas=[{'label': v} for v in labels.tolist()],\n",
    "                   ids=ids)\n",
    "\n",
    "    if i == 300: # roughly 10k docs\n",
    "        break"
   ]
  },
  {
   "cell_type": "code",
   "execution_count": 58,
   "metadata": {
    "colab": {
     "base_uri": "https://localhost:8080/"
    },
    "id": "ffddd9cc",
    "outputId": "91d11039-ad3d-4985-fa03-e3f8e8862d52"
   },
   "outputs": [
    {
     "data": {
      "text/plain": [
       "9632"
      ]
     },
     "execution_count": 58,
     "metadata": {},
     "output_type": "execute_result"
    }
   ],
   "source": [
    "collection.count()"
   ]
  },
  {
   "cell_type": "markdown",
   "metadata": {
    "id": "b119f4b8"
   },
   "source": [
    "### 15.7.2 Similarity Search"
   ]
  },
  {
   "cell_type": "code",
   "execution_count": 59,
   "metadata": {
    "colab": {
     "base_uri": "https://localhost:8080/"
    },
    "id": "879e7f65",
    "outputId": "a8798a05-d614-47e4-87e6-8bbcb461db81"
   },
   "outputs": [
    {
     "data": {
      "text/plain": [
       "tensor([ 4.0827e-01,  7.9920e-02,  3.1115e-01,  1.8721e-01, -4.7369e-02,\n",
       "         3.3698e-01, -5.0617e-01, -3.6810e-02,  2.6068e-01, -1.2847e-01,\n",
       "         2.2948e-01, -5.9424e-02, -3.3787e-01,  2.9188e-02,  2.6071e-01,\n",
       "         2.0179e-01, -7.7526e-02,  3.3718e-01, -5.2526e-01, -2.7158e-01,\n",
       "         3.7156e-01, -1.0214e-01, -1.1645e-01, -2.9637e-01,  7.9672e-02,\n",
       "        -1.6904e+00, -4.1659e-02,  1.0523e-01,  2.8247e-01,  2.9835e-03,\n",
       "         3.0708e+00, -1.5180e-01, -1.4941e-01, -2.3085e-01,  2.1777e-01,\n",
       "        -4.0086e-02,  2.0281e-01,  8.9309e-02,  5.5554e-02,  2.6830e-02,\n",
       "        -2.9215e-01, -1.5104e-01,  2.6449e-01, -1.0034e-01,  1.4842e-01,\n",
       "         8.8036e-02, -2.3717e-01,  3.1029e-01,  1.2701e-02, -1.4513e-01])"
      ]
     },
     "execution_count": 59,
     "metadata": {},
     "output_type": "execute_result"
    }
   ],
   "source": [
    "query_sentence = 'The company running the Japanese nuclear plant hit by a fatal accident is to close its reactors for safety checks.'\n",
    "query_tokens = tokenize_batch([query_sentence])\n",
    "query_embeddings = get_bag_of_embeddings(query_tokens)[0]\n",
    "\n",
    "query_embeddings"
   ]
  },
  {
   "cell_type": "markdown",
   "metadata": {
    "id": "e557588c"
   },
   "source": [
    "![](https://raw.githubusercontent.com/dvgodoy/assets/main/PyTorchInPractice/images/ch13/query_db.png)"
   ]
  },
  {
   "cell_type": "code",
   "execution_count": 60,
   "metadata": {
    "colab": {
     "base_uri": "https://localhost:8080/"
    },
    "id": "1ae3e903",
    "outputId": "c1626a40-7542-4785-836c-3b6c9de2989e"
   },
   "outputs": [
    {
     "data": {
      "text/plain": [
       "{'ids': [['000030', '001046', '004715', '002464', '006905']],\n",
       " 'distances': [[0.0,\n",
       "   0.8038501739501953,\n",
       "   0.9175586104393005,\n",
       "   0.9644219875335693,\n",
       "   0.9812381267547607]],\n",
       " 'metadatas': [[{'label': 2},\n",
       "   {'label': 0},\n",
       "   {'label': 0},\n",
       "   {'label': 0},\n",
       "   {'label': 2}]],\n",
       " 'embeddings': None,\n",
       " 'documents': [['The company running the Japanese nuclear plant hit by a fatal accident is to close its reactors for safety checks.',\n",
       "   'AP - The operator of a nuclear power plant where a long-neglected cooling pipe burst and killed four workers last week said Monday that four other pipes at its reactors also went unchecked for years.',\n",
       "   'TOKYO The operators of a Japanese nuclear plant say there was no evidence of danger at the plant before a deadly explosion this month.',\n",
       "   'Reuters - No more Japanese nuclear reactors need to be closed for inspections, electric power companies said on Wednesday after submitting reports ordered by the government following a reactor accident that killed four workers last week.',\n",
       "   \"The company managing Rio Tinto iron ore's rail lines in the Pilbara, in north-west Western Australia, says equipment failure rather than human error is to blame for a major derailment last week.\"]],\n",
       " 'uris': None,\n",
       " 'data': None,\n",
       " 'included': ['metadatas', 'documents', 'distances']}"
      ]
     },
     "execution_count": 60,
     "metadata": {},
     "output_type": "execute_result"
    }
   ],
   "source": [
    "query_embeddings = query_embeddings.tolist()\n",
    "collection.query(query_embeddings=query_embeddings, n_results=5)"
   ]
  },
  {
   "cell_type": "code",
   "execution_count": 61,
   "metadata": {
    "id": "7ede4123"
   },
   "outputs": [],
   "source": [
    "query_sentence = 'asian stock market'\n",
    "query_tokens = tokenize_batch([query_sentence])\n",
    "query_embeddings = get_bag_of_embeddings(query_tokens)[0]\n",
    "query_embeddings = query_embeddings.tolist()"
   ]
  },
  {
   "cell_type": "code",
   "execution_count": 62,
   "metadata": {
    "colab": {
     "base_uri": "https://localhost:8080/"
    },
    "id": "9d245d3b",
    "outputId": "1eee1a06-8cad-420e-ac00-2c5e0e05252e"
   },
   "outputs": [
    {
     "data": {
      "text/plain": [
       "{'ids': [['007389', '006925', '004791', '007014', '006829']],\n",
       " 'distances': [[5.2573628425598145,\n",
       "   5.490711688995361,\n",
       "   5.643772125244141,\n",
       "   5.697542190551758,\n",
       "   5.810704231262207]],\n",
       " 'metadatas': [[{'label': 2},\n",
       "   {'label': 2},\n",
       "   {'label': 0},\n",
       "   {'label': 0},\n",
       "   {'label': 2}]],\n",
       " 'embeddings': None,\n",
       " 'documents': [['Asian stocks rose after oil prices fell from a record on Friday, easing concern higher energy costs will damp consumer spending and corporate profits.',\n",
       "   'Asian stocks advanced after oil prices fell from a record Friday in New York, easing concern higher energy costs will damp consumer spending and corporate profits.',\n",
       "   \"AP - Tokyo's main stock index ended lower Friday amid profit-taking of technology issues and concerns about soaring oil prices. The U.S. dollar was down against the Japanese yen.\",\n",
       "   'Japanese stocks rose after oil prices fell from a record in New York on Friday, easing concern higher energy costs will damp consumer spending and corporate profits.',\n",
       "   'Japanese stocks may rise after oil prices fell from a record in New York, easing concern higher energy costs will damp consumer spending and corporate profits.']],\n",
       " 'uris': None,\n",
       " 'data': None,\n",
       " 'included': ['metadatas', 'documents', 'distances']}"
      ]
     },
     "execution_count": 62,
     "metadata": {},
     "output_type": "execute_result"
    }
   ],
   "source": [
    "collection.query(query_embeddings=query_embeddings, n_results=5)"
   ]
  },
  {
   "cell_type": "markdown",
   "metadata": {
    "id": "1916f4f7"
   },
   "source": [
    "## 15.8 Zero-Shot Text Classification\n",
    "\n",
    "![](https://raw.githubusercontent.com/dvgodoy/assets/main/PyTorchInPractice/images/ch0/model_step5.png)"
   ]
  },
  {
   "cell_type": "code",
   "execution_count": 63,
   "metadata": {
    "colab": {
     "base_uri": "https://localhost:8080/"
    },
    "id": "ea70a16c",
    "outputId": "ec3b193e-8fde-49c5-c6b1-ddbb67e02bdb"
   },
   "outputs": [
    {
     "data": {
      "text/plain": [
       "torch.Size([4, 50])"
      ]
     },
     "execution_count": 63,
     "metadata": {},
     "output_type": "execute_result"
    }
   ],
   "source": [
    "cand_labels = [\"world\", \"sports\", \"business\", \"science and technology\"]\n",
    "\n",
    "cand_emb = torch.vstack([get_vecs_by_tokens(tokens).mean(axis=0) for tokens in tokenize_batch(cand_labels)])\n",
    "cand_emb.shape"
   ]
  },
  {
   "cell_type": "code",
   "execution_count": 64,
   "metadata": {
    "colab": {
     "base_uri": "https://localhost:8080/"
    },
    "id": "e73d28aa",
    "outputId": "d7558f4e-8164-4f1c-dcca-ce770617ab97"
   },
   "outputs": [
    {
     "data": {
      "text/plain": [
       "tensor([[1.0000, 0.6529, 0.6136, 0.6678],\n",
       "        [0.6529, 1.0000, 0.6410, 0.6171],\n",
       "        [0.6136, 0.6410, 1.0000, 0.8069],\n",
       "        [0.6678, 0.6171, 0.8069, 1.0000]])"
      ]
     },
     "execution_count": 64,
     "metadata": {},
     "output_type": "execute_result"
    }
   ],
   "source": [
    "cos = nn.CosineSimilarity(dim=2)\n",
    "\n",
    "cos(cand_emb.unsqueeze(1), cand_emb.unsqueeze(0))"
   ]
  },
  {
   "cell_type": "code",
   "execution_count": 65,
   "metadata": {},
   "outputs": [
    {
     "data": {
      "text/plain": [
       "tensor([[0.6534, 0.5361, 0.7945, 0.7030],\n",
       "        [0.7634, 0.6130, 0.7007, 0.7579],\n",
       "        [0.6658, 0.5156, 0.7244, 0.8548],\n",
       "        [0.7275, 0.5425, 0.6800, 0.7176],\n",
       "        [0.7058, 0.5120, 0.7004, 0.7567],\n",
       "        [0.7184, 0.5626, 0.7428, 0.7919],\n",
       "        [0.7056, 0.5410, 0.7269, 0.8026],\n",
       "        [0.6613, 0.5637, 0.7525, 0.8029],\n",
       "        [0.5893, 0.4821, 0.6439, 0.6403],\n",
       "        [0.7183, 0.5389, 0.7209, 0.7500],\n",
       "        [0.6883, 0.6081, 0.8330, 0.8441],\n",
       "        [0.6728, 0.6266, 0.8165, 0.8166],\n",
       "        [0.7453, 0.6166, 0.8239, 0.8035],\n",
       "        [0.7400, 0.4860, 0.6221, 0.7080],\n",
       "        [0.6582, 0.4579, 0.6692, 0.7232],\n",
       "        [0.6819, 0.4262, 0.6630, 0.7159],\n",
       "        [0.6154, 0.4228, 0.5796, 0.6999],\n",
       "        [0.7636, 0.5894, 0.7239, 0.8140],\n",
       "        [0.6990, 0.4981, 0.6911, 0.8043],\n",
       "        [0.6747, 0.4536, 0.7283, 0.6745],\n",
       "        [0.7615, 0.5422, 0.7594, 0.7675],\n",
       "        [0.6438, 0.5324, 0.7470, 0.7863],\n",
       "        [0.5911, 0.4596, 0.7293, 0.8482],\n",
       "        [0.7202, 0.5606, 0.7810, 0.7704],\n",
       "        [0.6610, 0.5386, 0.8161, 0.7544],\n",
       "        [0.7272, 0.5415, 0.7617, 0.8091],\n",
       "        [0.8396, 0.5678, 0.5800, 0.6891],\n",
       "        [0.6894, 0.5641, 0.6844, 0.7507],\n",
       "        [0.7033, 0.5307, 0.6915, 0.7208],\n",
       "        [0.6693, 0.5329, 0.6521, 0.6608],\n",
       "        [0.6276, 0.5180, 0.6498, 0.6811],\n",
       "        [0.6656, 0.5054, 0.5853, 0.6365]])"
      ]
     },
     "execution_count": 65,
     "metadata": {},
     "output_type": "execute_result"
    }
   ],
   "source": [
    "batch_size = 32\n",
    "dataloader = DataLoader(dataset=datasets['test'], batch_size=batch_size, shuffle=False)\n",
    "\n",
    "batch = next(iter(dataloader))\n",
    "labels, sentences = batch['topic'], batch['news']\n",
    "tokens = tokenize_batch(sentences)\n",
    "embeddings = get_bag_of_embeddings(tokens)\n",
    "similarities = cos(embeddings.unsqueeze(1), cand_emb.unsqueeze(0))\n",
    "similarities"
   ]
  },
  {
   "cell_type": "code",
   "execution_count": 66,
   "metadata": {
    "colab": {
     "base_uri": "https://localhost:8080/"
    },
    "id": "61450876",
    "outputId": "e4f05096-39dd-4161-a341-980922bd179b"
   },
   "outputs": [
    {
     "data": {
      "text/plain": [
       "tensor([2, 0, 3, 0, 3, 3, 3, 3, 2, 3, 3, 3, 2, 0, 3, 3, 3, 3, 3, 2, 3, 3, 3, 2,\n",
       "        2, 3, 0, 3, 3, 0, 3, 0])"
      ]
     },
     "execution_count": 66,
     "metadata": {},
     "output_type": "execute_result"
    }
   ],
   "source": [
    "predicted_class = similarities.argmax(dim=1)\n",
    "predicted_class"
   ]
  },
  {
   "cell_type": "code",
   "execution_count": 67,
   "metadata": {
    "colab": {
     "base_uri": "https://localhost:8080/"
    },
    "id": "e48b587d",
    "outputId": "beafad3b-0a1f-453c-d124-6394a521b262"
   },
   "outputs": [
    {
     "data": {
      "text/plain": [
       "tensor(0.5625)"
      ]
     },
     "execution_count": 67,
     "metadata": {},
     "output_type": "execute_result"
    }
   ],
   "source": [
    "(predicted_class == labels).float().mean()"
   ]
  },
  {
   "cell_type": "markdown",
   "metadata": {
    "id": "9707b1fb"
   },
   "source": [
    "### 15.8.1 Evaluation"
   ]
  },
  {
   "cell_type": "code",
   "execution_count": 68,
   "metadata": {
    "id": "6d70bcb1"
   },
   "outputs": [],
   "source": [
    "import evaluate\n",
    "\n",
    "metric1 = evaluate.load('precision', average=None)\n",
    "metric2 = evaluate.load('recall', average=None)\n",
    "metric3 = evaluate.load('accuracy')"
   ]
  },
  {
   "cell_type": "code",
   "execution_count": 69,
   "metadata": {
    "id": "40d627b8"
   },
   "outputs": [],
   "source": [
    "for batch in dataloader:\n",
    "    labels, sentences = batch['topic'], batch['news']\n",
    "    tokens = tokenize_batch(sentences)\n",
    "    embeddings = get_bag_of_embeddings(tokens)\n",
    "\n",
    "    # predictions = model(embeddings)\n",
    "    predictions = cos(embeddings.unsqueeze(1), cand_emb.unsqueeze(0))\n",
    "\n",
    "    pred_class = predictions.argmax(dim=1).tolist()\n",
    "    labels = labels.tolist()\n",
    "\n",
    "    metric1.add_batch(references=labels, predictions=pred_class)\n",
    "    metric2.add_batch(references=labels, predictions=pred_class)\n",
    "    metric3.add_batch(references=labels, predictions=pred_class)"
   ]
  },
  {
   "cell_type": "code",
   "execution_count": 70,
   "metadata": {
    "colab": {
     "base_uri": "https://localhost:8080/"
    },
    "id": "101ae04d",
    "outputId": "ebac00c2-3906-4170-dc3b-55e8880b5723"
   },
   "outputs": [
    {
     "data": {
      "text/plain": [
       "({'precision': array([0.33205619, 1.        , 0.67253045, 0.43290471])},\n",
       " {'recall': array([4.10526316e-01, 5.26315789e-04, 7.84736842e-01, 6.91052632e-01])},\n",
       " {'accuracy': 0.47171052631578947})"
      ]
     },
     "execution_count": 70,
     "metadata": {},
     "output_type": "execute_result"
    }
   ],
   "source": [
    "metric1.compute(average=None), metric2.compute(average=None), metric3.compute()"
   ]
  },
  {
   "cell_type": "markdown",
   "metadata": {
    "id": "51585ffc"
   },
   "source": [
    "## 15.9 Chunking Strategies"
   ]
  },
  {
   "cell_type": "code",
   "execution_count": 71,
   "metadata": {},
   "outputs": [],
   "source": [
    "text = \"\"\"\n",
    "ITEM 1A. RISK FACTORS Our operations and financial results are subject to various risks and uncertainties, including those described below, that could adversely affect our business, financial condition, results of operations, cash flows, and the trading price of our common stock. STRATEGIC AND COMPETITIVE RISKS We face intense competition across all markets for our products and services, which may lead to lower revenue or operating margins.    Competition in the technology sector Our competitors range in size from diversified global companies with significant research and development resources to small, specialized firms whose narrower product lines may let them be more effective in deploying technical, marketing, and financial resources. Barriers to entry in many of our businesses are low and many of the areas in which we compete evolve rapidly with changing and disruptive technologies, shifting user needs, and frequent introductions of new products and services. Our ability to remain competitive depends on our success in making innovative products, devices, and services that appeal to businesses and consumers.    Competition among platform-based ecosystems An important element of our business model has been to create platform-based ecosystems on which many participants can build diverse solutions. A well-established ecosystem creates beneficial network effects among users, application developers, and the platform provider that can accelerate growth. Establishing significant scale in the marketplace is necessary to achieve and maintain attractive margins. We face significant competition from firms that provide competing platforms.\n",
    "\"\"\""
   ]
  },
  {
   "cell_type": "markdown",
   "metadata": {},
   "source": [
    "### 15.9.1 Fixed-Length"
   ]
  },
  {
   "cell_type": "code",
   "execution_count": 72,
   "metadata": {
    "colab": {
     "base_uri": "https://localhost:8080/"
    },
    "id": "eeb5aacb",
    "outputId": "2fd59ac1-dfb2-4519-b56e-65172155e461"
   },
   "outputs": [
    {
     "data": {
      "text/plain": [
       "[Document(page_content='ITEM 1A. RISK FACTORS Our operations and financial results are subject to various risks and uncertainties, including those described below, that could adversely affect our business, financial condition, results of operations, cash flows, and the trading', metadata={}),\n",
       " Document(page_content='and the trading price of our common stock. STRATEGIC AND COMPETITIVE RISKS We face intense competition across all markets for our products and services, which may lead to lower revenue or operating margins.    Competition in the technology sector Our', metadata={}),\n",
       " Document(page_content='sector Our competitors range in size from diversified global companies with significant research and development resources to small, specialized firms whose narrower product lines may let them be more effective in deploying technical, marketing, and', metadata={})]"
      ]
     },
     "execution_count": 72,
     "metadata": {},
     "output_type": "execute_result"
    }
   ],
   "source": [
    "from langchain.text_splitter import RecursiveCharacterTextSplitter\n",
    "\n",
    "text_splitter = RecursiveCharacterTextSplitter(chunk_size=256, chunk_overlap=20)\n",
    "chunks = text_splitter.create_documents([text])\n",
    "chunks[:3]"
   ]
  },
  {
   "cell_type": "markdown",
   "metadata": {
    "id": "4f607097"
   },
   "source": [
    "### 15.9.2 Content-Aware"
   ]
  },
  {
   "cell_type": "code",
   "execution_count": 73,
   "metadata": {
    "colab": {
     "base_uri": "https://localhost:8080/"
    },
    "id": "1344c93e",
    "outputId": "3a1c2fbb-6e0c-450b-88da-160a636407ca"
   },
   "outputs": [
    {
     "name": "stderr",
     "output_type": "stream",
     "text": [
      "[nltk_data] Downloading package punkt to /home/dvgodoy/nltk_data...\n",
      "[nltk_data]   Unzipping tokenizers/punkt.zip.\n"
     ]
    },
    {
     "data": {
      "text/plain": [
       "True"
      ]
     },
     "execution_count": 73,
     "metadata": {},
     "output_type": "execute_result"
    }
   ],
   "source": [
    "import nltk\n",
    "nltk.download('punkt')\n",
    "nltk.download('punkt_tab')"
   ]
  },
  {
   "cell_type": "code",
   "execution_count": 74,
   "metadata": {
    "colab": {
     "base_uri": "https://localhost:8080/"
    },
    "id": "eade466d",
    "outputId": "e443e851-2ace-4a27-9556-23be30dfd349"
   },
   "outputs": [
    {
     "data": {
      "text/plain": [
       "['\\nITEM 1A.',\n",
       " 'RISK FACTORS Our operations and financial results are subject to various risks and uncertainties, including those described below, that could adversely affect our business, financial condition, results of operations, cash flows, and the trading price of our common stock.',\n",
       " 'STRATEGIC AND COMPETITIVE RISKS We face intense competition across all markets for our products and services, which may lead to lower revenue or operating margins.']"
      ]
     },
     "execution_count": 74,
     "metadata": {},
     "output_type": "execute_result"
    }
   ],
   "source": [
    "from nltk.tokenize import sent_tokenize\n",
    "\n",
    "chunks = sent_tokenize(text)\n",
    "chunks[:3]"
   ]
  },
  {
   "cell_type": "markdown",
   "metadata": {
    "id": "b55a5898"
   },
   "source": [
    "### 15.9.3 Custom"
   ]
  },
  {
   "cell_type": "code",
   "execution_count": 75,
   "metadata": {
    "colab": {
     "base_uri": "https://localhost:8080/"
    },
    "id": "67e8137f",
    "outputId": "2e0c5e10-b611-4856-d5d1-843b012939f2"
   },
   "outputs": [
    {
     "data": {
      "text/plain": [
       "['\\nITEM 1A. RISK FACTORS Our operations and financial results are subject to various risks and uncertainties, including those described below, that could adversely affect our business, financial condition, results of operations, cash flows, and the trading price of our common stock. STRATEGIC AND COMPETITIVE RISKS We face intense competition across all markets for our products and services, which may lead to lower revenue or operating margins.',\n",
       " '',\n",
       " 'Competition in the technology sector Our competitors range in size from diversified global companies with significant research and development resources to small, specialized firms whose narrower product lines may let them be more effective in deploying technical, marketing, and financial resources. Barriers to entry in many of our businesses are low and many of the areas in which we compete evolve rapidly with changing and disruptive technologies, shifting user needs, and frequent introductions of new products and services. Our ability to remain competitive depends on our success in making innovative products, devices, and services that appeal to businesses and consumers.']"
      ]
     },
     "execution_count": 75,
     "metadata": {},
     "output_type": "execute_result"
    }
   ],
   "source": [
    "chunks = text.split('  ')\n",
    "chunks[:3]"
   ]
  }
 ],
 "metadata": {
  "accelerator": "GPU",
  "colab": {
   "gpuType": "T4",
   "provenance": []
  },
  "kernelspec": {
   "display_name": "Python 3",
   "language": "python",
   "name": "python3"
  },
  "language_info": {
   "codemirror_mode": {
    "name": "ipython",
    "version": 3
   },
   "file_extension": ".py",
   "mimetype": "text/x-python",
   "name": "python",
   "nbconvert_exporter": "python",
   "pygments_lexer": "ipython3",
   "version": "3.7.4"
  },
  "widgets": {
   "application/vnd.jupyter.widget-state+json": {
    "09cf656a4a1e4eb793c9f2a7fbac34c2": {
     "model_module": "@jupyter-widgets/controls",
     "model_module_version": "1.5.0",
     "model_name": "HBoxModel",
     "state": {
      "_dom_classes": [],
      "_model_module": "@jupyter-widgets/controls",
      "_model_module_version": "1.5.0",
      "_model_name": "HBoxModel",
      "_view_count": null,
      "_view_module": "@jupyter-widgets/controls",
      "_view_module_version": "1.5.0",
      "_view_name": "HBoxView",
      "box_style": "",
      "children": [
       "IPY_MODEL_aad635b4249d4d14a3fa64b0ce720974",
       "IPY_MODEL_298934cba9114b84933717b30074d868",
       "IPY_MODEL_40c70b85bafe4caa85f7a833c272980d"
      ],
      "layout": "IPY_MODEL_639eea8ca53147e4a8d6f6b4f7df8614"
     }
    },
    "0fc9ca3ae9bc4b81afa8817c9fedfd51": {
     "model_module": "@jupyter-widgets/base",
     "model_module_version": "1.2.0",
     "model_name": "LayoutModel",
     "state": {
      "_model_module": "@jupyter-widgets/base",
      "_model_module_version": "1.2.0",
      "_model_name": "LayoutModel",
      "_view_count": null,
      "_view_module": "@jupyter-widgets/base",
      "_view_module_version": "1.2.0",
      "_view_name": "LayoutView",
      "align_content": null,
      "align_items": null,
      "align_self": null,
      "border": null,
      "bottom": null,
      "display": null,
      "flex": null,
      "flex_flow": null,
      "grid_area": null,
      "grid_auto_columns": null,
      "grid_auto_flow": null,
      "grid_auto_rows": null,
      "grid_column": null,
      "grid_gap": null,
      "grid_row": null,
      "grid_template_areas": null,
      "grid_template_columns": null,
      "grid_template_rows": null,
      "height": null,
      "justify_content": null,
      "justify_items": null,
      "left": null,
      "margin": null,
      "max_height": null,
      "max_width": null,
      "min_height": null,
      "min_width": null,
      "object_fit": null,
      "object_position": null,
      "order": null,
      "overflow": null,
      "overflow_x": null,
      "overflow_y": null,
      "padding": null,
      "right": null,
      "top": null,
      "visibility": null,
      "width": null
     }
    },
    "1abc302d77cd49dcae417eec6a625b3c": {
     "model_module": "@jupyter-widgets/controls",
     "model_module_version": "1.5.0",
     "model_name": "ProgressStyleModel",
     "state": {
      "_model_module": "@jupyter-widgets/controls",
      "_model_module_version": "1.5.0",
      "_model_name": "ProgressStyleModel",
      "_view_count": null,
      "_view_module": "@jupyter-widgets/base",
      "_view_module_version": "1.2.0",
      "_view_name": "StyleView",
      "bar_color": null,
      "description_width": ""
     }
    },
    "26ed7d7eed7147419e8d5abe85d5078e": {
     "model_module": "@jupyter-widgets/controls",
     "model_module_version": "1.5.0",
     "model_name": "DescriptionStyleModel",
     "state": {
      "_model_module": "@jupyter-widgets/controls",
      "_model_module_version": "1.5.0",
      "_model_name": "DescriptionStyleModel",
      "_view_count": null,
      "_view_module": "@jupyter-widgets/base",
      "_view_module_version": "1.2.0",
      "_view_name": "StyleView",
      "description_width": ""
     }
    },
    "27fc0d6ec74441f9802a019fa02e6529": {
     "model_module": "@jupyter-widgets/base",
     "model_module_version": "1.2.0",
     "model_name": "LayoutModel",
     "state": {
      "_model_module": "@jupyter-widgets/base",
      "_model_module_version": "1.2.0",
      "_model_name": "LayoutModel",
      "_view_count": null,
      "_view_module": "@jupyter-widgets/base",
      "_view_module_version": "1.2.0",
      "_view_name": "LayoutView",
      "align_content": null,
      "align_items": null,
      "align_self": null,
      "border": null,
      "bottom": null,
      "display": null,
      "flex": null,
      "flex_flow": null,
      "grid_area": null,
      "grid_auto_columns": null,
      "grid_auto_flow": null,
      "grid_auto_rows": null,
      "grid_column": null,
      "grid_gap": null,
      "grid_row": null,
      "grid_template_areas": null,
      "grid_template_columns": null,
      "grid_template_rows": null,
      "height": null,
      "justify_content": null,
      "justify_items": null,
      "left": null,
      "margin": null,
      "max_height": null,
      "max_width": null,
      "min_height": null,
      "min_width": null,
      "object_fit": null,
      "object_position": null,
      "order": null,
      "overflow": null,
      "overflow_x": null,
      "overflow_y": null,
      "padding": null,
      "right": null,
      "top": null,
      "visibility": null,
      "width": null
     }
    },
    "298934cba9114b84933717b30074d868": {
     "model_module": "@jupyter-widgets/controls",
     "model_module_version": "1.5.0",
     "model_name": "FloatProgressModel",
     "state": {
      "_dom_classes": [],
      "_model_module": "@jupyter-widgets/controls",
      "_model_module_version": "1.5.0",
      "_model_name": "FloatProgressModel",
      "_view_count": null,
      "_view_module": "@jupyter-widgets/controls",
      "_view_module_version": "1.5.0",
      "_view_name": "ProgressView",
      "bar_style": "success",
      "description": "",
      "description_tooltip": null,
      "layout": "IPY_MODEL_8ed090ce8fc64641a0c793f35bede7b5",
      "max": 7546,
      "min": 0,
      "orientation": "horizontal",
      "style": "IPY_MODEL_90ad5f07a12741759dcb5471da921ceb",
      "value": 7546
     }
    },
    "2f6dbac0ddca46d5b68f42a9652927f6": {
     "model_module": "@jupyter-widgets/controls",
     "model_module_version": "1.5.0",
     "model_name": "DescriptionStyleModel",
     "state": {
      "_model_module": "@jupyter-widgets/controls",
      "_model_module_version": "1.5.0",
      "_model_name": "DescriptionStyleModel",
      "_view_count": null,
      "_view_module": "@jupyter-widgets/base",
      "_view_module_version": "1.2.0",
      "_view_name": "StyleView",
      "description_width": ""
     }
    },
    "3b7d733a565c47688a71dd11efc4253b": {
     "model_module": "@jupyter-widgets/controls",
     "model_module_version": "1.5.0",
     "model_name": "FloatProgressModel",
     "state": {
      "_dom_classes": [],
      "_model_module": "@jupyter-widgets/controls",
      "_model_module_version": "1.5.0",
      "_model_name": "FloatProgressModel",
      "_view_count": null,
      "_view_module": "@jupyter-widgets/controls",
      "_view_module_version": "1.5.0",
      "_view_name": "ProgressView",
      "bar_style": "success",
      "description": "",
      "description_tooltip": null,
      "layout": "IPY_MODEL_4d03c231774a4b8e8987861d5290d440",
      "max": 7363,
      "min": 0,
      "orientation": "horizontal",
      "style": "IPY_MODEL_1abc302d77cd49dcae417eec6a625b3c",
      "value": 7363
     }
    },
    "405a49fe450d4ae6b57598f18df02a56": {
     "model_module": "@jupyter-widgets/base",
     "model_module_version": "1.2.0",
     "model_name": "LayoutModel",
     "state": {
      "_model_module": "@jupyter-widgets/base",
      "_model_module_version": "1.2.0",
      "_model_name": "LayoutModel",
      "_view_count": null,
      "_view_module": "@jupyter-widgets/base",
      "_view_module_version": "1.2.0",
      "_view_name": "LayoutView",
      "align_content": null,
      "align_items": null,
      "align_self": null,
      "border": null,
      "bottom": null,
      "display": null,
      "flex": null,
      "flex_flow": null,
      "grid_area": null,
      "grid_auto_columns": null,
      "grid_auto_flow": null,
      "grid_auto_rows": null,
      "grid_column": null,
      "grid_gap": null,
      "grid_row": null,
      "grid_template_areas": null,
      "grid_template_columns": null,
      "grid_template_rows": null,
      "height": null,
      "justify_content": null,
      "justify_items": null,
      "left": null,
      "margin": null,
      "max_height": null,
      "max_width": null,
      "min_height": null,
      "min_width": null,
      "object_fit": null,
      "object_position": null,
      "order": null,
      "overflow": null,
      "overflow_x": null,
      "overflow_y": null,
      "padding": null,
      "right": null,
      "top": null,
      "visibility": null,
      "width": null
     }
    },
    "40c70b85bafe4caa85f7a833c272980d": {
     "model_module": "@jupyter-widgets/controls",
     "model_module_version": "1.5.0",
     "model_name": "HTMLModel",
     "state": {
      "_dom_classes": [],
      "_model_module": "@jupyter-widgets/controls",
      "_model_module_version": "1.5.0",
      "_model_name": "HTMLModel",
      "_view_count": null,
      "_view_module": "@jupyter-widgets/controls",
      "_view_module_version": "1.5.0",
      "_view_name": "HTMLView",
      "description": "",
      "description_tooltip": null,
      "layout": "IPY_MODEL_bdda94608b1c44a09590ef3d07f17eed",
      "placeholder": "​",
      "style": "IPY_MODEL_26ed7d7eed7147419e8d5abe85d5078e",
      "value": " 7.55k/7.55k [00:00&lt;00:00, 398kB/s]"
     }
    },
    "4bbe237a10aa4985b6f57b3632622e4a": {
     "model_module": "@jupyter-widgets/controls",
     "model_module_version": "1.5.0",
     "model_name": "DescriptionStyleModel",
     "state": {
      "_model_module": "@jupyter-widgets/controls",
      "_model_module_version": "1.5.0",
      "_model_name": "DescriptionStyleModel",
      "_view_count": null,
      "_view_module": "@jupyter-widgets/base",
      "_view_module_version": "1.2.0",
      "_view_name": "StyleView",
      "description_width": ""
     }
    },
    "4d03c231774a4b8e8987861d5290d440": {
     "model_module": "@jupyter-widgets/base",
     "model_module_version": "1.2.0",
     "model_name": "LayoutModel",
     "state": {
      "_model_module": "@jupyter-widgets/base",
      "_model_module_version": "1.2.0",
      "_model_name": "LayoutModel",
      "_view_count": null,
      "_view_module": "@jupyter-widgets/base",
      "_view_module_version": "1.2.0",
      "_view_name": "LayoutView",
      "align_content": null,
      "align_items": null,
      "align_self": null,
      "border": null,
      "bottom": null,
      "display": null,
      "flex": null,
      "flex_flow": null,
      "grid_area": null,
      "grid_auto_columns": null,
      "grid_auto_flow": null,
      "grid_auto_rows": null,
      "grid_column": null,
      "grid_gap": null,
      "grid_row": null,
      "grid_template_areas": null,
      "grid_template_columns": null,
      "grid_template_rows": null,
      "height": null,
      "justify_content": null,
      "justify_items": null,
      "left": null,
      "margin": null,
      "max_height": null,
      "max_width": null,
      "min_height": null,
      "min_width": null,
      "object_fit": null,
      "object_position": null,
      "order": null,
      "overflow": null,
      "overflow_x": null,
      "overflow_y": null,
      "padding": null,
      "right": null,
      "top": null,
      "visibility": null,
      "width": null
     }
    },
    "4e3ee3a79a2b4baebfa8125cedb2ed70": {
     "model_module": "@jupyter-widgets/controls",
     "model_module_version": "1.5.0",
     "model_name": "HTMLModel",
     "state": {
      "_dom_classes": [],
      "_model_module": "@jupyter-widgets/controls",
      "_model_module_version": "1.5.0",
      "_model_name": "HTMLModel",
      "_view_count": null,
      "_view_module": "@jupyter-widgets/controls",
      "_view_module_version": "1.5.0",
      "_view_name": "HTMLView",
      "description": "",
      "description_tooltip": null,
      "layout": "IPY_MODEL_a848f49119a54f16b892a34ce58be2ad",
      "placeholder": "​",
      "style": "IPY_MODEL_a923faab190d4e679bcb609664b9899f",
      "value": "Downloading builder script: 100%"
     }
    },
    "4f9ea0c6a8734cd4b28429248001b361": {
     "model_module": "@jupyter-widgets/controls",
     "model_module_version": "1.5.0",
     "model_name": "HTMLModel",
     "state": {
      "_dom_classes": [],
      "_model_module": "@jupyter-widgets/controls",
      "_model_module_version": "1.5.0",
      "_model_name": "HTMLModel",
      "_view_count": null,
      "_view_module": "@jupyter-widgets/controls",
      "_view_module_version": "1.5.0",
      "_view_name": "HTMLView",
      "description": "",
      "description_tooltip": null,
      "layout": "IPY_MODEL_405a49fe450d4ae6b57598f18df02a56",
      "placeholder": "​",
      "style": "IPY_MODEL_2f6dbac0ddca46d5b68f42a9652927f6",
      "value": " 7.36k/7.36k [00:00&lt;00:00, 524kB/s]"
     }
    },
    "5f12c04f20e04704be814a522fb38eb1": {
     "model_module": "@jupyter-widgets/controls",
     "model_module_version": "1.5.0",
     "model_name": "DescriptionStyleModel",
     "state": {
      "_model_module": "@jupyter-widgets/controls",
      "_model_module_version": "1.5.0",
      "_model_name": "DescriptionStyleModel",
      "_view_count": null,
      "_view_module": "@jupyter-widgets/base",
      "_view_module_version": "1.2.0",
      "_view_name": "StyleView",
      "description_width": ""
     }
    },
    "639eea8ca53147e4a8d6f6b4f7df8614": {
     "model_module": "@jupyter-widgets/base",
     "model_module_version": "1.2.0",
     "model_name": "LayoutModel",
     "state": {
      "_model_module": "@jupyter-widgets/base",
      "_model_module_version": "1.2.0",
      "_model_name": "LayoutModel",
      "_view_count": null,
      "_view_module": "@jupyter-widgets/base",
      "_view_module_version": "1.2.0",
      "_view_name": "LayoutView",
      "align_content": null,
      "align_items": null,
      "align_self": null,
      "border": null,
      "bottom": null,
      "display": null,
      "flex": null,
      "flex_flow": null,
      "grid_area": null,
      "grid_auto_columns": null,
      "grid_auto_flow": null,
      "grid_auto_rows": null,
      "grid_column": null,
      "grid_gap": null,
      "grid_row": null,
      "grid_template_areas": null,
      "grid_template_columns": null,
      "grid_template_rows": null,
      "height": null,
      "justify_content": null,
      "justify_items": null,
      "left": null,
      "margin": null,
      "max_height": null,
      "max_width": null,
      "min_height": null,
      "min_width": null,
      "object_fit": null,
      "object_position": null,
      "order": null,
      "overflow": null,
      "overflow_x": null,
      "overflow_y": null,
      "padding": null,
      "right": null,
      "top": null,
      "visibility": null,
      "width": null
     }
    },
    "6fa4d2c2cfef4585b508b093f5c6a52a": {
     "model_module": "@jupyter-widgets/controls",
     "model_module_version": "1.5.0",
     "model_name": "FloatProgressModel",
     "state": {
      "_dom_classes": [],
      "_model_module": "@jupyter-widgets/controls",
      "_model_module_version": "1.5.0",
      "_model_name": "FloatProgressModel",
      "_view_count": null,
      "_view_module": "@jupyter-widgets/controls",
      "_view_module_version": "1.5.0",
      "_view_name": "ProgressView",
      "bar_style": "success",
      "description": "",
      "description_tooltip": null,
      "layout": "IPY_MODEL_c2ac40a989644bfd9ee53e2b41f5e8ed",
      "max": 4203,
      "min": 0,
      "orientation": "horizontal",
      "style": "IPY_MODEL_d36441232f0e4cb98668c6fc4d34534d",
      "value": 4203
     }
    },
    "87578097c58349d699a3f1629ce916fb": {
     "model_module": "@jupyter-widgets/controls",
     "model_module_version": "1.5.0",
     "model_name": "HTMLModel",
     "state": {
      "_dom_classes": [],
      "_model_module": "@jupyter-widgets/controls",
      "_model_module_version": "1.5.0",
      "_model_name": "HTMLModel",
      "_view_count": null,
      "_view_module": "@jupyter-widgets/controls",
      "_view_module_version": "1.5.0",
      "_view_name": "HTMLView",
      "description": "",
      "description_tooltip": null,
      "layout": "IPY_MODEL_8c63f5a9777c4c43801992597d0d6441",
      "placeholder": "​",
      "style": "IPY_MODEL_b15ac0edf5164f3f9d4b7bba89e1f0a3",
      "value": " 4.20k/4.20k [00:00&lt;00:00, 251kB/s]"
     }
    },
    "8c63f5a9777c4c43801992597d0d6441": {
     "model_module": "@jupyter-widgets/base",
     "model_module_version": "1.2.0",
     "model_name": "LayoutModel",
     "state": {
      "_model_module": "@jupyter-widgets/base",
      "_model_module_version": "1.2.0",
      "_model_name": "LayoutModel",
      "_view_count": null,
      "_view_module": "@jupyter-widgets/base",
      "_view_module_version": "1.2.0",
      "_view_name": "LayoutView",
      "align_content": null,
      "align_items": null,
      "align_self": null,
      "border": null,
      "bottom": null,
      "display": null,
      "flex": null,
      "flex_flow": null,
      "grid_area": null,
      "grid_auto_columns": null,
      "grid_auto_flow": null,
      "grid_auto_rows": null,
      "grid_column": null,
      "grid_gap": null,
      "grid_row": null,
      "grid_template_areas": null,
      "grid_template_columns": null,
      "grid_template_rows": null,
      "height": null,
      "justify_content": null,
      "justify_items": null,
      "left": null,
      "margin": null,
      "max_height": null,
      "max_width": null,
      "min_height": null,
      "min_width": null,
      "object_fit": null,
      "object_position": null,
      "order": null,
      "overflow": null,
      "overflow_x": null,
      "overflow_y": null,
      "padding": null,
      "right": null,
      "top": null,
      "visibility": null,
      "width": null
     }
    },
    "8ed090ce8fc64641a0c793f35bede7b5": {
     "model_module": "@jupyter-widgets/base",
     "model_module_version": "1.2.0",
     "model_name": "LayoutModel",
     "state": {
      "_model_module": "@jupyter-widgets/base",
      "_model_module_version": "1.2.0",
      "_model_name": "LayoutModel",
      "_view_count": null,
      "_view_module": "@jupyter-widgets/base",
      "_view_module_version": "1.2.0",
      "_view_name": "LayoutView",
      "align_content": null,
      "align_items": null,
      "align_self": null,
      "border": null,
      "bottom": null,
      "display": null,
      "flex": null,
      "flex_flow": null,
      "grid_area": null,
      "grid_auto_columns": null,
      "grid_auto_flow": null,
      "grid_auto_rows": null,
      "grid_column": null,
      "grid_gap": null,
      "grid_row": null,
      "grid_template_areas": null,
      "grid_template_columns": null,
      "grid_template_rows": null,
      "height": null,
      "justify_content": null,
      "justify_items": null,
      "left": null,
      "margin": null,
      "max_height": null,
      "max_width": null,
      "min_height": null,
      "min_width": null,
      "object_fit": null,
      "object_position": null,
      "order": null,
      "overflow": null,
      "overflow_x": null,
      "overflow_y": null,
      "padding": null,
      "right": null,
      "top": null,
      "visibility": null,
      "width": null
     }
    },
    "90ad5f07a12741759dcb5471da921ceb": {
     "model_module": "@jupyter-widgets/controls",
     "model_module_version": "1.5.0",
     "model_name": "ProgressStyleModel",
     "state": {
      "_model_module": "@jupyter-widgets/controls",
      "_model_module_version": "1.5.0",
      "_model_name": "ProgressStyleModel",
      "_view_count": null,
      "_view_module": "@jupyter-widgets/base",
      "_view_module_version": "1.2.0",
      "_view_name": "StyleView",
      "bar_color": null,
      "description_width": ""
     }
    },
    "94f2a06c4d024800a0c8a33b1e4a1a55": {
     "model_module": "@jupyter-widgets/controls",
     "model_module_version": "1.5.0",
     "model_name": "HBoxModel",
     "state": {
      "_dom_classes": [],
      "_model_module": "@jupyter-widgets/controls",
      "_model_module_version": "1.5.0",
      "_model_name": "HBoxModel",
      "_view_count": null,
      "_view_module": "@jupyter-widgets/controls",
      "_view_module_version": "1.5.0",
      "_view_name": "HBoxView",
      "box_style": "",
      "children": [
       "IPY_MODEL_4e3ee3a79a2b4baebfa8125cedb2ed70",
       "IPY_MODEL_6fa4d2c2cfef4585b508b093f5c6a52a",
       "IPY_MODEL_87578097c58349d699a3f1629ce916fb"
      ],
      "layout": "IPY_MODEL_27fc0d6ec74441f9802a019fa02e6529"
     }
    },
    "a699523572174fe0a3e4c37a77c114ab": {
     "model_module": "@jupyter-widgets/base",
     "model_module_version": "1.2.0",
     "model_name": "LayoutModel",
     "state": {
      "_model_module": "@jupyter-widgets/base",
      "_model_module_version": "1.2.0",
      "_model_name": "LayoutModel",
      "_view_count": null,
      "_view_module": "@jupyter-widgets/base",
      "_view_module_version": "1.2.0",
      "_view_name": "LayoutView",
      "align_content": null,
      "align_items": null,
      "align_self": null,
      "border": null,
      "bottom": null,
      "display": null,
      "flex": null,
      "flex_flow": null,
      "grid_area": null,
      "grid_auto_columns": null,
      "grid_auto_flow": null,
      "grid_auto_rows": null,
      "grid_column": null,
      "grid_gap": null,
      "grid_row": null,
      "grid_template_areas": null,
      "grid_template_columns": null,
      "grid_template_rows": null,
      "height": null,
      "justify_content": null,
      "justify_items": null,
      "left": null,
      "margin": null,
      "max_height": null,
      "max_width": null,
      "min_height": null,
      "min_width": null,
      "object_fit": null,
      "object_position": null,
      "order": null,
      "overflow": null,
      "overflow_x": null,
      "overflow_y": null,
      "padding": null,
      "right": null,
      "top": null,
      "visibility": null,
      "width": null
     }
    },
    "a848f49119a54f16b892a34ce58be2ad": {
     "model_module": "@jupyter-widgets/base",
     "model_module_version": "1.2.0",
     "model_name": "LayoutModel",
     "state": {
      "_model_module": "@jupyter-widgets/base",
      "_model_module_version": "1.2.0",
      "_model_name": "LayoutModel",
      "_view_count": null,
      "_view_module": "@jupyter-widgets/base",
      "_view_module_version": "1.2.0",
      "_view_name": "LayoutView",
      "align_content": null,
      "align_items": null,
      "align_self": null,
      "border": null,
      "bottom": null,
      "display": null,
      "flex": null,
      "flex_flow": null,
      "grid_area": null,
      "grid_auto_columns": null,
      "grid_auto_flow": null,
      "grid_auto_rows": null,
      "grid_column": null,
      "grid_gap": null,
      "grid_row": null,
      "grid_template_areas": null,
      "grid_template_columns": null,
      "grid_template_rows": null,
      "height": null,
      "justify_content": null,
      "justify_items": null,
      "left": null,
      "margin": null,
      "max_height": null,
      "max_width": null,
      "min_height": null,
      "min_width": null,
      "object_fit": null,
      "object_position": null,
      "order": null,
      "overflow": null,
      "overflow_x": null,
      "overflow_y": null,
      "padding": null,
      "right": null,
      "top": null,
      "visibility": null,
      "width": null
     }
    },
    "a923faab190d4e679bcb609664b9899f": {
     "model_module": "@jupyter-widgets/controls",
     "model_module_version": "1.5.0",
     "model_name": "DescriptionStyleModel",
     "state": {
      "_model_module": "@jupyter-widgets/controls",
      "_model_module_version": "1.5.0",
      "_model_name": "DescriptionStyleModel",
      "_view_count": null,
      "_view_module": "@jupyter-widgets/base",
      "_view_module_version": "1.2.0",
      "_view_name": "StyleView",
      "description_width": ""
     }
    },
    "aad635b4249d4d14a3fa64b0ce720974": {
     "model_module": "@jupyter-widgets/controls",
     "model_module_version": "1.5.0",
     "model_name": "HTMLModel",
     "state": {
      "_dom_classes": [],
      "_model_module": "@jupyter-widgets/controls",
      "_model_module_version": "1.5.0",
      "_model_name": "HTMLModel",
      "_view_count": null,
      "_view_module": "@jupyter-widgets/controls",
      "_view_module_version": "1.5.0",
      "_view_name": "HTMLView",
      "description": "",
      "description_tooltip": null,
      "layout": "IPY_MODEL_0fc9ca3ae9bc4b81afa8817c9fedfd51",
      "placeholder": "​",
      "style": "IPY_MODEL_4bbe237a10aa4985b6f57b3632622e4a",
      "value": "Downloading builder script: 100%"
     }
    },
    "b15ac0edf5164f3f9d4b7bba89e1f0a3": {
     "model_module": "@jupyter-widgets/controls",
     "model_module_version": "1.5.0",
     "model_name": "DescriptionStyleModel",
     "state": {
      "_model_module": "@jupyter-widgets/controls",
      "_model_module_version": "1.5.0",
      "_model_name": "DescriptionStyleModel",
      "_view_count": null,
      "_view_module": "@jupyter-widgets/base",
      "_view_module_version": "1.2.0",
      "_view_name": "StyleView",
      "description_width": ""
     }
    },
    "b207202847894fc985e9f098781623e2": {
     "model_module": "@jupyter-widgets/base",
     "model_module_version": "1.2.0",
     "model_name": "LayoutModel",
     "state": {
      "_model_module": "@jupyter-widgets/base",
      "_model_module_version": "1.2.0",
      "_model_name": "LayoutModel",
      "_view_count": null,
      "_view_module": "@jupyter-widgets/base",
      "_view_module_version": "1.2.0",
      "_view_name": "LayoutView",
      "align_content": null,
      "align_items": null,
      "align_self": null,
      "border": null,
      "bottom": null,
      "display": null,
      "flex": null,
      "flex_flow": null,
      "grid_area": null,
      "grid_auto_columns": null,
      "grid_auto_flow": null,
      "grid_auto_rows": null,
      "grid_column": null,
      "grid_gap": null,
      "grid_row": null,
      "grid_template_areas": null,
      "grid_template_columns": null,
      "grid_template_rows": null,
      "height": null,
      "justify_content": null,
      "justify_items": null,
      "left": null,
      "margin": null,
      "max_height": null,
      "max_width": null,
      "min_height": null,
      "min_width": null,
      "object_fit": null,
      "object_position": null,
      "order": null,
      "overflow": null,
      "overflow_x": null,
      "overflow_y": null,
      "padding": null,
      "right": null,
      "top": null,
      "visibility": null,
      "width": null
     }
    },
    "bdda94608b1c44a09590ef3d07f17eed": {
     "model_module": "@jupyter-widgets/base",
     "model_module_version": "1.2.0",
     "model_name": "LayoutModel",
     "state": {
      "_model_module": "@jupyter-widgets/base",
      "_model_module_version": "1.2.0",
      "_model_name": "LayoutModel",
      "_view_count": null,
      "_view_module": "@jupyter-widgets/base",
      "_view_module_version": "1.2.0",
      "_view_name": "LayoutView",
      "align_content": null,
      "align_items": null,
      "align_self": null,
      "border": null,
      "bottom": null,
      "display": null,
      "flex": null,
      "flex_flow": null,
      "grid_area": null,
      "grid_auto_columns": null,
      "grid_auto_flow": null,
      "grid_auto_rows": null,
      "grid_column": null,
      "grid_gap": null,
      "grid_row": null,
      "grid_template_areas": null,
      "grid_template_columns": null,
      "grid_template_rows": null,
      "height": null,
      "justify_content": null,
      "justify_items": null,
      "left": null,
      "margin": null,
      "max_height": null,
      "max_width": null,
      "min_height": null,
      "min_width": null,
      "object_fit": null,
      "object_position": null,
      "order": null,
      "overflow": null,
      "overflow_x": null,
      "overflow_y": null,
      "padding": null,
      "right": null,
      "top": null,
      "visibility": null,
      "width": null
     }
    },
    "c2ac40a989644bfd9ee53e2b41f5e8ed": {
     "model_module": "@jupyter-widgets/base",
     "model_module_version": "1.2.0",
     "model_name": "LayoutModel",
     "state": {
      "_model_module": "@jupyter-widgets/base",
      "_model_module_version": "1.2.0",
      "_model_name": "LayoutModel",
      "_view_count": null,
      "_view_module": "@jupyter-widgets/base",
      "_view_module_version": "1.2.0",
      "_view_name": "LayoutView",
      "align_content": null,
      "align_items": null,
      "align_self": null,
      "border": null,
      "bottom": null,
      "display": null,
      "flex": null,
      "flex_flow": null,
      "grid_area": null,
      "grid_auto_columns": null,
      "grid_auto_flow": null,
      "grid_auto_rows": null,
      "grid_column": null,
      "grid_gap": null,
      "grid_row": null,
      "grid_template_areas": null,
      "grid_template_columns": null,
      "grid_template_rows": null,
      "height": null,
      "justify_content": null,
      "justify_items": null,
      "left": null,
      "margin": null,
      "max_height": null,
      "max_width": null,
      "min_height": null,
      "min_width": null,
      "object_fit": null,
      "object_position": null,
      "order": null,
      "overflow": null,
      "overflow_x": null,
      "overflow_y": null,
      "padding": null,
      "right": null,
      "top": null,
      "visibility": null,
      "width": null
     }
    },
    "d36441232f0e4cb98668c6fc4d34534d": {
     "model_module": "@jupyter-widgets/controls",
     "model_module_version": "1.5.0",
     "model_name": "ProgressStyleModel",
     "state": {
      "_model_module": "@jupyter-widgets/controls",
      "_model_module_version": "1.5.0",
      "_model_name": "ProgressStyleModel",
      "_view_count": null,
      "_view_module": "@jupyter-widgets/base",
      "_view_module_version": "1.2.0",
      "_view_name": "StyleView",
      "bar_color": null,
      "description_width": ""
     }
    },
    "ea3bbc9edab04ed0889274aad29f8906": {
     "model_module": "@jupyter-widgets/controls",
     "model_module_version": "1.5.0",
     "model_name": "HTMLModel",
     "state": {
      "_dom_classes": [],
      "_model_module": "@jupyter-widgets/controls",
      "_model_module_version": "1.5.0",
      "_model_name": "HTMLModel",
      "_view_count": null,
      "_view_module": "@jupyter-widgets/controls",
      "_view_module_version": "1.5.0",
      "_view_name": "HTMLView",
      "description": "",
      "description_tooltip": null,
      "layout": "IPY_MODEL_a699523572174fe0a3e4c37a77c114ab",
      "placeholder": "​",
      "style": "IPY_MODEL_5f12c04f20e04704be814a522fb38eb1",
      "value": "Downloading builder script: 100%"
     }
    },
    "f8cb87c52bac42c2b3dfc74bbdd90f49": {
     "model_module": "@jupyter-widgets/controls",
     "model_module_version": "1.5.0",
     "model_name": "HBoxModel",
     "state": {
      "_dom_classes": [],
      "_model_module": "@jupyter-widgets/controls",
      "_model_module_version": "1.5.0",
      "_model_name": "HBoxModel",
      "_view_count": null,
      "_view_module": "@jupyter-widgets/controls",
      "_view_module_version": "1.5.0",
      "_view_name": "HBoxView",
      "box_style": "",
      "children": [
       "IPY_MODEL_ea3bbc9edab04ed0889274aad29f8906",
       "IPY_MODEL_3b7d733a565c47688a71dd11efc4253b",
       "IPY_MODEL_4f9ea0c6a8734cd4b28429248001b361"
      ],
      "layout": "IPY_MODEL_b207202847894fc985e9f098781623e2"
     }
    }
   }
  }
 },
 "nbformat": 4,
 "nbformat_minor": 5
}
