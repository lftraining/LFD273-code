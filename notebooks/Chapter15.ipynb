{
 "cells": [
  {
   "cell_type": "markdown",
   "id": "ff7d9c79",
   "metadata": {
    "id": "5eef016c"
   },
   "source": [
    "# Chapter 15: Word Embeddings and Text Classification"
   ]
  },
  {
   "cell_type": "code",
   "execution_count": 3,
   "id": "22af0880",
   "metadata": {
    "id": "928565dd"
   },
   "outputs": [],
   "source": [
    "!pip install transformers evaluate portalocker chromadb langchain"
   ]
  },
  {
   "cell_type": "markdown",
   "id": "9d6cc919",
   "metadata": {
    "id": "d17cefe0"
   },
   "source": [
    "## 15.4 AG News Dataset\n",
    "\n",
    "![](https://raw.githubusercontent.com/dvgodoy/assets/main/PyTorchInPractice/images/ch0/data_step1.png)"
   ]
  },
  {
   "cell_type": "code",
   "execution_count": 6,
   "id": "58c65d5a",
   "metadata": {
    "id": "11466c94"
   },
   "outputs": [],
   "source": [
    "!wget https://raw.githubusercontent.com/mhjabreel/CharCnn_Keras/master/data/ag_news_csv/train.csv\n",
    "!wget https://raw.githubusercontent.com/mhjabreel/CharCnn_Keras/master/data/ag_news_csv/test.csv\n",
    "!wget https://raw.githubusercontent.com/mhjabreel/CharCnn_Keras/master/data/ag_news_csv/classes.txt"
   ]
  },
  {
   "cell_type": "markdown",
   "id": "efcc6acf",
   "metadata": {
    "id": "5d4390d4"
   },
   "source": [
    "### 15.4.1 Data Cleaning\n",
    "\n",
    "![](https://raw.githubusercontent.com/dvgodoy/assets/main/PyTorchInPractice/images/ch0/data_step2.png)"
   ]
  },
  {
   "cell_type": "code",
   "execution_count": 7,
   "id": "093365ed",
   "metadata": {
    "id": "7c8cbebf"
   },
   "outputs": [],
   "source": [
    "import numpy as np\n",
    "\n",
    "chr_codes = np.array([\n",
    "     36,   151,    38,  8220,   147,   148,   146,   225,   133,    39,  8221,  8212,   232,   149,   145,   233,\n",
    "  64257,  8217,   163,   160,    91,    93,  8211,  8482,   234,    37,  8364,   153,   195,   169\n",
    "])\n",
    "chr_subst = {f' #{c};':chr(c) for c in chr_codes}\n",
    "chr_subst.update({' amp;': '&', ' quot;': \"'\", ' hellip;': '...', ' nbsp;': ' ', '&lt;': '', '&gt;': '',\n",
    "                  '&lt;em&gt;': '', '&lt;/em&gt;': '', '&lt;strong&gt;': '', '&lt;/strong&gt;': ''})"
   ]
  },
  {
   "cell_type": "code",
   "execution_count": 8,
   "id": "3cf4669b",
   "metadata": {
    "id": "a2108e26"
   },
   "outputs": [],
   "source": [
    "def replace_chars(sent):\n",
    "    to_replace = [c for c in list(chr_subst.keys()) if c in sent]\n",
    "    for c in to_replace:\n",
    "        sent = sent.replace(c, chr_subst[c])\n",
    "    return sent\n",
    "\n",
    "def preproc_description(desc):\n",
    "    desc = desc.replace('\\\\', ' ').strip()\n",
    "    return replace_chars(desc)"
   ]
  },
  {
   "cell_type": "markdown",
   "id": "ad649f4a",
   "metadata": {
    "id": "902cca8d"
   },
   "source": [
    "### 15.4.2 DataPipes\n",
    "\n",
    "![](https://raw.githubusercontent.com/dvgodoy/assets/main/PyTorchInPractice/images/ch0/data_step4.png)"
   ]
  },
  {
   "cell_type": "code",
   "execution_count": 9,
   "id": "377e8b66",
   "metadata": {
    "id": "2ea669e2"
   },
   "outputs": [],
   "source": [
    "from torchdata.datapipes.iter import FileLister\n",
    "from torch.utils.data import DataLoader\n",
    "\n",
    "def create_raw_datapipe(fname):\n",
    "    datapipe = FileLister(root='.')\n",
    "    datapipe = datapipe.filter(filter_fn=lambda v: v.endswith(fname))\n",
    "    datapipe = datapipe.open_files(mode='rt', encoding=\"utf-8\")\n",
    "    datapipe = datapipe.parse_csv(delimiter=\",\", skip_lines=0)\n",
    "    datapipe = datapipe.map(lambda row: (int(row[0])-1, preproc_description(row[2])))\n",
    "    return datapipe"
   ]
  },
  {
   "cell_type": "code",
   "execution_count": 10,
   "id": "10699671",
   "metadata": {
    "id": "b4905e8b"
   },
   "outputs": [],
   "source": [
    "datapipes = {}\n",
    "datapipes['train'] = create_raw_datapipe('train.csv')\n",
    "datapipes['test'] = create_raw_datapipe('test.csv')"
   ]
  },
  {
   "cell_type": "code",
   "execution_count": 11,
   "id": "b116f8fa",
   "metadata": {
    "colab": {
     "base_uri": "https://localhost:8080/"
    },
    "id": "faef6e26",
    "outputId": "f8477cc7-3963-4fe9-c396-0451aad9882b"
   },
   "outputs": [
    {
     "data": {
      "text/plain": [
       "(tensor([2, 2, 2, 2]),\n",
       " (\"Reuters - Short-sellers, Wall Street's dwindling band of ultra-cynics, are seeing green again.\",\n",
       "  'Reuters - Private investment firm Carlyle Group, which has a reputation for making well-timed and occasionally controversial plays in the defense industry, has quietly placed its bets on another part of the market.',\n",
       "  'Reuters - Soaring crude prices plus worries about the economy and the outlook for earnings are expected to hang over the stock market next week during the depth of the summer doldrums.',\n",
       "  'Reuters - Authorities have halted oil export flows from the main pipeline in southern Iraq after intelligence showed a rebel militia could strike infrastructure, an oil official said on Saturday.'))"
      ]
     },
     "execution_count": 11,
     "metadata": {},
     "output_type": "execute_result"
    }
   ],
   "source": [
    "batch = next(iter(DataLoader(dataset=datapipes['train'], batch_size=4)))\n",
    "labels, descriptions = batch\n",
    "labels, descriptions"
   ]
  },
  {
   "cell_type": "markdown",
   "id": "43361619",
   "metadata": {
    "id": "c20834dc"
   },
   "source": [
    "## 15.5 Tokenization\n",
    "\n",
    "![](https://raw.githubusercontent.com/dvgodoy/assets/main/PyTorchInPractice/images/ch0/data_step3.png)"
   ]
  },
  {
   "cell_type": "code",
   "execution_count": 12,
   "id": "38a59935",
   "metadata": {
    "colab": {
     "base_uri": "https://localhost:8080/"
    },
    "id": "ed618491",
    "outputId": "51a03878-19d3-4ecf-b2a0-2669766d204a"
   },
   "outputs": [
    {
     "data": {
      "text/plain": [
       "(\"Reuters - Short-sellers, Wall Street's dwindling band of ultra-cynics, are seeing green again.\",\n",
       " ['reuters',\n",
       "  '-',\n",
       "  'short-sellers',\n",
       "  ',',\n",
       "  'wall',\n",
       "  'street',\n",
       "  \"'\",\n",
       "  's',\n",
       "  'dwindling',\n",
       "  'band',\n",
       "  'of',\n",
       "  'ultra-cynics',\n",
       "  ',',\n",
       "  'are',\n",
       "  'seeing',\n",
       "  'green',\n",
       "  'again',\n",
       "  '.'])"
      ]
     },
     "execution_count": 12,
     "metadata": {},
     "output_type": "execute_result"
    }
   ],
   "source": [
    "from torchtext.data import get_tokenizer\n",
    "tokenizer = get_tokenizer(\"basic_english\")\n",
    "\n",
    "tokens = tokenizer(descriptions[0])\n",
    "descriptions[0], tokens"
   ]
  },
  {
   "cell_type": "markdown",
   "id": "189e724e",
   "metadata": {
    "id": "02890969"
   },
   "source": [
    "### 15.5.1 Vocabulary"
   ]
  },
  {
   "cell_type": "code",
   "execution_count": 13,
   "id": "5bdb197e",
   "metadata": {
    "colab": {
     "base_uri": "https://localhost:8080/"
    },
    "id": "bdb8ebd3",
    "outputId": "d1929ac4-e8da-4b85-f4fa-9a9c6dbb6d84"
   },
   "outputs": [
    {
     "data": {
      "text/plain": [
       "Vocab()"
      ]
     },
     "execution_count": 13,
     "metadata": {},
     "output_type": "execute_result"
    }
   ],
   "source": [
    "from torchtext.vocab import build_vocab_from_iterator\n",
    "\n",
    "def yield_tokens(datapipe):\n",
    "    for label, description in datapipe:\n",
    "        yield tokenizer(description)\n",
    "\n",
    "vocab = build_vocab_from_iterator(yield_tokens(datapipes['train']))\n",
    "vocab"
   ]
  },
  {
   "cell_type": "code",
   "execution_count": 14,
   "id": "96bba13b",
   "metadata": {
    "colab": {
     "base_uri": "https://localhost:8080/"
    },
    "id": "d6e2c837",
    "outputId": "b3065a55-82f9-4dba-f9ac-98eced91e7f7"
   },
   "outputs": [
    {
     "data": {
      "text/plain": [
       "78147"
      ]
     },
     "execution_count": 14,
     "metadata": {},
     "output_type": "execute_result"
    }
   ],
   "source": [
    "len(vocab)"
   ]
  },
  {
   "cell_type": "code",
   "execution_count": 15,
   "id": "eaaf3be3",
   "metadata": {
    "colab": {
     "base_uri": "https://localhost:8080/"
    },
    "id": "483d0e16",
    "outputId": "6c71c0a4-ffbf-4e33-8afa-9dd869affc53"
   },
   "outputs": [
    {
     "data": {
      "text/plain": [
       "[28, 389, 116, 3836, 356, 43281, 14731]"
      ]
     },
     "execution_count": 15,
     "metadata": {},
     "output_type": "execute_result"
    }
   ],
   "source": [
    "vocab.lookup_indices(['reuters', 'press', 'washington', 'knicks', 'sox', 'raccoon', 'duck'])"
   ]
  },
  {
   "cell_type": "code",
   "execution_count": 16,
   "id": "d13fdaf2",
   "metadata": {
    "colab": {
     "base_uri": "https://localhost:8080/"
    },
    "id": "1b92525c",
    "outputId": "04706b3d-4f0c-4289-a741-560be0abde7f"
   },
   "outputs": [
    {
     "data": {
      "text/plain": [
       "28"
      ]
     },
     "execution_count": 16,
     "metadata": {},
     "output_type": "execute_result"
    }
   ],
   "source": [
    "vocab['reuters']"
   ]
  },
  {
   "cell_type": "markdown",
   "id": "a6e1c0f9",
   "metadata": {
    "id": "91ba2a34"
   },
   "source": [
    "### 15.5.2 Transform"
   ]
  },
  {
   "cell_type": "code",
   "execution_count": 17,
   "id": "9bb2b240",
   "metadata": {
    "colab": {
     "base_uri": "https://localhost:8080/"
    },
    "id": "ba5aeda9",
    "outputId": "0caf6a1c-84e6-45a1-d3f4-88b3da04dbee"
   },
   "outputs": [
    {
     "data": {
      "text/plain": [
       "VocabTransform(\n",
       "  (vocab): Vocab()\n",
       ")"
      ]
     },
     "execution_count": 17,
     "metadata": {},
     "output_type": "execute_result"
    }
   ],
   "source": [
    "from torchtext.transforms import VocabTransform\n",
    "\n",
    "vocab_transform = VocabTransform(vocab)\n",
    "vocab_transform"
   ]
  },
  {
   "cell_type": "code",
   "execution_count": 18,
   "id": "1ea48edb",
   "metadata": {
    "colab": {
     "base_uri": "https://localhost:8080/"
    },
    "id": "8062d32a",
    "outputId": "c901fe82-dc4a-4309-becd-e11f9b443600"
   },
   "outputs": [
    {
     "data": {
      "text/plain": [
       "(['reuters',\n",
       "  '-',\n",
       "  'short-sellers',\n",
       "  ',',\n",
       "  'wall',\n",
       "  'street',\n",
       "  \"'\",\n",
       "  's',\n",
       "  'dwindling',\n",
       "  'band',\n",
       "  'of',\n",
       "  'ultra-cynics',\n",
       "  ',',\n",
       "  'are',\n",
       "  'seeing',\n",
       "  'green',\n",
       "  'again',\n",
       "  '.'],\n",
       " [28,\n",
       "  11,\n",
       "  44045,\n",
       "  2,\n",
       "  409,\n",
       "  323,\n",
       "  8,\n",
       "  9,\n",
       "  10941,\n",
       "  3065,\n",
       "  5,\n",
       "  45321,\n",
       "  2,\n",
       "  36,\n",
       "  3599,\n",
       "  807,\n",
       "  412,\n",
       "  0])"
      ]
     },
     "execution_count": 18,
     "metadata": {},
     "output_type": "execute_result"
    }
   ],
   "source": [
    "tokens = tokenizer(descriptions[0])\n",
    "token_ids = vocab_transform(tokens)\n",
    "tokens, token_ids"
   ]
  },
  {
   "cell_type": "code",
   "execution_count": 19,
   "id": "a6c4c5e8",
   "metadata": {
    "colab": {
     "base_uri": "https://localhost:8080/",
     "height": 1000
    },
    "id": "02b38ffc",
    "outputId": "5026f3cb-0926-4d4e-a0ab-211f531045f9"
   },
   "outputs": [
    {
     "ename": "RuntimeError",
     "evalue": "ignored",
     "output_type": "error",
     "traceback": [
      "\u001b[0;31m---------------------------------------------------------------------------\u001b[0m",
      "\u001b[0;31mRuntimeError\u001b[0m                              Traceback (most recent call last)",
      "\u001b[0;32m<ipython-input-19-2ecc511ffcec>\u001b[0m in \u001b[0;36m<cell line: 1>\u001b[0;34m()\u001b[0m\n\u001b[0;32m----> 1\u001b[0;31m \u001b[0mvocab_transform\u001b[0m\u001b[0;34m(\u001b[0m\u001b[0;34m[\u001b[0m\u001b[0;34m'anteater'\u001b[0m\u001b[0;34m]\u001b[0m\u001b[0;34m)\u001b[0m\u001b[0;34m\u001b[0m\u001b[0;34m\u001b[0m\u001b[0m\n\u001b[0m",
      "\u001b[0;32m/usr/local/lib/python3.10/dist-packages/torch/nn/modules/module.py\u001b[0m in \u001b[0;36m_call_impl\u001b[0;34m(self, *args, **kwargs)\u001b[0m\n\u001b[1;32m   1499\u001b[0m                 \u001b[0;32mor\u001b[0m \u001b[0m_global_backward_pre_hooks\u001b[0m \u001b[0;32mor\u001b[0m \u001b[0m_global_backward_hooks\u001b[0m\u001b[0;34m\u001b[0m\u001b[0;34m\u001b[0m\u001b[0m\n\u001b[1;32m   1500\u001b[0m                 or _global_forward_hooks or _global_forward_pre_hooks):\n\u001b[0;32m-> 1501\u001b[0;31m             \u001b[0;32mreturn\u001b[0m \u001b[0mforward_call\u001b[0m\u001b[0;34m(\u001b[0m\u001b[0;34m*\u001b[0m\u001b[0margs\u001b[0m\u001b[0;34m,\u001b[0m \u001b[0;34m**\u001b[0m\u001b[0mkwargs\u001b[0m\u001b[0;34m)\u001b[0m\u001b[0;34m\u001b[0m\u001b[0;34m\u001b[0m\u001b[0m\n\u001b[0m\u001b[1;32m   1502\u001b[0m         \u001b[0;31m# Do not call functions when jit is used\u001b[0m\u001b[0;34m\u001b[0m\u001b[0;34m\u001b[0m\u001b[0m\n\u001b[1;32m   1503\u001b[0m         \u001b[0mfull_backward_hooks\u001b[0m\u001b[0;34m,\u001b[0m \u001b[0mnon_full_backward_hooks\u001b[0m \u001b[0;34m=\u001b[0m \u001b[0;34m[\u001b[0m\u001b[0;34m]\u001b[0m\u001b[0;34m,\u001b[0m \u001b[0;34m[\u001b[0m\u001b[0;34m]\u001b[0m\u001b[0;34m\u001b[0m\u001b[0;34m\u001b[0m\u001b[0m\n",
      "\u001b[0;32m/usr/local/lib/python3.10/dist-packages/torchtext/transforms.py\u001b[0m in \u001b[0;36mforward\u001b[0;34m(self, input)\u001b[0m\n\u001b[1;32m    104\u001b[0m \u001b[0;34m\u001b[0m\u001b[0m\n\u001b[1;32m    105\u001b[0m         \u001b[0;32mif\u001b[0m \u001b[0mtorch\u001b[0m\u001b[0;34m.\u001b[0m\u001b[0mjit\u001b[0m\u001b[0;34m.\u001b[0m\u001b[0misinstance\u001b[0m\u001b[0;34m(\u001b[0m\u001b[0minput\u001b[0m\u001b[0;34m,\u001b[0m \u001b[0mList\u001b[0m\u001b[0;34m[\u001b[0m\u001b[0mstr\u001b[0m\u001b[0;34m]\u001b[0m\u001b[0;34m)\u001b[0m\u001b[0;34m:\u001b[0m\u001b[0;34m\u001b[0m\u001b[0;34m\u001b[0m\u001b[0m\n\u001b[0;32m--> 106\u001b[0;31m             \u001b[0;32mreturn\u001b[0m \u001b[0mself\u001b[0m\u001b[0;34m.\u001b[0m\u001b[0mvocab\u001b[0m\u001b[0;34m.\u001b[0m\u001b[0mlookup_indices\u001b[0m\u001b[0;34m(\u001b[0m\u001b[0minput\u001b[0m\u001b[0;34m)\u001b[0m\u001b[0;34m\u001b[0m\u001b[0;34m\u001b[0m\u001b[0m\n\u001b[0m\u001b[1;32m    107\u001b[0m         \u001b[0;32melif\u001b[0m \u001b[0mtorch\u001b[0m\u001b[0;34m.\u001b[0m\u001b[0mjit\u001b[0m\u001b[0;34m.\u001b[0m\u001b[0misinstance\u001b[0m\u001b[0;34m(\u001b[0m\u001b[0minput\u001b[0m\u001b[0;34m,\u001b[0m \u001b[0mList\u001b[0m\u001b[0;34m[\u001b[0m\u001b[0mList\u001b[0m\u001b[0;34m[\u001b[0m\u001b[0mstr\u001b[0m\u001b[0;34m]\u001b[0m\u001b[0;34m]\u001b[0m\u001b[0;34m)\u001b[0m\u001b[0;34m:\u001b[0m\u001b[0;34m\u001b[0m\u001b[0;34m\u001b[0m\u001b[0m\n\u001b[1;32m    108\u001b[0m             \u001b[0moutput\u001b[0m\u001b[0;34m:\u001b[0m \u001b[0mList\u001b[0m\u001b[0;34m[\u001b[0m\u001b[0mList\u001b[0m\u001b[0;34m[\u001b[0m\u001b[0mint\u001b[0m\u001b[0;34m]\u001b[0m\u001b[0;34m]\u001b[0m \u001b[0;34m=\u001b[0m \u001b[0;34m[\u001b[0m\u001b[0;34m]\u001b[0m\u001b[0;34m\u001b[0m\u001b[0;34m\u001b[0m\u001b[0m\n",
      "\u001b[0;32m/usr/local/lib/python3.10/dist-packages/torchtext/vocab/vocab.py\u001b[0m in \u001b[0;36mlookup_indices\u001b[0;34m(self, tokens)\u001b[0m\n\u001b[1;32m    140\u001b[0m             \u001b[0mThe\u001b[0m\u001b[0;31m \u001b[0m\u001b[0;31m'\u001b[0m\u001b[0mindices\u001b[0m\u001b[0;31m`\u001b[0m \u001b[0massociated\u001b[0m \u001b[0;32mwith\u001b[0m\u001b[0;31m \u001b[0m\u001b[0;31m`\u001b[0m\u001b[0mtokens\u001b[0m\u001b[0;31m`\u001b[0m\u001b[0;34m.\u001b[0m\u001b[0;34m\u001b[0m\u001b[0;34m\u001b[0m\u001b[0m\n\u001b[1;32m    141\u001b[0m         \"\"\"\n\u001b[0;32m--> 142\u001b[0;31m         \u001b[0;32mreturn\u001b[0m \u001b[0mself\u001b[0m\u001b[0;34m.\u001b[0m\u001b[0mvocab\u001b[0m\u001b[0;34m.\u001b[0m\u001b[0mlookup_indices\u001b[0m\u001b[0;34m(\u001b[0m\u001b[0mtokens\u001b[0m\u001b[0;34m)\u001b[0m\u001b[0;34m\u001b[0m\u001b[0;34m\u001b[0m\u001b[0m\n\u001b[0m\u001b[1;32m    143\u001b[0m \u001b[0;34m\u001b[0m\u001b[0m\n\u001b[1;32m    144\u001b[0m     \u001b[0;34m@\u001b[0m\u001b[0mtorch\u001b[0m\u001b[0;34m.\u001b[0m\u001b[0mjit\u001b[0m\u001b[0;34m.\u001b[0m\u001b[0mexport\u001b[0m\u001b[0;34m\u001b[0m\u001b[0;34m\u001b[0m\u001b[0m\n",
      "\u001b[0;31mRuntimeError\u001b[0m: Token anteater not found and default index is not set\nException raised from __getitem__ at /__w/text/text/pytorch/text/torchtext/csrc/vocab.cpp:43 (most recent call first):\nframe #0: c10::Error::Error(c10::SourceLocation, std::string) + 0x57 (0x7fc33490d4d7 in /usr/local/lib/python3.10/dist-packages/torch/lib/libc10.so)\nframe #1: c10::detail::torchCheckFail(char const*, char const*, unsigned int, std::string const&) + 0x64 (0x7fc3348d736b in /usr/local/lib/python3.10/dist-packages/torch/lib/libc10.so)\nframe #2: torchtext::Vocab::__getitem__(c10::basic_string_view<char> const&) const + 0x384 (0x7fc28ba81de4 in /usr/local/lib/python3.10/dist-packages/torchtext/lib/libtorchtext.so)\nframe #3: <unknown function> + 0x1e630 (0x7fc3537a6630 in /usr/local/lib/python3.10/dist-packages/torchtext/_torchtext.so)\nframe #4: <unknown function> + 0x3bde7 (0x7fc3537c3de7 in /usr/local/lib/python3.10/dist-packages/torchtext/_torchtext.so)\nframe #5: /usr/bin/python3() [0x53b369]\nframe #6: _PyObject_MakeTpCall + 0x164 (0x629af4 in /usr/bin/python3)\nframe #7: /usr/bin/python3() [0x5491de]\nframe #8: _PyEval_EvalFrameDefault + 0x4cf3 (0x5ad363 in /usr/bin/python3)\nframe #9: /usr/bin/python3() [0x5484aa]\nframe #10: _PyEval_EvalFrameDefault + 0x4cf3 (0x5ad363 in /usr/bin/python3)\nframe #11: /usr/bin/python3() [0x5a7951]\nframe #12: /usr/bin/python3() [0x54890a]\nframe #13: PyObject_Call + 0x1aa (0x6287fa in /usr/bin/python3)\nframe #14: _PyEval_EvalFrameDefault + 0x2c0b (0x5ab27b in /usr/bin/python3)\nframe #15: _PyFunction_Vectorcall + 0x250 (0x628b20 in /usr/bin/python3)\nframe #16: _PyObject_FastCallDictTstate + 0x59 (0x62b659 in /usr/bin/python3)\nframe #17: _PyObject_Call_Prepend + 0x5a (0x62b78a in /usr/bin/python3)\nframe #18: /usr/bin/python3() [0x6e8c77]\nframe #19: _PyObject_MakeTpCall + 0x164 (0x629af4 in /usr/bin/python3)\nframe #20: _PyEval_EvalFrameDefault + 0x50d9 (0x5ad749 in /usr/bin/python3)\nframe #21: /usr/bin/python3() [0x5a7951]\nframe #22: PyEval_EvalCode + 0x7f (0x6d767f in /usr/bin/python3)\nframe #23: /usr/bin/python3() [0x646111]\nframe #24: /usr/bin/python3() [0x53a62f]\nframe #25: _PyEval_EvalFrameDefault + 0x30b (0x5a897b in /usr/bin/python3)\nframe #26: /usr/bin/python3() [0x6532d7]\nframe #27: PyIter_Send + 0x2ec (0x54dc3c in /usr/bin/python3)\nframe #28: _PyEval_EvalFrameDefault + 0x1b6f (0x5aa1df in /usr/bin/python3)\nframe #29: /usr/bin/python3() [0x6532d7]\nframe #30: PyIter_Send + 0x2ec (0x54dc3c in /usr/bin/python3)\nframe #31: _PyEval_EvalFrameDefault + 0x1b6f (0x5aa1df in /usr/bin/python3)\nframe #32: /usr/bin/python3() [0x6532d7]\nframe #33: /usr/bin/python3() [0x6535e7]\nframe #34: /usr/bin/python3() [0x53f5ae]\nframe #35: _PyEval_EvalFrameDefault + 0x715 (0x5a8d85 in /usr/bin/python3)\nframe #36: _PyFunction_Vectorcall + 0x250 (0x628b20 in /usr/bin/python3)\nframe #37: _PyEval_EvalFrameDefault + 0x30b (0x5a897b in /usr/bin/python3)\nframe #38: _PyFunction_Vectorcall + 0x250 (0x628b20 in /usr/bin/python3)\nframe #39: _PyEval_EvalFrameDefault + 0x715 (0x5a8d85 in /usr/bin/python3)\nframe #40: /usr/bin/python3() [0x5484aa]\nframe #41: PyObject_Call + 0xac (0x6286fc in /usr/bin/python3)\nframe #42: _PyEval_EvalFrameDefault + 0x2c0b (0x5ab27b in /usr/bin/python3)\nframe #43: /usr/bin/python3() [0x5484aa]\nframe #44: _PyEval_EvalFrameDefault + 0x13c5 (0x5a9a35 in /usr/bin/python3)\nframe #45: /usr/bin/python3() [0x5347dc]\nframe #46: /usr/bin/python3() [0x53a62f]\nframe #47: /usr/bin/python3() [0x643f75]\nframe #48: /usr/bin/python3() [0x43d673]\nframe #49: /usr/bin/python3() [0x53a554]\nframe #50: _PyEval_EvalFrameDefault + 0x30b (0x5a897b in /usr/bin/python3)\nframe #51: _PyFunction_Vectorcall + 0x250 (0x628b20 in /usr/bin/python3)\nframe #52: _PyEval_EvalFrameDefault + 0x715 (0x5a8d85 in /usr/bin/python3)\nframe #53: /usr/bin/python3() [0x5347dc]\nframe #54: /usr/bin/python3() [0x53a62f]\nframe #55: /usr/bin/python3() [0x643f75]\nframe #56: /usr/bin/python3() [0x43d673]\nframe #57: /usr/bin/python3() [0x53a554]\nframe #58: _PyEval_EvalFrameDefault + 0x30b (0x5a897b in /usr/bin/python3)\nframe #59: /usr/bin/python3() [0x5484aa]\nframe #60: _PyEval_EvalFrameDefault + 0x30b (0x5a897b in /usr/bin/python3)\nframe #61: /usr/bin/python3() [0x5347dc]\nframe #62: /usr/bin/python3() [0x53a62f]\nframe #63: /usr/bin/python3() [0x643f75]\n"
     ]
    }
   ],
   "source": [
    "vocab_transform(['anteater'])"
   ]
  },
  {
   "cell_type": "code",
   "execution_count": 20,
   "id": "c1ae1dd1",
   "metadata": {
    "id": "0286e2d0"
   },
   "outputs": [],
   "source": [
    "vocab.set_default_index(-1)"
   ]
  },
  {
   "cell_type": "code",
   "execution_count": 21,
   "id": "c92726e4",
   "metadata": {
    "colab": {
     "base_uri": "https://localhost:8080/"
    },
    "id": "018d26c8",
    "outputId": "d0caa392-f9ac-46a0-bcbe-a423b76b1c5d"
   },
   "outputs": [
    {
     "data": {
      "text/plain": [
       "[-1, -1]"
      ]
     },
     "execution_count": 21,
     "metadata": {},
     "output_type": "execute_result"
    }
   ],
   "source": [
    "vocab_transform(['anteater', 'zzzzz'])"
   ]
  },
  {
   "cell_type": "markdown",
   "id": "cf1a4933",
   "metadata": {
    "id": "296731d1"
   },
   "source": [
    "### 15.5.3 Special Tokens"
   ]
  },
  {
   "cell_type": "code",
   "execution_count": 22,
   "id": "3d27e4fe",
   "metadata": {
    "id": "11500537"
   },
   "outputs": [],
   "source": [
    "vocab = build_vocab_from_iterator(yield_tokens(datapipes['train']), specials=['<unk>', '<pad>', '<sep>', '<cls>'])\n",
    "vocab_transform = VocabTransform(vocab)"
   ]
  },
  {
   "cell_type": "markdown",
   "id": "1b624a05",
   "metadata": {
    "id": "eedf8f81"
   },
   "source": [
    "#### 15.5.3.1 `<UNK>`: Unknown Token"
   ]
  },
  {
   "cell_type": "code",
   "execution_count": 23,
   "id": "fe4903f5",
   "metadata": {
    "colab": {
     "base_uri": "https://localhost:8080/"
    },
    "id": "03e2c584",
    "outputId": "5246d723-301b-4aaa-eb7a-788f4236712a"
   },
   "outputs": [
    {
     "data": {
      "text/plain": [
       "0"
      ]
     },
     "execution_count": 23,
     "metadata": {},
     "output_type": "execute_result"
    }
   ],
   "source": [
    "vocab['<unk>']"
   ]
  },
  {
   "cell_type": "code",
   "execution_count": 24,
   "id": "d6096ca1",
   "metadata": {
    "id": "ac3624ef"
   },
   "outputs": [],
   "source": [
    "vocab.set_default_index(vocab['<unk>'])"
   ]
  },
  {
   "cell_type": "code",
   "execution_count": 25,
   "id": "43fd366c",
   "metadata": {
    "colab": {
     "base_uri": "https://localhost:8080/"
    },
    "id": "2006d0a6",
    "outputId": "8f84d0de-b785-4b15-8428-6e5ea3a79b40"
   },
   "outputs": [
    {
     "data": {
      "text/plain": [
       "0"
      ]
     },
     "execution_count": 25,
     "metadata": {},
     "output_type": "execute_result"
    }
   ],
   "source": [
    "vocab['anteater']"
   ]
  },
  {
   "cell_type": "markdown",
   "id": "c2626e53",
   "metadata": {
    "id": "e9dc0b2c"
   },
   "source": [
    "#### 15.5.3.2 `<PAD>`: Padding Token"
   ]
  },
  {
   "cell_type": "code",
   "execution_count": 26,
   "id": "26e527b5",
   "metadata": {
    "colab": {
     "base_uri": "https://localhost:8080/"
    },
    "id": "26755a55",
    "outputId": "8cd5be4f-f23b-4ac8-ee2a-fa6f964e86c7"
   },
   "outputs": [
    {
     "data": {
      "text/plain": [
       "[18, 36, 33, 32]"
      ]
     },
     "execution_count": 26,
     "metadata": {},
     "output_type": "execute_result"
    }
   ],
   "source": [
    "tokens = [tokenizer(desc) for desc in descriptions]\n",
    "token_ids = vocab_transform(tokens)\n",
    "[len(t) for t in token_ids]"
   ]
  },
  {
   "cell_type": "code",
   "execution_count": 27,
   "id": "dc6e9ef5",
   "metadata": {
    "colab": {
     "base_uri": "https://localhost:8080/"
    },
    "id": "2cba19d3",
    "outputId": "a6faa883-bc6c-4516-9d3d-c3a4cafa294d"
   },
   "outputs": [
    {
     "data": {
      "text/plain": [
       "1"
      ]
     },
     "execution_count": 27,
     "metadata": {},
     "output_type": "execute_result"
    }
   ],
   "source": [
    "vocab['<pad>']"
   ]
  },
  {
   "cell_type": "code",
   "execution_count": 28,
   "id": "62caccdb",
   "metadata": {
    "colab": {
     "base_uri": "https://localhost:8080/"
    },
    "id": "b136a6c1",
    "outputId": "4f6d61ee-8b03-492b-d6f8-0d0362593bbc"
   },
   "outputs": [
    {
     "data": {
      "text/plain": [
       "tensor([[   32,    15, 44049,     6,   413,   327,    12,    13, 10945,  3069,\n",
       "             9, 45325,     6,    40,  3603,   811,   416,     4,     1,     1,\n",
       "             1,     1,     1,     1,     1,     1,     1,     1,     1,     1,\n",
       "             1,     1,     1,     1,     1,     1],\n",
       "        [   32,    15,   858,   736,   331, 19149,    95,     6,    86,    28,\n",
       "             7,  3880,    16,   506, 45752,    11, 14956,  1279,  2718,    10,\n",
       "             5,   527,   220,     6,    28,  3452,  2059,    22,  8228,    14,\n",
       "           204,   301,     9,     5,   125,     4],\n",
       "        [   32,    15,  2124,   455,   105,  1671,  1454,    67,     5,   356,\n",
       "            11,     5,   997,    16,   298,    40,   215,     8,  6362,    41,\n",
       "             5,   302,   125,   106,    81,   178,     5,  7835,     9,     5,\n",
       "          1046, 15411,     4,     1,     1,     1],\n",
       "        [   32,    15,   674,    37,  5100,    83,  3735,  7986,    31,     5,\n",
       "           743,  3144,    10,   466,    96,    36,  1405,   548,     7,   984,\n",
       "          2530,    92,   738,  2505,     6,    30,    83,   278,    24,    14,\n",
       "            98,     4,     1,     1,     1,     1]])"
      ]
     },
     "execution_count": 28,
     "metadata": {},
     "output_type": "execute_result"
    }
   ],
   "source": [
    "from torchtext.transforms import ToTensor\n",
    "\n",
    "padded_token_ids = ToTensor(padding_value=vocab['<pad>'])(token_ids)\n",
    "padded_token_ids"
   ]
  },
  {
   "cell_type": "markdown",
   "id": "e5b77cd7",
   "metadata": {
    "id": "8fb5ea5b"
   },
   "source": [
    "#### 15.5.3.3 `<SEP>`: Separation Token"
   ]
  },
  {
   "cell_type": "code",
   "execution_count": 29,
   "id": "424bd971",
   "metadata": {
    "colab": {
     "base_uri": "https://localhost:8080/"
    },
    "id": "5f48c2bb",
    "outputId": "01a877a1-0370-44e7-d9d1-fba554f629d1"
   },
   "outputs": [
    {
     "data": {
      "text/plain": [
       "2"
      ]
     },
     "execution_count": 29,
     "metadata": {},
     "output_type": "execute_result"
    }
   ],
   "source": [
    "vocab['<sep>']"
   ]
  },
  {
   "cell_type": "code",
   "execution_count": 30,
   "id": "ee488519",
   "metadata": {
    "colab": {
     "base_uri": "https://localhost:8080/"
    },
    "id": "4a9772d4",
    "outputId": "98c75730-ce79-41bc-ad50-56ecfb1109b1"
   },
   "outputs": [
    {
     "data": {
      "text/plain": [
       "tensor([[   32,    15, 44049,     6,   413,   327,    12,    13, 10945,  3069,\n",
       "             9, 45325,     6,    40,  3603,   811,   416,     4,     2,     1,\n",
       "             1,     1,     1,     1,     1,     1,     1,     1,     1,     1,\n",
       "             1,     1,     1,     1,     1,     1,     1],\n",
       "        [   32,    15,   858,   736,   331, 19149,    95,     6,    86,    28,\n",
       "             7,  3880,    16,   506, 45752,    11, 14956,  1279,  2718,    10,\n",
       "             5,   527,   220,     6,    28,  3452,  2059,    22,  8228,    14,\n",
       "           204,   301,     9,     5,   125,     4,     2],\n",
       "        [   32,    15,  2124,   455,   105,  1671,  1454,    67,     5,   356,\n",
       "            11,     5,   997,    16,   298,    40,   215,     8,  6362,    41,\n",
       "             5,   302,   125,   106,    81,   178,     5,  7835,     9,     5,\n",
       "          1046, 15411,     4,     2,     1,     1,     1],\n",
       "        [   32,    15,   674,    37,  5100,    83,  3735,  7986,    31,     5,\n",
       "           743,  3144,    10,   466,    96,    36,  1405,   548,     7,   984,\n",
       "          2530,    92,   738,  2505,     6,    30,    83,   278,    24,    14,\n",
       "            98,     4,     2,     1,     1,     1,     1]])"
      ]
     },
     "execution_count": 30,
     "metadata": {},
     "output_type": "execute_result"
    }
   ],
   "source": [
    "from torchtext.transforms import AddToken\n",
    "\n",
    "added_token_ids = AddToken(token=vocab['<sep>'], begin=False)(token_ids)\n",
    "ToTensor(padding_value=vocab['<pad>'])(added_token_ids)"
   ]
  },
  {
   "cell_type": "markdown",
   "id": "6509bbe2",
   "metadata": {
    "id": "deeb46f0"
   },
   "source": [
    "#### 15.5.3.4 `<CLS>`: Classification Token"
   ]
  },
  {
   "cell_type": "code",
   "execution_count": 31,
   "id": "d9e6adce",
   "metadata": {
    "colab": {
     "base_uri": "https://localhost:8080/"
    },
    "id": "21803090",
    "outputId": "cbaa3cb2-0486-4250-e8b8-14fc9a794741"
   },
   "outputs": [
    {
     "data": {
      "text/plain": [
       "tensor([[    3,    32,    15, 44049,     6,   413,   327,    12,    13, 10945,\n",
       "          3069,     9, 45325,     6,    40,  3603,   811,   416,     4,     2,\n",
       "             1,     1,     1,     1,     1,     1,     1,     1,     1,     1,\n",
       "             1,     1,     1,     1,     1,     1,     1,     1],\n",
       "        [    3,    32,    15,   858,   736,   331, 19149,    95,     6,    86,\n",
       "            28,     7,  3880,    16,   506, 45752,    11, 14956,  1279,  2718,\n",
       "            10,     5,   527,   220,     6,    28,  3452,  2059,    22,  8228,\n",
       "            14,   204,   301,     9,     5,   125,     4,     2],\n",
       "        [    3,    32,    15,  2124,   455,   105,  1671,  1454,    67,     5,\n",
       "           356,    11,     5,   997,    16,   298,    40,   215,     8,  6362,\n",
       "            41,     5,   302,   125,   106,    81,   178,     5,  7835,     9,\n",
       "             5,  1046, 15411,     4,     2,     1,     1,     1],\n",
       "        [    3,    32,    15,   674,    37,  5100,    83,  3735,  7986,    31,\n",
       "             5,   743,  3144,    10,   466,    96,    36,  1405,   548,     7,\n",
       "           984,  2530,    92,   738,  2505,     6,    30,    83,   278,    24,\n",
       "            14,    98,     4,     2,     1,     1,     1,     1]])"
      ]
     },
     "execution_count": 31,
     "metadata": {},
     "output_type": "execute_result"
    }
   ],
   "source": [
    "added_token_ids = AddToken(token=vocab['<cls>'], begin=True)(added_token_ids)\n",
    "ToTensor(padding_value=vocab['<pad>'])(added_token_ids)"
   ]
  },
  {
   "cell_type": "markdown",
   "id": "4a996189",
   "metadata": {
    "id": "41c30064"
   },
   "source": [
    "### 15.5.4 Truncation"
   ]
  },
  {
   "cell_type": "code",
   "execution_count": 32,
   "id": "aff5509c",
   "metadata": {
    "id": "95e0ec0f"
   },
   "outputs": [],
   "source": [
    "from torchtext.transforms import Truncate\n",
    "\n",
    "truncated_token_ids = Truncate(max_seq_len=254)(token_ids)"
   ]
  },
  {
   "cell_type": "markdown",
   "id": "f23cbb3e",
   "metadata": {
    "id": "2bbf3afb"
   },
   "source": [
    "### 15.5.5 Sequential"
   ]
  },
  {
   "cell_type": "code",
   "execution_count": 33,
   "id": "22c7e3b7",
   "metadata": {
    "colab": {
     "base_uri": "https://localhost:8080/"
    },
    "id": "b8a3e8fa",
    "outputId": "b772f78f-abe4-41a7-d7b1-4a1976fe5fc8"
   },
   "outputs": [
    {
     "data": {
      "text/plain": [
       "<function torchtext.data.utils._basic_english_normalize(line)>"
      ]
     },
     "execution_count": 33,
     "metadata": {},
     "output_type": "execute_result"
    }
   ],
   "source": [
    "get_tokenizer('basic_english')"
   ]
  },
  {
   "cell_type": "code",
   "execution_count": 34,
   "id": "afb60538",
   "metadata": {
    "colab": {
     "base_uri": "https://localhost:8080/"
    },
    "id": "183d2ca3",
    "outputId": "b4ecef66-ba3c-4350-a975-156e70ccaf42"
   },
   "outputs": [
    {
     "data": {
      "text/plain": [
       "Sequential(\n",
       "  (0): VocabTransform(\n",
       "    (vocab): Vocab()\n",
       "  )\n",
       "  (1): Truncate()\n",
       "  (2): AddToken()\n",
       "  (3): AddToken()\n",
       ")"
      ]
     },
     "execution_count": 34,
     "metadata": {},
     "output_type": "execute_result"
    }
   ],
   "source": [
    "from torchtext.transforms import Sequential as TextSequential\n",
    "\n",
    "transform_fn = TextSequential(vocab_transform,\n",
    "                              Truncate(max_seq_len=254),\n",
    "                              AddToken(token=vocab['<cls>'], begin=True),\n",
    "                              AddToken(token=vocab['<sep>'], begin=False))\n",
    "transform_fn"
   ]
  },
  {
   "cell_type": "code",
   "execution_count": 35,
   "id": "27e6f31b",
   "metadata": {
    "colab": {
     "base_uri": "https://localhost:8080/"
    },
    "id": "c05224eb",
    "outputId": "2cdcba57-de76-4c72-b4e8-9aef021d6364"
   },
   "outputs": [
    {
     "data": {
      "text/plain": [
       "tensor([[    3,    32,    15, 44049,     6,   413,   327,    12,    13, 10945,\n",
       "          3069,     9, 45325,     6,    40,  3603,   811,   416,     4,     2,\n",
       "             1,     1,     1,     1,     1,     1,     1,     1,     1,     1,\n",
       "             1,     1,     1,     1,     1,     1,     1,     1],\n",
       "        [    3,    32,    15,   858,   736,   331, 19149,    95,     6,    86,\n",
       "            28,     7,  3880,    16,   506, 45752,    11, 14956,  1279,  2718,\n",
       "            10,     5,   527,   220,     6,    28,  3452,  2059,    22,  8228,\n",
       "            14,   204,   301,     9,     5,   125,     4,     2],\n",
       "        [    3,    32,    15,  2124,   455,   105,  1671,  1454,    67,     5,\n",
       "           356,    11,     5,   997,    16,   298,    40,   215,     8,  6362,\n",
       "            41,     5,   302,   125,   106,    81,   178,     5,  7835,     9,\n",
       "             5,  1046, 15411,     4,     2,     1,     1,     1],\n",
       "        [    3,    32,    15,   674,    37,  5100,    83,  3735,  7986,    31,\n",
       "             5,   743,  3144,    10,   466,    96,    36,  1405,   548,     7,\n",
       "           984,  2530,    92,   738,  2505,     6,    30,    83,   278,    24,\n",
       "            14,    98,     4,     2,     1,     1,     1,     1]])"
      ]
     },
     "execution_count": 35,
     "metadata": {},
     "output_type": "execute_result"
    }
   ],
   "source": [
    "tokens = [tokenizer(d) for d in descriptions]\n",
    "ToTensor(padding_value=vocab['<pad>'])(transform_fn(tokens))"
   ]
  },
  {
   "cell_type": "markdown",
   "id": "b7758529",
   "metadata": {
    "id": "a7af9756"
   },
   "source": [
    "### 15.5.6 Tokenizers"
   ]
  },
  {
   "cell_type": "markdown",
   "id": "95cebf42",
   "metadata": {
    "id": "2fee6214"
   },
   "source": [
    "#### 15.5.6.1 BERTTokenizer"
   ]
  },
  {
   "cell_type": "code",
   "execution_count": 36,
   "id": "6479d8ef",
   "metadata": {
    "colab": {
     "base_uri": "https://localhost:8080/"
    },
    "id": "12c652ac",
    "outputId": "50412131-0acc-4414-af08-7a5b269d51b6"
   },
   "outputs": [
    {
     "name": "stderr",
     "output_type": "stream",
     "text": [
      "100%|██████████| 232k/232k [00:00<00:00, 17.7MB/s]\n"
     ]
    }
   ],
   "source": [
    "from torchtext.transforms import BERTTokenizer\n",
    "\n",
    "VOCAB_FILE = \"https://huggingface.co/bert-base-uncased/resolve/main/vocab.txt\"\n",
    "\n",
    "tokenizer = BERTTokenizer(vocab_path=VOCAB_FILE, do_lower_case=True, return_tokens=True)"
   ]
  },
  {
   "cell_type": "code",
   "execution_count": 37,
   "id": "990f69db",
   "metadata": {
    "colab": {
     "base_uri": "https://localhost:8080/"
    },
    "id": "6d791905",
    "outputId": "8a7b4a5d-bca4-4249-87d5-b78220be23f8"
   },
   "outputs": [
    {
     "data": {
      "text/plain": [
       "['reuters',\n",
       " '-',\n",
       " 'short',\n",
       " '-',\n",
       " 'sellers',\n",
       " ',',\n",
       " 'wall',\n",
       " 'street',\n",
       " \"'\",\n",
       " 's',\n",
       " 'd',\n",
       " '##wind',\n",
       " '##ling',\n",
       " 'band',\n",
       " 'of',\n",
       " 'ultra',\n",
       " '-',\n",
       " 'cy',\n",
       " '##nic',\n",
       " '##s',\n",
       " ',',\n",
       " 'are',\n",
       " 'seeing',\n",
       " 'green',\n",
       " 'again',\n",
       " '.']"
      ]
     },
     "execution_count": 37,
     "metadata": {},
     "output_type": "execute_result"
    }
   ],
   "source": [
    "tokenizer(descriptions[0])"
   ]
  },
  {
   "cell_type": "code",
   "execution_count": 38,
   "id": "6695cd54",
   "metadata": {
    "colab": {
     "base_uri": "https://localhost:8080/"
    },
    "id": "e7b8a1da",
    "outputId": "3a5dde84-7b62-46b1-bcc8-abdbb14b2955"
   },
   "outputs": [
    {
     "data": {
      "text/plain": [
       "30523"
      ]
     },
     "execution_count": 38,
     "metadata": {},
     "output_type": "execute_result"
    }
   ],
   "source": [
    "import requests\n",
    "\n",
    "resp = requests.get(VOCAB_FILE)\n",
    "vocab_txt = resp.content\n",
    "vocab_list = vocab_txt.decode().split('\\n')\n",
    "len(vocab_list)"
   ]
  },
  {
   "cell_type": "markdown",
   "id": "8127ae2c",
   "metadata": {
    "id": "a7741769"
   },
   "source": [
    "#### 15.5.6.2 GPT2BPETokenizer"
   ]
  },
  {
   "cell_type": "code",
   "execution_count": 39,
   "id": "4eef1334",
   "metadata": {
    "colab": {
     "base_uri": "https://localhost:8080/"
    },
    "id": "f7e22468",
    "outputId": "9b4d38b6-d70c-402a-f526-d020429534a3"
   },
   "outputs": [
    {
     "name": "stderr",
     "output_type": "stream",
     "text": [
      "1.04MB [00:00, 50.0MB/s]\n",
      "456kB [00:00, 22.5MB/s]\n"
     ]
    },
    {
     "data": {
      "text/plain": [
       "['12637',\n",
       " '532',\n",
       " '10073',\n",
       " '12',\n",
       " '7255',\n",
       " '364',\n",
       " '11',\n",
       " '5007',\n",
       " '3530',\n",
       " '338',\n",
       " '45215',\n",
       " '4097',\n",
       " '286',\n",
       " '14764',\n",
       " '12',\n",
       " '948',\n",
       " '77',\n",
       " '873',\n",
       " '11',\n",
       " '389',\n",
       " '4379',\n",
       " '4077',\n",
       " '757',\n",
       " '13']"
      ]
     },
     "execution_count": 39,
     "metadata": {},
     "output_type": "execute_result"
    }
   ],
   "source": [
    "from torchtext.transforms import GPT2BPETokenizer\n",
    "\n",
    "# https://github.com/facebookresearch/fairseq/blob/8deb43af8c54d6840e5ba6e057acf715c4491f9c/fairseq/data/encoders/gpt2_bpe.py#L15\n",
    "VOCAB_FILE = \"https://dl.fbaipublicfiles.com/fairseq/gpt2_bpe/vocab.bpe\"\n",
    "ENCODER_FILE = \"https://dl.fbaipublicfiles.com/fairseq/gpt2_bpe/encoder.json\"\n",
    "tokenizer = GPT2BPETokenizer(vocab_bpe_path=VOCAB_FILE, encoder_json_path=ENCODER_FILE)\n",
    "\n",
    "tokenizer(descriptions[0])"
   ]
  },
  {
   "cell_type": "code",
   "execution_count": 40,
   "id": "be502b46",
   "metadata": {
    "colab": {
     "base_uri": "https://localhost:8080/"
    },
    "id": "1bb54d12",
    "outputId": "ab1d8bd3-e17a-47d5-b9de-37e7e3721e30"
   },
   "outputs": [
    {
     "name": "stderr",
     "output_type": "stream",
     "text": [
      "100%|██████████| 1.04M/1.04M [00:00<00:00, 3.35MB/s]\n",
      "100%|██████████| 456k/456k [00:00<00:00, 1.83MB/s]\n",
      "Downloading: \"https://download.pytorch.org/models/text/roberta.vocab.pt\" to /root/.cache/torch/hub/checkpoints/roberta.vocab.pt\n",
      "100%|██████████| 726k/726k [00:00<00:00, 19.3MB/s]\n"
     ]
    },
    {
     "data": {
      "text/plain": [
       "Sequential(\n",
       "  (0): GPT2BPETokenizer()\n",
       "  (1): VocabTransform(\n",
       "    (vocab): Vocab()\n",
       "  )\n",
       "  (2): Truncate()\n",
       "  (3): AddToken()\n",
       "  (4): AddToken()\n",
       ")"
      ]
     },
     "execution_count": 40,
     "metadata": {},
     "output_type": "execute_result"
    }
   ],
   "source": [
    "import torchtext\n",
    "\n",
    "roberta_base = torchtext.models.ROBERTA_BASE_ENCODER\n",
    "roberta_transform_fn = roberta_base.transform()\n",
    "roberta_transform_fn"
   ]
  },
  {
   "cell_type": "markdown",
   "id": "abe56de3",
   "metadata": {
    "id": "fb0f6379"
   },
   "source": [
    "#### 15.5.6.3 CLIPTokenizer"
   ]
  },
  {
   "cell_type": "code",
   "execution_count": 41,
   "id": "675bec1e",
   "metadata": {
    "colab": {
     "base_uri": "https://localhost:8080/"
    },
    "id": "256aba12",
    "outputId": "765babd2-0bcf-47a6-d80d-f4897a99f1e7"
   },
   "outputs": [
    {
     "name": "stderr",
     "output_type": "stream",
     "text": [
      "100%|██████████| 525k/525k [00:00<00:00, 1.67MB/s]\n",
      "100%|██████████| 862k/862k [00:00<00:00, 2.63MB/s]\n"
     ]
    },
    {
     "data": {
      "text/plain": [
       "['15569',\n",
       " '268',\n",
       " '3005',\n",
       " '268',\n",
       " '16562',\n",
       " '267',\n",
       " '2569',\n",
       " '2012',\n",
       " '568',\n",
       " '67',\n",
       " '6812',\n",
       " '1358',\n",
       " '1963',\n",
       " '539',\n",
       " '8118',\n",
       " '268',\n",
       " '14324',\n",
       " '1324',\n",
       " '267',\n",
       " '631',\n",
       " '3214',\n",
       " '1901',\n",
       " '1495',\n",
       " '269']"
      ]
     },
     "execution_count": 41,
     "metadata": {},
     "output_type": "execute_result"
    }
   ],
   "source": [
    "from torchtext.transforms import CLIPTokenizer\n",
    "\n",
    "MERGES_FILE = \"http://download.pytorch.org/models/text/clip_merges.bpe\"\n",
    "ENCODER_FILE = \"http://download.pytorch.org/models/text/clip_encoder.json\"\n",
    "\n",
    "tokenizer = CLIPTokenizer(merges_path=MERGES_FILE, encoder_json_path=ENCODER_FILE)\n",
    "\n",
    "tokenizer(descriptions[0])"
   ]
  },
  {
   "cell_type": "markdown",
   "id": "a7315f28",
   "metadata": {
    "id": "59092fde"
   },
   "source": [
    "## 15.6 Embeddings"
   ]
  },
  {
   "cell_type": "code",
   "execution_count": 42,
   "id": "43deb3f5",
   "metadata": {
    "colab": {
     "base_uri": "https://localhost:8080/"
    },
    "id": "97f75748",
    "outputId": "58153604-36f7-4075-a558-e04dcf1aacaf"
   },
   "outputs": [
    {
     "data": {
      "text/plain": [
       "Embedding(78151, 50)"
      ]
     },
     "execution_count": 42,
     "metadata": {},
     "output_type": "execute_result"
    }
   ],
   "source": [
    "import torch.nn as nn\n",
    "\n",
    "emb_dims = 50\n",
    "embeddings = nn.Embedding(len(vocab), emb_dims)\n",
    "embeddings"
   ]
  },
  {
   "cell_type": "code",
   "execution_count": 43,
   "id": "0b621c85",
   "metadata": {
    "colab": {
     "base_uri": "https://localhost:8080/"
    },
    "id": "553745ac",
    "outputId": "eb6e49b4-c044-4f23-f6a0-ce544957b0a3"
   },
   "outputs": [
    {
     "data": {
      "text/plain": [
       "(tensor([32]),\n",
       " tensor([[-4.4208e-01, -5.5386e-01,  2.6806e-01, -1.4883e+00,  1.1500e+00,\n",
       "           6.3705e-02,  2.2030e+00, -6.9488e-01, -1.3200e+00, -4.8496e-01,\n",
       "          -2.3973e+00,  1.5396e+00, -4.2997e-01,  3.4996e-01,  1.4332e+00,\n",
       "          -7.5786e-01, -7.7373e-01, -6.1642e-01,  1.7552e+00,  7.9116e-01,\n",
       "           1.1501e+00, -4.9157e-01, -1.0165e+00,  3.8830e-02, -8.3259e-04,\n",
       "           3.6193e-01,  1.9510e+00,  1.3320e-01, -1.1226e+00,  7.0744e-01,\n",
       "          -9.0923e-01, -4.0862e-01, -6.0121e-01,  3.4464e-01,  3.8744e+00,\n",
       "           1.1284e+00,  1.5116e-01, -3.0192e-02,  1.9442e+00,  9.8362e-01,\n",
       "           4.3002e-01,  1.7529e-01, -1.0816e+00, -1.2829e+00, -1.2346e+00,\n",
       "           1.4199e+00,  1.4938e+00, -7.9703e-02,  5.7981e-01, -1.0756e-01]],\n",
       "        grad_fn=<EmbeddingBackward0>))"
      ]
     },
     "execution_count": 43,
     "metadata": {},
     "output_type": "execute_result"
    }
   ],
   "source": [
    "import torch\n",
    "\n",
    "idx = torch.as_tensor([vocab['reuters']])\n",
    "idx, embeddings(idx)"
   ]
  },
  {
   "cell_type": "code",
   "execution_count": 44,
   "id": "e9841c98",
   "metadata": {
    "colab": {
     "base_uri": "https://localhost:8080/"
    },
    "id": "24bd2513",
    "outputId": "31006559-8042-49ea-c32f-85599ce0ec7f"
   },
   "outputs": [
    {
     "data": {
      "text/plain": [
       "tensor([[-4.4208e-01, -5.5386e-01,  2.6806e-01, -1.4883e+00,  1.1500e+00,\n",
       "          6.3705e-02,  2.2030e+00, -6.9488e-01, -1.3200e+00, -4.8496e-01,\n",
       "         -2.3973e+00,  1.5396e+00, -4.2997e-01,  3.4996e-01,  1.4332e+00,\n",
       "         -7.5786e-01, -7.7373e-01, -6.1642e-01,  1.7552e+00,  7.9116e-01,\n",
       "          1.1501e+00, -4.9157e-01, -1.0165e+00,  3.8830e-02, -8.3259e-04,\n",
       "          3.6193e-01,  1.9510e+00,  1.3320e-01, -1.1226e+00,  7.0744e-01,\n",
       "         -9.0923e-01, -4.0862e-01, -6.0121e-01,  3.4464e-01,  3.8744e+00,\n",
       "          1.1284e+00,  1.5116e-01, -3.0192e-02,  1.9442e+00,  9.8362e-01,\n",
       "          4.3002e-01,  1.7529e-01, -1.0816e+00, -1.2829e+00, -1.2346e+00,\n",
       "          1.4199e+00,  1.4938e+00, -7.9703e-02,  5.7981e-01, -1.0756e-01]],\n",
       "       grad_fn=<IndexBackward0>)"
      ]
     },
     "execution_count": 44,
     "metadata": {},
     "output_type": "execute_result"
    }
   ],
   "source": [
    "embeddings.weight[idx]"
   ]
  },
  {
   "cell_type": "markdown",
   "id": "e256598b",
   "metadata": {
    "id": "3fd37adf"
   },
   "source": [
    "### 15.6.2 Embedding Arithmetic\n",
    "\n",
    "![](https://raw.githubusercontent.com/dvgodoy/assets/main/PyTorchInPractice/images/ch13/embed_arithmetic.png)"
   ]
  },
  {
   "cell_type": "markdown",
   "id": "48188ba2",
   "metadata": {
    "id": "a0da8bb0"
   },
   "source": [
    "![](https://raw.githubusercontent.com/dvgodoy/assets/main/PyTorchInPractice/images/ch13/synthetic_queen.png)"
   ]
  },
  {
   "cell_type": "markdown",
   "id": "72a2256c",
   "metadata": {
    "id": "2bee9d13"
   },
   "source": [
    "### 15.6.3 Global Vectors (GloVe)"
   ]
  },
  {
   "cell_type": "code",
   "execution_count": 45,
   "id": "dc7aad77",
   "metadata": {
    "colab": {
     "base_uri": "https://localhost:8080/"
    },
    "id": "02dc513e",
    "outputId": "086ca618-d84c-4499-dd3a-f07dc2119ec3"
   },
   "outputs": [
    {
     "data": {
      "text/plain": [
       "{'42B': 'http://nlp.stanford.edu/data/glove.42B.300d.zip',\n",
       " '840B': 'http://nlp.stanford.edu/data/glove.840B.300d.zip',\n",
       " 'twitter.27B': 'http://nlp.stanford.edu/data/glove.twitter.27B.zip',\n",
       " '6B': 'http://nlp.stanford.edu/data/glove.6B.zip'}"
      ]
     },
     "execution_count": 45,
     "metadata": {},
     "output_type": "execute_result"
    }
   ],
   "source": [
    "from torchtext.vocab import GloVe\n",
    "\n",
    "GloVe.url"
   ]
  },
  {
   "cell_type": "code",
   "execution_count": 46,
   "id": "8f50441c",
   "metadata": {
    "colab": {
     "base_uri": "https://localhost:8080/"
    },
    "id": "2334d687",
    "outputId": "13c3c9b4-6550-41b8-9645-3f1cd05c0af5"
   },
   "outputs": [
    {
     "data": {
      "text/plain": [
       "{'42B': 'https://huggingface.co/stanfordnlp/glove/resolve/main/glove.42B.300d.zip',\n",
       " '840B': 'https://huggingface.co/stanfordnlp/glove/resolve/main/glove.840B.300d.zip',\n",
       " 'twitter.27B': 'https://huggingface.co/stanfordnlp/glove/resolve/main/glove.twitter.27B.zip',\n",
       " '6B': 'https://huggingface.co/stanfordnlp/glove/resolve/main/glove.6B.zip'}"
      ]
     },
     "execution_count": 46,
     "metadata": {},
     "output_type": "execute_result"
    }
   ],
   "source": [
    "import os\n",
    "\n",
    "new_locations = {key: os.path.join('https://huggingface.co/stanfordnlp/glove/resolve/main',\n",
    "                                   os.path.split(GloVe.url[key])[-1]) for key in GloVe.url.keys()}\n",
    "new_locations"
   ]
  },
  {
   "cell_type": "code",
   "execution_count": 47,
   "id": "cd92cf4a",
   "metadata": {
    "id": "f545135d"
   },
   "outputs": [],
   "source": [
    "GloVe.url = new_locations"
   ]
  },
  {
   "cell_type": "code",
   "execution_count": 48,
   "id": "01cba10b",
   "metadata": {
    "colab": {
     "base_uri": "https://localhost:8080/"
    },
    "id": "59c3be59",
    "outputId": "b68cf15b-f058-415e-e734-4d2a726a213e"
   },
   "outputs": [
    {
     "name": "stderr",
     "output_type": "stream",
     "text": [
      ".vector_cache/glove.6B.zip: 862MB [00:15, 56.2MB/s]                           \n",
      "100%|█████████▉| 400000/400001 [00:12<00:00, 32234.93it/s]\n"
     ]
    }
   ],
   "source": [
    "vec = GloVe(name='6B', dim=50)"
   ]
  },
  {
   "cell_type": "code",
   "execution_count": 49,
   "id": "37c6f84c",
   "metadata": {
    "colab": {
     "base_uri": "https://localhost:8080/"
    },
    "id": "f31dc5dc",
    "outputId": "65400271-5f07-412f-bd54-fc7a4be92f50"
   },
   "outputs": [
    {
     "data": {
      "text/plain": [
       "(tensor([[ 0.4180,  0.2497, -0.4124,  ..., -0.1841, -0.1151, -0.7858],\n",
       "         [ 0.0134,  0.2368, -0.1690,  ..., -0.5666,  0.0447,  0.3039],\n",
       "         [ 0.1516,  0.3018, -0.1676,  ..., -0.3565,  0.0164,  0.1022],\n",
       "         ...,\n",
       "         [-0.7590, -0.4743,  0.4737,  ...,  0.7895, -0.0141,  0.6448],\n",
       "         [ 0.0726, -0.5139,  0.4728,  ..., -0.1891, -0.5902,  0.5556],\n",
       "         [ 0.0726, -0.5139,  0.4728,  ..., -0.1891, -0.5902,  0.5556]]),\n",
       " torch.Size([400001, 50]))"
      ]
     },
     "execution_count": 49,
     "metadata": {},
     "output_type": "execute_result"
    }
   ],
   "source": [
    "vec.vectors, vec.vectors.shape"
   ]
  },
  {
   "cell_type": "code",
   "execution_count": 50,
   "id": "73d4557c",
   "metadata": {
    "colab": {
     "base_uri": "https://localhost:8080/"
    },
    "id": "601ace49",
    "outputId": "fef4c9c4-0b31-4df7-9b52-f19d0262b1fa"
   },
   "outputs": [
    {
     "data": {
      "text/plain": [
       "tensor([-0.1374, -0.2549,  1.8853,  0.1476,  0.6386, -0.6768, -1.1622, -0.2153,\n",
       "         0.2598, -0.5288,  0.6668, -0.7675, -0.5273,  0.0666,  0.0766,  0.3274,\n",
       "        -0.8025, -0.4955, -0.3739,  0.1126,  1.1671,  1.1508,  0.6180,  0.0795,\n",
       "         0.1269, -0.0724, -1.2037, -0.2462, -0.7708,  0.7670,  1.2745, -0.1290,\n",
       "         0.9989, -0.2673, -0.5754, -1.0151, -0.1428, -0.4382,  0.7658, -0.0088,\n",
       "         1.2848,  0.0031,  0.1186, -0.3882, -0.2352, -0.9209, -0.5164,  1.5083,\n",
       "         0.3646,  0.5991])"
      ]
     },
     "execution_count": 50,
     "metadata": {},
     "output_type": "execute_result"
    }
   ],
   "source": [
    "vec['reuters']"
   ]
  },
  {
   "cell_type": "code",
   "execution_count": 51,
   "id": "5afa662a",
   "metadata": {
    "colab": {
     "base_uri": "https://localhost:8080/"
    },
    "id": "ebdd6588",
    "outputId": "118a4a7e-49f8-49ab-fe98-f927f2923cbb"
   },
   "outputs": [
    {
     "data": {
      "text/plain": [
       "(10851, 'reuters')"
      ]
     },
     "execution_count": 51,
     "metadata": {},
     "output_type": "execute_result"
    }
   ],
   "source": [
    "vec.stoi['reuters'], vec.itos[10851]"
   ]
  },
  {
   "cell_type": "code",
   "execution_count": 52,
   "id": "1742a858",
   "metadata": {
    "colab": {
     "base_uri": "https://localhost:8080/"
    },
    "id": "222a1f3f",
    "outputId": "7b588473-1260-4f9e-f507-f2669ff74cdb"
   },
   "outputs": [
    {
     "data": {
      "text/plain": [
       "tensor([ 1.3244, -0.3380, -0.7163,  2.3814,  0.2372,  1.2824,  0.4650, -0.2310,\n",
       "         0.0327, -0.5052,  0.0911,  0.6865,  0.5613,  0.6078, -0.2925, -0.3512,\n",
       "        -0.5515,  1.4059, -0.3041, -0.4593, -1.1025, -0.4290, -0.4530,  0.0071,\n",
       "        -0.2118,  0.4694,  0.3863,  0.9646, -0.8679, -0.4496, -0.2790, -0.7240,\n",
       "         1.3138,  0.8487, -0.9294, -0.2259, -0.7488, -0.8090,  0.1210, -0.5639,\n",
       "         0.0885, -0.5298, -0.2664,  1.6615,  1.0241, -0.8384, -0.0942,  0.6270,\n",
       "        -0.0036,  0.4311])"
      ]
     },
     "execution_count": 52,
     "metadata": {},
     "output_type": "execute_result"
    }
   ],
   "source": [
    "vec['anteater']"
   ]
  },
  {
   "cell_type": "code",
   "execution_count": 53,
   "id": "0c2ae218",
   "metadata": {
    "colab": {
     "base_uri": "https://localhost:8080/"
    },
    "id": "d9da37f2",
    "outputId": "4ddf8496-1c58-4733-c3aa-b8e3197c65af"
   },
   "outputs": [
    {
     "data": {
      "text/plain": [
       "tensor([0., 0., 0., 0., 0., 0., 0., 0., 0., 0., 0., 0., 0., 0., 0., 0., 0., 0., 0., 0., 0., 0., 0., 0.,\n",
       "        0., 0., 0., 0., 0., 0., 0., 0., 0., 0., 0., 0., 0., 0., 0., 0., 0., 0., 0., 0., 0., 0., 0., 0.,\n",
       "        0., 0.])"
      ]
     },
     "execution_count": 53,
     "metadata": {},
     "output_type": "execute_result"
    }
   ],
   "source": [
    "vec['zzzzzzz']"
   ]
  },
  {
   "cell_type": "code",
   "execution_count": 54,
   "id": "32eec833",
   "metadata": {
    "colab": {
     "base_uri": "https://localhost:8080/"
    },
    "id": "5184528f",
    "outputId": "4ec95542-1a13-464b-9f8c-a046c6b3334f"
   },
   "outputs": [
    {
     "data": {
      "text/plain": [
       "torch.Size([18, 50])"
      ]
     },
     "execution_count": 54,
     "metadata": {},
     "output_type": "execute_result"
    }
   ],
   "source": [
    "embedded_tokens = vec.get_vecs_by_tokens(tokens[0])\n",
    "embedded_tokens.shape"
   ]
  },
  {
   "cell_type": "markdown",
   "id": "c8279d7d",
   "metadata": {
    "id": "9c5cd348"
   },
   "source": [
    "## 15.7 Vector Databases"
   ]
  },
  {
   "cell_type": "markdown",
   "id": "41659c02",
   "metadata": {
    "id": "676af97f"
   },
   "source": [
    "### 15.7.1 ChromaDB"
   ]
  },
  {
   "cell_type": "code",
   "execution_count": 93,
   "id": "e165bba6",
   "metadata": {
    "id": "3efc931f"
   },
   "outputs": [],
   "source": [
    "import chromadb\n",
    "\n",
    "client = chromadb.PersistentClient(path=\"./agnews_db\")"
   ]
  },
  {
   "cell_type": "code",
   "execution_count": 94,
   "id": "2bb71c1d",
   "metadata": {
    "id": "6b2b4719"
   },
   "outputs": [],
   "source": [
    "collection = client.create_collection(\"agnews_collection\")"
   ]
  },
  {
   "cell_type": "markdown",
   "id": "6a063804",
   "metadata": {
    "id": "2088f815"
   },
   "source": [
    "![](https://raw.githubusercontent.com/dvgodoy/assets/main/PyTorchInPractice/images/ch13/vector_db.png)"
   ]
  },
  {
   "cell_type": "code",
   "execution_count": null,
   "id": "c768fa07",
   "metadata": {},
   "outputs": [],
   "source": [
    "from torchtext.data import get_tokenizer\n",
    "\n",
    "def tokenize_batch(sentences, tokenizer=None):\n",
    "    if tokenizer is None:\n",
    "        tokenizer = get_tokenizer('basic_english')\n",
    "    \n",
    "    return [tokenizer(s) for s in sentences]\n",
    "\n",
    "def get_bag_of_embeddings(tokens, vec):\n",
    "    embeddings = torch.cat([vec.get_vecs_by_tokens(s).mean(axis=0).unsqueeze(0) for s in tokens], dim=0)\n",
    "    return embeddings"
   ]
  },
  {
   "cell_type": "code",
   "execution_count": 95,
   "id": "30ecf2b2",
   "metadata": {
    "id": "7b04a64d"
   },
   "outputs": [],
   "source": [
    "from torch.utils.data import DataLoader\n",
    "\n",
    "batch_size = 32\n",
    "unshuffled_dl = DataLoader(dataset=datapipes['train'], batch_size=batch_size, shuffle=False)\n",
    "\n",
    "for i, batch in enumerate(unshuffled_dl):\n",
    "    labels, sentences = batch\n",
    "    tokens = tokenize_batch(sentences)\n",
    "    embeddings = get_bag_of_embeddings(tokens, vec)\n",
    "    ids = [f'{i:06}' for i in np.arange(i*batch_size, i*batch_size+len(sentences))]\n",
    "\n",
    "    collection.add(embeddings=embeddings.tolist(),\n",
    "                   documents=sentences,\n",
    "                   metadatas=[{'label': v} for v in labels.tolist()],\n",
    "                   ids=ids)\n",
    "\n",
    "    if i == 300: # roughly 10k docs\n",
    "        break"
   ]
  },
  {
   "cell_type": "code",
   "execution_count": 96,
   "id": "b90c2219",
   "metadata": {
    "colab": {
     "base_uri": "https://localhost:8080/"
    },
    "id": "ffddd9cc",
    "outputId": "91d11039-ad3d-4985-fa03-e3f8e8862d52"
   },
   "outputs": [
    {
     "data": {
      "text/plain": [
       "9632"
      ]
     },
     "execution_count": 96,
     "metadata": {},
     "output_type": "execute_result"
    }
   ],
   "source": [
    "collection.count()"
   ]
  },
  {
   "cell_type": "markdown",
   "id": "b7ba2247",
   "metadata": {
    "id": "b119f4b8"
   },
   "source": [
    "### 15.7.2 Similarity Search"
   ]
  },
  {
   "cell_type": "code",
   "execution_count": 110,
   "id": "c5f10e52",
   "metadata": {
    "colab": {
     "base_uri": "https://localhost:8080/"
    },
    "id": "879e7f65",
    "outputId": "a8798a05-d614-47e4-87e6-8bbcb461db81"
   },
   "outputs": [
    {
     "data": {
      "text/plain": [
       "tensor([ 3.8694e-01,  1.0883e-01,  2.5127e-01,  1.8260e-01,  2.0508e-02,\n",
       "         3.5670e-01, -5.0396e-01, -6.0610e-02,  2.2243e-01, -1.2400e-01,\n",
       "         2.0367e-01, -6.9109e-02, -3.3572e-01,  3.0528e-02,  2.7079e-01,\n",
       "         1.7575e-01, -7.7128e-02,  3.1292e-01, -5.4482e-01, -2.6725e-01,\n",
       "         3.4033e-01, -8.0611e-02, -1.1263e-01, -2.7624e-01,  6.8221e-02,\n",
       "        -1.7065e+00, -6.2789e-02,  1.1811e-01,  2.8549e-01, -3.8258e-04,\n",
       "         3.1455e+00, -1.7113e-01, -1.7587e-01, -2.1735e-01,  2.1206e-01,\n",
       "        -3.5065e-02,  2.0723e-01,  9.7491e-02,  9.0475e-02,  5.8104e-03,\n",
       "        -2.5775e-01, -1.1576e-01,  2.1288e-01, -9.4534e-02,  1.2578e-01,\n",
       "         7.7879e-02, -2.1271e-01,  2.6167e-01,  3.1803e-02, -1.1789e-01])"
      ]
     },
     "execution_count": 110,
     "metadata": {},
     "output_type": "execute_result"
    }
   ],
   "source": [
    "query_sentence = 'The company running the Japanese nuclear plant hit by a fatal accident is to close its reactors for safety checks.'\n",
    "query_tokens = tokenize_batch([query_sentence])\n",
    "query_embeddings = get_bag_of_embeddings(query_tokens, vec)[0]\n",
    "\n",
    "query_embeddings"
   ]
  },
  {
   "cell_type": "markdown",
   "id": "b2015360",
   "metadata": {
    "id": "e557588c"
   },
   "source": [
    "![](https://raw.githubusercontent.com/dvgodoy/assets/main/PyTorchInPractice/images/ch13/query_db.png)"
   ]
  },
  {
   "cell_type": "code",
   "execution_count": 111,
   "id": "895e1a60",
   "metadata": {
    "colab": {
     "base_uri": "https://localhost:8080/"
    },
    "id": "1ae3e903",
    "outputId": "c1626a40-7542-4785-836c-3b6c9de2989e"
   },
   "outputs": [
    {
     "data": {
      "text/plain": [
       "{'ids': [['000030', '001046', '004715', '002464', '006426']],\n",
       " 'embeddings': None,\n",
       " 'documents': [['The company running the Japanese nuclear plant hit by a fatal accident is to close its reactors for safety checks.',\n",
       "   'AP - The operator of a nuclear power plant where a long-neglected cooling pipe burst and killed four workers last week said Monday that four other pipes at its reactors also went unchecked for years.',\n",
       "   'TOKYO The operators of a Japanese nuclear plant say there was no evidence of danger at the plant before a deadly explosion this month.',\n",
       "   'Reuters - No more Japanese nuclear reactors need to be closed for inspections, electric power companies said on Wednesday after submitting reports ordered by the government following a reactor accident that killed four workers last week.',\n",
       "   'TEHRAN (Reuters) - Iran on Sunday announced a further  substantial delay in the long overdue project to complete its  first nuclear power plant, part of a program which Washington  says could be used to make atomic arms.']],\n",
       " 'metadatas': [[{'label': 2},\n",
       "   {'label': 0},\n",
       "   {'label': 0},\n",
       "   {'label': 0},\n",
       "   {'label': 0}]],\n",
       " 'distances': [[0.0,\n",
       "   0.7151715755462646,\n",
       "   0.7258910536766052,\n",
       "   0.8279589414596558,\n",
       "   0.9130769968032837]]}"
      ]
     },
     "execution_count": 111,
     "metadata": {},
     "output_type": "execute_result"
    }
   ],
   "source": [
    "query_embeddings = query_embeddings.tolist()\n",
    "collection.query(query_embeddings=query_embeddings, n_results=5)"
   ]
  },
  {
   "cell_type": "code",
   "execution_count": 114,
   "id": "56c0cf34",
   "metadata": {
    "id": "7ede4123"
   },
   "outputs": [],
   "source": [
    "query_sentence = 'asian stock market'\n",
    "query_tokens = tokenize_batch([query_sentence])\n",
    "query_embeddings = get_bag_of_embeddings(query_tokens, vec)[0]\n",
    "query_embeddings = query_embeddings.tolist()"
   ]
  },
  {
   "cell_type": "code",
   "execution_count": 115,
   "id": "aa6a4f8e",
   "metadata": {
    "colab": {
     "base_uri": "https://localhost:8080/"
    },
    "id": "9d245d3b",
    "outputId": "1eee1a06-8cad-420e-ac00-2c5e0e05252e"
   },
   "outputs": [
    {
     "data": {
      "text/plain": [
       "{'ids': [['007389', '006925', '007014', '006829', '008197']],\n",
       " 'embeddings': None,\n",
       " 'documents': [['Asian stocks rose after oil prices fell from a record on Friday, easing concern higher energy costs will damp consumer spending and corporate profits.',\n",
       "   'Asian stocks advanced after oil prices fell from a record Friday in New York, easing concern higher energy costs will damp consumer spending and corporate profits.',\n",
       "   'Japanese stocks rose after oil prices fell from a record in New York on Friday, easing concern higher energy costs will damp consumer spending and corporate profits.',\n",
       "   'Japanese stocks may rise after oil prices fell from a record in New York, easing concern higher energy costs will damp consumer spending and corporate profits.',\n",
       "   \"Reuters - Japan's Nikkei average was flat by late morning trade on Tuesday as falls in oil-related stocks offset gains in some exporters including auto makers after a retreat in oil prices eased fears about the global economy.\"]],\n",
       " 'metadatas': [[{'label': 2},\n",
       "   {'label': 2},\n",
       "   {'label': 0},\n",
       "   {'label': 2},\n",
       "   {'label': 0}]],\n",
       " 'distances': [[5.785611152648926,\n",
       "   6.052330493927002,\n",
       "   6.237188339233398,\n",
       "   6.318356513977051,\n",
       "   6.721610069274902]]}"
      ]
     },
     "execution_count": 115,
     "metadata": {},
     "output_type": "execute_result"
    }
   ],
   "source": [
    "collection.query(query_embeddings=query_embeddings, n_results=5)"
   ]
  },
  {
   "cell_type": "markdown",
   "id": "805eed09",
   "metadata": {
    "id": "1916f4f7"
   },
   "source": [
    "## 15.8 Zero-Shot Text Classification\n",
    "\n",
    "![](https://raw.githubusercontent.com/dvgodoy/assets/main/PyTorchInPractice/images/ch0/model_step5.png)"
   ]
  },
  {
   "cell_type": "code",
   "execution_count": 160,
   "id": "ba7d5f69",
   "metadata": {
    "colab": {
     "base_uri": "https://localhost:8080/"
    },
    "id": "ea70a16c",
    "outputId": "ec3b193e-8fde-49c5-c6b1-ddbb67e02bdb"
   },
   "outputs": [
    {
     "data": {
      "text/plain": [
       "torch.Size([4, 50])"
      ]
     },
     "execution_count": 160,
     "metadata": {},
     "output_type": "execute_result"
    }
   ],
   "source": [
    "cand_labels = [\"world\", \"sports\", \"business\", \"science and technology\"]\n",
    "\n",
    "cand_emb = torch.vstack([vec.get_vecs_by_tokens(tokens).mean(axis=0) for tokens in tokenize_batch(cand_labels)])\n",
    "cand_emb.shape"
   ]
  },
  {
   "cell_type": "code",
   "execution_count": 161,
   "id": "dd30691a",
   "metadata": {
    "colab": {
     "base_uri": "https://localhost:8080/"
    },
    "id": "e73d28aa",
    "outputId": "d7558f4e-8164-4f1c-dcca-ce770617ab97"
   },
   "outputs": [
    {
     "data": {
      "text/plain": [
       "tensor([[1.0000, 0.6529, 0.6136, 0.6678],\n",
       "        [0.6529, 1.0000, 0.6410, 0.6171],\n",
       "        [0.6136, 0.6410, 1.0000, 0.8069],\n",
       "        [0.6678, 0.6171, 0.8069, 1.0000]])"
      ]
     },
     "execution_count": 161,
     "metadata": {},
     "output_type": "execute_result"
    }
   ],
   "source": [
    "cos = nn.CosineSimilarity(dim=2)\n",
    "\n",
    "cos(cand_emb.unsqueeze(1), cand_emb.unsqueeze(0))"
   ]
  },
  {
   "cell_type": "code",
   "execution_count": null,
   "id": "fb13673b",
   "metadata": {},
   "outputs": [],
   "source": [
    "batch_size = 32\n",
    "dataloader = DataLoader(dataset=datapipes['test'], batch_size=batch_size, shuffle=False)\n",
    "\n",
    "labels, sentences = next(iter(dataloader))\n",
    "tokens = tokenize_batch(sentences)\n",
    "embeddings = get_bag_of_embeddings(tokens, vec)\n",
    "similarities = cos(embeddings.unsqueeze(1), cand_emb.unsqueeze(0))\n",
    "similarities"
   ]
  },
  {
   "cell_type": "code",
   "execution_count": 163,
   "id": "e39c6840",
   "metadata": {
    "colab": {
     "base_uri": "https://localhost:8080/"
    },
    "id": "61450876",
    "outputId": "e4f05096-39dd-4161-a341-980922bd179b"
   },
   "outputs": [
    {
     "data": {
      "text/plain": [
       "tensor([2, 3, 3, 3, 3, 3, 3, 3, 3, 3, 3, 3, 3, 0, 3, 3, 3, 3, 3, 2, 3, 3, 3, 3,\n",
       "        2, 3, 0, 3, 3, 3, 3, 0])"
      ]
     },
     "execution_count": 163,
     "metadata": {},
     "output_type": "execute_result"
    }
   ],
   "source": [
    "predicted_class = similarities.argmax(dim=1)\n",
    "predicted_class"
   ]
  },
  {
   "cell_type": "code",
   "execution_count": 164,
   "id": "3e1e7a99",
   "metadata": {
    "colab": {
     "base_uri": "https://localhost:8080/"
    },
    "id": "e48b587d",
    "outputId": "beafad3b-0a1f-453c-d124-6394a521b262"
   },
   "outputs": [
    {
     "data": {
      "text/plain": [
       "tensor(0.7188)"
      ]
     },
     "execution_count": 164,
     "metadata": {},
     "output_type": "execute_result"
    }
   ],
   "source": [
    "(predicted_class == labels).float().mean()"
   ]
  },
  {
   "cell_type": "markdown",
   "id": "e54d5195",
   "metadata": {
    "id": "9707b1fb"
   },
   "source": [
    "### 15.8.1 Evaluation"
   ]
  },
  {
   "cell_type": "code",
   "execution_count": 165,
   "id": "0f655775",
   "metadata": {
    "id": "6d70bcb1"
   },
   "outputs": [],
   "source": [
    "import evaluate\n",
    "\n",
    "metric1 = evaluate.load('precision', average=None)\n",
    "metric2 = evaluate.load('recall', average=None)\n",
    "metric3 = evaluate.load('accuracy')"
   ]
  },
  {
   "cell_type": "code",
   "execution_count": 166,
   "id": "8554e293",
   "metadata": {
    "id": "40d627b8"
   },
   "outputs": [],
   "source": [
    "for batch in dataloader:\n",
    "    labels, sentences = batch\n",
    "    tokens = tokenize_batch(sentences)\n",
    "    embeddings = get_bag_of_embeddings(tokens, vec)\n",
    "\n",
    "    # predictions = model(embeddings)\n",
    "    predictions = cos(embeddings.unsqueeze(1), cand_emb.unsqueeze(0))\n",
    "\n",
    "    pred_class = predictions.argmax(dim=1).tolist()\n",
    "    labels = labels.tolist()\n",
    "\n",
    "    metric1.add_batch(references=labels, predictions=pred_class)\n",
    "    metric2.add_batch(references=labels, predictions=pred_class)\n",
    "    metric3.add_batch(references=labels, predictions=pred_class)"
   ]
  },
  {
   "cell_type": "code",
   "execution_count": 167,
   "id": "6e51b97a",
   "metadata": {
    "colab": {
     "base_uri": "https://localhost:8080/"
    },
    "id": "101ae04d",
    "outputId": "ebac00c2-3906-4170-dc3b-55e8880b5723"
   },
   "outputs": [
    {
     "name": "stderr",
     "output_type": "stream",
     "text": [
      "/usr/local/lib/python3.10/dist-packages/sklearn/metrics/_classification.py:1344: UndefinedMetricWarning: Precision is ill-defined and being set to 0.0 in labels with no predicted samples. Use `zero_division` parameter to control this behavior.\n",
      "  _warn_prf(average, modifier, msg_start, len(result))\n"
     ]
    },
    {
     "data": {
      "text/plain": [
       "({'precision': array([0.29004107, 0.        , 0.74021131, 0.38535741])},\n",
       " {'recall': array([0.29736842, 0.        , 0.62684211, 0.82      ])},\n",
       " {'accuracy': 0.43605263157894736})"
      ]
     },
     "execution_count": 167,
     "metadata": {},
     "output_type": "execute_result"
    }
   ],
   "source": [
    "metric1.compute(average=None), metric2.compute(average=None), metric3.compute()"
   ]
  },
  {
   "cell_type": "markdown",
   "id": "d663feba",
   "metadata": {
    "id": "51585ffc"
   },
   "source": [
    "## 15.9 Chunking Strategies"
   ]
  },
  {
   "cell_type": "code",
   "execution_count": 1,
   "id": "e2caa6b4",
   "metadata": {},
   "outputs": [],
   "source": [
    "text = \"\"\"\n",
    "ITEM 1A. RISK FACTORS Our operations and financial results are subject to various risks and uncertainties, including those described below, that could adversely affect our business, financial condition, results of operations, cash flows, and the trading price of our common stock. STRATEGIC AND COMPETITIVE RISKS We face intense competition across all markets for our products and services, which may lead to lower revenue or operating margins.    Competition in the technology sector Our competitors range in size from diversified global companies with significant research and development resources to small, specialized firms whose narrower product lines may let them be more effective in deploying technical, marketing, and financial resources. Barriers to entry in many of our businesses are low and many of the areas in which we compete evolve rapidly with changing and disruptive technologies, shifting user needs, and frequent introductions of new products and services. Our ability to remain competitive depends on our success in making innovative products, devices, and services that appeal to businesses and consumers.    Competition among platform-based ecosystems An important element of our business model has been to create platform-based ecosystems on which many participants can build diverse solutions. A well-established ecosystem creates beneficial network effects among users, application developers, and the platform provider that can accelerate growth. Establishing significant scale in the marketplace is necessary to achieve and maintain attractive margins. We face significant competition from firms that provide competing platforms.\n",
    "\"\"\""
   ]
  },
  {
   "cell_type": "markdown",
   "id": "619b6b4d",
   "metadata": {},
   "source": [
    "### 15.9.1 Fixed-Length"
   ]
  },
  {
   "cell_type": "code",
   "execution_count": 6,
   "id": "5ac0980e",
   "metadata": {
    "colab": {
     "base_uri": "https://localhost:8080/"
    },
    "id": "eeb5aacb",
    "outputId": "2fd59ac1-dfb2-4519-b56e-65172155e461"
   },
   "outputs": [
    {
     "data": {
      "text/plain": [
       "[Document(page_content='ITEM 1A. RISK FACTORS Our operations and financial results are subject to various risks and uncertainties, including those described below, that could adversely affect our business, financial condition, results of operations, cash flows, and the trading', metadata={}),\n",
       " Document(page_content='and the trading price of our common stock. STRATEGIC AND COMPETITIVE RISKS We face intense competition across all markets for our products and services, which may lead to lower revenue or operating margins.  Competition in the technology sector Our', metadata={}),\n",
       " Document(page_content='sector Our competitors range in size from diversified global companies with significant research and development resources to small, specialized firms whose narrower product lines may let them be more effective in deploying technical, marketing, and', metadata={})]"
      ]
     },
     "execution_count": 6,
     "metadata": {},
     "output_type": "execute_result"
    }
   ],
   "source": [
    "from langchain.text_splitter import RecursiveCharacterTextSplitter\n",
    "\n",
    "text_splitter = RecursiveCharacterTextSplitter(chunk_size=256, chunk_overlap=20)\n",
    "chunks = text_splitter.create_documents([text])\n",
    "chunks[:3]"
   ]
  },
  {
   "cell_type": "markdown",
   "id": "afce903b",
   "metadata": {
    "id": "4f607097"
   },
   "source": [
    "### 15.9.2 Content-Aware"
   ]
  },
  {
   "cell_type": "code",
   "execution_count": 7,
   "id": "22ad50b4",
   "metadata": {
    "colab": {
     "base_uri": "https://localhost:8080/"
    },
    "id": "1344c93e",
    "outputId": "3a1c2fbb-6e0c-450b-88da-160a636407ca"
   },
   "outputs": [
    {
     "name": "stderr",
     "output_type": "stream",
     "text": [
      "[nltk_data] Downloading package punkt to /root/nltk_data...\n",
      "[nltk_data]   Package punkt is already up-to-date!\n"
     ]
    },
    {
     "data": {
      "text/plain": [
       "True"
      ]
     },
     "execution_count": 7,
     "metadata": {},
     "output_type": "execute_result"
    }
   ],
   "source": [
    "import nltk\n",
    "nltk.download('punkt')"
   ]
  },
  {
   "cell_type": "code",
   "execution_count": 8,
   "id": "77c6869b",
   "metadata": {
    "colab": {
     "base_uri": "https://localhost:8080/"
    },
    "id": "eade466d",
    "outputId": "e443e851-2ace-4a27-9556-23be30dfd349"
   },
   "outputs": [
    {
     "data": {
      "text/plain": [
       "['ITEM 1A.',\n",
       " 'RISK FACTORS Our operations and financial results are subject to various risks and uncertainties, including those described below, that could adversely affect our business, financial condition, results of operations, cash flows, and the trading price of our common stock.',\n",
       " 'STRATEGIC AND COMPETITIVE RISKS We face intense competition across all markets for our products and services, which may lead to lower revenue or operating margins.']"
      ]
     },
     "execution_count": 8,
     "metadata": {},
     "output_type": "execute_result"
    }
   ],
   "source": [
    "from nltk.tokenize import sent_tokenize\n",
    "\n",
    "chunks = sent_tokenize(text)\n",
    "chunks[:3]"
   ]
  },
  {
   "cell_type": "markdown",
   "id": "1debd182",
   "metadata": {
    "id": "b55a5898"
   },
   "source": [
    "### 15.9.3 Custom"
   ]
  },
  {
   "cell_type": "code",
   "execution_count": 9,
   "id": "1d4842fd",
   "metadata": {
    "colab": {
     "base_uri": "https://localhost:8080/"
    },
    "id": "67e8137f",
    "outputId": "2e0c5e10-b611-4856-d5d1-843b012939f2"
   },
   "outputs": [
    {
     "data": {
      "text/plain": [
       "['ITEM 1A. RISK FACTORS Our operations and financial results are subject to various risks and uncertainties, including those described below, that could adversely affect our business, financial condition, results of operations, cash flows, and the trading price of our common stock. STRATEGIC AND COMPETITIVE RISKS We face intense competition across all markets for our products and services, which may lead to lower revenue or operating margins.',\n",
       " 'Competition in the technology sector Our competitors range in size from diversified global companies with significant research and development resources to small, specialized firms whose narrower product lines may let them be more effective in deploying technical, marketing, and financial resources. Barriers to entry in many of our businesses are low and many of the areas in which we compete evolve rapidly with changing and disruptive technologies, shifting user needs, and frequent introductions of new products and services. Our ability to remain competitive depends on our success in making innovative products, devices, and services that appeal to businesses and consumers.',\n",
       " 'Competition among platform-based ecosystems An important element of our business model has been to create platform-based ecosystems on which many participants can build diverse solutions. A well-established ecosystem creates beneficial network effects among users, application developers, and the platform provider that can accelerate growth. Establishing significant scale in the marketplace is necessary to achieve and maintain attractive margins. We face significant competition from firms that provide competing platforms.']"
      ]
     },
     "execution_count": 9,
     "metadata": {},
     "output_type": "execute_result"
    }
   ],
   "source": [
    "chunks = text.split('  ')\n",
    "chunks[:3]"
   ]
  }
 ],
 "metadata": {
  "accelerator": "GPU",
  "colab": {
   "gpuType": "T4",
   "provenance": []
  },
  "kernelspec": {
   "display_name": "Python 3 (ipykernel)",
   "language": "python",
   "name": "python3"
  },
  "language_info": {
   "codemirror_mode": {
    "name": "ipython",
    "version": 3
   },
   "file_extension": ".py",
   "mimetype": "text/x-python",
   "name": "python",
   "nbconvert_exporter": "python",
   "pygments_lexer": "ipython3",
   "version": "3.9.12"
  },
  "widgets": {
   "application/vnd.jupyter.widget-state+json": {
    "09cf656a4a1e4eb793c9f2a7fbac34c2": {
     "model_module": "@jupyter-widgets/controls",
     "model_module_version": "1.5.0",
     "model_name": "HBoxModel",
     "state": {
      "_dom_classes": [],
      "_model_module": "@jupyter-widgets/controls",
      "_model_module_version": "1.5.0",
      "_model_name": "HBoxModel",
      "_view_count": null,
      "_view_module": "@jupyter-widgets/controls",
      "_view_module_version": "1.5.0",
      "_view_name": "HBoxView",
      "box_style": "",
      "children": [
       "IPY_MODEL_aad635b4249d4d14a3fa64b0ce720974",
       "IPY_MODEL_298934cba9114b84933717b30074d868",
       "IPY_MODEL_40c70b85bafe4caa85f7a833c272980d"
      ],
      "layout": "IPY_MODEL_639eea8ca53147e4a8d6f6b4f7df8614"
     }
    },
    "0fc9ca3ae9bc4b81afa8817c9fedfd51": {
     "model_module": "@jupyter-widgets/base",
     "model_module_version": "1.2.0",
     "model_name": "LayoutModel",
     "state": {
      "_model_module": "@jupyter-widgets/base",
      "_model_module_version": "1.2.0",
      "_model_name": "LayoutModel",
      "_view_count": null,
      "_view_module": "@jupyter-widgets/base",
      "_view_module_version": "1.2.0",
      "_view_name": "LayoutView",
      "align_content": null,
      "align_items": null,
      "align_self": null,
      "border": null,
      "bottom": null,
      "display": null,
      "flex": null,
      "flex_flow": null,
      "grid_area": null,
      "grid_auto_columns": null,
      "grid_auto_flow": null,
      "grid_auto_rows": null,
      "grid_column": null,
      "grid_gap": null,
      "grid_row": null,
      "grid_template_areas": null,
      "grid_template_columns": null,
      "grid_template_rows": null,
      "height": null,
      "justify_content": null,
      "justify_items": null,
      "left": null,
      "margin": null,
      "max_height": null,
      "max_width": null,
      "min_height": null,
      "min_width": null,
      "object_fit": null,
      "object_position": null,
      "order": null,
      "overflow": null,
      "overflow_x": null,
      "overflow_y": null,
      "padding": null,
      "right": null,
      "top": null,
      "visibility": null,
      "width": null
     }
    },
    "1abc302d77cd49dcae417eec6a625b3c": {
     "model_module": "@jupyter-widgets/controls",
     "model_module_version": "1.5.0",
     "model_name": "ProgressStyleModel",
     "state": {
      "_model_module": "@jupyter-widgets/controls",
      "_model_module_version": "1.5.0",
      "_model_name": "ProgressStyleModel",
      "_view_count": null,
      "_view_module": "@jupyter-widgets/base",
      "_view_module_version": "1.2.0",
      "_view_name": "StyleView",
      "bar_color": null,
      "description_width": ""
     }
    },
    "26ed7d7eed7147419e8d5abe85d5078e": {
     "model_module": "@jupyter-widgets/controls",
     "model_module_version": "1.5.0",
     "model_name": "DescriptionStyleModel",
     "state": {
      "_model_module": "@jupyter-widgets/controls",
      "_model_module_version": "1.5.0",
      "_model_name": "DescriptionStyleModel",
      "_view_count": null,
      "_view_module": "@jupyter-widgets/base",
      "_view_module_version": "1.2.0",
      "_view_name": "StyleView",
      "description_width": ""
     }
    },
    "27fc0d6ec74441f9802a019fa02e6529": {
     "model_module": "@jupyter-widgets/base",
     "model_module_version": "1.2.0",
     "model_name": "LayoutModel",
     "state": {
      "_model_module": "@jupyter-widgets/base",
      "_model_module_version": "1.2.0",
      "_model_name": "LayoutModel",
      "_view_count": null,
      "_view_module": "@jupyter-widgets/base",
      "_view_module_version": "1.2.0",
      "_view_name": "LayoutView",
      "align_content": null,
      "align_items": null,
      "align_self": null,
      "border": null,
      "bottom": null,
      "display": null,
      "flex": null,
      "flex_flow": null,
      "grid_area": null,
      "grid_auto_columns": null,
      "grid_auto_flow": null,
      "grid_auto_rows": null,
      "grid_column": null,
      "grid_gap": null,
      "grid_row": null,
      "grid_template_areas": null,
      "grid_template_columns": null,
      "grid_template_rows": null,
      "height": null,
      "justify_content": null,
      "justify_items": null,
      "left": null,
      "margin": null,
      "max_height": null,
      "max_width": null,
      "min_height": null,
      "min_width": null,
      "object_fit": null,
      "object_position": null,
      "order": null,
      "overflow": null,
      "overflow_x": null,
      "overflow_y": null,
      "padding": null,
      "right": null,
      "top": null,
      "visibility": null,
      "width": null
     }
    },
    "298934cba9114b84933717b30074d868": {
     "model_module": "@jupyter-widgets/controls",
     "model_module_version": "1.5.0",
     "model_name": "FloatProgressModel",
     "state": {
      "_dom_classes": [],
      "_model_module": "@jupyter-widgets/controls",
      "_model_module_version": "1.5.0",
      "_model_name": "FloatProgressModel",
      "_view_count": null,
      "_view_module": "@jupyter-widgets/controls",
      "_view_module_version": "1.5.0",
      "_view_name": "ProgressView",
      "bar_style": "success",
      "description": "",
      "description_tooltip": null,
      "layout": "IPY_MODEL_8ed090ce8fc64641a0c793f35bede7b5",
      "max": 7546,
      "min": 0,
      "orientation": "horizontal",
      "style": "IPY_MODEL_90ad5f07a12741759dcb5471da921ceb",
      "value": 7546
     }
    },
    "2f6dbac0ddca46d5b68f42a9652927f6": {
     "model_module": "@jupyter-widgets/controls",
     "model_module_version": "1.5.0",
     "model_name": "DescriptionStyleModel",
     "state": {
      "_model_module": "@jupyter-widgets/controls",
      "_model_module_version": "1.5.0",
      "_model_name": "DescriptionStyleModel",
      "_view_count": null,
      "_view_module": "@jupyter-widgets/base",
      "_view_module_version": "1.2.0",
      "_view_name": "StyleView",
      "description_width": ""
     }
    },
    "3b7d733a565c47688a71dd11efc4253b": {
     "model_module": "@jupyter-widgets/controls",
     "model_module_version": "1.5.0",
     "model_name": "FloatProgressModel",
     "state": {
      "_dom_classes": [],
      "_model_module": "@jupyter-widgets/controls",
      "_model_module_version": "1.5.0",
      "_model_name": "FloatProgressModel",
      "_view_count": null,
      "_view_module": "@jupyter-widgets/controls",
      "_view_module_version": "1.5.0",
      "_view_name": "ProgressView",
      "bar_style": "success",
      "description": "",
      "description_tooltip": null,
      "layout": "IPY_MODEL_4d03c231774a4b8e8987861d5290d440",
      "max": 7363,
      "min": 0,
      "orientation": "horizontal",
      "style": "IPY_MODEL_1abc302d77cd49dcae417eec6a625b3c",
      "value": 7363
     }
    },
    "405a49fe450d4ae6b57598f18df02a56": {
     "model_module": "@jupyter-widgets/base",
     "model_module_version": "1.2.0",
     "model_name": "LayoutModel",
     "state": {
      "_model_module": "@jupyter-widgets/base",
      "_model_module_version": "1.2.0",
      "_model_name": "LayoutModel",
      "_view_count": null,
      "_view_module": "@jupyter-widgets/base",
      "_view_module_version": "1.2.0",
      "_view_name": "LayoutView",
      "align_content": null,
      "align_items": null,
      "align_self": null,
      "border": null,
      "bottom": null,
      "display": null,
      "flex": null,
      "flex_flow": null,
      "grid_area": null,
      "grid_auto_columns": null,
      "grid_auto_flow": null,
      "grid_auto_rows": null,
      "grid_column": null,
      "grid_gap": null,
      "grid_row": null,
      "grid_template_areas": null,
      "grid_template_columns": null,
      "grid_template_rows": null,
      "height": null,
      "justify_content": null,
      "justify_items": null,
      "left": null,
      "margin": null,
      "max_height": null,
      "max_width": null,
      "min_height": null,
      "min_width": null,
      "object_fit": null,
      "object_position": null,
      "order": null,
      "overflow": null,
      "overflow_x": null,
      "overflow_y": null,
      "padding": null,
      "right": null,
      "top": null,
      "visibility": null,
      "width": null
     }
    },
    "40c70b85bafe4caa85f7a833c272980d": {
     "model_module": "@jupyter-widgets/controls",
     "model_module_version": "1.5.0",
     "model_name": "HTMLModel",
     "state": {
      "_dom_classes": [],
      "_model_module": "@jupyter-widgets/controls",
      "_model_module_version": "1.5.0",
      "_model_name": "HTMLModel",
      "_view_count": null,
      "_view_module": "@jupyter-widgets/controls",
      "_view_module_version": "1.5.0",
      "_view_name": "HTMLView",
      "description": "",
      "description_tooltip": null,
      "layout": "IPY_MODEL_bdda94608b1c44a09590ef3d07f17eed",
      "placeholder": "​",
      "style": "IPY_MODEL_26ed7d7eed7147419e8d5abe85d5078e",
      "value": " 7.55k/7.55k [00:00&lt;00:00, 398kB/s]"
     }
    },
    "4bbe237a10aa4985b6f57b3632622e4a": {
     "model_module": "@jupyter-widgets/controls",
     "model_module_version": "1.5.0",
     "model_name": "DescriptionStyleModel",
     "state": {
      "_model_module": "@jupyter-widgets/controls",
      "_model_module_version": "1.5.0",
      "_model_name": "DescriptionStyleModel",
      "_view_count": null,
      "_view_module": "@jupyter-widgets/base",
      "_view_module_version": "1.2.0",
      "_view_name": "StyleView",
      "description_width": ""
     }
    },
    "4d03c231774a4b8e8987861d5290d440": {
     "model_module": "@jupyter-widgets/base",
     "model_module_version": "1.2.0",
     "model_name": "LayoutModel",
     "state": {
      "_model_module": "@jupyter-widgets/base",
      "_model_module_version": "1.2.0",
      "_model_name": "LayoutModel",
      "_view_count": null,
      "_view_module": "@jupyter-widgets/base",
      "_view_module_version": "1.2.0",
      "_view_name": "LayoutView",
      "align_content": null,
      "align_items": null,
      "align_self": null,
      "border": null,
      "bottom": null,
      "display": null,
      "flex": null,
      "flex_flow": null,
      "grid_area": null,
      "grid_auto_columns": null,
      "grid_auto_flow": null,
      "grid_auto_rows": null,
      "grid_column": null,
      "grid_gap": null,
      "grid_row": null,
      "grid_template_areas": null,
      "grid_template_columns": null,
      "grid_template_rows": null,
      "height": null,
      "justify_content": null,
      "justify_items": null,
      "left": null,
      "margin": null,
      "max_height": null,
      "max_width": null,
      "min_height": null,
      "min_width": null,
      "object_fit": null,
      "object_position": null,
      "order": null,
      "overflow": null,
      "overflow_x": null,
      "overflow_y": null,
      "padding": null,
      "right": null,
      "top": null,
      "visibility": null,
      "width": null
     }
    },
    "4e3ee3a79a2b4baebfa8125cedb2ed70": {
     "model_module": "@jupyter-widgets/controls",
     "model_module_version": "1.5.0",
     "model_name": "HTMLModel",
     "state": {
      "_dom_classes": [],
      "_model_module": "@jupyter-widgets/controls",
      "_model_module_version": "1.5.0",
      "_model_name": "HTMLModel",
      "_view_count": null,
      "_view_module": "@jupyter-widgets/controls",
      "_view_module_version": "1.5.0",
      "_view_name": "HTMLView",
      "description": "",
      "description_tooltip": null,
      "layout": "IPY_MODEL_a848f49119a54f16b892a34ce58be2ad",
      "placeholder": "​",
      "style": "IPY_MODEL_a923faab190d4e679bcb609664b9899f",
      "value": "Downloading builder script: 100%"
     }
    },
    "4f9ea0c6a8734cd4b28429248001b361": {
     "model_module": "@jupyter-widgets/controls",
     "model_module_version": "1.5.0",
     "model_name": "HTMLModel",
     "state": {
      "_dom_classes": [],
      "_model_module": "@jupyter-widgets/controls",
      "_model_module_version": "1.5.0",
      "_model_name": "HTMLModel",
      "_view_count": null,
      "_view_module": "@jupyter-widgets/controls",
      "_view_module_version": "1.5.0",
      "_view_name": "HTMLView",
      "description": "",
      "description_tooltip": null,
      "layout": "IPY_MODEL_405a49fe450d4ae6b57598f18df02a56",
      "placeholder": "​",
      "style": "IPY_MODEL_2f6dbac0ddca46d5b68f42a9652927f6",
      "value": " 7.36k/7.36k [00:00&lt;00:00, 524kB/s]"
     }
    },
    "5f12c04f20e04704be814a522fb38eb1": {
     "model_module": "@jupyter-widgets/controls",
     "model_module_version": "1.5.0",
     "model_name": "DescriptionStyleModel",
     "state": {
      "_model_module": "@jupyter-widgets/controls",
      "_model_module_version": "1.5.0",
      "_model_name": "DescriptionStyleModel",
      "_view_count": null,
      "_view_module": "@jupyter-widgets/base",
      "_view_module_version": "1.2.0",
      "_view_name": "StyleView",
      "description_width": ""
     }
    },
    "639eea8ca53147e4a8d6f6b4f7df8614": {
     "model_module": "@jupyter-widgets/base",
     "model_module_version": "1.2.0",
     "model_name": "LayoutModel",
     "state": {
      "_model_module": "@jupyter-widgets/base",
      "_model_module_version": "1.2.0",
      "_model_name": "LayoutModel",
      "_view_count": null,
      "_view_module": "@jupyter-widgets/base",
      "_view_module_version": "1.2.0",
      "_view_name": "LayoutView",
      "align_content": null,
      "align_items": null,
      "align_self": null,
      "border": null,
      "bottom": null,
      "display": null,
      "flex": null,
      "flex_flow": null,
      "grid_area": null,
      "grid_auto_columns": null,
      "grid_auto_flow": null,
      "grid_auto_rows": null,
      "grid_column": null,
      "grid_gap": null,
      "grid_row": null,
      "grid_template_areas": null,
      "grid_template_columns": null,
      "grid_template_rows": null,
      "height": null,
      "justify_content": null,
      "justify_items": null,
      "left": null,
      "margin": null,
      "max_height": null,
      "max_width": null,
      "min_height": null,
      "min_width": null,
      "object_fit": null,
      "object_position": null,
      "order": null,
      "overflow": null,
      "overflow_x": null,
      "overflow_y": null,
      "padding": null,
      "right": null,
      "top": null,
      "visibility": null,
      "width": null
     }
    },
    "6fa4d2c2cfef4585b508b093f5c6a52a": {
     "model_module": "@jupyter-widgets/controls",
     "model_module_version": "1.5.0",
     "model_name": "FloatProgressModel",
     "state": {
      "_dom_classes": [],
      "_model_module": "@jupyter-widgets/controls",
      "_model_module_version": "1.5.0",
      "_model_name": "FloatProgressModel",
      "_view_count": null,
      "_view_module": "@jupyter-widgets/controls",
      "_view_module_version": "1.5.0",
      "_view_name": "ProgressView",
      "bar_style": "success",
      "description": "",
      "description_tooltip": null,
      "layout": "IPY_MODEL_c2ac40a989644bfd9ee53e2b41f5e8ed",
      "max": 4203,
      "min": 0,
      "orientation": "horizontal",
      "style": "IPY_MODEL_d36441232f0e4cb98668c6fc4d34534d",
      "value": 4203
     }
    },
    "87578097c58349d699a3f1629ce916fb": {
     "model_module": "@jupyter-widgets/controls",
     "model_module_version": "1.5.0",
     "model_name": "HTMLModel",
     "state": {
      "_dom_classes": [],
      "_model_module": "@jupyter-widgets/controls",
      "_model_module_version": "1.5.0",
      "_model_name": "HTMLModel",
      "_view_count": null,
      "_view_module": "@jupyter-widgets/controls",
      "_view_module_version": "1.5.0",
      "_view_name": "HTMLView",
      "description": "",
      "description_tooltip": null,
      "layout": "IPY_MODEL_8c63f5a9777c4c43801992597d0d6441",
      "placeholder": "​",
      "style": "IPY_MODEL_b15ac0edf5164f3f9d4b7bba89e1f0a3",
      "value": " 4.20k/4.20k [00:00&lt;00:00, 251kB/s]"
     }
    },
    "8c63f5a9777c4c43801992597d0d6441": {
     "model_module": "@jupyter-widgets/base",
     "model_module_version": "1.2.0",
     "model_name": "LayoutModel",
     "state": {
      "_model_module": "@jupyter-widgets/base",
      "_model_module_version": "1.2.0",
      "_model_name": "LayoutModel",
      "_view_count": null,
      "_view_module": "@jupyter-widgets/base",
      "_view_module_version": "1.2.0",
      "_view_name": "LayoutView",
      "align_content": null,
      "align_items": null,
      "align_self": null,
      "border": null,
      "bottom": null,
      "display": null,
      "flex": null,
      "flex_flow": null,
      "grid_area": null,
      "grid_auto_columns": null,
      "grid_auto_flow": null,
      "grid_auto_rows": null,
      "grid_column": null,
      "grid_gap": null,
      "grid_row": null,
      "grid_template_areas": null,
      "grid_template_columns": null,
      "grid_template_rows": null,
      "height": null,
      "justify_content": null,
      "justify_items": null,
      "left": null,
      "margin": null,
      "max_height": null,
      "max_width": null,
      "min_height": null,
      "min_width": null,
      "object_fit": null,
      "object_position": null,
      "order": null,
      "overflow": null,
      "overflow_x": null,
      "overflow_y": null,
      "padding": null,
      "right": null,
      "top": null,
      "visibility": null,
      "width": null
     }
    },
    "8ed090ce8fc64641a0c793f35bede7b5": {
     "model_module": "@jupyter-widgets/base",
     "model_module_version": "1.2.0",
     "model_name": "LayoutModel",
     "state": {
      "_model_module": "@jupyter-widgets/base",
      "_model_module_version": "1.2.0",
      "_model_name": "LayoutModel",
      "_view_count": null,
      "_view_module": "@jupyter-widgets/base",
      "_view_module_version": "1.2.0",
      "_view_name": "LayoutView",
      "align_content": null,
      "align_items": null,
      "align_self": null,
      "border": null,
      "bottom": null,
      "display": null,
      "flex": null,
      "flex_flow": null,
      "grid_area": null,
      "grid_auto_columns": null,
      "grid_auto_flow": null,
      "grid_auto_rows": null,
      "grid_column": null,
      "grid_gap": null,
      "grid_row": null,
      "grid_template_areas": null,
      "grid_template_columns": null,
      "grid_template_rows": null,
      "height": null,
      "justify_content": null,
      "justify_items": null,
      "left": null,
      "margin": null,
      "max_height": null,
      "max_width": null,
      "min_height": null,
      "min_width": null,
      "object_fit": null,
      "object_position": null,
      "order": null,
      "overflow": null,
      "overflow_x": null,
      "overflow_y": null,
      "padding": null,
      "right": null,
      "top": null,
      "visibility": null,
      "width": null
     }
    },
    "90ad5f07a12741759dcb5471da921ceb": {
     "model_module": "@jupyter-widgets/controls",
     "model_module_version": "1.5.0",
     "model_name": "ProgressStyleModel",
     "state": {
      "_model_module": "@jupyter-widgets/controls",
      "_model_module_version": "1.5.0",
      "_model_name": "ProgressStyleModel",
      "_view_count": null,
      "_view_module": "@jupyter-widgets/base",
      "_view_module_version": "1.2.0",
      "_view_name": "StyleView",
      "bar_color": null,
      "description_width": ""
     }
    },
    "94f2a06c4d024800a0c8a33b1e4a1a55": {
     "model_module": "@jupyter-widgets/controls",
     "model_module_version": "1.5.0",
     "model_name": "HBoxModel",
     "state": {
      "_dom_classes": [],
      "_model_module": "@jupyter-widgets/controls",
      "_model_module_version": "1.5.0",
      "_model_name": "HBoxModel",
      "_view_count": null,
      "_view_module": "@jupyter-widgets/controls",
      "_view_module_version": "1.5.0",
      "_view_name": "HBoxView",
      "box_style": "",
      "children": [
       "IPY_MODEL_4e3ee3a79a2b4baebfa8125cedb2ed70",
       "IPY_MODEL_6fa4d2c2cfef4585b508b093f5c6a52a",
       "IPY_MODEL_87578097c58349d699a3f1629ce916fb"
      ],
      "layout": "IPY_MODEL_27fc0d6ec74441f9802a019fa02e6529"
     }
    },
    "a699523572174fe0a3e4c37a77c114ab": {
     "model_module": "@jupyter-widgets/base",
     "model_module_version": "1.2.0",
     "model_name": "LayoutModel",
     "state": {
      "_model_module": "@jupyter-widgets/base",
      "_model_module_version": "1.2.0",
      "_model_name": "LayoutModel",
      "_view_count": null,
      "_view_module": "@jupyter-widgets/base",
      "_view_module_version": "1.2.0",
      "_view_name": "LayoutView",
      "align_content": null,
      "align_items": null,
      "align_self": null,
      "border": null,
      "bottom": null,
      "display": null,
      "flex": null,
      "flex_flow": null,
      "grid_area": null,
      "grid_auto_columns": null,
      "grid_auto_flow": null,
      "grid_auto_rows": null,
      "grid_column": null,
      "grid_gap": null,
      "grid_row": null,
      "grid_template_areas": null,
      "grid_template_columns": null,
      "grid_template_rows": null,
      "height": null,
      "justify_content": null,
      "justify_items": null,
      "left": null,
      "margin": null,
      "max_height": null,
      "max_width": null,
      "min_height": null,
      "min_width": null,
      "object_fit": null,
      "object_position": null,
      "order": null,
      "overflow": null,
      "overflow_x": null,
      "overflow_y": null,
      "padding": null,
      "right": null,
      "top": null,
      "visibility": null,
      "width": null
     }
    },
    "a848f49119a54f16b892a34ce58be2ad": {
     "model_module": "@jupyter-widgets/base",
     "model_module_version": "1.2.0",
     "model_name": "LayoutModel",
     "state": {
      "_model_module": "@jupyter-widgets/base",
      "_model_module_version": "1.2.0",
      "_model_name": "LayoutModel",
      "_view_count": null,
      "_view_module": "@jupyter-widgets/base",
      "_view_module_version": "1.2.0",
      "_view_name": "LayoutView",
      "align_content": null,
      "align_items": null,
      "align_self": null,
      "border": null,
      "bottom": null,
      "display": null,
      "flex": null,
      "flex_flow": null,
      "grid_area": null,
      "grid_auto_columns": null,
      "grid_auto_flow": null,
      "grid_auto_rows": null,
      "grid_column": null,
      "grid_gap": null,
      "grid_row": null,
      "grid_template_areas": null,
      "grid_template_columns": null,
      "grid_template_rows": null,
      "height": null,
      "justify_content": null,
      "justify_items": null,
      "left": null,
      "margin": null,
      "max_height": null,
      "max_width": null,
      "min_height": null,
      "min_width": null,
      "object_fit": null,
      "object_position": null,
      "order": null,
      "overflow": null,
      "overflow_x": null,
      "overflow_y": null,
      "padding": null,
      "right": null,
      "top": null,
      "visibility": null,
      "width": null
     }
    },
    "a923faab190d4e679bcb609664b9899f": {
     "model_module": "@jupyter-widgets/controls",
     "model_module_version": "1.5.0",
     "model_name": "DescriptionStyleModel",
     "state": {
      "_model_module": "@jupyter-widgets/controls",
      "_model_module_version": "1.5.0",
      "_model_name": "DescriptionStyleModel",
      "_view_count": null,
      "_view_module": "@jupyter-widgets/base",
      "_view_module_version": "1.2.0",
      "_view_name": "StyleView",
      "description_width": ""
     }
    },
    "aad635b4249d4d14a3fa64b0ce720974": {
     "model_module": "@jupyter-widgets/controls",
     "model_module_version": "1.5.0",
     "model_name": "HTMLModel",
     "state": {
      "_dom_classes": [],
      "_model_module": "@jupyter-widgets/controls",
      "_model_module_version": "1.5.0",
      "_model_name": "HTMLModel",
      "_view_count": null,
      "_view_module": "@jupyter-widgets/controls",
      "_view_module_version": "1.5.0",
      "_view_name": "HTMLView",
      "description": "",
      "description_tooltip": null,
      "layout": "IPY_MODEL_0fc9ca3ae9bc4b81afa8817c9fedfd51",
      "placeholder": "​",
      "style": "IPY_MODEL_4bbe237a10aa4985b6f57b3632622e4a",
      "value": "Downloading builder script: 100%"
     }
    },
    "b15ac0edf5164f3f9d4b7bba89e1f0a3": {
     "model_module": "@jupyter-widgets/controls",
     "model_module_version": "1.5.0",
     "model_name": "DescriptionStyleModel",
     "state": {
      "_model_module": "@jupyter-widgets/controls",
      "_model_module_version": "1.5.0",
      "_model_name": "DescriptionStyleModel",
      "_view_count": null,
      "_view_module": "@jupyter-widgets/base",
      "_view_module_version": "1.2.0",
      "_view_name": "StyleView",
      "description_width": ""
     }
    },
    "b207202847894fc985e9f098781623e2": {
     "model_module": "@jupyter-widgets/base",
     "model_module_version": "1.2.0",
     "model_name": "LayoutModel",
     "state": {
      "_model_module": "@jupyter-widgets/base",
      "_model_module_version": "1.2.0",
      "_model_name": "LayoutModel",
      "_view_count": null,
      "_view_module": "@jupyter-widgets/base",
      "_view_module_version": "1.2.0",
      "_view_name": "LayoutView",
      "align_content": null,
      "align_items": null,
      "align_self": null,
      "border": null,
      "bottom": null,
      "display": null,
      "flex": null,
      "flex_flow": null,
      "grid_area": null,
      "grid_auto_columns": null,
      "grid_auto_flow": null,
      "grid_auto_rows": null,
      "grid_column": null,
      "grid_gap": null,
      "grid_row": null,
      "grid_template_areas": null,
      "grid_template_columns": null,
      "grid_template_rows": null,
      "height": null,
      "justify_content": null,
      "justify_items": null,
      "left": null,
      "margin": null,
      "max_height": null,
      "max_width": null,
      "min_height": null,
      "min_width": null,
      "object_fit": null,
      "object_position": null,
      "order": null,
      "overflow": null,
      "overflow_x": null,
      "overflow_y": null,
      "padding": null,
      "right": null,
      "top": null,
      "visibility": null,
      "width": null
     }
    },
    "bdda94608b1c44a09590ef3d07f17eed": {
     "model_module": "@jupyter-widgets/base",
     "model_module_version": "1.2.0",
     "model_name": "LayoutModel",
     "state": {
      "_model_module": "@jupyter-widgets/base",
      "_model_module_version": "1.2.0",
      "_model_name": "LayoutModel",
      "_view_count": null,
      "_view_module": "@jupyter-widgets/base",
      "_view_module_version": "1.2.0",
      "_view_name": "LayoutView",
      "align_content": null,
      "align_items": null,
      "align_self": null,
      "border": null,
      "bottom": null,
      "display": null,
      "flex": null,
      "flex_flow": null,
      "grid_area": null,
      "grid_auto_columns": null,
      "grid_auto_flow": null,
      "grid_auto_rows": null,
      "grid_column": null,
      "grid_gap": null,
      "grid_row": null,
      "grid_template_areas": null,
      "grid_template_columns": null,
      "grid_template_rows": null,
      "height": null,
      "justify_content": null,
      "justify_items": null,
      "left": null,
      "margin": null,
      "max_height": null,
      "max_width": null,
      "min_height": null,
      "min_width": null,
      "object_fit": null,
      "object_position": null,
      "order": null,
      "overflow": null,
      "overflow_x": null,
      "overflow_y": null,
      "padding": null,
      "right": null,
      "top": null,
      "visibility": null,
      "width": null
     }
    },
    "c2ac40a989644bfd9ee53e2b41f5e8ed": {
     "model_module": "@jupyter-widgets/base",
     "model_module_version": "1.2.0",
     "model_name": "LayoutModel",
     "state": {
      "_model_module": "@jupyter-widgets/base",
      "_model_module_version": "1.2.0",
      "_model_name": "LayoutModel",
      "_view_count": null,
      "_view_module": "@jupyter-widgets/base",
      "_view_module_version": "1.2.0",
      "_view_name": "LayoutView",
      "align_content": null,
      "align_items": null,
      "align_self": null,
      "border": null,
      "bottom": null,
      "display": null,
      "flex": null,
      "flex_flow": null,
      "grid_area": null,
      "grid_auto_columns": null,
      "grid_auto_flow": null,
      "grid_auto_rows": null,
      "grid_column": null,
      "grid_gap": null,
      "grid_row": null,
      "grid_template_areas": null,
      "grid_template_columns": null,
      "grid_template_rows": null,
      "height": null,
      "justify_content": null,
      "justify_items": null,
      "left": null,
      "margin": null,
      "max_height": null,
      "max_width": null,
      "min_height": null,
      "min_width": null,
      "object_fit": null,
      "object_position": null,
      "order": null,
      "overflow": null,
      "overflow_x": null,
      "overflow_y": null,
      "padding": null,
      "right": null,
      "top": null,
      "visibility": null,
      "width": null
     }
    },
    "d36441232f0e4cb98668c6fc4d34534d": {
     "model_module": "@jupyter-widgets/controls",
     "model_module_version": "1.5.0",
     "model_name": "ProgressStyleModel",
     "state": {
      "_model_module": "@jupyter-widgets/controls",
      "_model_module_version": "1.5.0",
      "_model_name": "ProgressStyleModel",
      "_view_count": null,
      "_view_module": "@jupyter-widgets/base",
      "_view_module_version": "1.2.0",
      "_view_name": "StyleView",
      "bar_color": null,
      "description_width": ""
     }
    },
    "ea3bbc9edab04ed0889274aad29f8906": {
     "model_module": "@jupyter-widgets/controls",
     "model_module_version": "1.5.0",
     "model_name": "HTMLModel",
     "state": {
      "_dom_classes": [],
      "_model_module": "@jupyter-widgets/controls",
      "_model_module_version": "1.5.0",
      "_model_name": "HTMLModel",
      "_view_count": null,
      "_view_module": "@jupyter-widgets/controls",
      "_view_module_version": "1.5.0",
      "_view_name": "HTMLView",
      "description": "",
      "description_tooltip": null,
      "layout": "IPY_MODEL_a699523572174fe0a3e4c37a77c114ab",
      "placeholder": "​",
      "style": "IPY_MODEL_5f12c04f20e04704be814a522fb38eb1",
      "value": "Downloading builder script: 100%"
     }
    },
    "f8cb87c52bac42c2b3dfc74bbdd90f49": {
     "model_module": "@jupyter-widgets/controls",
     "model_module_version": "1.5.0",
     "model_name": "HBoxModel",
     "state": {
      "_dom_classes": [],
      "_model_module": "@jupyter-widgets/controls",
      "_model_module_version": "1.5.0",
      "_model_name": "HBoxModel",
      "_view_count": null,
      "_view_module": "@jupyter-widgets/controls",
      "_view_module_version": "1.5.0",
      "_view_name": "HBoxView",
      "box_style": "",
      "children": [
       "IPY_MODEL_ea3bbc9edab04ed0889274aad29f8906",
       "IPY_MODEL_3b7d733a565c47688a71dd11efc4253b",
       "IPY_MODEL_4f9ea0c6a8734cd4b28429248001b361"
      ],
      "layout": "IPY_MODEL_b207202847894fc985e9f098781623e2"
     }
    }
   }
  }
 },
 "nbformat": 4,
 "nbformat_minor": 5
}
