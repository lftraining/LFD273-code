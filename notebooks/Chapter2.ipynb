{
 "cells": [
  {
   "cell_type": "markdown",
   "id": "5d728799",
   "metadata": {},
   "source": [
    "# Chapter 2: PyTorch, Datasets, and Models"
   ]
  },
  {
   "cell_type": "markdown",
   "id": "75212a43",
   "metadata": {},
   "source": [
    "## 2.3 What is PyTorch?"
   ]
  },
  {
   "cell_type": "markdown",
   "id": "8c7f6136",
   "metadata": {},
   "source": [
    "## 2.4 The PyTorch Ecosystem"
   ]
  },
  {
   "cell_type": "markdown",
   "id": "7d289bd9",
   "metadata": {},
   "source": [
    "## 2.5 Supervised vs Unsupervised Learning\n",
    "\n",
    "![](https://pbs.twimg.com/media/CdJavKoUAAAFLBG?format=jpg&name=900x900)\n",
    "Source: [@teenybiscuit](https://twitter.com/teenybiscuit/status/707727863571582978/photo/1) on Twitter"
   ]
  },
  {
   "cell_type": "markdown",
   "id": "0f3cc649",
   "metadata": {},
   "source": [
    "## 2.6 Software Development vs Machine and Deep Learning"
   ]
  },
  {
   "cell_type": "markdown",
   "id": "6c0ca4ae",
   "metadata": {},
   "source": [
    "### Software Development\n",
    "\n",
    "```python\n",
    "def celsius2fahrenheit(celsius):\n",
    "    fahrenheit = celsius*(9/5)+32\n",
    "    return fahrenheit\n",
    "```"
   ]
  },
  {
   "cell_type": "markdown",
   "id": "07716755",
   "metadata": {},
   "source": [
    "![](https://raw.githubusercontent.com/dvgodoy/assets/main/PyTorchInPractice/images/ch0/sw10.png)"
   ]
  },
  {
   "cell_type": "markdown",
   "id": "246cb87c",
   "metadata": {},
   "source": [
    "### Machine and Deep Learning\n",
    "\n",
    "```python\n",
    "def contains_zebra(image):\n",
    "    # write your code here\n",
    "    is_zebra = ...    \n",
    "    return is_zebra\n",
    "```"
   ]
  },
  {
   "cell_type": "markdown",
   "id": "c20d1947",
   "metadata": {},
   "source": [
    "![](https://imgs.xkcd.com/comics/tasks.png)\n",
    "\n",
    "Source: [XKCD](https://xkcd.com/1425)"
   ]
  },
  {
   "cell_type": "markdown",
   "id": "69791444",
   "metadata": {},
   "source": [
    "![](https://raw.githubusercontent.com/dvgodoy/assets/main/PyTorchInPractice/images/ch0/sw20.png)"
   ]
  },
  {
   "cell_type": "markdown",
   "id": "87b21c16",
   "metadata": {},
   "source": [
    "## 2.7 \"Hello Model\"\n",
    "\n",
    "Four cars: [\"Chevrolet Chevelle Malibu\"](https://en.wikipedia.org/wiki/Chevrolet_Chevelle), [\"Buick Skylark 320\"](https://en.wikipedia.org/wiki/Buick_Skylark), [\"AMC Rebel SST\"](https://en.wikipedia.org/wiki/AMC_Rebel), [\"Ford Torino\"](https://en.wikipedia.org/wiki/Ford_Torino).\n",
    "\n",
    "For each car, we know its power in HP: 130, 165, 150, and 140, respectively.\n",
    "\n",
    "The fuel-consumption for each one of the cars, in miles per gallon, is 18, 15, 16, and 17, respectively."
   ]
  },
  {
   "cell_type": "markdown",
   "id": "2bd5c997",
   "metadata": {},
   "source": [
    "![](https://raw.githubusercontent.com/dvgodoy/assets/main/PyTorchInPractice/images/ch0/hp_mpg.png)"
   ]
  },
  {
   "cell_type": "markdown",
   "id": "1036396a",
   "metadata": {},
   "source": [
    "Let's use the two extreme points only and build a formula out of them:\n",
    "\n",
    "![](https://raw.githubusercontent.com/dvgodoy/assets/main/PyTorchInPractice/images/ch0/hp_model.png)"
   ]
  },
  {
   "cell_type": "markdown",
   "id": "b0fc522c",
   "metadata": {},
   "source": [
    "$$\n",
    "\\Large\n",
    "\\text{MPG} = 18 - \\frac{3}{35}(\\text{HP} - 130) = 18 - 0.0857 (\\text{HP} - 130)\n",
    "$$\n",
    "\n",
    "$$\n",
    "\\Large\n",
    "\\text{MPG} = 18 - \\frac{3}{35}(140 - 130) = 18 - 0.0857 (10) = 17.143\n",
    "$$\n",
    "\n",
    "By the way, in the model above, we have:\n",
    "- a feature, which is an attribute of the car, power (in HP)\n",
    "- a target, the fuel-consumption of the car (in MPG)\n",
    "- two parameters, 18 and -3/35\n",
    "- the second parameter, -3/35, may also be called a weight since it's a multiplying factor for a feature (HP)\n",
    "- the model's estimate for the Ford Torino, 17.143, is called a prediction\n",
    "- the difference between the prediction (17.143) and the Torino's actual consumption (17) is called an error"
   ]
  },
  {
   "cell_type": "markdown",
   "id": "ca80de78",
   "metadata": {},
   "source": [
    "## 2.8 Naming Is Hard\n",
    "\n",
    "### 2.8.1 Datasets\n",
    "\n",
    "Each dataset has a number of elements which may be called:\n",
    "\n",
    "- a data point\n",
    "- a sample\n",
    "- an instance\n",
    "\n",
    "![](https://raw.githubusercontent.com/dvgodoy/assets/main/PyTorchInPractice/images/ch0/two_images.png)"
   ]
  },
  {
   "cell_type": "markdown",
   "id": "bedbe858",
   "metadata": {},
   "source": [
    "#### Tabular Data\n",
    "\n",
    "- an attribute\n",
    "- a feature\n",
    "- a dimension\n",
    "\n",
    "![](https://raw.githubusercontent.com/dvgodoy/assets/main/PyTorchInPractice/images/ch0/table_features.png)\n",
    "\n",
    "#### Dimension\n",
    "\n",
    "![](https://raw.githubusercontent.com/dvgodoy/assets/main/PyTorchInPractice/images/ch0/features_dim.png)\n",
    "\n",
    "- one attribute/feature/column\n",
    "- the number of levels in a nested array"
   ]
  },
  {
   "cell_type": "markdown",
   "id": "f29a1348",
   "metadata": {},
   "source": [
    "#### Two Dimensions\n",
    "\n",
    "![](https://raw.githubusercontent.com/dvgodoy/assets/main/PyTorchInPractice/images/ch0/image_hw.png)"
   ]
  },
  {
   "cell_type": "markdown",
   "id": "96f8e0ee",
   "metadata": {},
   "source": [
    "#### Three Dimensions\n",
    "\n",
    "![](https://raw.githubusercontent.com/dvgodoy/assets/main/PyTorchInPractice/images/ch0/image_chw.png)"
   ]
  },
  {
   "cell_type": "markdown",
   "id": "69c65d96",
   "metadata": {},
   "source": [
    "#### Four Dimensions\n",
    "\n",
    "![](https://raw.githubusercontent.com/dvgodoy/assets/main/PyTorchInPractice/images/ch0/image_nchw.png)"
   ]
  },
  {
   "cell_type": "markdown",
   "id": "d6b103f9",
   "metadata": {},
   "source": [
    "#### \"Answers\"\n",
    "\n",
    "- a label\n",
    "- a target\n",
    "\n",
    "![](https://raw.githubusercontent.com/dvgodoy/assets/main/PyTorchInPractice/images/ch0/features_target.png)"
   ]
  },
  {
   "cell_type": "markdown",
   "id": "e6971cf2",
   "metadata": {},
   "source": [
    "### 2.8.2 Models\n",
    "\n",
    "Values learned during training may be called:\n",
    "\n",
    "- coefficients\n",
    "- parameters\n",
    "- weights"
   ]
  },
  {
   "cell_type": "markdown",
   "id": "dab9dc2b",
   "metadata": {},
   "source": [
    "#### Linear Regression\n",
    "\n",
    "![](https://raw.githubusercontent.com/dvgodoy/assets/main/PyTorchInPractice/images/ch0/lin_reg.png)"
   ]
  },
  {
   "cell_type": "markdown",
   "id": "6f6632fc",
   "metadata": {},
   "source": [
    "#### Neural Network\n",
    "\n",
    "![](https://raw.githubusercontent.com/dvgodoy/assets/main/PyTorchInPractice/images/ch0/neural_net.png)"
   ]
  },
  {
   "cell_type": "markdown",
   "id": "45331f5e",
   "metadata": {},
   "source": [
    "## 2.9 Setup and Environment\n",
    "\n",
    "### 2.9.1 Colab\n",
    "\n",
    "#### Setting Up The Device / GPU\n",
    "\n",
    "![](https://raw.githubusercontent.com/dvgodoy/assets/main/PyTorchInPractice/images/ch0/colab_runtime.png)\n",
    "\n",
    "![](https://raw.githubusercontent.com/dvgodoy/assets/main/PyTorchInPractice/images/ch0/runtime.png)\n",
    "\n",
    "![](https://raw.githubusercontent.com/dvgodoy/assets/main/PyTorchInPractice/images/ch0/runtime2.png)"
   ]
  },
  {
   "cell_type": "markdown",
   "id": "f88fd601",
   "metadata": {},
   "source": [
    "## 2.10 Your Learning Journey\n",
    "\n",
    "The course is divided into four main parts, as shown below:\n",
    "\n",
    "- Part I: Training a Model in PyTorch (three chapters)\n",
    "  - Building Your First Dataset\n",
    "    - Lab 1A: Non-Linear Regression\n",
    "  - Training Your First Model\n",
    "    - Lab 1B: Non-Linear Regression\n",
    "  - Building Your First Datapipe\n",
    "    - Lab 2: Price Prediction\n",
    "- Part II: Transfer Learning (three chapters)\n",
    "    - Transfer Learning and Pretrained Models\n",
    "        - Lab 3: Classifying Images\n",
    "    - Pretrained Models for Computer Vision\n",
    "    - Pretrained Models for Natural Language Processing\n",
    "        - Lab 4: Sentiment Analysis\n",
    "- Part III: Computer Vision (six chapters)\n",
    "    - Image Classification with Torchvision\n",
    "    - Fine-Tuning Pretrained Models for Computer Vision\n",
    "    - Serving Models with TorchServe\n",
    "    - Datasets and Transformations for Object Detection and Image Segmentation\n",
    "        - Lab 5A: Fine-Tuning Object Detection Models\n",
    "    - Models for Object Detection and Image Segmentation\n",
    "        - Lab 5B: Fine-Tuning Object Detection Models\n",
    "    - Object Detection Evaluation\n",
    "- Part IV: Natural Language Processing (four chapters)\n",
    "    - Word Embeddings and Text Classification\n",
    "        - Lab 6: Text Classification Using Embeddings\n",
    "    - Contextual Word Embeddings with Transformers\n",
    "    - HuggingFace Pipelines for NLP Tasks\n",
    "        - Lab 7: Document Q&A\n",
    "    - Q&A, Summarization, and LLMs\n",
    "\n",
    "![](https://raw.githubusercontent.com/dvgodoy/assets/main/PyTorchInPractice/images/ch0/data_model_step0.png)"
   ]
  }
 ],
 "metadata": {
  "kernelspec": {
   "display_name": "Python 3 (ipykernel)",
   "language": "python",
   "name": "python3"
  },
  "language_info": {
   "codemirror_mode": {
    "name": "ipython",
    "version": 3
   },
   "file_extension": ".py",
   "mimetype": "text/x-python",
   "name": "python",
   "nbconvert_exporter": "python",
   "pygments_lexer": "ipython3",
   "version": "3.9.0"
  }
 },
 "nbformat": 4,
 "nbformat_minor": 5
}
