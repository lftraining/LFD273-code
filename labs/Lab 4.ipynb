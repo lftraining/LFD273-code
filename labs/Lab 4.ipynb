{
 "cells": [
  {
   "cell_type": "markdown",
   "id": "a95d059b",
   "metadata": {},
   "source": [
    "# Lab Instructions\n",
    "\n",
    "In the lab, you're presented a task such as building a dataset, training a model, or writing a training loop, and we'll provide the code structured in such a way that you can fill in the blanks in the code using the knowledge you acquired in the chapters that precede the lab. You should be able to find appropriate snippets of code in the course content that work well in the lab with minor or no adjustments.\n",
    "\n",
    "The blanks in the code are indicated by ellipsis (`...`) and comments (`# write your code here`).\n",
    "\n",
    "In some cases, we'll provide you partial code to ensure the right variables are populated and any code that follows it runs accordingly.\n",
    "\n",
    "```python\n",
    "# write your code here\n",
    "x = ...\n",
    "```\n",
    "\n",
    "The solution should be a single statement that replaces the ellipsis, such as:\n",
    "\n",
    "```python\n",
    "# write your code here\n",
    "x = [0, 1, 2]\n",
    "```\n",
    "\n",
    "In some other cases, when there is no new variable being created, the blanks are shown like in the example below: \n",
    "\n",
    "```python\n",
    "# write your code here\n",
    "...\n",
    "```\n",
    "\n",
    "Although we're showing you only a single ellipsis (`...`), you may have to write more than one line of code to complete the step, such as:\n",
    "\n",
    "```python\n",
    "# write your code here\n",
    "for i, xi in enumerate(x):\n",
    "    x[i] = xi * 2\n",
    "```"
   ]
  },
  {
   "cell_type": "markdown",
   "id": "1117fade",
   "metadata": {},
   "source": [
    "## Installation Notes\n",
    "\n",
    "To run this notebook on Google Colab, you will need to install the following libraries: datasets.\n",
    "\n",
    "In Google Colab, you can run the following command to install them:"
   ]
  },
  {
   "cell_type": "code",
   "execution_count": null,
   "id": "e12481c2",
   "metadata": {},
   "outputs": [],
   "source": [
    "!pip install datasets"
   ]
  },
  {
   "cell_type": "markdown",
   "id": "80fbde00",
   "metadata": {
    "id": "b17bded5"
   },
   "source": [
    "## 8.5 Lab 4: Sentiment Analysis"
   ]
  },
  {
   "cell_type": "markdown",
   "id": "5eb4a9f0",
   "metadata": {
    "id": "4d1bb429"
   },
   "source": [
    "In this lab, you'll fine-tune an encoder-based model to perform sentiment analysis on the Standford Sentiment Treebank (SST2) dataset. You'll load RoBERTa's sibling, XLM-RoBERTa, use its prescribed transformations to preprocess text in the SST2 dataset, and fine-tune (train) it for one epoch."
   ]
  },
  {
   "cell_type": "markdown",
   "id": "8d35377d",
   "metadata": {
    "id": "585fd02c"
   },
   "source": [
    "### 8.5.1 Model\n",
    "\n",
    "![](https://raw.githubusercontent.com/dvgodoy/assets/main/PyTorchInPractice/images/ch0/model_step1.png)\n",
    "\n",
    "You'll use Hugging Face's `XLMRobertaForSequenceClassification` to perform binary classification (we have two classes, \"positive\" and \"negative\" sentiment)."
   ]
  },
  {
   "cell_type": "code",
   "execution_count": null,
   "id": "6d5bd74b",
   "metadata": {},
   "outputs": [],
   "source": [
    "from transformers import XLMRobertaForSequenceClassification\n",
    "repo_id = \"FacebookAI/xlm-roberta-base\"\n",
    "\n",
    "# write your code here\n",
    "model = ...\n",
    "model"
   ]
  },
  {
   "cell_type": "markdown",
   "id": "0f2f7aeb",
   "metadata": {
    "id": "52f10c74"
   },
   "source": [
    "### 8.5.2 Dataset\n",
    "\n",
    "![](https://raw.githubusercontent.com/dvgodoy/assets/main/PyTorchInPractice/images/ch0/data_step1.png)\n",
    "\n",
    "Now, you will load Hugging Face's [\"Stanford Sentiment Treebank (SST2)\"](https://huggingface.co/datasets/stanfordnlp/sst2) dataset. It is already split into `train`, `validation`, and `test` sets."
   ]
  },
  {
   "cell_type": "code",
   "execution_count": null,
   "id": "118ad78f",
   "metadata": {
    "id": "65b37a60"
   },
   "outputs": [],
   "source": [
    "from datasets import load_dataset\n",
    "\n",
    "# write your code here\n",
    "datasets = ...\n",
    "datasets"
   ]
  },
  {
   "cell_type": "markdown",
   "id": "f6cd412c",
   "metadata": {
    "id": "f933d20a"
   },
   "source": [
    "Let's take a look at one data point from the SST2 dataset. Just run the code below as is to visualize the output:"
   ]
  },
  {
   "cell_type": "code",
   "execution_count": null,
   "id": "74db6e5f",
   "metadata": {
    "colab": {
     "base_uri": "https://localhost:8080/"
    },
    "id": "3d15fa20",
    "outputId": "f2707daa-10dc-4bc8-b583-e9a43db5339d"
   },
   "outputs": [],
   "source": [
    "row = datasets['train'][0]\n",
    "text, label = row['sentence'], row['label']\n",
    "text, label"
   ]
  },
  {
   "cell_type": "markdown",
   "id": "d81c2c67",
   "metadata": {
    "id": "377fe053"
   },
   "source": [
    "Each data point is a dictionary, containing a line of text, and the corresponding label - the sentiment (0 for negative, 1 for positive)."
   ]
  },
  {
   "cell_type": "markdown",
   "id": "6acfc74a",
   "metadata": {
    "id": "6eebde7e"
   },
   "source": [
    "### 8.5.3 Tokenizer\n",
    "\n",
    "![](https://raw.githubusercontent.com/dvgodoy/assets/main/PyTorchInPractice/images/ch0/data_step3.png)\n",
    "\n",
    "You already know the drill: you must preprocess the input (the text) using the prescribed transformation for the model you're using, so it gets tokenized, converted into token ids, and prependend/appended with the appropriate special tokens.\n",
    "\n",
    "Load XLM-RoBERTa's tokenizer and write a function that takes a dictionary with the `sentence` key (it may have other keys as well) and returns a dictionary with `input_ids`, `attention_mask` keys (remember that the `map()` method of HF datasets work by _merging_ dictionaries):"
   ]
  },
  {
   "cell_type": "code",
   "execution_count": null,
   "id": "296e0bf6",
   "metadata": {},
   "outputs": [],
   "source": [
    "from transformers import XLMRobertaTokenizer\n",
    "\n",
    "# write your code here\n",
    "tokenizer = ..."
   ]
  },
  {
   "cell_type": "code",
   "execution_count": null,
   "id": "6b43e351",
   "metadata": {
    "id": "f18d864c"
   },
   "outputs": [],
   "source": [
    "def apply_transform(row):\n",
    "    text = row['sentence']\n",
    "    # Use the transform_fn you retrieved in the previous cell to\n",
    "    # preprocess the text\n",
    "    # write your code here\n",
    "    ..."
   ]
  },
  {
   "cell_type": "markdown",
   "id": "19bf186e",
   "metadata": {
    "id": "dcd58738"
   },
   "source": [
    "Let's apply your function to our data point to see if it is working as expected (just run the code below as is to visualize the output):"
   ]
  },
  {
   "cell_type": "code",
   "execution_count": null,
   "id": "9d668bfa",
   "metadata": {
    "colab": {
     "base_uri": "https://localhost:8080/"
    },
    "id": "6ca73f45",
    "outputId": "0d56f4f0-5e41-4fd5-9318-feb2b015dba2"
   },
   "outputs": [],
   "source": [
    "apply_transform(row)"
   ]
  },
  {
   "cell_type": "markdown",
   "id": "c15ca2a7",
   "metadata": {},
   "source": [
    "Now, apply the function to every row in our datasets:"
   ]
  },
  {
   "cell_type": "code",
   "execution_count": null,
   "id": "2da9b273",
   "metadata": {},
   "outputs": [],
   "source": [
    "# write your code here\n",
    "datasets = ...\n",
    "datasets"
   ]
  },
  {
   "cell_type": "markdown",
   "id": "6ce3741b",
   "metadata": {},
   "source": [
    "To keep our datasets tidy, selct only the columns we're interested in (`input_ids` and `label`):"
   ]
  },
  {
   "cell_type": "code",
   "execution_count": null,
   "id": "e3d66b5f",
   "metadata": {},
   "outputs": [],
   "source": [
    "# write your code here\n",
    "datasets = ...\n",
    "datasets['train'][:3]"
   ]
  },
  {
   "cell_type": "markdown",
   "id": "010be7d8",
   "metadata": {
    "id": "32ec29d1"
   },
   "source": [
    "Did you notice the transformation is returning a regular Python list of token ids, not a PyTorch tensor? Remember, we cannot make a tensor out of lists of different lengths (see section 6.3.3). The solution? Padding the shorter sentences, so they all have the same length.\n",
    "\n",
    "But, how can we think of padding sentences if we don't have a mini-batch yet? We delegate this job to the dataloaders's collate function!"
   ]
  },
  {
   "cell_type": "markdown",
   "id": "5c679f73",
   "metadata": {
    "id": "0d570206"
   },
   "source": [
    "![](https://raw.githubusercontent.com/dvgodoy/assets/main/PyTorchInPractice/images/ch0/data_step5.png)\n",
    "\n",
    "So far, we've been using data loaders without specifying a collate function, that is, we're using its default collate function. For tabular data, the default collator is more than enough. It simply stacks several data points together and, since they all have the same size, it works smoothly. But this strategy breaks apart when we're dealing with sequences of different lengths, as we've already experienced while trying to make a tensor out of them.\n",
    "\n",
    "Just like before, padding is the solution for our problem, and we're using a [collator](https://huggingface.co/learn/nlp-course/en/chapter3/2#dynamic-padding) designed to automatically pad the sequences before stacking them together: HF's `DataCollatorWithPadding`. It takes the tokenizer as an argument in order to determine which token is the padding token, and which side (left or right) should be padded.\n",
    "\n",
    "Let's try it on a slice of four sequences from our training set:"
   ]
  },
  {
   "cell_type": "code",
   "execution_count": null,
   "id": "5b01093b",
   "metadata": {},
   "outputs": [],
   "source": [
    "from transformers import DataCollatorWithPadding\n",
    "\n",
    "data_collator = DataCollatorWithPadding(tokenizer=tokenizer)\n",
    "data_collator(datasets['train'][:4])"
   ]
  },
  {
   "cell_type": "markdown",
   "id": "677c4e10",
   "metadata": {},
   "source": [
    "You can easily recognize the padding tokens sitting at the right end of the sequences (a sequence of ones). Moreover, the location of every padding token is indicated by the sequence's corresponding attention mask. The masks tell the model which tokens should be considered (value of one) or ignored (value of zero).\n",
    "\n",
    "Next, let's assign this data collator to each dataloader:"
   ]
  },
  {
   "cell_type": "code",
   "execution_count": null,
   "id": "3e9bcc7a",
   "metadata": {
    "id": "76c804f3"
   },
   "outputs": [],
   "source": [
    "from torch.utils.data import DataLoader\n",
    "\n",
    "dataloaders = {}\n",
    "# write your code here\n",
    "dataloaders['train'] = ...\n",
    "dataloaders['val'] = ..."
   ]
  },
  {
   "cell_type": "markdown",
   "id": "375beafe",
   "metadata": {
    "id": "923f3846"
   },
   "source": [
    "Now, let's fetch a mini-batch from our data loader (just run the code below as is to visualize the output):"
   ]
  },
  {
   "cell_type": "code",
   "execution_count": null,
   "id": "9182330e",
   "metadata": {
    "colab": {
     "base_uri": "https://localhost:8080/"
    },
    "id": "05babc84",
    "outputId": "270b0792-7d7a-44b1-a491-b404e7c3f739"
   },
   "outputs": [],
   "source": [
    "dl_out = next(iter(dataloaders['train']))\n",
    "dl_out"
   ]
  },
  {
   "cell_type": "markdown",
   "id": "81963c60",
   "metadata": {
    "id": "d4eb7806"
   },
   "source": [
    "As you can see, there are plenty of padding tokens there. The collator will always pad the sequences to match the longest sequence in a particular mini-batch. This means that mini-batches may have sequences of different lengths (when compared across mini-batches but not inside the same one)."
   ]
  },
  {
   "cell_type": "markdown",
   "id": "4226ea71",
   "metadata": {
    "id": "171714e6"
   },
   "source": [
    "### 8.5.4 Training"
   ]
  },
  {
   "cell_type": "markdown",
   "id": "f06922f0",
   "metadata": {
    "id": "260d405e"
   },
   "source": [
    "Now, it is time to write a training loop to fine-tune your XLM-RoBERTa model on the SST2 dataset. This is a large model, and the training set has over 60,000 data points, so you can train it over a single epoch, that is, looping over the mini-batches from the datapipe (or data loader) only once. For the sake of speed, keep the evalution for the end only."
   ]
  },
  {
   "cell_type": "markdown",
   "id": "18052dc6",
   "metadata": {},
   "source": [
    "#### 8.5.4.1 Loss Function\n",
    "\n",
    "![](https://raw.githubusercontent.com/dvgodoy/assets/main/PyTorchInPractice/images/ch0/model_step2.png)\n",
    "\n",
    "Sentiment analysis is a classification task, so we need to use the appropriate loss function for the task. Even though it is a binary classification, RoBERTa's classification head is actually producing two logits instead of one, so you have to use `CrossEntropyLoss` (which can handle two or more logits)."
   ]
  },
  {
   "cell_type": "code",
   "execution_count": null,
   "id": "5121e210",
   "metadata": {
    "id": "330c949d"
   },
   "outputs": [],
   "source": [
    "import torch.nn as nn\n",
    "\n",
    "loss_fn = ..."
   ]
  },
  {
   "cell_type": "markdown",
   "id": "f9521581",
   "metadata": {},
   "source": [
    "This step is actually redundant now. Since we're using a HF model, the loss is automatically returned when the model is in training model. We simply retrieve the loss from the output's `loss` attribute."
   ]
  },
  {
   "cell_type": "markdown",
   "id": "4908fc43",
   "metadata": {},
   "source": [
    "#### 8.5.4.2 Optimizer\n",
    "\n",
    "![](https://raw.githubusercontent.com/dvgodoy/assets/main/PyTorchInPractice/images/ch0/model_step3.png)"
   ]
  },
  {
   "cell_type": "markdown",
   "id": "8a30264c",
   "metadata": {},
   "source": [
    "Although `Adam` is the optimizer of choice, we suggest you try out `AdamW`, a modified version that is also commonly used."
   ]
  },
  {
   "cell_type": "code",
   "execution_count": null,
   "id": "c49b7432",
   "metadata": {},
   "outputs": [],
   "source": [
    "import torch.optim as optim\n",
    "\n",
    "# suggested learning rate\n",
    "lr = 1e-5\n",
    "\n",
    "optimizer = ..."
   ]
  },
  {
   "cell_type": "markdown",
   "id": "ff2c80c7",
   "metadata": {},
   "source": [
    "#### 8.4.4.2 Training Loop"
   ]
  },
  {
   "cell_type": "markdown",
   "id": "1984e9b3",
   "metadata": {},
   "source": [
    "![](https://raw.githubusercontent.com/dvgodoy/assets/main/PyTorchInPractice/images/ch0/model_step4.png)\n",
    "\n",
    "So far, we haven't logged or inspected our losses in real-time. Why bother, if it takes only a minute to train the model? This time is different, though: fine-tuning RoBERTa on more than 67,000 data points, even for a single epoch, will take about 15 min or so in Google Colab. So, let's use TensorBoard to see how our loss is doing as training progresses.\n",
    "\n",
    "First, we need to load it using the corresponding Jupyter magic (just run the code below as is to load TensorBoard):"
   ]
  },
  {
   "cell_type": "code",
   "execution_count": null,
   "id": "948f337a",
   "metadata": {},
   "outputs": [],
   "source": [
    "%load_ext tensorboard\n",
    "%tensorboard --logdir runs"
   ]
  },
  {
   "cell_type": "markdown",
   "id": "c3a486c7",
   "metadata": {},
   "source": [
    "Next, we need to create an instance of the `SummaryWriter` to be able to send loss values to TensorBoard. Just run the code below as is to create it:"
   ]
  },
  {
   "cell_type": "code",
   "execution_count": null,
   "id": "77da5aae",
   "metadata": {},
   "outputs": [],
   "source": [
    "from torch.utils.tensorboard import SummaryWriter\n",
    "writer = SummaryWriter('runs/roberta')"
   ]
  },
  {
   "cell_type": "markdown",
   "id": "763e7a3f",
   "metadata": {},
   "source": [
    "Now, it's your turn to write the missing parts of the training loop below. We have already taken care of the sending the losses to TensorBoard for you."
   ]
  },
  {
   "cell_type": "code",
   "execution_count": null,
   "id": "9290c274",
   "metadata": {
    "colab": {
     "base_uri": "https://localhost:8080/"
    },
    "id": "a7b75295",
    "outputId": "beb68d2c-62a9-4523-8e05-b6aeb41ee3e9"
   },
   "outputs": [],
   "source": [
    "from tqdm import tqdm\n",
    "\n",
    "device = 'cuda' if torch.cuda.is_available() else 'cpu'\n",
    "\n",
    "model.to(device)\n",
    "\n",
    "batch_losses = []\n",
    "\n",
    "## Training\n",
    "for i, batch in tqdm(enumerate(datapipes['train'])):\n",
    "    # Set the model's mode\n",
    "    # write your code here\n",
    "    ...\n",
    "    \n",
    "    # Send input_ids, labels, and attention masks to the device\n",
    "    # write your code here\n",
    "    ...\n",
    "    \n",
    "    # Step 1 - forward pass\n",
    "    # write your code here\n",
    "    output = ...\n",
    "    predictions = output.logits\n",
    "\n",
    "    # Step 2 - computing the loss\n",
    "    loss = output.loss\n",
    "\n",
    "    # Step 3 - computing the gradients\n",
    "    # Tip: it requires a single method call to backpropagate gradients\n",
    "    # write your code here\n",
    "    ...\n",
    "\n",
    "    batch_losses.append(loss.item())\n",
    "    \n",
    "    writer.add_scalars(main_tag='loss',\n",
    "                       tag_scalar_dict={'training': loss.item()},\n",
    "                       global_step=i)    \n",
    "\n",
    "    # Step 4 - updating parameters and zeroing gradients\n",
    "    # Tip: it takes two calls to optimizer's methods\n",
    "    # write your code here\n",
    "    ...\n",
    "\n",
    "\n",
    "writer.close()\n",
    "\n",
    "## Validation   \n",
    "with torch.inference_mode():\n",
    "    val_losses = []\n",
    "\n",
    "    for i, val in enumerate(dataloaders['val']):\n",
    "        # Set the model's mode\n",
    "        # write your code here\n",
    "        ...\n",
    "\n",
    "        # Send input_ids, labels, and attention masks to the device\n",
    "        # write your code here\n",
    "        ...\n",
    "\n",
    "        # Step 1 - forward pass\n",
    "        # write your code here\n",
    "        output = ...\n",
    "        predictions = output.logits\n",
    "\n",
    "        # Step 2 - computing the loss\n",
    "        loss = output.loss\n",
    "        \n",
    "        val_losses.append(loss.item())"
   ]
  },
  {
   "cell_type": "markdown",
   "id": "8caf4ffd",
   "metadata": {},
   "source": [
    "By the end of it, your losses on TensorBoard should look more or less like this (if you drag the slider on the right to the maximum level of smoothing):\n",
    "\n",
    "![](https://raw.githubusercontent.com/dvgodoy/assets/main/PyTorchInPractice/images/ch6/tensorboard.png)"
   ]
  },
  {
   "cell_type": "markdown",
   "id": "9d9d19cb",
   "metadata": {
    "id": "724660c3"
   },
   "source": [
    "### 8.5.5 Inference\n",
    "\n",
    "![](https://raw.githubusercontent.com/dvgodoy/assets/main/PyTorchInPractice/images/ch0/model_step5.png)\n",
    "\n",
    "Write a function that takes some text (a sequence of words), a model, its tokenizer, and a list of target categories for the classification, and returns the most likely category and the corresponding probability.\n",
    "\n",
    "Since you're handling a single sequence, there's no need for any padding, but you still need to provide a tensor containing a mini-batch (of one) as input to the model.\n",
    "\n",
    "The model returns two logits, one for each class, so you must use the softmax function to convert them into probabilities."
   ]
  },
  {
   "cell_type": "code",
   "execution_count": null,
   "id": "5ab43422",
   "metadata": {
    "id": "a9a8d274"
   },
   "outputs": [],
   "source": [
    "def predict(sequence, model, tokenizer, categories):        \n",
    "    # Build a tensor of token ids out of the input sequence\n",
    "    # write your code here\n",
    "    ...\n",
    "\n",
    "    # Set the model to the appropriate mode\n",
    "    # write your code here\n",
    "    ...\n",
    "\n",
    "    device = next(iter(model.parameters())).device\n",
    "    \n",
    "    # Use the model to make predictions/logits\n",
    "    # Tip: Don't forget to send the input to the same device as the model\n",
    "    # write your code here\n",
    "    pred = ...\n",
    "    \n",
    "    # Compute the probabilities corresponding to the logits\n",
    "    # and return the top value and index\n",
    "    # write your code here\n",
    "    probabilities = ...\n",
    "    values, indices = ...\n",
    "    \n",
    "    return [{'label': categories[i], 'value': v.item()} for i, v in zip(indices, values)]"
   ]
  },
  {
   "cell_type": "markdown",
   "id": "7a28e41a",
   "metadata": {
    "id": "b587f62f"
   },
   "source": [
    "Now, try out your prediction function and fine-tuned model (just run the code cells below as they are to visualize their outputs):"
   ]
  },
  {
   "cell_type": "code",
   "execution_count": null,
   "id": "be90fad3",
   "metadata": {
    "colab": {
     "base_uri": "https://localhost:8080/"
    },
    "id": "fe87a17e",
    "outputId": "b451dba7-883f-413b-ac19-6e6a63ca6bbf"
   },
   "outputs": [],
   "source": [
    "categories = ['negative', 'positive']\n",
    "text = \"I am really liking this course\"\n",
    "predict(text, model, tokenizer, categories)"
   ]
  },
  {
   "cell_type": "code",
   "execution_count": null,
   "id": "7f7f756d",
   "metadata": {
    "colab": {
     "base_uri": "https://localhost:8080/"
    },
    "id": "7b50f0c7",
    "outputId": "f9b1f8d0-602a-4339-ce21-a2b3e961a3e4"
   },
   "outputs": [],
   "source": [
    "text = \"This course is too complicated!\"\n",
    "predict(text, model, tokenizer, categories)"
   ]
  },
  {
   "cell_type": "markdown",
   "id": "f0dcbf06",
   "metadata": {
    "id": "578f344d"
   },
   "source": [
    "That's cool, but what if we could perform sentiment analysis out-of-the-box? That's what we'll do in the second part of Chapter 6."
   ]
  }
 ],
 "metadata": {
  "kernelspec": {
   "display_name": "Python 3 (ipykernel)",
   "language": "python",
   "name": "python3"
  },
  "language_info": {
   "codemirror_mode": {
    "name": "ipython",
    "version": 3
   },
   "file_extension": ".py",
   "mimetype": "text/x-python",
   "name": "python",
   "nbconvert_exporter": "python",
   "pygments_lexer": "ipython3",
   "version": "3.9.0"
  }
 },
 "nbformat": 4,
 "nbformat_minor": 5
}
